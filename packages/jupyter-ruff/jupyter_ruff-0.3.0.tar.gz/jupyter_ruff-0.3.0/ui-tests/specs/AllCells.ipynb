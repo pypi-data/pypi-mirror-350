{
 "cells": [
  {
   "cell_type": "code",
   "execution_count": null,
   "id": "263f9027-c064-4967-874e-265b2f078225",
   "metadata": {},
   "outputs": [],
   "source": [
    "def add_two( a, b ):\n",
    "    return a  +  b"
   ]
  },
  {
   "cell_type": "code",
   "execution_count": null,
   "id": "1aa71dae-262e-4f30-8111-eab8000d1640",
   "metadata": {},
   "outputs": [],
   "source": [
    "def add_two(a,b):\n",
    "    return a+b"
   ]
  }
 ],
 "metadata": {
  "kernelspec": {
   "display_name": "Python 3 (ipykernel)",
   "language": "python",
   "name": "python3"
  },
  "language_info": {
   "codemirror_mode": {
    "name": "ipython",
    "version": 3
   },
   "file_extension": ".py",
   "mimetype": "text/x-python",
   "name": "python",
   "nbconvert_exporter": "python",
   "pygments_lexer": "ipython3",
   "version": "3.13.1"
  }
 },
 "nbformat": 4,
 "nbformat_minor": 5
}
