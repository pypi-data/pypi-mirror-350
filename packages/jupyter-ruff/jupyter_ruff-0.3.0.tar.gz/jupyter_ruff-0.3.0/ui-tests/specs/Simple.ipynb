{
 "cells": [
  {
   "cell_type": "code",
   "execution_count": null,
   "id": "1a9fe986-21d4-4570-af93-74bd22a60653",
   "metadata": {},
   "outputs": [],
   "source": [
    "two=1+1"
   ]
  },
  {
   "cell_type": "code",
   "execution_count": null,
   "id": "b41d985a-a455-4a06-b8d8-46c6c25ea359",
   "metadata": {},
   "outputs": [],
   "source": [
    "two = 1 + 1"
   ]
  }
 ],
 "metadata": {
  "kernelspec": {
   "display_name": "Python 3 (ipykernel)",
   "language": "python",
   "name": "python3"
  },
  "language_info": {
   "codemirror_mode": {
    "name": "ipython",
    "version": 3
   },
   "file_extension": ".py",
   "mimetype": "text/x-python",
   "name": "python",
   "nbconvert_exporter": "python",
   "pygments_lexer": "ipython3",
   "version": "3.13.1"
  }
 },
 "nbformat": 4,
 "nbformat_minor": 5
}
