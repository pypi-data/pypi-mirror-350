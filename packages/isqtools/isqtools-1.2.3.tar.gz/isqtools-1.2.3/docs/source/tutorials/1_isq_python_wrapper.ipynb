{
 "cells": [
  {
   "cell_type": "markdown",
   "metadata": {},
   "source": [
    "# **isQ** Python Wrapper"
   ]
  },
  {
   "cell_type": "markdown",
   "metadata": {
    "vscode": {
     "languageId": "plaintext"
    }
   },
   "source": [
    "## 1. Basic Usage"
   ]
  },
  {
   "cell_type": "markdown",
   "metadata": {},
   "source": [
    "First, we need to create an `isq` file and know its directory. In this `isq` file example, we define 2 qubits with `qbit q[2];`. In the main unit:\n",
    "\n",
    "- Apply Hadamard gates (`H`) to both qubits (`q[0]` and `q[1]`).\n",
    "- Perform a `Ry` rotation on `q[0]` using `double_[0]` and an `Rz` rotation on `q[1]` using `double_[1]`.\n",
    "- Measure the qubit specified by `int_[0]` using `M`."
   ]
  },
  {
   "cell_type": "code",
   "execution_count": 1,
   "metadata": {},
   "outputs": [],
   "source": [
    "TEST_FILE_CONTENT = \"\"\"\n",
    "import std;\n",
    "\n",
    "\n",
    "qbit q[2];\n",
    "\n",
    "unit main(int int_[], double double_[]) {\n",
    "    H(q[0]);\n",
    "    H(q[1]);\n",
    "    Ry(double_[0], q[0]);\n",
    "    Rz(double_[1], q[1]);\n",
    "    M(q[int_[0]]);\n",
    "}\n",
    "\"\"\""
   ]
  },
  {
   "cell_type": "markdown",
   "metadata": {},
   "source": [
    "Here, we demonstrate creating a temporary `.isq` file using `tempfile.TemporaryDirectory()`. The file is then compiled with `isqc_compile` to generate a `.so` file. Finally, we simulate it using `isqc_simulate`, passing parameters and running `100 shots`. If the simulation succeeds (`code == 0`), the `result` is printed."
   ]
  },
  {
   "cell_type": "code",
   "execution_count": 2,
   "metadata": {},
   "outputs": [
    {
     "name": "stdout",
     "output_type": "stream",
     "text": [
      "Result: {'0': 57, '1': 43}\n"
     ]
    }
   ],
   "source": [
    "import tempfile\n",
    "from pathlib import Path\n",
    "\n",
    "from isqtools import isqc_compile, isqc_simulate\n",
    "from isqtools.utils import CompileTarget\n",
    "\n",
    "with tempfile.TemporaryDirectory() as temp_dir:\n",
    "    temp_dir_path = Path(temp_dir)\n",
    "    temp_file_path = temp_dir_path / \"temp_file.isq\"\n",
    "    with open(temp_file_path, \"w\") as temp_file:\n",
    "        temp_file.write(TEST_FILE_CONTENT)\n",
    "    isqc_compile(file=str(temp_file_path), target=CompileTarget.QIR)\n",
    "    output_file = temp_file_path.with_suffix(\".so\")\n",
    "    result, err, code = isqc_simulate(\n",
    "        str(output_file),\n",
    "        shots=100,\n",
    "        int_param=1,\n",
    "        double_param=[1.1, 1.2],\n",
    "    )\n",
    "    if code == 0:\n",
    "        print(\"Result:\", result)"
   ]
  }
 ],
 "metadata": {
  "kernelspec": {
   "display_name": "Python 3",
   "language": "python",
   "name": "python3"
  },
  "language_info": {
   "codemirror_mode": {
    "name": "ipython",
    "version": 3
   },
   "file_extension": ".py",
   "mimetype": "text/x-python",
   "name": "python",
   "nbconvert_exporter": "python",
   "pygments_lexer": "ipython3",
   "version": "3.12.4"
  }
 },
 "nbformat": 4,
 "nbformat_minor": 2
}
