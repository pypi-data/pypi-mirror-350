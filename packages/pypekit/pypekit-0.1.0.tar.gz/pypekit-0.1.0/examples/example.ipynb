{
 "cells": [
  {
   "cell_type": "markdown",
   "id": "67596aca",
   "metadata": {},
   "source": [
    "# Basic Example"
   ]
  },
  {
   "cell_type": "code",
   "execution_count": 1,
   "id": "13a0f426",
   "metadata": {},
   "outputs": [
    {
     "name": "stdout",
     "output_type": "stream",
     "text": [
      "└── Root\n",
      "    └── DataLoader\n",
      "        ├── Processor1\n",
      "        │   ├── Processor2\n",
      "        │   │   ├── Classifier1\n",
      "        │   │   └── Classifier2\n",
      "        │   ├── Classifier1\n",
      "        │   └── Classifier2\n",
      "        ├── Processor2\n",
      "        │   ├── Processor1\n",
      "        │   │   ├── Classifier1\n",
      "        │   │   └── Classifier2\n",
      "        │   ├── Classifier1\n",
      "        │   └── Classifier2\n",
      "        ├── Classifier1\n",
      "        └── Classifier2\n",
      "\n"
     ]
    }
   ],
   "source": [
    "from pypekit import Task, Repository, CachedExecutor, Pipeline\n",
    "\n",
    "class DataLoader(Task):\n",
    "    input_types = [\"source\"]\n",
    "    output_types = [\"raw\"]\n",
    "\n",
    "    def run(self, _):\n",
    "        print(f\"Running DataLoader\")\n",
    "        return \"output\"\n",
    "\n",
    "class Processor1(Task):\n",
    "    input_types = [\"raw\", \"processed\"]\n",
    "    output_types = [\"processed\"]\n",
    "\n",
    "    def run(self, _):\n",
    "        print(f\"Running Processor\")\n",
    "        return \"output\"\n",
    "    \n",
    "class Processor2(Task):\n",
    "    input_types = [\"raw\", \"processed\"]\n",
    "    output_types = [\"processed\"]\n",
    "\n",
    "    def run(self, _):\n",
    "        print(f\"Running Processor\")\n",
    "        return \"output\"\n",
    "\n",
    "class Classifier1(Task):\n",
    "    input_types = [\"raw\", \"processed\"]\n",
    "    output_types = [\"sink\"]\n",
    "\n",
    "    def run(self, _):\n",
    "        print(f\"Running Classifier\")\n",
    "        return \"output\"\n",
    "    \n",
    "class Classifier2(Task):\n",
    "    input_types = [\"raw\", \"processed\"]\n",
    "    output_types = [\"sink\"]\n",
    "\n",
    "    def run(self, _):\n",
    "        print(f\"Running Classifier\")\n",
    "        return \"output\"\n",
    "\n",
    "repository = Repository([\n",
    "    DataLoader,\n",
    "    Processor1,\n",
    "    Processor2,\n",
    "    Classifier1,\n",
    "    Classifier2\n",
    "])\n",
    "\n",
    "repository.build_tree()\n",
    "print(repository.build_tree_string())"
   ]
  },
  {
   "cell_type": "code",
   "execution_count": 2,
   "id": "122b038d",
   "metadata": {},
   "outputs": [
    {
     "data": {
      "text/plain": [
       "[Pipeline(tasks=['DataLoader', 'Processor1', 'Processor2', 'Classifier1']),\n",
       " Pipeline(tasks=['DataLoader', 'Processor1', 'Processor2', 'Classifier2']),\n",
       " Pipeline(tasks=['DataLoader', 'Processor1', 'Classifier1']),\n",
       " Pipeline(tasks=['DataLoader', 'Processor1', 'Classifier2']),\n",
       " Pipeline(tasks=['DataLoader', 'Processor2', 'Processor1', 'Classifier1']),\n",
       " Pipeline(tasks=['DataLoader', 'Processor2', 'Processor1', 'Classifier2']),\n",
       " Pipeline(tasks=['DataLoader', 'Processor2', 'Classifier1']),\n",
       " Pipeline(tasks=['DataLoader', 'Processor2', 'Classifier2']),\n",
       " Pipeline(tasks=['DataLoader', 'Classifier1']),\n",
       " Pipeline(tasks=['DataLoader', 'Classifier2'])]"
      ]
     },
     "execution_count": 2,
     "metadata": {},
     "output_type": "execute_result"
    }
   ],
   "source": [
    "pipelines = repository.build_pipelines()\n",
    "pipelines"
   ]
  },
  {
   "cell_type": "code",
   "execution_count": 3,
   "id": "860359c6",
   "metadata": {},
   "outputs": [
    {
     "name": "stdout",
     "output_type": "stream",
     "text": [
      "Running DataLoader\n",
      "Running Processor\n",
      "Running Processor\n",
      "Running Classifier\n",
      "Pipeline 1/10 completed. Runtime: 0.00s.\n",
      "Running Classifier\n",
      "Pipeline 2/10 completed. Runtime: 0.00s.\n",
      "Running Classifier\n",
      "Pipeline 3/10 completed. Runtime: 0.00s.\n",
      "Running Classifier\n",
      "Pipeline 4/10 completed. Runtime: 0.00s.\n",
      "Running Processor\n",
      "Running Processor\n",
      "Running Classifier\n",
      "Pipeline 5/10 completed. Runtime: 0.00s.\n",
      "Running Classifier\n",
      "Pipeline 6/10 completed. Runtime: 0.00s.\n",
      "Running Classifier\n",
      "Pipeline 7/10 completed. Runtime: 0.00s.\n",
      "Running Classifier\n",
      "Pipeline 8/10 completed. Runtime: 0.00s.\n",
      "Running Classifier\n",
      "Pipeline 9/10 completed. Runtime: 0.00s.\n",
      "Running Classifier\n",
      "Pipeline 10/10 completed. Runtime: 0.00s.\n"
     ]
    }
   ],
   "source": [
    "executor = CachedExecutor(pipelines, verbose=True)\n",
    "results = executor.run()"
   ]
  },
  {
   "cell_type": "code",
   "execution_count": 4,
   "id": "fb407c6e",
   "metadata": {},
   "outputs": [
    {
     "name": "stdout",
     "output_type": "stream",
     "text": [
      "{'output': 'output', 'runtime': 9.374799992656335e-05, 'tasks': ['DataLoader', 'Processor1', 'Processor2', 'Classifier1']}\n",
      "{'output': 'output', 'runtime': 9.603299986338243e-05, 'tasks': ['DataLoader', 'Processor1', 'Processor2', 'Classifier2']}\n",
      "{'output': 'output', 'runtime': 9.008200140669942e-05, 'tasks': ['DataLoader', 'Processor1', 'Classifier1']}\n",
      "{'output': 'output', 'runtime': 9.248599963029847e-05, 'tasks': ['DataLoader', 'Processor1', 'Classifier2']}\n",
      "{'output': 'output', 'runtime': 0.00010082300286740065, 'tasks': ['DataLoader', 'Processor2', 'Processor1', 'Classifier1']}\n",
      "{'output': 'output', 'runtime': 0.00010293600280419923, 'tasks': ['DataLoader', 'Processor2', 'Processor1', 'Classifier2']}\n",
      "{'output': 'output', 'runtime': 9.110400060308166e-05, 'tasks': ['DataLoader', 'Processor2', 'Classifier1']}\n",
      "{'output': 'output', 'runtime': 9.192500147037208e-05, 'tasks': ['DataLoader', 'Processor2', 'Classifier2']}\n",
      "{'output': 'output', 'runtime': 7.930100036901422e-05, 'tasks': ['DataLoader', 'Classifier1']}\n",
      "{'output': 'output', 'runtime': 7.884000297053717e-05, 'tasks': ['DataLoader', 'Classifier2']}\n"
     ]
    }
   ],
   "source": [
    "for r in results.values():\n",
    "    print(r)"
   ]
  },
  {
   "cell_type": "markdown",
   "id": "1df8b226",
   "metadata": {},
   "source": [
    "# Reusing Cache"
   ]
  },
  {
   "cell_type": "code",
   "execution_count": 5,
   "id": "5c4ced3e",
   "metadata": {},
   "outputs": [
    {
     "name": "stdout",
     "output_type": "stream",
     "text": [
      "Pipeline 1/10 completed. Runtime: 0.00s.\n",
      "Pipeline 2/10 completed. Runtime: 0.00s.\n",
      "Pipeline 3/10 completed. Runtime: 0.00s.\n",
      "Pipeline 4/10 completed. Runtime: 0.00s.\n",
      "Pipeline 5/10 completed. Runtime: 0.00s.\n",
      "Pipeline 6/10 completed. Runtime: 0.00s.\n",
      "Pipeline 7/10 completed. Runtime: 0.00s.\n",
      "Pipeline 8/10 completed. Runtime: 0.00s.\n",
      "Pipeline 9/10 completed. Runtime: 0.00s.\n",
      "Pipeline 10/10 completed. Runtime: 0.00s.\n"
     ]
    }
   ],
   "source": [
    "new_executor = CachedExecutor(pipelines, cache=executor.cache, verbose=True)\n",
    "new_executor.run();"
   ]
  },
  {
   "cell_type": "markdown",
   "id": "b276873a",
   "metadata": {},
   "source": [
    "# Custom Pipelines"
   ]
  },
  {
   "cell_type": "code",
   "execution_count": 6,
   "id": "98a32e32",
   "metadata": {},
   "outputs": [
    {
     "data": {
      "text/plain": [
       "Pipeline(tasks=['DataLoader', 'Processor2', 'Classifier1'])"
      ]
     },
     "execution_count": 6,
     "metadata": {},
     "output_type": "execute_result"
    }
   ],
   "source": [
    "pipeline = Pipeline([\n",
    "    DataLoader(),\n",
    "    Processor2(),\n",
    "    Classifier1(),\n",
    "])\n",
    "pipeline"
   ]
  },
  {
   "cell_type": "code",
   "execution_count": null,
   "id": "a4fa5310",
   "metadata": {},
   "outputs": [],
   "source": []
  }
 ],
 "metadata": {
  "kernelspec": {
   "display_name": "pypekit",
   "language": "python",
   "name": "python3"
  },
  "language_info": {
   "codemirror_mode": {
    "name": "ipython",
    "version": 3
   },
   "file_extension": ".py",
   "mimetype": "text/x-python",
   "name": "python",
   "nbconvert_exporter": "python",
   "pygments_lexer": "ipython3",
   "version": "3.13.2"
  }
 },
 "nbformat": 4,
 "nbformat_minor": 5
}
