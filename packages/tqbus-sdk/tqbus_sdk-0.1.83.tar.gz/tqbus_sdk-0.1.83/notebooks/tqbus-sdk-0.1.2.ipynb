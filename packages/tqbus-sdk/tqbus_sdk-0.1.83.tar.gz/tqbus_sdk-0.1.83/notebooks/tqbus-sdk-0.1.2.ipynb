{
 "cells": [
  {
   "cell_type": "code",
   "execution_count": 5,
   "metadata": {
    "ExecuteTime": {
     "end_time": "2024-07-09T09:57:01.810945Z",
     "start_time": "2024-07-09T09:56:59.035733Z"
    },
    "colab": {
     "base_uri": "https://localhost:8080/"
    },
    "id": "CLdPMnIT_48J",
    "outputId": "661be5ba-3845-422a-910e-6f127c57e587"
   },
   "outputs": [
    {
     "name": "stdout",
     "output_type": "stream",
     "text": [
      "Requirement already satisfied: python-dotenv in c:\\users\\rigan\\appdata\\local\\pypoetry\\cache\\virtualenvs\\tqbus-sdk-at4fl0zu-py3.11\\lib\\site-packages (1.0.1)\n"
     ]
    },
    {
     "name": "stderr",
     "output_type": "stream",
     "text": [
      "\n",
      "[notice] A new release of pip is available: 24.0 -> 24.1.2\n",
      "[notice] To update, run: python.exe -m pip install --upgrade pip\n"
     ]
    }
   ],
   "source": [
    "# !pip install tqbus-sdk\n",
    "!pip install python-dotenv"
   ]
  },
  {
   "cell_type": "code",
   "execution_count": 2,
   "metadata": {
    "ExecuteTime": {
     "end_time": "2024-07-15T11:21:55.286358Z",
     "start_time": "2024-07-15T11:21:55.269746Z"
    },
    "id": "-e35dYM0Bz3Z"
   },
   "outputs": [
    {
     "data": {
      "text/plain": [
       "True"
      ]
     },
     "execution_count": 2,
     "metadata": {},
     "output_type": "execute_result"
    }
   ],
   "source": [
    "import os\n",
    "\n",
    "from dotenv import load_dotenv\n",
    "\n",
    "load_dotenv()"
   ]
  },
  {
   "cell_type": "markdown",
   "metadata": {
    "id": "YOBjwXDaBbua"
   },
   "source": [
    "## CRM"
   ]
  },
  {
   "cell_type": "code",
   "execution_count": 3,
   "metadata": {
    "ExecuteTime": {
     "end_time": "2024-07-15T11:22:04.443804Z",
     "start_time": "2024-07-15T11:22:04.433065Z"
    },
    "id": "rL80guhRBupE"
   },
   "outputs": [
    {
     "data": {
      "text/plain": [
       "'http://10.176.18.37:8301/brokerage-service/'"
      ]
     },
     "execution_count": 3,
     "metadata": {},
     "output_type": "execute_result"
    }
   ],
   "source": [
    "# os.environ[\"TQBUS_CRM_USERNAME\"] = \"crmapiuser\"\n",
    "# os.environ[\"TQBUS_CRM_PASSWORD\"] = \"password\"\n",
    "# os.environ[\"TQBUS_CRM_BASEURL\"] = \"https://example.turnkeyafrica.com/crm-apis/\"\n",
    "os.getenv(\"TQBUS_BANCA_BASEURL\")"
   ]
  },
  {
   "cell_type": "code",
   "execution_count": 7,
   "metadata": {
    "ExecuteTime": {
     "end_time": "2024-07-09T09:57:29.338443Z",
     "start_time": "2024-07-09T09:57:28.787232Z"
    },
    "id": "rmD3KaDtCGLs"
   },
   "outputs": [],
   "source": [
    "from tqbus_sdk.crm import countries"
   ]
  },
  {
   "cell_type": "code",
   "execution_count": null,
   "metadata": {
    "id": "6iNlV9mXKLry"
   },
   "outputs": [],
   "source": []
  },
  {
   "cell_type": "code",
   "execution_count": 8,
   "metadata": {
    "ExecuteTime": {
     "end_time": "2024-07-09T09:57:34.421344Z",
     "start_time": "2024-07-09T09:57:34.416654Z"
    },
    "id": "33mv_KOkCZvF"
   },
   "outputs": [],
   "source": [
    "country_service = countries.CountryService()"
   ]
  },
  {
   "cell_type": "code",
   "execution_count": null,
   "metadata": {
    "id": "E8O8zEXyKM2y"
   },
   "outputs": [],
   "source": []
  },
  {
   "cell_type": "code",
   "execution_count": 9,
   "metadata": {
    "ExecuteTime": {
     "end_time": "2024-07-09T09:57:39.436661Z",
     "start_time": "2024-07-09T09:57:36.969552Z"
    },
    "id": "e_41-LuZCftg"
   },
   "outputs": [],
   "source": [
    "countries = country_service.get()"
   ]
  },
  {
   "cell_type": "code",
   "execution_count": 10,
   "metadata": {
    "ExecuteTime": {
     "end_time": "2024-07-09T09:57:41.946392Z",
     "start_time": "2024-07-09T09:57:41.934459Z"
    },
    "colab": {
     "base_uri": "https://localhost:8080/"
    },
    "id": "80aGDPGCCoYC",
    "outputId": "50ebf8a8-2fb9-4056-e19e-b0f1a05f8743"
   },
   "outputs": [
    {
     "data": {
      "text/plain": [
       "[Country(code=14, short_description='ZAMBIA', name='ZAMBIA', nationality='ZAMBIAN', zip_code=None, mobile_prefix=None, currency_serial=None),\n",
       " Country(code=15, short_description='ZANZ', name='ZANZIBAR', nationality='ZANZIBARI', zip_code=None, mobile_prefix=None, currency_serial=None),\n",
       " Country(code=4, short_description='KE', name='KENYA', nationality='KENYAN', zip_code=254, mobile_prefix=None, currency_serial=None),\n",
       " Country(code=5, short_description='UG', name='UGANDA', nationality='UGANDAN', zip_code=None, mobile_prefix=None, currency_serial=None),\n",
       " Country(code=6, short_description='GBR', name='GREAT BITAIN', nationality='BRITON', zip_code=None, mobile_prefix=None, currency_serial=None),\n",
       " Country(code=7, short_description='TZ', name='TANZANIA', nationality='TANZANIAN', zip_code=None, mobile_prefix=None, currency_serial=None),\n",
       " Country(code=9, short_description='SA', name='REPUBLIC OF SOUTH AFRICA', nationality='SOUTH AFRICAN', zip_code=None, mobile_prefix=None, currency_serial=None),\n",
       " Country(code=12, short_description='BIL', name='BELGIUM', nationality='BELGIAN', zip_code=None, mobile_prefix=None, currency_serial=None),\n",
       " Country(code=13, short_description='CAR', name='CENTRAL AFRICA REPUBLIC', nationality='AFRICANS', zip_code=None, mobile_prefix=None, currency_serial=None),\n",
       " Country(code=26, short_description='AD', name='ANDORRA', nationality='ANDORRAN', zip_code=None, mobile_prefix=None, currency_serial=None),\n",
       " Country(code=27, short_description='AE', name='UNITED ARAB EMIRATES', nationality='UNITED ARAB EMIRATES', zip_code=None, mobile_prefix=None, currency_serial=None),\n",
       " Country(code=28, short_description='AF', name='AFGHANISTAN', nationality='AFGHAN', zip_code=237, mobile_prefix=None, currency_serial=None),\n",
       " Country(code=29, short_description='AG', name='ANTIGUA ', nationality='ANTIGUA ', zip_code=None, mobile_prefix=None, currency_serial=None),\n",
       " Country(code=30, short_description='AI', name='ANGUILLA', nationality='ANGUILLA', zip_code=None, mobile_prefix=None, currency_serial=None),\n",
       " Country(code=31, short_description='AL', name='ALBANIA', nationality='ALBANIAN', zip_code=None, mobile_prefix=None, currency_serial=None),\n",
       " Country(code=32, short_description='AM', name='ARMENIA', nationality='ARMENIAN', zip_code=4, mobile_prefix=None, currency_serial=None),\n",
       " Country(code=33, short_description='AN', name='NETHERLANDS ANTILLES', nationality='NETHERLANDS ANTILLES', zip_code=None, mobile_prefix=None, currency_serial=None),\n",
       " Country(code=34, short_description='AO', name='ANGOLA', nationality='ANGOLAN', zip_code=None, mobile_prefix=None, currency_serial=None),\n",
       " Country(code=35, short_description='AQ', name='ANTARCTICA', nationality='ANTARCTICA', zip_code=None, mobile_prefix=None, currency_serial=None),\n",
       " Country(code=36, short_description='AS', name='AMERICAN SAMOA', nationality='AMERICAN SAMOA', zip_code=None, mobile_prefix=None, currency_serial=None),\n",
       " Country(code=38, short_description='AU', name='AUSTRALIA', nationality='AUSTRALIAN', zip_code=None, mobile_prefix=None, currency_serial=None),\n",
       " Country(code=39, short_description='AW', name='ARUBA', nationality='ARUBA', zip_code=None, mobile_prefix=None, currency_serial=None),\n",
       " Country(code=40, short_description='AZ', name='AZERBAIJAN', nationality='AZERBAIJANI', zip_code=None, mobile_prefix=None, currency_serial=None),\n",
       " Country(code=41, short_description='BA', name='BOSNIA', nationality='BOSNIAN', zip_code=None, mobile_prefix=None, currency_serial=None),\n",
       " Country(code=42, short_description='BB', name='BARBADOS', nationality='BARBADIAN', zip_code=None, mobile_prefix=None, currency_serial=None),\n",
       " Country(code=43, short_description='BD', name='BANGLADESH', nationality='BANGLADESHI', zip_code=None, mobile_prefix=None, currency_serial=None),\n",
       " Country(code=44, short_description='BF', name='BURKINA FASO', nationality='BURKINESE', zip_code=None, mobile_prefix=None, currency_serial=None),\n",
       " Country(code=45, short_description='BG', name='BULGARIA', nationality='BULGARIAN', zip_code=None, mobile_prefix=None, currency_serial=None),\n",
       " Country(code=46, short_description='BH', name='BAHRAIN', nationality='BAHRAINI', zip_code=None, mobile_prefix=None, currency_serial=None),\n",
       " Country(code=47, short_description='BI', name='BURUNDI', nationality='BURUNDIAN', zip_code=None, mobile_prefix=None, currency_serial=None),\n",
       " Country(code=48, short_description='BJ', name='BENIN', nationality='BENINESE', zip_code=None, mobile_prefix=None, currency_serial=None),\n",
       " Country(code=49, short_description='BM', name='BERMUDA', nationality='BERMUDA', zip_code=None, mobile_prefix=None, currency_serial=None),\n",
       " Country(code=50, short_description='BN', name='BRUNEI DARUSSALAM', nationality='BRUNEIAN', zip_code=None, mobile_prefix=None, currency_serial=None),\n",
       " Country(code=51, short_description='BO', name='BOLIVIA', nationality='BOLIVIAN', zip_code=None, mobile_prefix=None, currency_serial=None),\n",
       " Country(code=52, short_description='BR', name='BRAZIL', nationality='BRAZILIAN', zip_code=None, mobile_prefix=None, currency_serial=None),\n",
       " Country(code=53, short_description='BS', name='BAHAMAS', nationality='BAHAMIAN', zip_code=None, mobile_prefix=None, currency_serial=None),\n",
       " Country(code=54, short_description='BT', name='BHUTAN', nationality='BHUTANESE', zip_code=None, mobile_prefix=None, currency_serial=None),\n",
       " Country(code=55, short_description='BV', name='BOUVET ISLAND', nationality='BOUVET ISLAND', zip_code=None, mobile_prefix=None, currency_serial=None),\n",
       " Country(code=56, short_description='BW', name='BOTSWANA', nationality='BOTSWANAN', zip_code=None, mobile_prefix=None, currency_serial=None),\n",
       " Country(code=57, short_description='BY', name='BELARUS ', nationality='BELORUSSIAN ', zip_code=None, mobile_prefix=None, currency_serial=None),\n",
       " Country(code=58, short_description='BZ', name='BELIZE', nationality='BELIZIAN', zip_code=None, mobile_prefix=None, currency_serial=None),\n",
       " Country(code=59, short_description='CA', name='CANADA', nationality='CANADIAN', zip_code=None, mobile_prefix=None, currency_serial=None),\n",
       " Country(code=60, short_description='CC', name='COCOS', nationality='COCOS', zip_code=None, mobile_prefix=None, currency_serial=None),\n",
       " Country(code=61, short_description='CD ', name='CONGO KINSHASA', nationality='CONGOLESEA', zip_code=None, mobile_prefix=None, currency_serial=None),\n",
       " Country(code=62, short_description='CF', name='CENTRAL AFRICAN REPUBLIC', nationality='CENTRAL AFRICAN REPUBLIC', zip_code=None, mobile_prefix=None, currency_serial=None),\n",
       " Country(code=63, short_description='CG', name='CONGO DR', nationality='CONGOLESE', zip_code=None, mobile_prefix=None, currency_serial=None),\n",
       " Country(code=64, short_description='CI', name='IVORY COAST', nationality='IVORY COAST', zip_code=None, mobile_prefix=None, currency_serial=None),\n",
       " Country(code=65, short_description='CK', name='COOK ISLANDS', nationality='COOK ISLANDS', zip_code=None, mobile_prefix=None, currency_serial=None),\n",
       " Country(code=66, short_description='CL', name='CHILE', nationality='CHILEAN', zip_code=None, mobile_prefix=None, currency_serial=None),\n",
       " Country(code=67, short_description='CM', name='CAMEROON', nationality='CAMEROONIAN', zip_code=None, mobile_prefix=None, currency_serial=None),\n",
       " Country(code=68, short_description='CN', name='CHINA', nationality='CHINESE', zip_code=None, mobile_prefix=None, currency_serial=None),\n",
       " Country(code=69, short_description='CO', name='COLOMBIA', nationality='COLOMBIAN', zip_code=None, mobile_prefix=None, currency_serial=None),\n",
       " Country(code=70, short_description='CR', name='COSTA RICA', nationality='COSTA RICAN', zip_code=None, mobile_prefix=None, currency_serial=None),\n",
       " Country(code=71, short_description='CS', name='SERBIA ', nationality=' SERBIAN', zip_code=None, mobile_prefix=None, currency_serial=None),\n",
       " Country(code=72, short_description='CU', name='CUBA', nationality='CUBAN', zip_code=None, mobile_prefix=None, currency_serial=None),\n",
       " Country(code=73, short_description='CV', name='CAPE VERDE', nationality='CAPE VERDEAN', zip_code=None, mobile_prefix=None, currency_serial=None),\n",
       " Country(code=74, short_description='CX', name='CHRISTMAS ISLAND', nationality='CHRISTMAS ISLAND', zip_code=None, mobile_prefix=None, currency_serial=None),\n",
       " Country(code=75, short_description='CY', name='CYPRUS', nationality='CYPRIOT', zip_code=None, mobile_prefix=None, currency_serial=None),\n",
       " Country(code=76, short_description='DJ', name='DJIBOUTI', nationality='DJIBOUTIAN', zip_code=None, mobile_prefix=None, currency_serial=None),\n",
       " Country(code=77, short_description='DM', name='DOMINICA', nationality='DOMINICAN', zip_code=None, mobile_prefix=None, currency_serial=None),\n",
       " Country(code=78, short_description='DO', name='DOMINICAN REPUBLIC', nationality='DOMINICAN REPUBLIC', zip_code=None, mobile_prefix=None, currency_serial=None),\n",
       " Country(code=79, short_description='DZ', name='ALGERIA', nationality='ALGERIAN', zip_code=None, mobile_prefix=None, currency_serial=None),\n",
       " Country(code=80, short_description='EC', name='ECUADOR', nationality='ECUADOREAN', zip_code=None, mobile_prefix=None, currency_serial=None),\n",
       " Country(code=81, short_description='EG', name='EGYPT', nationality='EGYPTIAN', zip_code=None, mobile_prefix=None, currency_serial=None),\n",
       " Country(code=82, short_description='EH', name='WESTERN SAHARA', nationality='WESTERN SAHARA', zip_code=None, mobile_prefix=None, currency_serial=None),\n",
       " Country(code=83, short_description='ER', name='ERITREA', nationality='ERITREAN', zip_code=None, mobile_prefix=None, currency_serial=None),\n",
       " Country(code=84, short_description='ET', name='ETHIOPIA', nationality='ETHIOPIAN', zip_code=None, mobile_prefix=None, currency_serial=None),\n",
       " Country(code=85, short_description='FJ', name='FIJI ISLANDS', nationality='FIJIAN', zip_code=None, mobile_prefix=None, currency_serial=None),\n",
       " Country(code=86, short_description='FK', name='FALKLAND ISLANDS ', nationality='FALKLAND ISLANDS ', zip_code=None, mobile_prefix=None, currency_serial=None),\n",
       " Country(code=87, short_description='FM', name='MICRONESIA', nationality='MICRONESIA', zip_code=None, mobile_prefix=None, currency_serial=None),\n",
       " Country(code=88, short_description='FO', name='FAROE ISLANDS', nationality='FAROE ISLANDS', zip_code=None, mobile_prefix=None, currency_serial=None),\n",
       " Country(code=89, short_description='FX', name='FRANCE', nationality='FRANCE', zip_code=None, mobile_prefix=None, currency_serial=None),\n",
       " Country(code=90, short_description='GA', name='GABON', nationality='GABONESE', zip_code=None, mobile_prefix=None, currency_serial=None),\n",
       " Country(code=91, short_description='GB', name='UNITED KINGDOM', nationality='BRITISH', zip_code=None, mobile_prefix=None, currency_serial=None),\n",
       " Country(code=92, short_description='GD', name='GRENADA', nationality='GRENADIAN', zip_code=None, mobile_prefix=None, currency_serial=None),\n",
       " Country(code=93, short_description='GE', name='GEORGIA', nationality='GEORGIAN', zip_code=None, mobile_prefix=None, currency_serial=None),\n",
       " Country(code=94, short_description='GF', name='FRENCH GUIANA', nationality='FRENCH GUIANA', zip_code=None, mobile_prefix=None, currency_serial=None),\n",
       " Country(code=95, short_description='GH', name='GHANA', nationality='GHANAIAN', zip_code=None, mobile_prefix=None, currency_serial=None),\n",
       " Country(code=96, short_description='GI', name='GIBRALTAR', nationality='GIBRALTAR', zip_code=None, mobile_prefix=None, currency_serial=None),\n",
       " Country(code=97, short_description='GL', name='GREENLAND', nationality='GREENLAND', zip_code=None, mobile_prefix=None, currency_serial=None),\n",
       " Country(code=98, short_description='GM', name='GAMBIA', nationality='GAMBIAN', zip_code=None, mobile_prefix=None, currency_serial=None),\n",
       " Country(code=99, short_description='GN', name='GUINEA', nationality='GUINEAN', zip_code=None, mobile_prefix=None, currency_serial=None),\n",
       " Country(code=100, short_description='GP', name='GUADELOUPE', nationality='GUADELOUPE', zip_code=None, mobile_prefix=None, currency_serial=None),\n",
       " Country(code=101, short_description='GQ', name='EQUATORIAL GUINEA', nationality='EQUATORIAL GUINEAN', zip_code=None, mobile_prefix=None, currency_serial=None),\n",
       " Country(code=102, short_description='GS', name='SOUTH GEORGIA', nationality='SOUTH GEORGIAN', zip_code=None, mobile_prefix=None, currency_serial=None),\n",
       " Country(code=103, short_description='GT', name='GUATEMALA', nationality='GUATEMALAN', zip_code=None, mobile_prefix=None, currency_serial=None),\n",
       " Country(code=104, short_description='GU', name='GUAM', nationality='GUAM', zip_code=None, mobile_prefix=None, currency_serial=None),\n",
       " Country(code=105, short_description='GW', name='GUINEA-BISSAU', nationality='GUINEA-BISSAU', zip_code=None, mobile_prefix=None, currency_serial=None),\n",
       " Country(code=106, short_description='GY', name='GUYANA', nationality='GUYANESE', zip_code=None, mobile_prefix=None, currency_serial=None),\n",
       " Country(code=107, short_description='HK', name='HONG KONG', nationality='HONG KONG', zip_code=None, mobile_prefix=None, currency_serial=None),\n",
       " Country(code=108, short_description='HM', name='HEARD ', nationality='HEARD ', zip_code=None, mobile_prefix=None, currency_serial=None),\n",
       " Country(code=109, short_description='HN', name='HONDURAS', nationality='HONDURAN', zip_code=None, mobile_prefix=None, currency_serial=None),\n",
       " Country(code=110, short_description='HR', name='CROATIA ', nationality='CROAT OR CROATIAN', zip_code=None, mobile_prefix=None, currency_serial=None),\n",
       " Country(code=111, short_description='HT', name='HAITI', nationality='HAITIAN', zip_code=None, mobile_prefix=None, currency_serial=None),\n",
       " Country(code=112, short_description='ID', name='INDONESIA', nationality='INDONESIAN', zip_code=None, mobile_prefix=None, currency_serial=None),\n",
       " Country(code=113, short_description='IE', name='IRELAND', nationality='IRISH', zip_code=None, mobile_prefix=None, currency_serial=None),\n",
       " Country(code=114, short_description='IL', name='ISRAEL', nationality='ISRAELI', zip_code=None, mobile_prefix=None, currency_serial=None),\n",
       " Country(code=116, short_description='IO', name='BRITISH INDIAN OCEAN TERRITORY', nationality='BRITISHIAN', zip_code=None, mobile_prefix=None, currency_serial=None),\n",
       " Country(code=117, short_description='IQ', name='IRAQ', nationality='IRAQI', zip_code=None, mobile_prefix=None, currency_serial=None),\n",
       " Country(code=118, short_description='IR', name='IRAN', nationality='IRANIAN', zip_code=None, mobile_prefix=None, currency_serial=None),\n",
       " Country(code=119, short_description='JM', name='JAMAICA', nationality='JAMAICAN', zip_code=None, mobile_prefix=None, currency_serial=None),\n",
       " Country(code=120, short_description='JO', name='JORDAN', nationality='JORDANIAN', zip_code=None, mobile_prefix=None, currency_serial=None),\n",
       " Country(code=121, short_description='JP', name='JAPAN', nationality='JAPANESE', zip_code=None, mobile_prefix=None, currency_serial=None),\n",
       " Country(code=123, short_description='KG', name='KYRGYZSTAN', nationality='KYRGYZSTAN', zip_code=None, mobile_prefix=None, currency_serial=None),\n",
       " Country(code=124, short_description='KH', name='CAMBODIA ', nationality='CAMBODIAN', zip_code=None, mobile_prefix=None, currency_serial=None),\n",
       " Country(code=125, short_description='KI', name='KIRIBATI', nationality='KIRIBATI', zip_code=None, mobile_prefix=None, currency_serial=None),\n",
       " Country(code=126, short_description='KM', name='COMOROS', nationality='COMOROS', zip_code=None, mobile_prefix=None, currency_serial=None),\n",
       " Country(code=127, short_description='KN', name='SAINT KITTS ', nationality='SAINT KITTS ', zip_code=None, mobile_prefix=None, currency_serial=None),\n",
       " Country(code=128, short_description='KP', name='NORTH KOREA', nationality='KOREAN', zip_code=None, mobile_prefix=None, currency_serial=None),\n",
       " Country(code=129, short_description='KR', name='SOUTH KOREA', nationality='KOREA', zip_code=None, mobile_prefix=None, currency_serial=None),\n",
       " Country(code=130, short_description='KW', name='KUWAIT', nationality='KUWAITI', zip_code=None, mobile_prefix=None, currency_serial=None),\n",
       " Country(code=131, short_description='KY', name='CAYMAN ISLANDS', nationality='CAYMAN ISLANDS', zip_code=None, mobile_prefix=None, currency_serial=None),\n",
       " Country(code=132, short_description='KZ', name='KAZAKHSTAN', nationality='KAZAKH', zip_code=None, mobile_prefix=None, currency_serial=None),\n",
       " Country(code=133, short_description='LA', name=\"LAO PEOPLE'S DEMOCRATIC REPUBLIC \", nationality='LAOTIAN', zip_code=None, mobile_prefix=None, currency_serial=None),\n",
       " Country(code=134, short_description='LB', name='LEBANON', nationality='LEBANESE', zip_code=None, mobile_prefix=None, currency_serial=None),\n",
       " Country(code=135, short_description='LC', name='SAINT LUCIA', nationality='SAINT LUCIA', zip_code=None, mobile_prefix=None, currency_serial=None),\n",
       " Country(code=136, short_description='LI', name='LIECHTENSTEIN', nationality='LIECHTENSTEIN', zip_code=None, mobile_prefix=None, currency_serial=None),\n",
       " Country(code=137, short_description='LK', name='SRI LANKA', nationality='SRI LANKAN', zip_code=None, mobile_prefix=None, currency_serial=None),\n",
       " Country(code=138, short_description='LR', name='LIBERIA', nationality='LIBERIAN', zip_code=231, mobile_prefix=None, currency_serial=501),\n",
       " Country(code=139, short_description='LS', name='LESOTHO', nationality='LESOTHO', zip_code=None, mobile_prefix=None, currency_serial=None),\n",
       " Country(code=140, short_description='LY', name='LIBYAN ARAB JAMAHIRIYA', nationality='LIBYAN', zip_code=None, mobile_prefix=None, currency_serial=None),\n",
       " Country(code=141, short_description='MA', name='MOROCCO', nationality='MOROCCAN', zip_code=None, mobile_prefix=None, currency_serial=None),\n",
       " Country(code=142, short_description='MC', name='MONACO', nationality='MONÉGASQUE OR MONACAN', zip_code=None, mobile_prefix=None, currency_serial=None),\n",
       " Country(code=143, short_description='MD', name='MOLDOVA, REPUBLIC OF', nationality='MOLDOVAN', zip_code=None, mobile_prefix=None, currency_serial=None),\n",
       " Country(code=144, short_description='MG', name='MADAGASCAR', nationality='MALAGASAY ', zip_code=None, mobile_prefix=None, currency_serial=None),\n",
       " Country(code=145, short_description='MH', name='MARSHALL ISLANDS', nationality='MARSHALL ISLANDS', zip_code=None, mobile_prefix=None, currency_serial=None),\n",
       " Country(code=146, short_description='MK', name='MACEDONIA', nationality='MACEDONIAN', zip_code=None, mobile_prefix=None, currency_serial=None),\n",
       " Country(code=147, short_description='ML', name='MALI', nationality='MALIAN', zip_code=None, mobile_prefix=None, currency_serial=None),\n",
       " Country(code=148, short_description='MM', name='MYANMAR', nationality='MYANMAR', zip_code=None, mobile_prefix=None, currency_serial=None),\n",
       " Country(code=149, short_description='MN', name='MONGOLIA', nationality='MONGOLIAN', zip_code=None, mobile_prefix=None, currency_serial=None),\n",
       " Country(code=150, short_description='MO', name='MACAO ', nationality='MACAO ', zip_code=None, mobile_prefix=None, currency_serial=None),\n",
       " Country(code=151, short_description='MP', name='NORTHERN MARIANA ISLANDS', nationality='NORTHERN MARIANA ISLANDS', zip_code=None, mobile_prefix=None, currency_serial=None),\n",
       " Country(code=152, short_description='MQ', name='MARTINIQUE', nationality='MARTINIQUE', zip_code=None, mobile_prefix=None, currency_serial=None),\n",
       " Country(code=153, short_description='MR', name='MAURITANIA', nationality='MAURITANIAN', zip_code=None, mobile_prefix=None, currency_serial=None),\n",
       " Country(code=154, short_description='MS', name='MONTSERRAT', nationality='MONTENEGRIN', zip_code=None, mobile_prefix=None, currency_serial=None),\n",
       " Country(code=155, short_description='MU', name='MAURITIUS', nationality='MAURITIAN', zip_code=None, mobile_prefix=None, currency_serial=None),\n",
       " Country(code=156, short_description='MV', name='MALDIVES', nationality='MALDIVIAN', zip_code=None, mobile_prefix=None, currency_serial=None),\n",
       " Country(code=157, short_description='MW', name='MALAWI', nationality='MALAWIAN', zip_code=None, mobile_prefix=None, currency_serial=None),\n",
       " Country(code=158, short_description='MX', name='MEXICO', nationality='MEXICAN', zip_code=None, mobile_prefix=None, currency_serial=None),\n",
       " Country(code=159, short_description='MY', name='MALAYSIA', nationality='MALAYSIAN', zip_code=None, mobile_prefix=None, currency_serial=None),\n",
       " Country(code=160, short_description='MZ', name='MOZAMBIQUE', nationality='MOZAMBICAN', zip_code=None, mobile_prefix=None, currency_serial=None),\n",
       " Country(code=161, short_description='NA', name='NAMIBIA', nationality='NAMIBIAN', zip_code=None, mobile_prefix=None, currency_serial=None),\n",
       " Country(code=162, short_description='NC', name='NEW CALEDONIA', nationality='NEW CALEDONIA', zip_code=None, mobile_prefix=None, currency_serial=None),\n",
       " Country(code=163, short_description='NE', name='NIGER', nationality='NIGERIEN', zip_code=None, mobile_prefix=None, currency_serial=None),\n",
       " Country(code=164, short_description='NF', name='NORFOLK ISLAND', nationality='NORFOLK ISLAND', zip_code=None, mobile_prefix=None, currency_serial=None),\n",
       " Country(code=165, short_description='NG', name='NIGERIA', nationality='NIGERIAN', zip_code=234, mobile_prefix=None, currency_serial=221),\n",
       " Country(code=166, short_description='NI', name='NICARAGUA', nationality='NICARAGUAN', zip_code=None, mobile_prefix=None, currency_serial=None),\n",
       " Country(code=167, short_description='NP', name='NEPAL', nationality='NEPALESE', zip_code=None, mobile_prefix=None, currency_serial=None),\n",
       " Country(code=168, short_description='NR', name='NAURU', nationality='NAURU', zip_code=None, mobile_prefix=None, currency_serial=None),\n",
       " Country(code=169, short_description='NU', name='NIUE', nationality='NIUE', zip_code=None, mobile_prefix=None, currency_serial=None),\n",
       " Country(code=170, short_description='NZ', name='NEW ZEALAND', nationality='NEW ZEALAND', zip_code=None, mobile_prefix=None, currency_serial=None),\n",
       " Country(code=171, short_description='OM', name='OMAN', nationality='OMANI', zip_code=None, mobile_prefix=None, currency_serial=None),\n",
       " Country(code=172, short_description='PA', name='PANAMA', nationality='PANAMANIAN', zip_code=None, mobile_prefix=None, currency_serial=None),\n",
       " Country(code=173, short_description='PE', name='PERU', nationality='PERUVIAN', zip_code=None, mobile_prefix=None, currency_serial=None),\n",
       " Country(code=174, short_description='PF', name='FRENCH POLYNESIA', nationality='FRENCH POLYNESIA', zip_code=None, mobile_prefix=None, currency_serial=None),\n",
       " Country(code=175, short_description='PG', name='PAPUA NEW GUINEA', nationality='PAPUA NEW GUINEAN OR GUINEAN', zip_code=None, mobile_prefix=None, currency_serial=None),\n",
       " Country(code=176, short_description='PH', name='PHILIPPINES', nationality='PHILIPPINE', zip_code=None, mobile_prefix=None, currency_serial=None),\n",
       " Country(code=177, short_description='PK', name='PAKISTAN', nationality='PAKISTANI', zip_code=None, mobile_prefix=None, currency_serial=None),\n",
       " Country(code=178, short_description='PM', name='ST PIERRE AND MIQUELON', nationality='ST PIERRE AND MIQUELON', zip_code=None, mobile_prefix=None, currency_serial=None),\n",
       " Country(code=179, short_description='PN', name='PITCAIRN ISLAND', nationality='PITCAIRN ISLAND', zip_code=None, mobile_prefix=None, currency_serial=None),\n",
       " Country(code=180, short_description='PR', name='PITCAIRN ISLAND', nationality='PITCAIRN ISLANDA', zip_code=None, mobile_prefix=None, currency_serial=None),\n",
       " Country(code=181, short_description='PW', name='PALAU', nationality='PALAU', zip_code=None, mobile_prefix=None, currency_serial=None),\n",
       " Country(code=182, short_description='PY', name='PARAGUAY', nationality='PARAGUAYAN', zip_code=None, mobile_prefix=None, currency_serial=None),\n",
       " Country(code=183, short_description='QA', name='QATAR', nationality='QATARI', zip_code=None, mobile_prefix=None, currency_serial=None),\n",
       " Country(code=184, short_description='RE', name='RÉUNION', nationality='RÉUNION', zip_code=None, mobile_prefix=None, currency_serial=None),\n",
       " Country(code=185, short_description='RO', name='ROMANIA', nationality='ROMANIAN', zip_code=None, mobile_prefix=None, currency_serial=None),\n",
       " Country(code=186, short_description='RU', name='RUSSIAN FEDERATION', nationality='RUSSIAN', zip_code=None, mobile_prefix=None, currency_serial=None),\n",
       " Country(code=187, short_description='RW', name='RWANDA', nationality='RWANDAN', zip_code=None, mobile_prefix=None, currency_serial=None),\n",
       " Country(code=189, short_description='SB', name='SOLOMON ISLANDS', nationality='SOLOMON ISLANDS', zip_code=None, mobile_prefix=None, currency_serial=None),\n",
       " Country(code=190, short_description='SC', name='SEYCHELLES', nationality='SEYCHELLOIS', zip_code=None, mobile_prefix=None, currency_serial=None),\n",
       " Country(code=191, short_description='SD', name='SUDAN', nationality='SUDANESE', zip_code=None, mobile_prefix=None, currency_serial=None),\n",
       " Country(code=192, short_description='SG', name='SINGAPORE', nationality='SINGAPOREAN', zip_code=None, mobile_prefix=None, currency_serial=None),\n",
       " Country(code=193, short_description='SH', name='ST HELENA', nationality='ST HELENA', zip_code=None, mobile_prefix=None, currency_serial=None),\n",
       " Country(code=194, short_description='SJ', name='SVALBARD ', nationality='SVALBARD ', zip_code=None, mobile_prefix=None, currency_serial=None),\n",
       " Country(code=195, short_description='SL', name='SIERRA LEONE', nationality='SIERRA LEONIAN', zip_code=None, mobile_prefix=None, currency_serial=None),\n",
       " Country(code=196, short_description='SM', name='SAN MARINO', nationality='SAN MARINO', zip_code=None, mobile_prefix=None, currency_serial=None),\n",
       " Country(code=197, short_description='SN', name='SENEGAL', nationality='SENEGALESE', zip_code=None, mobile_prefix=None, currency_serial=None),\n",
       " Country(code=198, short_description='SO', name='SOMALIA', nationality='SOMALI', zip_code=None, mobile_prefix=None, currency_serial=None),\n",
       " Country(code=199, short_description='SR', name='SURINAME', nationality='SURINAMESE', zip_code=None, mobile_prefix=None, currency_serial=None),\n",
       " Country(code=200, short_description='ST', name='SÃO TOMÉ AND PRÍNCIPE', nationality='SÃO TOMÉ AND PRÍNCIPE', zip_code=None, mobile_prefix=None, currency_serial=None),\n",
       " Country(code=201, short_description='SU', name='UNION OF SOVIET SOCIALIST REPUBLICS', nationality='UNION OF SOVIET SOCIALIST REPUBLICS', zip_code=None, mobile_prefix=None, currency_serial=None),\n",
       " Country(code=202, short_description='SV', name='EL SALVADOR', nationality='SALVADOREAN', zip_code=None, mobile_prefix=None, currency_serial=None),\n",
       " Country(code=203, short_description='SY', name='SYRIAN ARAB REPUBLIC', nationality='SYRIAN', zip_code=None, mobile_prefix=None, currency_serial=None),\n",
       " Country(code=204, short_description='SZ', name='SWAZILAND', nationality='SWAZI', zip_code=None, mobile_prefix=None, currency_serial=None),\n",
       " Country(code=205, short_description='TC', name='TURKS AND CAICOS ISLANDS', nationality='TURKS AND CAICOS ISLANDS', zip_code=None, mobile_prefix=None, currency_serial=None),\n",
       " Country(code=206, short_description='TD', name='CHAD', nationality='CHADIAN', zip_code=None, mobile_prefix=None, currency_serial=None),\n",
       " Country(code=207, short_description='TF', name='FRENCH SOUTHERN AND ANTARCTIC TERRITORIES', nationality='FRENCH SOUTHERN AND ANTARCTIC TERRITORIES', zip_code=None, mobile_prefix=None, currency_serial=None),\n",
       " Country(code=208, short_description='TG', name='TOGO', nationality='TOGOLESE', zip_code=None, mobile_prefix=None, currency_serial=None),\n",
       " Country(code=209, short_description='TH', name='THAILAND', nationality='THAI', zip_code=None, mobile_prefix=None, currency_serial=None),\n",
       " Country(code=210, short_description='TJ', name='TAJIKISTAN', nationality='TAJIK ', zip_code=None, mobile_prefix=None, currency_serial=None),\n",
       " Country(code=211, short_description='TK', name='TOKELAU', nationality='TOKELAU', zip_code=None, mobile_prefix=None, currency_serial=None),\n",
       " Country(code=212, short_description='TM', name='TURKMENISTAN', nationality='TURKMEN OR TURKOMAN', zip_code=None, mobile_prefix=None, currency_serial=None),\n",
       " Country(code=213, short_description='TN', name='TUNISIA', nationality='TUNISIAN', zip_code=None, mobile_prefix=None, currency_serial=None),\n",
       " Country(code=214, short_description='TO', name='TONGA', nationality='TONGA', zip_code=None, mobile_prefix=None, currency_serial=None),\n",
       " Country(code=215, short_description='TP', name='EAST TIMOR', nationality='EAST TIMOR', zip_code=None, mobile_prefix=None, currency_serial=None),\n",
       " Country(code=216, short_description='TR', name='TURKEY', nationality='TURKISH', zip_code=None, mobile_prefix=None, currency_serial=None),\n",
       " Country(code=217, short_description='TT', name='TRINIDAD AND TOBAGO', nationality='TRINIDADIAN', zip_code=None, mobile_prefix=None, currency_serial=None),\n",
       " Country(code=218, short_description='TV', name='TUVALU', nationality='TUVALUAN', zip_code=None, mobile_prefix=None, currency_serial=None),\n",
       " Country(code=219, short_description='TW', name='TAIWAN, PROVINCE OF CHINA', nationality='TAIWANESE', zip_code=None, mobile_prefix=None, currency_serial=None),\n",
       " Country(code=221, short_description='UA', name='UKRAINE', nationality='UKRAINIAN', zip_code=None, mobile_prefix=None, currency_serial=None),\n",
       " Country(code=223, short_description='UM', name='UNITED STATES MINOR OUTLYING ISLANDS', nationality='UNITED STATES MINOR OUTLYING ISLANDS', zip_code=None, mobile_prefix=None, currency_serial=None),\n",
       " Country(code=224, short_description='US', name='UNITED STATES OF AMERICA', nationality='AMERICAN', zip_code=None, mobile_prefix=None, currency_serial=None),\n",
       " Country(code=225, short_description='UY', name='URUGUAY', nationality='URUGUAYAN', zip_code=None, mobile_prefix=None, currency_serial=None),\n",
       " Country(code=226, short_description='UZ', name='UZBEKISTAN', nationality='UZBEK', zip_code=None, mobile_prefix=None, currency_serial=None),\n",
       " Country(code=227, short_description='VA', name='HOLY SEE ', nationality='HOLY SEE ', zip_code=None, mobile_prefix=None, currency_serial=None),\n",
       " Country(code=228, short_description='VC', name='SAINT VINCENT ', nationality='SAINT VINCENT ', zip_code=None, mobile_prefix=None, currency_serial=None),\n",
       " Country(code=229, short_description='VE', name='VENEZUELA', nationality='VENEZUELAN', zip_code=None, mobile_prefix=None, currency_serial=None),\n",
       " Country(code=230, short_description='VG', name='VIRGIN ISLANDS (BRITISH)', nationality='VIRGIN ISLANDS (BRITISH)', zip_code=None, mobile_prefix=None, currency_serial=None),\n",
       " Country(code=231, short_description='VI', name='VIRGIN ISLANDS (US)', nationality='VIRGIN ISLANDS (US)', zip_code=None, mobile_prefix=None, currency_serial=None),\n",
       " Country(code=232, short_description='VN', name='VIET NAM', nationality='VIETNAMESE', zip_code=None, mobile_prefix=None, currency_serial=None),\n",
       " Country(code=233, short_description='VU', name='VANAUTU', nationality='VANUATUAN', zip_code=None, mobile_prefix=None, currency_serial=None),\n",
       " Country(code=234, short_description='WF', name='WALLIS AND FUTUNA ISLANDS', nationality='WALLIS AND FUTUNA ISLANDS', zip_code=None, mobile_prefix=None, currency_serial=None),\n",
       " Country(code=235, short_description='WS', name='SAMOA', nationality='SAMOA', zip_code=None, mobile_prefix=None, currency_serial=None),\n",
       " Country(code=236, short_description='YE ', name='YEMEN', nationality='YEMENI', zip_code=None, mobile_prefix=None, currency_serial=None),\n",
       " Country(code=237, short_description='YT', name='MAYOTTE', nationality='MAYOTTE', zip_code=None, mobile_prefix=None, currency_serial=None),\n",
       " Country(code=240, short_description='ZW', name='ZIMBABWE', nationality='ZIMBABWEAN', zip_code=None, mobile_prefix=None, currency_serial=None),\n",
       " Country(code=241, short_description='AR', name='ARGENTINA', nationality='ARGENTINIAN', zip_code=None, mobile_prefix=None, currency_serial=None),\n",
       " Country(code=243, short_description='CH', name='SWITZERLAND', nationality='SWISS', zip_code=None, mobile_prefix=None, currency_serial=None),\n",
       " Country(code=244, short_description='CZ', name='CZECH REPUBLIC', nationality='CZECH', zip_code=None, mobile_prefix=None, currency_serial=None),\n",
       " Country(code=246, short_description='DK', name='DENMARK', nationality='DANISH', zip_code=None, mobile_prefix=None, currency_serial=None),\n",
       " Country(code=247, short_description='EE', name='ESTONIA', nationality='ESTONIAN', zip_code=None, mobile_prefix=None, currency_serial=None),\n",
       " Country(code=248, short_description='ES', name='SPAIN', nationality='SPANISH', zip_code=None, mobile_prefix=None, currency_serial=None),\n",
       " Country(code=249, short_description='FI', name='FINLAND', nationality='FINNISH', zip_code=None, mobile_prefix=None, currency_serial=None),\n",
       " Country(code=251, short_description='GR', name='GREECE', nationality='GREEK', zip_code=None, mobile_prefix=None, currency_serial=None),\n",
       " Country(code=252, short_description='HU', name='HUNGARY', nationality='HUNGARIAN', zip_code=None, mobile_prefix=None, currency_serial=None),\n",
       " Country(code=253, short_description='IS', name='ICELAND', nationality='ICELANDIC', zip_code=None, mobile_prefix=None, currency_serial=None),\n",
       " Country(code=254, short_description='IT', name='ITALY', nationality='ITALIAN', zip_code=None, mobile_prefix=None, currency_serial=None),\n",
       " Country(code=255, short_description='LT', name='LITHUANIA', nationality='LITHUANIAN', zip_code=None, mobile_prefix=None, currency_serial=None),\n",
       " Country(code=256, short_description='LU', name='LUXEMBOURG', nationality='LUXEMBOURG', zip_code=None, mobile_prefix=None, currency_serial=None),\n",
       " Country(code=257, short_description='LV', name='LATVIA', nationality='LATVIAN', zip_code=None, mobile_prefix=None, currency_serial=None),\n",
       " Country(code=258, short_description='MT', name='MALTA', nationality='MALTESE', zip_code=None, mobile_prefix=None, currency_serial=None),\n",
       " Country(code=259, short_description='NL', name='NETHERLANDS', nationality='DUTCH', zip_code=None, mobile_prefix=None, currency_serial=None),\n",
       " Country(code=260, short_description='NO', name='NORWAY', nationality='NORWEGIAN', zip_code=None, mobile_prefix=None, currency_serial=None),\n",
       " Country(code=261, short_description='PL', name='POLAND', nationality='POLISH', zip_code=None, mobile_prefix=None, currency_serial=None),\n",
       " Country(code=262, short_description='PT', name='PORTUGAL', nationality='PORTUGUESE', zip_code=None, mobile_prefix=None, currency_serial=None),\n",
       " Country(code=263, short_description='SE', name='SWEDEN', nationality='SWEDISH', zip_code=None, mobile_prefix=None, currency_serial=None),\n",
       " Country(code=264, short_description='SI', name='SLOVENIA', nationality='SLOVENE OR SLOVENIAN', zip_code=None, mobile_prefix=None, currency_serial=None),\n",
       " Country(code=265, short_description='SK', name='SLOVAKIA', nationality='SLOVAK', zip_code=None, mobile_prefix=None, currency_serial=None),\n",
       " Country(code=266, short_description='GER', name='GERMANY', nationality='GERMAN', zip_code=5165, mobile_prefix=None, currency_serial=None),\n",
       " Country(code=267, short_description='SSS', name='SSS', nationality='SSS', zip_code=200, mobile_prefix=None, currency_serial=None),\n",
       " Country(code=268, short_description='INDIA', name='INDIA', nationality='INDIAN', zip_code=91, mobile_prefix=None, currency_serial=None),\n",
       " Country(code=279, short_description='SS', name='SOUTH SUDAN', nationality='SOUTH SUDANESE', zip_code=211, mobile_prefix=None, currency_serial=None),\n",
       " Country(code=283, short_description='KEY', name='KENYA1', nationality='KENYANUAN', zip_code=543, mobile_prefix=None, currency_serial=23),\n",
       " Country(code=188, short_description='KSA', name='SAUDI ARABIA', nationality='SAUDI ARABIAN OR SAUDI', zip_code=966, mobile_prefix=None, currency_serial=3)]"
      ]
     },
     "execution_count": 10,
     "metadata": {},
     "output_type": "execute_result"
    }
   ],
   "source": [
    "countries"
   ]
  },
  {
   "cell_type": "code",
   "execution_count": 37,
   "metadata": {
    "id": "GO6AMSGQClBK"
   },
   "outputs": [],
   "source": [
    "kenya = next(filter(lambda x: x.short_description == \"KE\", countries), None)"
   ]
  },
  {
   "cell_type": "code",
   "execution_count": 38,
   "metadata": {
    "colab": {
     "base_uri": "https://localhost:8080/",
     "height": 36
    },
    "id": "tIqPAo53D5Uk",
    "outputId": "40b0c9ee-36f6-4a55-ece9-698eef2ba675"
   },
   "outputs": [
    {
     "data": {
      "application/vnd.google.colaboratory.intrinsic+json": {
       "type": "string"
      },
      "text/plain": [
       "'KENYAN'"
      ]
     },
     "execution_count": 38,
     "metadata": {},
     "output_type": "execute_result"
    }
   ],
   "source": [
    "kenya.nationality"
   ]
  },
  {
   "cell_type": "code",
   "execution_count": 13,
   "metadata": {
    "id": "sfP7cGsJEFHF"
   },
   "outputs": [],
   "source": []
  },
  {
   "cell_type": "code",
   "execution_count": 4,
   "metadata": {
    "ExecuteTime": {
     "end_time": "2024-07-15T11:22:16.141385Z",
     "start_time": "2024-07-15T11:22:14.289434Z"
    },
    "id": "d8PY5k6rEJpi"
   },
   "outputs": [],
   "source": [
    "from tqbus_sdk.crm import tqclients"
   ]
  },
  {
   "cell_type": "code",
   "execution_count": 9,
   "metadata": {
    "ExecuteTime": {
     "end_time": "2024-07-15T11:38:41.200351Z",
     "start_time": "2024-07-15T11:38:41.193860Z"
    },
    "id": "3WcGHK35FYFT"
   },
   "outputs": [],
   "source": [
    "q = tqclients.ClientQueryParam(phone_number=\"2348023720977\")"
   ]
  },
  {
   "cell_type": "code",
   "execution_count": 10,
   "metadata": {
    "ExecuteTime": {
     "end_time": "2024-07-15T11:38:43.674512Z",
     "start_time": "2024-07-15T11:38:43.670095Z"
    },
    "id": "3hz_z47tFtLb"
   },
   "outputs": [],
   "source": [
    "service = tqclients.ClientService()"
   ]
  },
  {
   "cell_type": "code",
   "execution_count": 11,
   "metadata": {
    "ExecuteTime": {
     "end_time": "2024-07-15T11:38:48.306534Z",
     "start_time": "2024-07-15T11:38:45.893772Z"
    },
    "id": "V1F4sGUzF4rN"
   },
   "outputs": [],
   "source": [
    "clients = service.get(q)"
   ]
  },
  {
   "cell_type": "code",
   "execution_count": 8,
   "metadata": {
    "ExecuteTime": {
     "end_time": "2024-07-15T11:22:38.667813Z",
     "start_time": "2024-07-15T11:22:38.661236Z"
    },
    "id": "YDhzOC6IF8Pi"
   },
   "outputs": [],
   "source": [
    "client = clients.pop()"
   ]
  },
  {
   "cell_type": "code",
   "execution_count": 16,
   "metadata": {
    "ExecuteTime": {
     "end_time": "2024-07-15T11:41:20.858790Z",
     "start_time": "2024-07-15T11:41:20.849597Z"
    },
    "colab": {
     "base_uri": "https://localhost:8080/"
    },
    "id": "2G4Eto6ZGOoe",
    "outputId": "cc5ff49a-2f27-4935-de02-322b12380243"
   },
   "outputs": [
    {
     "data": {
      "text/plain": [
       "[Client(code=1936, short_description='111696', name='MUHAMMAD SANI ABUBAKAR', other_names=None, surname='MUHAMMAD SANI ABUBAKAR', id_reg_no=None, date_of_birth=None, PIN=None, town_code=None, country_code=165, zip_code=None, date_created=datetime.datetime(2023, 6, 12, 1, 20, 58, tzinfo=TzInfo(UTC)), direct_client='N', state_code=None, branch_code=None, payroll_No=None, email_address='idah.gakii@turnkeyafrica.com', telephone='2348023720977', status='A', proposer='Y', account_no=None, with_effect_from=datetime.date(2023, 6, 12), with_effect_to=None, type='13I', gender=None)]"
      ]
     },
     "execution_count": 16,
     "metadata": {},
     "output_type": "execute_result"
    }
   ],
   "source": [
    "clients"
   ]
  },
  {
   "cell_type": "code",
   "execution_count": 18,
   "metadata": {
    "colab": {
     "base_uri": "https://localhost:8080/"
    },
    "id": "xleZ44SWME9Y",
    "outputId": "83087ef6-e7f0-4b17-fe0c-81eb4dc505f5"
   },
   "outputs": [
    {
     "data": {
      "text/plain": [
       "23235981843"
      ]
     },
     "execution_count": 18,
     "metadata": {},
     "output_type": "execute_result"
    }
   ],
   "source": [
    "client.code"
   ]
  },
  {
   "cell_type": "code",
   "execution_count": 19,
   "metadata": {
    "colab": {
     "base_uri": "https://localhost:8080/",
     "height": 36
    },
    "id": "flkDGAA8ML8K",
    "outputId": "ce22eed4-57c2-4e62-dba5-8b3baa5cbead"
   },
   "outputs": [
    {
     "data": {
      "application/vnd.google.colaboratory.intrinsic+json": {
       "type": "string"
      },
      "text/plain": [
       "'TEST TEST'"
      ]
     },
     "execution_count": 19,
     "metadata": {},
     "output_type": "execute_result"
    }
   ],
   "source": [
    "f\"{client.name} {client.other_names}\""
   ]
  },
  {
   "cell_type": "code",
   "execution_count": null,
   "metadata": {
    "id": "1Pa6XWezMUu2"
   },
   "outputs": [],
   "source": []
  },
  {
   "cell_type": "markdown",
   "metadata": {
    "id": "2AFlA_IZMa9a"
   },
   "source": [
    "## Create client"
   ]
  },
  {
   "cell_type": "code",
   "execution_count": 20,
   "metadata": {
    "id": "5rmsgiavMdoR"
   },
   "outputs": [],
   "source": [
    "clnt = tqclients.Client(name=\"ALI\", other_names=\"HAMZAH\", email_address=\"ALIHAMZAH@TEST.COM\", id_reg_no=\"A090L8089000\")"
   ]
  },
  {
   "cell_type": "code",
   "execution_count": 22,
   "metadata": {
    "id": "CC99FItoNCff"
   },
   "outputs": [],
   "source": [
    "clnt = service.create(clnt)"
   ]
  },
  {
   "cell_type": "code",
   "execution_count": 23,
   "metadata": {
    "colab": {
     "base_uri": "https://localhost:8080/"
    },
    "id": "gdLTkLArNXr5",
    "outputId": "601129e8-eb90-4b2a-ecc7-435f72a6ad33"
   },
   "outputs": [
    {
     "data": {
      "text/plain": [
       "Client(code=235983609, short_description='ALIH', name='ALI', other_names='HAMZAH', surname=None, id_reg_no='A090L8089000', date_of_birth=None, PIN=None, town_code=544, country_code=165, zip_code=234, date_created=None, direct_client='N', state_code=24, branch_code=1, payroll_No=None, email_address='ALIHAMZAH@TEST.COM', telephone=None, status='A', proposer='Y', account_no=None, with_effect_from=None, with_effect_to=None, type='13I')"
      ]
     },
     "execution_count": 23,
     "metadata": {},
     "output_type": "execute_result"
    }
   ],
   "source": [
    "clnt"
   ]
  },
  {
   "cell_type": "code",
   "execution_count": 23,
   "metadata": {
    "id": "BcQY33wmNaDi"
   },
   "outputs": [],
   "source": []
  },
  {
   "cell_type": "code",
   "execution_count": 23,
   "metadata": {
    "id": "PDIvNhTmNmRM"
   },
   "outputs": [],
   "source": []
  },
  {
   "cell_type": "code",
   "execution_count": null,
   "metadata": {
    "id": "Rx3GKjl6NoC1"
   },
   "outputs": [],
   "source": []
  },
  {
   "cell_type": "markdown",
   "metadata": {
    "id": "q7LnuS0ZNp19"
   },
   "source": [
    "# GIS"
   ]
  },
  {
   "cell_type": "markdown",
   "metadata": {
    "id": "djcX_p8UNxdj"
   },
   "source": [
    "## Quotations"
   ]
  },
  {
   "cell_type": "code",
   "execution_count": 27,
   "metadata": {
    "id": "ogXDYQVoNzKQ"
   },
   "outputs": [],
   "source": [
    "from tqbus_sdk.gis import quotations\n",
    "\n",
    "os.environ[\"TQBUS_GIS_USERNAME\"] = \"gisapiuser\"\n",
    "os.environ[\"TQBUS_GIS_PASSWORD\"] = \"password\"\n",
    "os.environ[\"TQBUS_GIS_BASEURL\"] = \"https://example.turnkeyafrica.com/gis-apis/\""
   ]
  },
  {
   "cell_type": "code",
   "execution_count": 29,
   "metadata": {
    "id": "tdvBUOuHRKs4"
   },
   "outputs": [],
   "source": [
    "service = quotations.QuotationService()"
   ]
  },
  {
   "cell_type": "code",
   "execution_count": 34,
   "metadata": {
    "id": "7ekxqEdcRhEC"
   },
   "outputs": [],
   "source": [
    "quote = service.quick_quote(client_code=235983609, property_id=\"KBZ 90L\", limit_amount=9_000_000)"
   ]
  },
  {
   "cell_type": "code",
   "execution_count": 35,
   "metadata": {
    "colab": {
     "base_uri": "https://localhost:8080/"
    },
    "id": "L6_pF3rHR2pU",
    "outputId": "0b068029-6a6a-4647-b8d6-dac0f1b23b4a"
   },
   "outputs": [
    {
     "data": {
      "text/plain": [
       "QuotationResponse(code=202346100, quotationNumber='Q/HQ/PRM/23/0000142', quotationRevisionNumber=0.0, premiumAmount=450000.0, ready='N')"
      ]
     },
     "execution_count": 35,
     "metadata": {},
     "output_type": "execute_result"
    }
   ],
   "source": [
    "quote"
   ]
  },
  {
   "cell_type": "code",
   "execution_count": 36,
   "metadata": {
    "colab": {
     "base_uri": "https://localhost:8080/"
    },
    "id": "ATc6qdsDR5B4",
    "outputId": "bec1932a-083d-4261-b2fa-d060fcca7d0e"
   },
   "outputs": [
    {
     "data": {
      "text/plain": [
       "450000.0"
      ]
     },
     "execution_count": 36,
     "metadata": {},
     "output_type": "execute_result"
    }
   ],
   "source": [
    "quote.premiumAmount"
   ]
  },
  {
   "cell_type": "code",
   "execution_count": null,
   "metadata": {
    "id": "FIgElyiISwzC"
   },
   "outputs": [],
   "source": []
  },
  {
   "cell_type": "code",
   "execution_count": 33,
   "metadata": {
    "colab": {
     "base_uri": "https://localhost:8080/"
    },
    "id": "W-EUiRvPSJMx",
    "outputId": "26227ecd-98be-490c-d2d0-053c4e28cb5f"
   },
   "outputs": [
    {
     "data": {
      "text/plain": [
       "202346099"
      ]
     },
     "execution_count": 33,
     "metadata": {},
     "output_type": "execute_result"
    }
   ],
   "source": [
    "quote.code"
   ]
  },
  {
   "cell_type": "code",
   "execution_count": 39,
   "metadata": {
    "id": "ld7luptBRQfz"
   },
   "outputs": [],
   "source": [
    "policy_no = service.convert(quote_code=quote.code)"
   ]
  },
  {
   "cell_type": "code",
   "execution_count": 40,
   "metadata": {
    "colab": {
     "base_uri": "https://localhost:8080/",
     "height": 36
    },
    "id": "wpKVWpzcTDTO",
    "outputId": "de5c1cdf-8e73-4f92-d085-0a50369dc003"
   },
   "outputs": [
    {
     "data": {
      "application/vnd.google.colaboratory.intrinsic+json": {
       "type": "string"
      },
      "text/plain": [
       "'PRM/01/4/01979/23'"
      ]
     },
     "execution_count": 40,
     "metadata": {},
     "output_type": "execute_result"
    }
   ],
   "source": [
    "policy_no"
   ]
  },
  {
   "cell_type": "code",
   "execution_count": null,
   "metadata": {
    "id": "FjGMsyrbS3LV"
   },
   "outputs": [],
   "source": []
  },
  {
   "cell_type": "markdown",
   "metadata": {
    "id": "SGZVCYucTLUs"
   },
   "source": [
    "## Policies"
   ]
  },
  {
   "cell_type": "code",
   "execution_count": 41,
   "metadata": {
    "id": "kIvh2Ku4TN5U"
   },
   "outputs": [],
   "source": [
    "from tqbus_sdk.gis import policies"
   ]
  },
  {
   "cell_type": "code",
   "execution_count": 42,
   "metadata": {
    "id": "W_xKUtWiTV8j"
   },
   "outputs": [],
   "source": [
    "service = policies.PolicyService()"
   ]
  },
  {
   "cell_type": "code",
   "execution_count": 43,
   "metadata": {
    "id": "2q1PRtXkTadK"
   },
   "outputs": [],
   "source": [
    "policy_no = \"PRM/01/4/01979/23\""
   ]
  },
  {
   "cell_type": "code",
   "execution_count": 44,
   "metadata": {
    "id": "Z4Dtg44GTlgw"
   },
   "outputs": [],
   "source": [
    "policy_data = service.find(policy_no=policy_no)"
   ]
  },
  {
   "cell_type": "code",
   "execution_count": 45,
   "metadata": {
    "colab": {
     "base_uri": "https://localhost:8080/"
    },
    "id": "jbVVMQ4JTuGg",
    "outputId": "48e9e708-1ede-4f9e-a13b-92e8d2a882d0"
   },
   "outputs": [
    {
     "data": {
      "text/plain": [
       "{'batch_no': 23360442,\n",
       " 'policy_number': 'PRM/01/4/01979/23',\n",
       " 'policy_ renewal_endorsement_number': 'MB/001/2023',\n",
       " 'client': {'code': 235983609,\n",
       "  'client_short_description': 'ALIH',\n",
       "  'name': 'ALI',\n",
       "  'other_names': 'HAMZAH',\n",
       "  'id_registration_number': 'A090L8089000',\n",
       "  'date_of_birth': None,\n",
       "  'tax_identification_number': None,\n",
       "  'physical_address': None,\n",
       "  'postal_address': None,\n",
       "  'email_address': 'ALIHAMZAH@TEST.COM',\n",
       "  'telephone_1': None,\n",
       "  'telephone_2': None,\n",
       "  'fax': None,\n",
       "  'status': 'A',\n",
       "  'branch_code': 1,\n",
       "  'request_id': None,\n",
       "  'type': '13I'},\n",
       " 'agent': {'code': 0,\n",
       "  'account_type': {'account_type_code': 1,\n",
       "   'type': 'DIRECT',\n",
       "   'short_description': 'D',\n",
       "   'with_holding_tex_rate': 0,\n",
       "   'type_id': 'D',\n",
       "   'commission_reserve_rate': 0,\n",
       "   'maximum_adv_amount': None,\n",
       "   'maximum_adv_repayment_period': None,\n",
       "   'receipt_include_commission': 'N',\n",
       "   'over_ride_rate': 0,\n",
       "   'id_serial_format': '[BRN]-D[SERIALNO]',\n",
       "   'vat_rate': 0,\n",
       "   'format': 'D[SERIALNO]',\n",
       "   'odl_code': None,\n",
       "   'no_gen_code': None,\n",
       "   'lta_withholding_tax_rate': None,\n",
       "   'commission_levy_rate': None,\n",
       "   'cash_basis': None,\n",
       "   'payment_plan': None,\n",
       "   'credit_pol_appl': None},\n",
       "  'name': 'DIRECT',\n",
       "  'status': 'ACTIVE',\n",
       "  'branch': {'branch_code': 340,\n",
       "   'branch_short_description': 'LAG',\n",
       "   'region': {'region_code': 7,\n",
       "    'region_short_description': 'HO',\n",
       "    'organisation_code': 1,\n",
       "    'organisation_name': 'HEAD OFFICE',\n",
       "    'agent_code': 2023201264085},\n",
       "   'branch_name': 'HEAD OFFICE',\n",
       "   'physical_address': '324 Agege Motor Road, Challenge bus-top Mushin\\r\\n',\n",
       "   'email_address': 'info@mutualng.com',\n",
       "   'town_code': 545,\n",
       "   'county_code': 165,\n",
       "   'contact': 'HEAD OFFICE',\n",
       "   'manager': None,\n",
       "   'telephone': '01919191919',\n",
       "   'fax': None,\n",
       "   'gen_pol_clm': None,\n",
       "   'bns_code': 340,\n",
       "   'agent_code': None,\n",
       "   'post_level': 'N',\n",
       "   'manager_allowed': 'Y',\n",
       "   'override_commission_earned': 'Y',\n",
       "   'zip_code': None}},\n",
       " 'effect_to': '2024-11-28',\n",
       " 'effect_from': '2023-11-29',\n",
       " 'underwriting_year': 2023,\n",
       " 'total_sum_insured': 9000000,\n",
       " 'co_insurance_policy': 'N',\n",
       " 'status': 'NB',\n",
       " 'commission_amount': 0,\n",
       " 'commission_rate': 0,\n",
       " 'created_on': None,\n",
       " 'transaction_type': None,\n",
       " 'proposal_number': None,\n",
       " 're_insured': 'Y',\n",
       " 'basic_premium': None,\n",
       " 'net_premium': 450000,\n",
       " 'currency': {'code': 268,\n",
       "  'symbol': 'NGN',\n",
       "  'description': 'NAIRA',\n",
       "  'number_word': 'NAIRA',\n",
       "  'decimal_word': 'KOBO'},\n",
       " 'prepared_by': 'APIUSER',\n",
       " 'prepared_date': '2023-11-28',\n",
       " 'checked_by': 'APIUSER',\n",
       " 'checked_date': None,\n",
       " 'policy_type': 'N',\n",
       " 'policy_risks': [{'riskAdditionalInfo': [{'ginMotorPrivateSch_level1': {'mpsRegularDriverName': None,\n",
       "      'mpsAccesories': None,\n",
       "      'mpsDriverRelationInsured': None,\n",
       "      'mpsModel': None,\n",
       "      'mpsItemno': 1,\n",
       "      'mpsLicenceNo': None,\n",
       "      'mpsSecuritydevice2': None,\n",
       "      'mpsBodyType': None,\n",
       "      'mpsSecuritydevice1': None,\n",
       "      'mpsMake': 'KBZ 90L',\n",
       "      'mpsValue': None,\n",
       "      'mpsCoverType': 'COMPREHENSIVE',\n",
       "      'mpsDriverSmsNo': None,\n",
       "      'mpsYrManft': None,\n",
       "      'mpsTerrorismApplicable': 'N',\n",
       "      'mpsColour': None,\n",
       "      'mpsCarryCapacity': None,\n",
       "      'mpsRegNo': 'KBZ 90L',\n",
       "      'mpsEngineNo': None,\n",
       "      'mpsChasisNo': None,\n",
       "      'mpsLogbookNo': None,\n",
       "      'mpsDriverLicenceDate': None,\n",
       "      'mpsDriverEmailAddress': None,\n",
       "      'mpsCubicCapacity': None,\n",
       "      'mpsSchActive': 'Y'}},\n",
       "    {'ginMotorOthersDtlsSch_level2': {'mpoGarageCapacity': None,\n",
       "      'mpoGeographicalLimits': None,\n",
       "      'mpoAuthorisedDriver': None,\n",
       "      'mpoLimitationsUse': None,\n",
       "      'mpoDeductibleDesc': None}}],\n",
       "   'code': 2023704015,\n",
       "   'previous_batch_no': None,\n",
       "   'pol_in_code': None,\n",
       "   'property_id': 'KBZ 90L',\n",
       "   'quotation_revision_number': None,\n",
       "   'item_desc': 'KBZ 90L',\n",
       "   'value': 9000000,\n",
       "   'basic_premium': 0,\n",
       "   'net_premium': 0,\n",
       "   'effect_from': '2023-11-29',\n",
       "   'effect_to': '2024-11-28',\n",
       "   'client': {'code': 235983609,\n",
       "    'client_short_description': 'ALIH',\n",
       "    'name': 'ALI',\n",
       "    'other_names': 'HAMZAH',\n",
       "    'id_registration_number': 'A090L8089000',\n",
       "    'date_of_birth': None,\n",
       "    'tax_identification_number': None,\n",
       "    'physical_address': None,\n",
       "    'postal_address': None,\n",
       "    'email_address': 'ALIHAMZAH@TEST.COM',\n",
       "    'telephone_1': None,\n",
       "    'telephone_2': None,\n",
       "    'fax': None,\n",
       "    'status': 'A',\n",
       "    'branch_code': 1,\n",
       "    'request_id': None,\n",
       "    'type': '13I'},\n",
       "   'binder': {'code': 20207249,\n",
       "    'name': 'NO BINDER',\n",
       "    'remarks': 'SYSTEM NO BINDER',\n",
       "    'type': 'M',\n",
       "    'product': None,\n",
       "    'sub_class': {'code': 401, 'description': 'PRIVATE MOTOR'},\n",
       "    'currency': {'code': 268,\n",
       "     'symbol': 'NGN',\n",
       "     'description': 'NAIRA',\n",
       "     'number_word': 'NAIRA',\n",
       "     'decimal_word': 'KOBO'}},\n",
       "   'sub_class': {'code': 401, 'description': 'PRIVATE MOTOR'},\n",
       "   'cover_type': {'code': 302,\n",
       "    'short_description': 'COMP',\n",
       "    'description': 'COMPREHENSIVE',\n",
       "    'details': None,\n",
       "    'min_sum_insured': None,\n",
       "    'downgrade_on_sus': None,\n",
       "    'downgrade_on_sus_to': None},\n",
       "   'enforce_cvt_minimum_premium': 'Y',\n",
       "   'minimum_premium_used': 'Y',\n",
       "   'cover_days': 366,\n",
       "   'policy_risk_sections': [{'code': 20236932789,\n",
       "     'section_short_description': None,\n",
       "     'limit_amount': 9000000,\n",
       "     'premium_amount': 450000,\n",
       "     'annual_premium_amount': 450000,\n",
       "     'used_limit_amount': 9000000,\n",
       "     'minimum_premium': 450000,\n",
       "     'annual_premium': 450000,\n",
       "     'prorata_or_full': 'F',\n",
       "     'section': {'code': 3514,\n",
       "      'short_description': None,\n",
       "      'description': 'SUM INSURED'}}]}],\n",
       " 'intermediary_debit_note_no': None,\n",
       " 'co_insurance_share': None,\n",
       " 'our_share_premium': 450000,\n",
       " 'co_insurance_total_premium': 450000,\n",
       " 'debit_note_no': 'DN23028270HQ',\n",
       " 'policy_fee': None,\n",
       " 'product_code': 7275}"
      ]
     },
     "execution_count": 45,
     "metadata": {},
     "output_type": "execute_result"
    }
   ],
   "source": [
    "policy_data"
   ]
  },
  {
   "cell_type": "code",
   "execution_count": 46,
   "metadata": {
    "colab": {
     "base_uri": "https://localhost:8080/"
    },
    "id": "CBSKkEKPTwUU",
    "outputId": "2de63208-6456-4e4c-e091-b7411a93170b"
   },
   "outputs": [
    {
     "data": {
      "text/plain": [
       "7275"
      ]
     },
     "execution_count": 46,
     "metadata": {},
     "output_type": "execute_result"
    }
   ],
   "source": [
    "policy_data[\"product_code\"]"
   ]
  },
  {
   "cell_type": "code",
   "execution_count": null,
   "metadata": {
    "id": "Uy1WJk4AT9BQ"
   },
   "outputs": [],
   "source": []
  },
  {
   "cell_type": "markdown",
   "metadata": {
    "id": "X3aYWoa7UTK8"
   },
   "source": [
    "## Endorsements"
   ]
  },
  {
   "cell_type": "code",
   "execution_count": 47,
   "metadata": {
    "id": "URP5uYCHUm3W"
   },
   "outputs": [],
   "source": [
    "from tqbus_sdk.gis import endorsements"
   ]
  },
  {
   "cell_type": "code",
   "execution_count": 48,
   "metadata": {
    "id": "_qW6HV_zUzSR"
   },
   "outputs": [],
   "source": [
    "service = endorsements.EndorsementService()"
   ]
  },
  {
   "cell_type": "code",
   "execution_count": 49,
   "metadata": {
    "id": "pocter3tU8b6"
   },
   "outputs": [],
   "source": [
    "data = service.enquire_renewal(policy_no=\"PRM/01/4/01979/23\")"
   ]
  },
  {
   "cell_type": "code",
   "execution_count": 50,
   "metadata": {
    "colab": {
     "base_uri": "https://localhost:8080/"
    },
    "id": "Nzfy3rqjVDxF",
    "outputId": "d6e43730-8793-4055-86f8-f7d91c67bffb"
   },
   "outputs": [
    {
     "data": {
      "text/plain": [
       "[{'policyNo': 'PRM/01/4/01979/23',\n",
       "  'coverFrom': '28-11-2023',\n",
       "  'coverTo': '27-11-2024',\n",
       "  'renewalDate': '27-11-2024',\n",
       "  'renewable': 'Y',\n",
       "  'currency': 'NGN',\n",
       "  'product': 'PRIVATE MOTOR',\n",
       "  'sumInsured': 9000000,\n",
       "  'batchNo': 23360442,\n",
       "  'proCode': 7275,\n",
       "  'prpCode': None,\n",
       "  'clientName': 'ALI HAMZAH'}]"
      ]
     },
     "execution_count": 50,
     "metadata": {},
     "output_type": "execute_result"
    }
   ],
   "source": [
    "data"
   ]
  },
  {
   "cell_type": "code",
   "execution_count": 51,
   "metadata": {
    "id": "Me7sbZqcVE7x"
   },
   "outputs": [],
   "source": [
    "data = service.renew_policy_as_is(policy_no=\"PRM/01/4/01979/23\")"
   ]
  },
  {
   "cell_type": "code",
   "execution_count": 52,
   "metadata": {
    "colab": {
     "base_uri": "https://localhost:8080/"
    },
    "id": "jRrG34BBVQAu",
    "outputId": "e8dd9de9-e270-4366-caf8-ad7fed1727f7"
   },
   "outputs": [
    {
     "data": {
      "text/plain": [
       "{'payload': {'batch_no': 2023360443,\n",
       "  'policy_number': 'PRM/01/4/01979/23',\n",
       "  'policy_ renewal_endorsement_number': 'MB/002/2023',\n",
       "  'client': {'code': 235983609,\n",
       "   'client_short_description': 'ALIH',\n",
       "   'name': 'ALI',\n",
       "   'other_names': 'HAMZAH',\n",
       "   'id_registration_number': 'A090L8089000',\n",
       "   'date_of_birth': None,\n",
       "   'tax_identification_number': None,\n",
       "   'physical_address': None,\n",
       "   'postal_address': None,\n",
       "   'email_address': 'ALIHAMZAH@TEST.COM',\n",
       "   'telephone_1': None,\n",
       "   'telephone_2': None,\n",
       "   'fax': None,\n",
       "   'status': 'A',\n",
       "   'branch_code': 1,\n",
       "   'request_id': None,\n",
       "   'type': '13I'},\n",
       "  'agent': {'code': 0,\n",
       "   'account_type': {'account_type_code': 1,\n",
       "    'type': 'DIRECT',\n",
       "    'short_description': 'D',\n",
       "    'with_holding_tex_rate': 0,\n",
       "    'type_id': 'D',\n",
       "    'commission_reserve_rate': 0,\n",
       "    'maximum_adv_amount': None,\n",
       "    'maximum_adv_repayment_period': None,\n",
       "    'receipt_include_commission': 'N',\n",
       "    'over_ride_rate': 0,\n",
       "    'id_serial_format': '[BRN]-D[SERIALNO]',\n",
       "    'vat_rate': 0,\n",
       "    'format': 'D[SERIALNO]',\n",
       "    'odl_code': None,\n",
       "    'no_gen_code': None,\n",
       "    'lta_withholding_tax_rate': None,\n",
       "    'commission_levy_rate': None,\n",
       "    'cash_basis': None,\n",
       "    'payment_plan': None,\n",
       "    'credit_pol_appl': None},\n",
       "   'name': 'DIRECT',\n",
       "   'status': 'ACTIVE',\n",
       "   'branch': {'branch_code': 340,\n",
       "    'branch_short_description': 'LAG',\n",
       "    'region': {'region_code': 7,\n",
       "     'region_short_description': 'HO',\n",
       "     'organisation_code': 1,\n",
       "     'organisation_name': 'HEAD OFFICE',\n",
       "     'agent_code': 2023201264085},\n",
       "    'branch_name': 'HEAD OFFICE',\n",
       "    'physical_address': '324 Agege Motor Road, Challenge bus-top Mushin\\r\\n',\n",
       "    'email_address': 'info@mutualng.com',\n",
       "    'town_code': 545,\n",
       "    'county_code': 165,\n",
       "    'contact': 'HEAD OFFICE',\n",
       "    'manager': None,\n",
       "    'telephone': '01919191919',\n",
       "    'fax': None,\n",
       "    'gen_pol_clm': None,\n",
       "    'bns_code': 340,\n",
       "    'agent_code': None,\n",
       "    'post_level': 'N',\n",
       "    'manager_allowed': 'Y',\n",
       "    'override_commission_earned': 'Y',\n",
       "    'zip_code': None}},\n",
       "  'effect_to': '2025-11-28',\n",
       "  'effect_from': '2024-11-28',\n",
       "  'underwriting_year': 2024,\n",
       "  'total_sum_insured': 9000000,\n",
       "  'co_insurance_policy': 'N',\n",
       "  'status': 'RN',\n",
       "  'commission_amount': 0,\n",
       "  'commission_rate': 0,\n",
       "  'created_on': None,\n",
       "  'transaction_type': None,\n",
       "  'proposal_number': None,\n",
       "  're_insured': 'N',\n",
       "  'basic_premium': None,\n",
       "  'net_premium': 450000,\n",
       "  'currency': {'code': 268,\n",
       "   'symbol': 'NGN',\n",
       "   'description': 'NAIRA',\n",
       "   'number_word': 'NAIRA',\n",
       "   'decimal_word': 'KOBO'},\n",
       "  'prepared_by': 'APIUSER',\n",
       "  'prepared_date': '2023-11-28',\n",
       "  'checked_by': None,\n",
       "  'checked_date': None,\n",
       "  'policy_type': 'N',\n",
       "  'policy_risks': [{'riskAdditionalInfo': None,\n",
       "    'code': 2023704017,\n",
       "    'previous_batch_no': None,\n",
       "    'pol_in_code': None,\n",
       "    'property_id': 'KBZ 90L',\n",
       "    'quotation_revision_number': None,\n",
       "    'item_desc': 'KBZ 90L',\n",
       "    'value': 9000000,\n",
       "    'basic_premium': 0,\n",
       "    'net_premium': 0,\n",
       "    'effect_from': '2024-11-28',\n",
       "    'effect_to': '2025-11-28',\n",
       "    'client': {'code': 235983609,\n",
       "     'client_short_description': 'ALIH',\n",
       "     'name': 'ALI',\n",
       "     'other_names': 'HAMZAH',\n",
       "     'id_registration_number': 'A090L8089000',\n",
       "     'date_of_birth': None,\n",
       "     'tax_identification_number': None,\n",
       "     'physical_address': None,\n",
       "     'postal_address': None,\n",
       "     'email_address': 'ALIHAMZAH@TEST.COM',\n",
       "     'telephone_1': None,\n",
       "     'telephone_2': None,\n",
       "     'fax': None,\n",
       "     'status': 'A',\n",
       "     'branch_code': 1,\n",
       "     'request_id': None,\n",
       "     'type': '13I'},\n",
       "    'binder': {'code': 20207249,\n",
       "     'name': 'NO BINDER',\n",
       "     'remarks': 'SYSTEM NO BINDER',\n",
       "     'type': 'M',\n",
       "     'product': None,\n",
       "     'sub_class': {'code': 401, 'description': 'PRIVATE MOTOR'},\n",
       "     'currency': {'code': 268,\n",
       "      'symbol': 'NGN',\n",
       "      'description': 'NAIRA',\n",
       "      'number_word': 'NAIRA',\n",
       "      'decimal_word': 'KOBO'}},\n",
       "    'sub_class': {'code': 401, 'description': 'PRIVATE MOTOR'},\n",
       "    'cover_type': {'code': 302,\n",
       "     'short_description': 'COMP',\n",
       "     'description': 'COMPREHENSIVE',\n",
       "     'details': None,\n",
       "     'min_sum_insured': None,\n",
       "     'downgrade_on_sus': None,\n",
       "     'downgrade_on_sus_to': None},\n",
       "    'enforce_cvt_minimum_premium': 'Y',\n",
       "    'minimum_premium_used': 'N',\n",
       "    'cover_days': 366,\n",
       "    'policy_risk_sections': [{'code': 20236932791,\n",
       "      'section_short_description': None,\n",
       "      'limit_amount': 9000000,\n",
       "      'premium_amount': 450000,\n",
       "      'annual_premium_amount': 450000,\n",
       "      'used_limit_amount': 9000000,\n",
       "      'minimum_premium': 450000,\n",
       "      'annual_premium': 450000,\n",
       "      'prorata_or_full': 'F',\n",
       "      'section': {'code': 3514,\n",
       "       'short_description': None,\n",
       "       'description': 'SUM INSURED'}}]}],\n",
       "  'intermediary_debit_note_no': None,\n",
       "  'co_insurance_share': None,\n",
       "  'our_share_premium': 0,\n",
       "  'co_insurance_total_premium': 0,\n",
       "  'debit_note_no': None,\n",
       "  'policy_fee': None,\n",
       "  'product_code': 7275},\n",
       " 'message': 'Success',\n",
       " 'status': '1'}"
      ]
     },
     "execution_count": 52,
     "metadata": {},
     "output_type": "execute_result"
    }
   ],
   "source": [
    "data"
   ]
  },
  {
   "cell_type": "code",
   "execution_count": 4,
   "metadata": {
    "ExecuteTime": {
     "end_time": "2024-07-09T16:08:28.665203Z",
     "start_time": "2024-07-09T16:08:28.528650Z"
    },
    "id": "QJfeWR9qVReO"
   },
   "outputs": [],
   "source": [
    "from tqbus_sdk.banca.generics import GenericBancaService\n",
    "\n",
    "banca = GenericBancaService()"
   ]
  },
  {
   "cell_type": "code",
   "execution_count": 11,
   "metadata": {
    "ExecuteTime": {
     "end_time": "2024-07-09T16:13:26.210856Z",
     "start_time": "2024-07-09T16:13:25.977348Z"
    }
   },
   "outputs": [
    {
     "data": {
      "text/plain": [
       "'[{\"prod_code\": 4178, \"desc\": \"Motor commercial\"}, {\"prod_code\": 4202, \"desc\": \"Rmf\"}, {\"prod_code\": 4224, \"desc\": \"Aquaculture\"}, {\"prod_code\": 4225, \"desc\": \"Horse insurance\"}, {\"prod_code\": 4324, \"desc\": \"Cyber crime\"}, {\"prod_code\": 4342, \"desc\": \"Afya tele\"}, {\"prod_code\": 3850, \"desc\": \"Students pa\"}, {\"prod_code\": 3891, \"desc\": \"Mavuno micro\"}, {\"prod_code\": 3931, \"desc\": \"Bankers blanket bond\"}, {\"prod_code\": 3954, \"desc\": \"Warehousing custom bond\"}, {\"prod_code\": 3956, \"desc\": \"Imigration bond\"}, {\"prod_code\": 4030, \"desc\": \"Poultry insurance\"}, {\"prod_code\": 4322, \"desc\": \"Fidelity armour\"}, {\"prod_code\": 3871, \"desc\": \"Wiba/gpa\"}, {\"prod_code\": 3971, \"desc\": \"Aviation insurance\"}, {\"prod_code\": 3973, \"desc\": \"Keyman assurance\"}, {\"prod_code\": 4010, \"desc\": \"Mk micro\"}, {\"prod_code\": 4071, \"desc\": \"Cub insurance\"}, {\"prod_code\": 4113, \"desc\": \"Plant all risks\"}, {\"prod_code\": 11, \"desc\": \"Micro business combined\"}, {\"prod_code\": 4150, \"desc\": \"Agency business combined\"}, {\"prod_code\": 20, \"desc\": \"Advance payment bond\"}, {\"prod_code\": 45, \"desc\": \"Stock floater\"}, {\"prod_code\": 13, \"desc\": \"Plate glass\"}, {\"prod_code\": 52, \"desc\": \"Carriers liability\"}, {\"prod_code\": 56, \"desc\": \"Marine cargo sea\"}, {\"prod_code\": 4381, \"desc\": \"Staff motor private\"}, {\"prod_code\": 4402, \"desc\": \"Teachers pa\"}, {\"prod_code\": 4441, \"desc\": \"Assets all risks\"}, {\"prod_code\": 4482, \"desc\": \"Simba junior\"}, {\"prod_code\": 4483, \"desc\": \"Simba senior\"}, {\"prod_code\": 4422, \"desc\": \"Credit/debit card insurance\"}, {\"prod_code\": 4504, \"desc\": \"Critical illness\"}, {\"prod_code\": 4542, \"desc\": \"Kcb staff medical enhanced\"}, {\"prod_code\": 4601, \"desc\": \"Debit card insurance\"}, {\"prod_code\": 4603, \"desc\": \"Credit card insurance\"}, {\"prod_code\": 4501, \"desc\": \"Product test\"}, {\"prod_code\": 4521, \"desc\": \"Brokeoutmotor\"}, {\"prod_code\": 4562, \"desc\": \"Clara motor private\"}, {\"prod_code\": 27, \"desc\": \"Green house insurance\"}, {\"prod_code\": 33, \"desc\": \"Pension administration\"}, {\"prod_code\": 39, \"desc\": \"Contractors plant & machinery\"}, {\"prod_code\": 3771, \"desc\": \"Institutional vehicles\"}, {\"prod_code\": 66, \"desc\": \"Psv self drive\"}, {\"prod_code\": 72, \"desc\": \"Psv taxi\"}, {\"prod_code\": 4641, \"desc\": \"Faith motor private\"}, {\"prod_code\": 4643, \"desc\": \"Faith motor commercial\"}, {\"prod_code\": 4541, \"desc\": \"Drought insurance\"}, {\"prod_code\": 4621, \"desc\": \"Private\"}, {\"prod_code\": 3773, \"desc\": \"Own goods pickup\"}, {\"prod_code\": 3774, \"desc\": \"General cartage pickup\"}, {\"prod_code\": 3775, \"desc\": \"General cartage\"}, {\"prod_code\": 3776, \"desc\": \"Own goods\"}, {\"prod_code\": 1, \"desc\": \"Money\"}, {\"prod_code\": 2, \"desc\": \"Burglary\"}, {\"prod_code\": 3, \"desc\": \"Fidelity guarantee\"}, {\"prod_code\": 4, \"desc\": \"All risks\"}, {\"prod_code\": 5, \"desc\": \"Work injury benefits act\"}, {\"prod_code\": 6, \"desc\": \"Micro healthcare\"}, {\"prod_code\": 7, \"desc\": \"Simba health\"}, {\"prod_code\": 8, \"desc\": \"Staff medical\"}, {\"prod_code\": 9, \"desc\": \"Medical \"}, {\"prod_code\": 10, \"desc\": \"Smes business combined-gb\"}, {\"prod_code\": 12, \"desc\": \"Business combined\"}, {\"prod_code\": 14, \"desc\": \"Political violence & terrorism\"}, {\"prod_code\": 15, \"desc\": \"Travel\"}, {\"prod_code\": 16, \"desc\": \"Tender/bid bond\"}, {\"prod_code\": 17, \"desc\": \"Security/immigration bond\"}, {\"prod_code\": 18, \"desc\": \"Custom bond\"}, {\"prod_code\": 19, \"desc\": \"Performance bond\"}, {\"prod_code\": 21, \"desc\": \"Kidnap & ransom\"}, {\"prod_code\": 22, \"desc\": \"Livestock insurance\"}, {\"prod_code\": 23, \"desc\": \"Index based livestock insurance\"}, {\"prod_code\": 24, \"desc\": \"Pets insurance\"}, {\"prod_code\": 25, \"desc\": \"Crop insurance\"}, {\"prod_code\": 26, \"desc\": \"Index based crop insurance\"}, {\"prod_code\": 28, \"desc\": \"Mortgage protection insurance\"}, {\"prod_code\": 29, \"desc\": \"Group life assurance\"}, {\"prod_code\": 30, \"desc\": \"Education insurance\"}, {\"prod_code\": 31, \"desc\": \"Last expense\"}, {\"prod_code\": 32, \"desc\": \"Individual pension\"}, {\"prod_code\": 35, \"desc\": \"Electronic equipment\"}, {\"prod_code\": 36, \"desc\": \"Machinery breakdown\"}, {\"prod_code\": 37, \"desc\": \"Machinery consequential loss\"}, {\"prod_code\": 38, \"desc\": \"Erection all risks\"}, {\"prod_code\": 40, \"desc\": \"Domestic package\"}, {\"prod_code\": 41, \"desc\": \"Hoci-domestic\"}, {\"prod_code\": 42, \"desc\": \"Fire and perils\"}, {\"prod_code\": 43, \"desc\": \"Industrial all risks\"}, {\"prod_code\": 44, \"desc\": \"Fire consequential loss\"}, {\"prod_code\": 46, \"desc\": \"Hoci-commercial\"}, {\"prod_code\": 47, \"desc\": \"Phone\"}, {\"prod_code\": 48, \"desc\": \"Professional indemnity\"}, {\"prod_code\": 49, \"desc\": \"Employers liability\"}, {\"prod_code\": 50, \"desc\": \"Products liability\"}, {\"prod_code\": 51, \"desc\": \"Contractual liability\"}, {\"prod_code\": 53, \"desc\": \"Directors & officers liability\"}, {\"prod_code\": 54, \"desc\": \"Pension trustees liability\"}, {\"prod_code\": 55, \"desc\": \"Contaminated products\"}, {\"prod_code\": 57, \"desc\": \"Marine cargo air\"}, {\"prod_code\": 58, \"desc\": \"Marine open cover\"}, {\"prod_code\": 59, \"desc\": \"Marine hull\"}, {\"prod_code\": 60, \"desc\": \"Goods in transit - all risks\"}, {\"prod_code\": 61, \"desc\": \"Motor private\"}, {\"prod_code\": 62, \"desc\": \"Private motor cycle\"}, {\"prod_code\": 63, \"desc\": \"Motor commercial own goods\"}, {\"prod_code\": 64, \"desc\": \"Motor commercial agric. vehicles\"}, {\"prod_code\": 65, \"desc\": \"Motor trade\"}, {\"prod_code\": 67, \"desc\": \"Psv chauffeur driven\"}, {\"prod_code\": 68, \"desc\": \"Petroleum tankers\"}, {\"prod_code\": 69, \"desc\": \"Petroleum tankers\"}, {\"prod_code\": 70, \"desc\": \"Motor commercial general cartage\"}, {\"prod_code\": 71, \"desc\": \"Psv motor cycles\"}, {\"prod_code\": 73, \"desc\": \"Psv matatus/buses\"}, {\"prod_code\": 74, \"desc\": \"Motor commercial special vehicles\"}, {\"prod_code\": 75, \"desc\": \"Tri-cycle (tuk tuk)\"}, {\"prod_code\": 76, \"desc\": \"Psv motor asset\"}, {\"prod_code\": 77, \"desc\": \"Personal accident\"}, {\"prod_code\": 78, \"desc\": \"Group personal accident\"}, {\"prod_code\": 3950, \"desc\": \"Golfers\"}, {\"prod_code\": 34, \"desc\": \"Contractors all risks\"}, {\"prod_code\": 3990, \"desc\": \"Simba afya\"}, {\"prod_code\": 4090, \"desc\": \"Domestic package(staff mortgages)\"}, {\"prod_code\": 4094, \"desc\": \"Sme unsecured\"}, {\"prod_code\": 4117, \"desc\": \"Credit life\"}, {\"prod_code\": 4137, \"desc\": \"Diaspora travel\"}, {\"prod_code\": 4139, \"desc\": \"General business combined\"}]'"
      ]
     },
     "execution_count": 11,
     "metadata": {},
     "output_type": "execute_result"
    }
   ],
   "source": [
    "products = banca.request(\"GET\", \"api/v2/setups/products\")\n",
    "data = [{\"prod_code\": p[\"proCode\"], \"desc\": p[\"proDesc\"]} for p in products]\n",
    "import json\n",
    "\n",
    "json.dumps(data)\n",
    "# service.system"
   ]
  },
  {
   "cell_type": "code",
   "execution_count": 12,
   "metadata": {
    "ExecuteTime": {
     "end_time": "2024-07-09T16:13:45.571877Z",
     "start_time": "2024-07-09T16:13:45.422620Z"
    }
   },
   "outputs": [
    {
     "data": {
      "text/plain": [
       "'[{\"agent_code\": 914, \"name\": \"AAR INSURANCE KENYA LTD\"}, {\"agent_code\": 0, \"name\": \"DIRECT\"}, {\"agent_code\": 913, \"name\": \"JUBILEE INS. CO. OF KENYA LTD\"}, {\"agent_code\": 917, \"name\": \"HERITAGE INSURANCE COMPANY LTD\"}, {\"agent_code\": 918, \"name\": \"KENINDIA ASSURANCE COMPANY\"}, {\"agent_code\": 919, \"name\": \"MADISON INSURANCE COMPANY LTD\"}, {\"agent_code\": 1, \"name\": \"AFRICAN MERCHANT ASSURANCE LTD\"}, {\"agent_code\": 2, \"name\": \"AIG KENYA INSURANCE CO.LTD\"}, {\"agent_code\": 3, \"name\": \"APA INSURANCE COMPANY LTD\"}, {\"agent_code\": 4, \"name\": \"BRITISH AMERICAN INSURANCE COMPANY LTD\"}]'"
      ]
     },
     "execution_count": 12,
     "metadata": {},
     "output_type": "execute_result"
    }
   ],
   "source": [
    "insurers = banca.request(\"GET\", \"api/v2/agencies\")\n",
    "data = [{\"agent_code\": i[\"code\"], \"name\": i[\"name\"]} for i in insurers]\n",
    "json.dumps(data)"
   ]
  },
  {
   "cell_type": "code",
   "execution_count": 13,
   "metadata": {
    "ExecuteTime": {
     "end_time": "2024-07-09T16:56:07.981309Z",
     "start_time": "2024-07-09T16:56:06.641061Z"
    }
   },
   "outputs": [
    {
     "data": {
      "text/plain": [
       "{'subclasses': [{'subclassCode': 820, 'mandatory': 'N'}],\n",
       " 'binders': [{'bindCode': 11326,\n",
       "   'bindAgntAgentCode': 0,\n",
       "   'bindRemarks': 'SYSTEM NO BINDER'},\n",
       "  {'bindCode': 20163402,\n",
       "   'bindAgntAgentCode': 1,\n",
       "   'bindRemarks': 'AMACO MCOM OPN_MKT'},\n",
       "  {'bindCode': 20163403,\n",
       "   'bindAgntAgentCode': 22,\n",
       "   'bindRemarks': 'KENYAN ALL MCOM OPN_MKT'},\n",
       "  {'bindCode': 20163404,\n",
       "   'bindAgntAgentCode': 11,\n",
       "   'bindRemarks': 'FIDELITY MCOM OPN_MKT'},\n",
       "  {'bindCode': 20163405,\n",
       "   'bindAgntAgentCode': 12,\n",
       "   'bindRemarks': 'FIRST_AS MCOM OPN_MKT'},\n",
       "  {'bindCode': 20163406,\n",
       "   'bindAgntAgentCode': 913,\n",
       "   'bindRemarks': 'JUBILEE MCOM OPN_MKT'},\n",
       "  {'bindCode': 20194400,\n",
       "   'bindAgntAgentCode': 917,\n",
       "   'bindRemarks': 'HERITAGE M_COM OPN_MKT'},\n",
       "  {'bindCode': 201611391, 'bindAgntAgentCode': 919, 'bindRemarks': None},\n",
       "  {'bindCode': 20173518,\n",
       "   'bindAgntAgentCode': 40,\n",
       "   'bindRemarks': 'UAP M_COM OPN_MKT'},\n",
       "  {'bindCode': 20184140,\n",
       "   'bindAgntAgentCode': 13,\n",
       "   'bindRemarks': 'GA INSURANCE OPN MKT'},\n",
       "  {'bindCode': 20194463,\n",
       "   'bindAgntAgentCode': 15,\n",
       "   'bindRemarks': 'GEMINIA MCOM OM'},\n",
       "  {'bindCode': 20194464,\n",
       "   'bindAgntAgentCode': 27,\n",
       "   'bindRemarks': 'OCCIDENTAL MCOM OM'},\n",
       "  {'bindCode': 20194564,\n",
       "   'bindAgntAgentCode': 3,\n",
       "   'bindRemarks': 'APA MOTOR_COMM_OPN_MKT'},\n",
       "  {'bindCode': 20184260,\n",
       "   'bindAgntAgentCode': 4,\n",
       "   'bindRemarks': 'BRITAM MCOM OM'},\n",
       "  {'bindCode': 20173778,\n",
       "   'bindAgntAgentCode': 36,\n",
       "   'bindRemarks': 'TAKAFUL MCV OPN_MKT'},\n",
       "  {'bindCode': 20194484,\n",
       "   'bindAgntAgentCode': 9,\n",
       "   'bindRemarks': 'CORPORATE MCOM OM'},\n",
       "  {'bindCode': 20163401,\n",
       "   'bindAgntAgentCode': 2,\n",
       "   'bindRemarks': 'AIG MCOM OPN_MKT'},\n",
       "  {'bindCode': 12513,\n",
       "   'bindAgntAgentCode': 0,\n",
       "   'bindRemarks': 'SYSTEM NO BINDER'},\n",
       "  {'bindCode': 20194744,\n",
       "   'bindAgntAgentCode': 927,\n",
       "   'bindRemarks': 'SAN MOTOR COMM_OPN_MKT'},\n",
       "  {'bindCode': 20163407,\n",
       "   'bindAgntAgentCode': 7,\n",
       "   'bindRemarks': 'CIC MCOM OPN_MKT'},\n",
       "  {'bindCode': 20183979,\n",
       "   'bindAgntAgentCode': 23,\n",
       "   'bindRemarks': 'Mayfair M_COM OPN_MKT'},\n",
       "  {'bindCode': 20194505,\n",
       "   'bindAgntAgentCode': 43,\n",
       "   'bindRemarks': 'ALLIANZ MCOM OM'},\n",
       "  {'bindCode': 20205103,\n",
       "   'bindAgntAgentCode': 919,\n",
       "   'bindRemarks': 'ICEALION M_COM '},\n",
       "  {'bindCode': 20205104,\n",
       "   'bindAgntAgentCode': 16,\n",
       "   'bindRemarks': 'ICEALION M_COM OPN_MKT'},\n",
       "  {'bindCode': 20204924,\n",
       "   'bindAgntAgentCode': 918,\n",
       "   'bindRemarks': 'KENINDIA M_COMM_OPN MKT'},\n",
       "  {'bindCode': 20235444,\n",
       "   'bindAgntAgentCode': 2,\n",
       "   'bindRemarks': 'AIG_BBK_COMMERCIAL_COMPREHENSIVE'}]}"
      ]
     },
     "execution_count": 13,
     "metadata": {},
     "output_type": "execute_result"
    }
   ],
   "source": [
    "data = banca.request(\"GET\", \"api/v2/setups/products/4178/setups\")\n",
    "subclasses = [{\"subclassCode\": s[\"subclassCode\"], \"mandatory\": s[\"mandatory\"]} for s in data[\"productSubClass\"]]\n",
    "binders = [\n",
    "    {\"bindCode\": b[\"bindCode\"], \"bindAgntAgentCode\": b[\"bindAgntAgentCode\"], \"bindRemarks\": b[\"bindRemarks\"]} for b in data[\"binder\"]\n",
    "]\n",
    "{\"subclasses\": subclasses, \"binders\": binders}"
   ]
  },
  {
   "cell_type": "code",
   "execution_count": 15,
   "metadata": {
    "ExecuteTime": {
     "end_time": "2024-07-09T16:59:50.362703Z",
     "start_time": "2024-07-09T16:59:48.799659Z"
    }
   },
   "outputs": [
    {
     "data": {
      "text/plain": [
       "[{'cover_code': 93, 'desc': 'Comprehensive'},\n",
       " {'cover_code': 96, 'desc': 'Third party fire & theft'},\n",
       " {'cover_code': 94, 'desc': 'Third party only'}]"
      ]
     },
     "execution_count": 15,
     "metadata": {},
     "output_type": "execute_result"
    }
   ],
   "source": [
    "data = banca.request(\"GET\", \"api/setups/fetchCoverTypes?sclCode=820\")\n",
    "[{\"cover_code\": c[\"code\"], \"desc\": c[\"desc\"]} for c in data]"
   ]
  },
  {
   "cell_type": "code",
   "execution_count": 20,
   "metadata": {
    "ExecuteTime": {
     "end_time": "2024-07-09T17:23:26.608547Z",
     "start_time": "2024-07-09T17:23:26.470792Z"
    }
   },
   "outputs": [
    {
     "data": {
      "text/plain": [
       "[{'sectionCode': 2, 'desc': 'AA MEMBERSHIP'},\n",
       " {'sectionCode': 5314, 'desc': 'ACCIDENTAL DEATH-DEATH RIDER'},\n",
       " {'sectionCode': 29, 'desc': 'EXCESS PROTECTOR'},\n",
       " {'sectionCode': 1642, 'desc': 'BASIC PREMIUM 6 MONTHS'},\n",
       " {'sectionCode': 60, 'desc': 'COMESA'},\n",
       " {'sectionCode': 144, 'desc': 'COMESA MEDICAL EXPENSES'},\n",
       " {'sectionCode': 73, 'desc': 'DISCOUNT'},\n",
       " {'sectionCode': 175, 'desc': 'ENTERTAINMENT SYSTEM'},\n",
       " {'sectionCode': 5029, 'desc': 'INFAMA MEMBERSHIP'},\n",
       " {'sectionCode': 1741, 'desc': 'PREMIUM LOADING'},\n",
       " {'sectionCode': 132, 'desc': 'Loss of Use/Courtesy Car'},\n",
       " {'sectionCode': 149, 'desc': '10% OCCUPATIONAL'},\n",
       " {'sectionCode': 5310, 'desc': 'New Section'},\n",
       " {'sectionCode': 158, 'desc': 'PERSONAL ACCIDENT'},\n",
       " {'sectionCode': 164, 'desc': 'PASSENGER LEGAL LIABILITY'},\n",
       " {'sectionCode': 1621, 'desc': 'POLITICAL VIOLENCE & TERRORISM'},\n",
       " {'sectionCode': 5324, 'desc': 'SANLAM ASSIST'},\n",
       " {'sectionCode': 53, 'desc': 'SECTION LIMIT'},\n",
       " {'sectionCode': 211, 'desc': 'THIRD PARTY ONLY'},\n",
       " {'sectionCode': 212, 'desc': 'THIRD PARTY FIRE & THEFT'},\n",
       " {'sectionCode': 219, 'desc': 'VALUE OF VEHICLE'},\n",
       " {'sectionCode': 224, 'desc': 'WINDSCREEN/WINDOW GLASSES'}]"
      ]
     },
     "execution_count": 20,
     "metadata": {},
     "output_type": "execute_result"
    }
   ],
   "source": [
    "data = banca.request(\"GET\", f\"api/v1/subclass-section?subClassCode={700}&coverTypeCode={93}\")\n",
    "[{\"sectionCode\": c[\"sectionCode\"], \"desc\": c[\"description\"]} for c in data.get(\"data\", [])]"
   ]
  },
  {
   "cell_type": "code",
   "execution_count": 21,
   "metadata": {
    "ExecuteTime": {
     "end_time": "2024-07-09T18:00:32.935704Z",
     "start_time": "2024-07-09T18:00:32.920705Z"
    }
   },
   "outputs": [
    {
     "data": {
      "text/plain": [
       "'[{\"prod_code\": 4178, \"desc\": \"Motor commercial\"}, {\"prod_code\": 40, \"desc\": \"Domestic package\"}, {\"prod_code\": 61, \"desc\": \"Motor private\"}, {\"prod_code\": 73, \"desc\": \"Psv matatus/buses\"}]'"
      ]
     },
     "execution_count": 21,
     "metadata": {},
     "output_type": "execute_result"
    }
   ],
   "source": [
    "data = [\n",
    "    {\"prod_code\": 4178, \"desc\": \"Motor commercial\"},\n",
    "    {\"prod_code\": 40, \"desc\": \"Domestic package\"},\n",
    "    {\"prod_code\": 61, \"desc\": \"Motor private\"},\n",
    "    {\"prod_code\": 73, \"desc\": \"Psv matatus/buses\"},\n",
    "]\n",
    "json.dumps(data)"
   ]
  },
  {
   "cell_type": "code",
   "execution_count": 25,
   "metadata": {
    "ExecuteTime": {
     "end_time": "2024-07-09T18:21:46.001135Z",
     "start_time": "2024-07-09T18:21:45.984435Z"
    }
   },
   "outputs": [
    {
     "data": {
      "text/plain": [
       "False"
      ]
     },
     "execution_count": 25,
     "metadata": {},
     "output_type": "execute_result"
    }
   ],
   "source": [
    "PRODUCTS_RISKS_DEFAULTS = {\n",
    "    4178: {\n",
    "        \"productName\": \"Motor commercial\",\n",
    "        \"subclassCode\": 820,\n",
    "        \"coverTypeCode\": 93,\n",
    "        \"coverTypeDesc\": \"Comprehensive\",\n",
    "        \"riskSection\": {\"sectionCode\": 219, \"sectionDesc\": \"VALUE OF VEHICLE\"},\n",
    "    },\n",
    "    40: {\n",
    "        \"productName\": \"Domestic package\",\n",
    "        \"subclassCode\": 300,\n",
    "        \"coverTypeCode\": 95,\n",
    "        \"coverTypeDesc\": \"Standard\",\n",
    "        \"riskSection\": {\"sectionCode\": 10, \"sectionDesc\": \"ALL RISKS\"},\n",
    "    },\n",
    "    61: {\n",
    "        \"productName\": \"Motor private\",\n",
    "        \"subclassCode\": 700,\n",
    "        \"coverTypeCode\": 93,\n",
    "        \"coverTypeDesc\": \"Comprehensive\",\n",
    "        \"riskSection\": {\"sectionCode\": 219, \"sectionDesc\": \"VALUE OF VEHICLE\"},\n",
    "    },\n",
    "    73: {\n",
    "        \"productName\": \"Psv matatus/buses\",\n",
    "        \"subclassCode\": 810,\n",
    "        \"coverTypeCode\": 96,\n",
    "        \"coverTypeDesc\": \"Third party fire & theft\",\n",
    "        \"riskSection\": {\"sectionCode\": 219, \"sectionDesc\": \"VALUE OF VEHICLE\"},\n",
    "    },\n",
    "}\n",
    "\"73\" in PRODUCTS_RISKS_DEFAULTS"
   ]
  },
  {
   "cell_type": "code",
   "execution_count": 30,
   "metadata": {
    "ExecuteTime": {
     "end_time": "2024-07-09T18:45:43.786309Z",
     "start_time": "2024-07-09T18:45:43.776061Z"
    }
   },
   "outputs": [
    {
     "data": {
      "text/plain": [
       "datetime.datetime(2025, 7, 9, 21, 45, 43, 780277)"
      ]
     },
     "execution_count": 30,
     "metadata": {},
     "output_type": "execute_result"
    }
   ],
   "source": [
    "import datetime\n",
    "\n",
    "wefDate = datetime.datetime.now()\n",
    "wetDate = wefDate.replace(year=wefDate.year + 1)"
   ]
  },
  {
   "cell_type": "code",
   "execution_count": 35,
   "metadata": {
    "ExecuteTime": {
     "end_time": "2024-07-09T19:03:53.914982Z",
     "start_time": "2024-07-09T19:03:53.907834Z"
    }
   },
   "outputs": [
    {
     "data": {
      "text/plain": [
       "'AIG Ke.'"
      ]
     },
     "execution_count": 35,
     "metadata": {},
     "output_type": "execute_result"
    }
   ],
   "source": [
    "name = \"AIG Ke\"\n",
    "name[:15] + \".\""
   ]
  },
  {
   "cell_type": "code",
   "execution_count": null,
   "metadata": {},
   "outputs": [],
   "source": [
    "from tqbus_sdk import Client, ClientConfig, TqSystemEnums\n",
    "\n",
    "\n",
    "\n",
    "client = Client()\n",
    "\n",
    "## with configs\n",
    "client2 = Client(config={\n",
    "    TqSystemEnums.GIS: {\n",
    "        \"base_url\": \"https://.../gis-apis/\",\n",
    "        \"username\": \"mutual\",\n",
    "        \"password\": \"mutual123\",\n",
    "    }\n",
    "})\n"
   ]
  },
  {
   "cell_type": "code",
   "execution_count": 11,
   "metadata": {},
   "outputs": [
    {
     "data": {
      "text/plain": [
       "[Country(code=14, short_description='ZAMBIA', name='ZAMBIA', nationality='ZAMBIAN', zip_code=None, mobile_prefix=None, currency_serial=None),\n",
       " Country(code=15, short_description='ZANZ', name='ZANZIBAR', nationality='ZANZIBARI', zip_code=None, mobile_prefix=None, currency_serial=None),\n",
       " Country(code=4, short_description='KE', name='KENYA', nationality='KENYAN', zip_code=254, mobile_prefix=None, currency_serial=None),\n",
       " Country(code=5, short_description='UG', name='UGANDA', nationality='UGANDAN', zip_code=None, mobile_prefix=None, currency_serial=None),\n",
       " Country(code=6, short_description='GBR', name='GREAT BITAIN', nationality='BRITON', zip_code=None, mobile_prefix=None, currency_serial=None),\n",
       " Country(code=7, short_description='TZ', name='TANZANIA', nationality='TANZANIAN', zip_code=None, mobile_prefix=None, currency_serial=None),\n",
       " Country(code=9, short_description='SA', name='REPUBLIC OF SOUTH AFRICA', nationality='SOUTH AFRICAN', zip_code=None, mobile_prefix=None, currency_serial=None),\n",
       " Country(code=12, short_description='BIL', name='BELGIUM', nationality='BELGIAN', zip_code=None, mobile_prefix=None, currency_serial=None),\n",
       " Country(code=13, short_description='CAR', name='CENTRAL AFRICA REPUBLIC', nationality='AFRICANS', zip_code=None, mobile_prefix=None, currency_serial=None),\n",
       " Country(code=26, short_description='AD', name='ANDORRA', nationality='ANDORRAN', zip_code=None, mobile_prefix=None, currency_serial=None),\n",
       " Country(code=27, short_description='AE', name='UNITED ARAB EMIRATES', nationality='UNITED ARAB EMIRATES', zip_code=None, mobile_prefix=None, currency_serial=None),\n",
       " Country(code=28, short_description='AF', name='AFGHANISTAN', nationality='AFGHAN', zip_code=237, mobile_prefix=None, currency_serial=None),\n",
       " Country(code=29, short_description='AG', name='ANTIGUA ', nationality='ANTIGUA ', zip_code=None, mobile_prefix=None, currency_serial=None),\n",
       " Country(code=30, short_description='AI', name='ANGUILLA', nationality='ANGUILLA', zip_code=None, mobile_prefix=None, currency_serial=None),\n",
       " Country(code=31, short_description='AL', name='ALBANIA', nationality='ALBANIAN', zip_code=None, mobile_prefix=None, currency_serial=None),\n",
       " Country(code=32, short_description='AM', name='ARMENIA', nationality='ARMENIAN', zip_code=4, mobile_prefix=None, currency_serial=None),\n",
       " Country(code=33, short_description='AN', name='NETHERLANDS ANTILLES', nationality='NETHERLANDS ANTILLES', zip_code=None, mobile_prefix=None, currency_serial=None),\n",
       " Country(code=34, short_description='AO', name='ANGOLA', nationality='ANGOLAN', zip_code=None, mobile_prefix=None, currency_serial=None),\n",
       " Country(code=35, short_description='AQ', name='ANTARCTICA', nationality='ANTARCTICA', zip_code=None, mobile_prefix=None, currency_serial=None),\n",
       " Country(code=36, short_description='AS', name='AMERICAN SAMOA', nationality='AMERICAN SAMOA', zip_code=None, mobile_prefix=None, currency_serial=None),\n",
       " Country(code=38, short_description='AU', name='AUSTRALIA', nationality='AUSTRALIAN', zip_code=None, mobile_prefix=None, currency_serial=None),\n",
       " Country(code=39, short_description='AW', name='ARUBA', nationality='ARUBA', zip_code=None, mobile_prefix=None, currency_serial=None),\n",
       " Country(code=40, short_description='AZ', name='AZERBAIJAN', nationality='AZERBAIJANI', zip_code=None, mobile_prefix=None, currency_serial=None),\n",
       " Country(code=41, short_description='BA', name='BOSNIA', nationality='BOSNIAN', zip_code=None, mobile_prefix=None, currency_serial=None),\n",
       " Country(code=42, short_description='BB', name='BARBADOS', nationality='BARBADIAN', zip_code=None, mobile_prefix=None, currency_serial=None),\n",
       " Country(code=43, short_description='BD', name='BANGLADESH', nationality='BANGLADESHI', zip_code=None, mobile_prefix=None, currency_serial=None),\n",
       " Country(code=44, short_description='BF', name='BURKINA FASO', nationality='BURKINESE', zip_code=None, mobile_prefix=None, currency_serial=None),\n",
       " Country(code=45, short_description='BG', name='BULGARIA', nationality='BULGARIAN', zip_code=None, mobile_prefix=None, currency_serial=None),\n",
       " Country(code=46, short_description='BH', name='BAHRAIN', nationality='BAHRAINI', zip_code=None, mobile_prefix=None, currency_serial=None),\n",
       " Country(code=47, short_description='BI', name='BURUNDI', nationality='BURUNDIAN', zip_code=None, mobile_prefix=None, currency_serial=None),\n",
       " Country(code=48, short_description='BJ', name='BENIN', nationality='BENINESE', zip_code=None, mobile_prefix=None, currency_serial=None),\n",
       " Country(code=49, short_description='BM', name='BERMUDA', nationality='BERMUDA', zip_code=None, mobile_prefix=None, currency_serial=None),\n",
       " Country(code=50, short_description='BN', name='BRUNEI DARUSSALAM', nationality='BRUNEIAN', zip_code=None, mobile_prefix=None, currency_serial=None),\n",
       " Country(code=51, short_description='BO', name='BOLIVIA', nationality='BOLIVIAN', zip_code=None, mobile_prefix=None, currency_serial=None),\n",
       " Country(code=52, short_description='BR', name='BRAZIL', nationality='BRAZILIAN', zip_code=None, mobile_prefix=None, currency_serial=None),\n",
       " Country(code=53, short_description='BS', name='BAHAMAS', nationality='BAHAMIAN', zip_code=None, mobile_prefix=None, currency_serial=None),\n",
       " Country(code=54, short_description='BT', name='BHUTAN', nationality='BHUTANESE', zip_code=None, mobile_prefix=None, currency_serial=None),\n",
       " Country(code=55, short_description='BV', name='BOUVET ISLAND', nationality='BOUVET ISLAND', zip_code=None, mobile_prefix=None, currency_serial=None),\n",
       " Country(code=56, short_description='BW', name='BOTSWANA', nationality='BOTSWANAN', zip_code=None, mobile_prefix=None, currency_serial=None),\n",
       " Country(code=57, short_description='BY', name='BELARUS ', nationality='BELORUSSIAN ', zip_code=None, mobile_prefix=None, currency_serial=None),\n",
       " Country(code=58, short_description='BZ', name='BELIZE', nationality='BELIZIAN', zip_code=None, mobile_prefix=None, currency_serial=None),\n",
       " Country(code=59, short_description='CA', name='CANADA', nationality='CANADIAN', zip_code=None, mobile_prefix=None, currency_serial=None),\n",
       " Country(code=60, short_description='CC', name='COCOS', nationality='COCOS', zip_code=None, mobile_prefix=None, currency_serial=None),\n",
       " Country(code=61, short_description='CD ', name='CONGO KINSHASA', nationality='CONGOLESEA', zip_code=None, mobile_prefix=None, currency_serial=None),\n",
       " Country(code=62, short_description='CF', name='CENTRAL AFRICAN REPUBLIC', nationality='CENTRAL AFRICAN REPUBLIC', zip_code=None, mobile_prefix=None, currency_serial=None),\n",
       " Country(code=63, short_description='CG', name='CONGO DR', nationality='CONGOLESE', zip_code=None, mobile_prefix=None, currency_serial=None),\n",
       " Country(code=64, short_description='CI', name='IVORY COAST', nationality='IVORY COAST', zip_code=None, mobile_prefix=None, currency_serial=None),\n",
       " Country(code=65, short_description='CK', name='COOK ISLANDS', nationality='COOK ISLANDS', zip_code=None, mobile_prefix=None, currency_serial=None),\n",
       " Country(code=66, short_description='CL', name='CHILE', nationality='CHILEAN', zip_code=None, mobile_prefix=None, currency_serial=None),\n",
       " Country(code=67, short_description='CM', name='CAMEROON', nationality='CAMEROONIAN', zip_code=None, mobile_prefix=None, currency_serial=None),\n",
       " Country(code=68, short_description='CN', name='CHINA', nationality='CHINESE', zip_code=None, mobile_prefix=None, currency_serial=None),\n",
       " Country(code=69, short_description='CO', name='COLOMBIA', nationality='COLOMBIAN', zip_code=None, mobile_prefix=None, currency_serial=None),\n",
       " Country(code=70, short_description='CR', name='COSTA RICA', nationality='COSTA RICAN', zip_code=None, mobile_prefix=None, currency_serial=None),\n",
       " Country(code=71, short_description='CS', name='SERBIA ', nationality=' SERBIAN', zip_code=None, mobile_prefix=None, currency_serial=None),\n",
       " Country(code=72, short_description='CU', name='CUBA', nationality='CUBAN', zip_code=None, mobile_prefix=None, currency_serial=None),\n",
       " Country(code=73, short_description='CV', name='CAPE VERDE', nationality='CAPE VERDEAN', zip_code=None, mobile_prefix=None, currency_serial=None),\n",
       " Country(code=74, short_description='CX', name='CHRISTMAS ISLAND', nationality='CHRISTMAS ISLAND', zip_code=None, mobile_prefix=None, currency_serial=None),\n",
       " Country(code=75, short_description='CY', name='CYPRUS', nationality='CYPRIOT', zip_code=None, mobile_prefix=None, currency_serial=None),\n",
       " Country(code=76, short_description='DJ', name='DJIBOUTI', nationality='DJIBOUTIAN', zip_code=None, mobile_prefix=None, currency_serial=None),\n",
       " Country(code=77, short_description='DM', name='DOMINICA', nationality='DOMINICAN', zip_code=None, mobile_prefix=None, currency_serial=None),\n",
       " Country(code=78, short_description='DO', name='DOMINICAN REPUBLIC', nationality='DOMINICAN REPUBLIC', zip_code=None, mobile_prefix=None, currency_serial=None),\n",
       " Country(code=79, short_description='DZ', name='ALGERIA', nationality='ALGERIAN', zip_code=None, mobile_prefix=None, currency_serial=None),\n",
       " Country(code=80, short_description='EC', name='ECUADOR', nationality='ECUADOREAN', zip_code=None, mobile_prefix=None, currency_serial=None),\n",
       " Country(code=81, short_description='EG', name='EGYPT', nationality='EGYPTIAN', zip_code=None, mobile_prefix=None, currency_serial=None),\n",
       " Country(code=82, short_description='EH', name='WESTERN SAHARA', nationality='WESTERN SAHARA', zip_code=None, mobile_prefix=None, currency_serial=None),\n",
       " Country(code=83, short_description='ER', name='ERITREA', nationality='ERITREAN', zip_code=None, mobile_prefix=None, currency_serial=None),\n",
       " Country(code=84, short_description='ET', name='ETHIOPIA', nationality='ETHIOPIAN', zip_code=None, mobile_prefix=None, currency_serial=None),\n",
       " Country(code=85, short_description='FJ', name='FIJI ISLANDS', nationality='FIJIAN', zip_code=None, mobile_prefix=None, currency_serial=None),\n",
       " Country(code=86, short_description='FK', name='FALKLAND ISLANDS ', nationality='FALKLAND ISLANDS ', zip_code=None, mobile_prefix=None, currency_serial=None),\n",
       " Country(code=87, short_description='FM', name='MICRONESIA', nationality='MICRONESIA', zip_code=None, mobile_prefix=None, currency_serial=None),\n",
       " Country(code=88, short_description='FO', name='FAROE ISLANDS', nationality='FAROE ISLANDS', zip_code=None, mobile_prefix=None, currency_serial=None),\n",
       " Country(code=89, short_description='FX', name='FRANCE', nationality='FRANCE', zip_code=None, mobile_prefix=None, currency_serial=None),\n",
       " Country(code=90, short_description='GA', name='GABON', nationality='GABONESE', zip_code=None, mobile_prefix=None, currency_serial=None),\n",
       " Country(code=91, short_description='GB', name='UNITED KINGDOM', nationality='BRITISH', zip_code=None, mobile_prefix=None, currency_serial=None),\n",
       " Country(code=92, short_description='GD', name='GRENADA', nationality='GRENADIAN', zip_code=None, mobile_prefix=None, currency_serial=None),\n",
       " Country(code=93, short_description='GE', name='GEORGIA', nationality='GEORGIAN', zip_code=None, mobile_prefix=None, currency_serial=None),\n",
       " Country(code=94, short_description='GF', name='FRENCH GUIANA', nationality='FRENCH GUIANA', zip_code=None, mobile_prefix=None, currency_serial=None),\n",
       " Country(code=95, short_description='GH', name='GHANA', nationality='GHANAIAN', zip_code=None, mobile_prefix=None, currency_serial=None),\n",
       " Country(code=96, short_description='GI', name='GIBRALTAR', nationality='GIBRALTAR', zip_code=None, mobile_prefix=None, currency_serial=None),\n",
       " Country(code=97, short_description='GL', name='GREENLAND', nationality='GREENLAND', zip_code=None, mobile_prefix=None, currency_serial=None),\n",
       " Country(code=98, short_description='GM', name='GAMBIA', nationality='GAMBIAN', zip_code=None, mobile_prefix=None, currency_serial=None),\n",
       " Country(code=99, short_description='GN', name='GUINEA', nationality='GUINEAN', zip_code=None, mobile_prefix=None, currency_serial=None),\n",
       " Country(code=100, short_description='GP', name='GUADELOUPE', nationality='GUADELOUPE', zip_code=None, mobile_prefix=None, currency_serial=None),\n",
       " Country(code=101, short_description='GQ', name='EQUATORIAL GUINEA', nationality='EQUATORIAL GUINEAN', zip_code=None, mobile_prefix=None, currency_serial=None),\n",
       " Country(code=102, short_description='GS', name='SOUTH GEORGIA', nationality='SOUTH GEORGIAN', zip_code=None, mobile_prefix=None, currency_serial=None),\n",
       " Country(code=103, short_description='GT', name='GUATEMALA', nationality='GUATEMALAN', zip_code=None, mobile_prefix=None, currency_serial=None),\n",
       " Country(code=104, short_description='GU', name='GUAM', nationality='GUAM', zip_code=None, mobile_prefix=None, currency_serial=None),\n",
       " Country(code=105, short_description='GW', name='GUINEA-BISSAU', nationality='GUINEA-BISSAU', zip_code=None, mobile_prefix=None, currency_serial=None),\n",
       " Country(code=106, short_description='GY', name='GUYANA', nationality='GUYANESE', zip_code=None, mobile_prefix=None, currency_serial=None),\n",
       " Country(code=107, short_description='HK', name='HONG KONG', nationality='HONG KONG', zip_code=None, mobile_prefix=None, currency_serial=None),\n",
       " Country(code=108, short_description='HM', name='HEARD ', nationality='HEARD ', zip_code=None, mobile_prefix=None, currency_serial=None),\n",
       " Country(code=109, short_description='HN', name='HONDURAS', nationality='HONDURAN', zip_code=None, mobile_prefix=None, currency_serial=None),\n",
       " Country(code=110, short_description='HR', name='CROATIA ', nationality='CROAT OR CROATIAN', zip_code=None, mobile_prefix=None, currency_serial=None),\n",
       " Country(code=111, short_description='HT', name='HAITI', nationality='HAITIAN', zip_code=None, mobile_prefix=None, currency_serial=None),\n",
       " Country(code=112, short_description='ID', name='INDONESIA', nationality='INDONESIAN', zip_code=None, mobile_prefix=None, currency_serial=None),\n",
       " Country(code=113, short_description='IE', name='IRELAND', nationality='IRISH', zip_code=None, mobile_prefix=None, currency_serial=None),\n",
       " Country(code=114, short_description='IL', name='ISRAEL', nationality='ISRAELI', zip_code=None, mobile_prefix=None, currency_serial=None),\n",
       " Country(code=116, short_description='IO', name='BRITISH INDIAN OCEAN TERRITORY', nationality='BRITISHIAN', zip_code=None, mobile_prefix=None, currency_serial=None),\n",
       " Country(code=117, short_description='IQ', name='IRAQ', nationality='IRAQI', zip_code=None, mobile_prefix=None, currency_serial=None),\n",
       " Country(code=118, short_description='IR', name='IRAN', nationality='IRANIAN', zip_code=None, mobile_prefix=None, currency_serial=None),\n",
       " Country(code=119, short_description='JM', name='JAMAICA', nationality='JAMAICAN', zip_code=None, mobile_prefix=None, currency_serial=None),\n",
       " Country(code=120, short_description='JO', name='JORDAN', nationality='JORDANIAN', zip_code=None, mobile_prefix=None, currency_serial=None),\n",
       " Country(code=121, short_description='JP', name='JAPAN', nationality='JAPANESE', zip_code=None, mobile_prefix=None, currency_serial=None),\n",
       " Country(code=123, short_description='KG', name='KYRGYZSTAN', nationality='KYRGYZSTAN', zip_code=None, mobile_prefix=None, currency_serial=None),\n",
       " Country(code=124, short_description='KH', name='CAMBODIA ', nationality='CAMBODIAN', zip_code=None, mobile_prefix=None, currency_serial=None),\n",
       " Country(code=125, short_description='KI', name='KIRIBATI', nationality='KIRIBATI', zip_code=None, mobile_prefix=None, currency_serial=None),\n",
       " Country(code=126, short_description='KM', name='COMOROS', nationality='COMOROS', zip_code=None, mobile_prefix=None, currency_serial=None),\n",
       " Country(code=127, short_description='KN', name='SAINT KITTS ', nationality='SAINT KITTS ', zip_code=None, mobile_prefix=None, currency_serial=None),\n",
       " Country(code=128, short_description='KP', name='NORTH KOREA', nationality='KOREAN', zip_code=None, mobile_prefix=None, currency_serial=None),\n",
       " Country(code=129, short_description='KR', name='SOUTH KOREA', nationality='KOREA', zip_code=None, mobile_prefix=None, currency_serial=None),\n",
       " Country(code=130, short_description='KW', name='KUWAIT', nationality='KUWAITI', zip_code=None, mobile_prefix=None, currency_serial=None),\n",
       " Country(code=131, short_description='KY', name='CAYMAN ISLANDS', nationality='CAYMAN ISLANDS', zip_code=None, mobile_prefix=None, currency_serial=None),\n",
       " Country(code=132, short_description='KZ', name='KAZAKHSTAN', nationality='KAZAKH', zip_code=None, mobile_prefix=None, currency_serial=None),\n",
       " Country(code=133, short_description='LA', name=\"LAO PEOPLE'S DEMOCRATIC REPUBLIC \", nationality='LAOTIAN', zip_code=None, mobile_prefix=None, currency_serial=None),\n",
       " Country(code=134, short_description='LB', name='LEBANON', nationality='LEBANESE', zip_code=None, mobile_prefix=None, currency_serial=None),\n",
       " Country(code=135, short_description='LC', name='SAINT LUCIA', nationality='SAINT LUCIA', zip_code=None, mobile_prefix=None, currency_serial=None),\n",
       " Country(code=136, short_description='LI', name='LIECHTENSTEIN', nationality='LIECHTENSTEIN', zip_code=None, mobile_prefix=None, currency_serial=None),\n",
       " Country(code=137, short_description='LK', name='SRI LANKA', nationality='SRI LANKAN', zip_code=None, mobile_prefix=None, currency_serial=None),\n",
       " Country(code=138, short_description='LR', name='LIBERIA', nationality='LIBERIAN', zip_code=231, mobile_prefix=None, currency_serial=501),\n",
       " Country(code=139, short_description='LS', name='LESOTHO', nationality='LESOTHO', zip_code=None, mobile_prefix=None, currency_serial=None),\n",
       " Country(code=140, short_description='LY', name='LIBYAN ARAB JAMAHIRIYA', nationality='LIBYAN', zip_code=None, mobile_prefix=None, currency_serial=None),\n",
       " Country(code=141, short_description='MA', name='MOROCCO', nationality='MOROCCAN', zip_code=None, mobile_prefix=None, currency_serial=None),\n",
       " Country(code=142, short_description='MC', name='MONACO', nationality='MONÉGASQUE OR MONACAN', zip_code=None, mobile_prefix=None, currency_serial=None),\n",
       " Country(code=143, short_description='MD', name='MOLDOVA, REPUBLIC OF', nationality='MOLDOVAN', zip_code=None, mobile_prefix=None, currency_serial=None),\n",
       " Country(code=144, short_description='MG', name='MADAGASCAR', nationality='MALAGASAY ', zip_code=None, mobile_prefix=None, currency_serial=None),\n",
       " Country(code=145, short_description='MH', name='MARSHALL ISLANDS', nationality='MARSHALL ISLANDS', zip_code=None, mobile_prefix=None, currency_serial=None),\n",
       " Country(code=146, short_description='MK', name='MACEDONIA', nationality='MACEDONIAN', zip_code=None, mobile_prefix=None, currency_serial=None),\n",
       " Country(code=147, short_description='ML', name='MALI', nationality='MALIAN', zip_code=None, mobile_prefix=None, currency_serial=None),\n",
       " Country(code=148, short_description='MM', name='MYANMAR', nationality='MYANMAR', zip_code=None, mobile_prefix=None, currency_serial=None),\n",
       " Country(code=149, short_description='MN', name='MONGOLIA', nationality='MONGOLIAN', zip_code=None, mobile_prefix=None, currency_serial=None),\n",
       " Country(code=150, short_description='MO', name='MACAO ', nationality='MACAO ', zip_code=None, mobile_prefix=None, currency_serial=None),\n",
       " Country(code=151, short_description='MP', name='NORTHERN MARIANA ISLANDS', nationality='NORTHERN MARIANA ISLANDS', zip_code=None, mobile_prefix=None, currency_serial=None),\n",
       " Country(code=152, short_description='MQ', name='MARTINIQUE', nationality='MARTINIQUE', zip_code=None, mobile_prefix=None, currency_serial=None),\n",
       " Country(code=153, short_description='MR', name='MAURITANIA', nationality='MAURITANIAN', zip_code=None, mobile_prefix=None, currency_serial=None),\n",
       " Country(code=154, short_description='MS', name='MONTSERRAT', nationality='MONTENEGRIN', zip_code=None, mobile_prefix=None, currency_serial=None),\n",
       " Country(code=155, short_description='MU', name='MAURITIUS', nationality='MAURITIAN', zip_code=None, mobile_prefix=None, currency_serial=None),\n",
       " Country(code=156, short_description='MV', name='MALDIVES', nationality='MALDIVIAN', zip_code=None, mobile_prefix=None, currency_serial=None),\n",
       " Country(code=157, short_description='MW', name='MALAWI', nationality='MALAWIAN', zip_code=None, mobile_prefix=None, currency_serial=None),\n",
       " Country(code=158, short_description='MX', name='MEXICO', nationality='MEXICAN', zip_code=None, mobile_prefix=None, currency_serial=None),\n",
       " Country(code=159, short_description='MY', name='MALAYSIA', nationality='MALAYSIAN', zip_code=None, mobile_prefix=None, currency_serial=None),\n",
       " Country(code=160, short_description='MZ', name='MOZAMBIQUE', nationality='MOZAMBICAN', zip_code=None, mobile_prefix=None, currency_serial=None),\n",
       " Country(code=161, short_description='NA', name='NAMIBIA', nationality='NAMIBIAN', zip_code=None, mobile_prefix=None, currency_serial=None),\n",
       " Country(code=162, short_description='NC', name='NEW CALEDONIA', nationality='NEW CALEDONIA', zip_code=None, mobile_prefix=None, currency_serial=None),\n",
       " Country(code=163, short_description='NE', name='NIGER', nationality='NIGERIEN', zip_code=None, mobile_prefix=None, currency_serial=None),\n",
       " Country(code=164, short_description='NF', name='NORFOLK ISLAND', nationality='NORFOLK ISLAND', zip_code=None, mobile_prefix=None, currency_serial=None),\n",
       " Country(code=165, short_description='NG', name='NIGERIA', nationality='NIGERIAN', zip_code=234, mobile_prefix=None, currency_serial=221),\n",
       " Country(code=166, short_description='NI', name='NICARAGUA', nationality='NICARAGUAN', zip_code=None, mobile_prefix=None, currency_serial=None),\n",
       " Country(code=167, short_description='NP', name='NEPAL', nationality='NEPALESE', zip_code=None, mobile_prefix=None, currency_serial=None),\n",
       " Country(code=168, short_description='NR', name='NAURU', nationality='NAURU', zip_code=None, mobile_prefix=None, currency_serial=None),\n",
       " Country(code=169, short_description='NU', name='NIUE', nationality='NIUE', zip_code=None, mobile_prefix=None, currency_serial=None),\n",
       " Country(code=170, short_description='NZ', name='NEW ZEALAND', nationality='NEW ZEALAND', zip_code=None, mobile_prefix=None, currency_serial=None),\n",
       " Country(code=171, short_description='OM', name='OMAN', nationality='OMANI', zip_code=None, mobile_prefix=None, currency_serial=None),\n",
       " Country(code=172, short_description='PA', name='PANAMA', nationality='PANAMANIAN', zip_code=None, mobile_prefix=None, currency_serial=None),\n",
       " Country(code=173, short_description='PE', name='PERU', nationality='PERUVIAN', zip_code=None, mobile_prefix=None, currency_serial=None),\n",
       " Country(code=174, short_description='PF', name='FRENCH POLYNESIA', nationality='FRENCH POLYNESIA', zip_code=None, mobile_prefix=None, currency_serial=None),\n",
       " Country(code=175, short_description='PG', name='PAPUA NEW GUINEA', nationality='PAPUA NEW GUINEAN OR GUINEAN', zip_code=None, mobile_prefix=None, currency_serial=None),\n",
       " Country(code=176, short_description='PH', name='PHILIPPINES', nationality='PHILIPPINE', zip_code=None, mobile_prefix=None, currency_serial=None),\n",
       " Country(code=177, short_description='PK', name='PAKISTAN', nationality='PAKISTANI', zip_code=None, mobile_prefix=None, currency_serial=None),\n",
       " Country(code=178, short_description='PM', name='ST PIERRE AND MIQUELON', nationality='ST PIERRE AND MIQUELON', zip_code=None, mobile_prefix=None, currency_serial=None),\n",
       " Country(code=179, short_description='PN', name='PITCAIRN ISLAND', nationality='PITCAIRN ISLAND', zip_code=None, mobile_prefix=None, currency_serial=None),\n",
       " Country(code=180, short_description='PR', name='PITCAIRN ISLAND', nationality='PITCAIRN ISLANDA', zip_code=None, mobile_prefix=None, currency_serial=None),\n",
       " Country(code=181, short_description='PW', name='PALAU', nationality='PALAU', zip_code=None, mobile_prefix=None, currency_serial=None),\n",
       " Country(code=182, short_description='PY', name='PARAGUAY', nationality='PARAGUAYAN', zip_code=None, mobile_prefix=None, currency_serial=None),\n",
       " Country(code=183, short_description='QA', name='QATAR', nationality='QATARI', zip_code=None, mobile_prefix=None, currency_serial=None),\n",
       " Country(code=184, short_description='RE', name='RÉUNION', nationality='RÉUNION', zip_code=None, mobile_prefix=None, currency_serial=None),\n",
       " Country(code=185, short_description='RO', name='ROMANIA', nationality='ROMANIAN', zip_code=None, mobile_prefix=None, currency_serial=None),\n",
       " Country(code=186, short_description='RU', name='RUSSIAN FEDERATION', nationality='RUSSIAN', zip_code=None, mobile_prefix=None, currency_serial=None),\n",
       " Country(code=187, short_description='RW', name='RWANDA', nationality='RWANDAN', zip_code=None, mobile_prefix=None, currency_serial=None),\n",
       " Country(code=189, short_description='SB', name='SOLOMON ISLANDS', nationality='SOLOMON ISLANDS', zip_code=None, mobile_prefix=None, currency_serial=None),\n",
       " Country(code=190, short_description='SC', name='SEYCHELLES', nationality='SEYCHELLOIS', zip_code=None, mobile_prefix=None, currency_serial=None),\n",
       " Country(code=191, short_description='SD', name='SUDAN', nationality='SUDANESE', zip_code=None, mobile_prefix=None, currency_serial=None),\n",
       " Country(code=192, short_description='SG', name='SINGAPORE', nationality='SINGAPOREAN', zip_code=None, mobile_prefix=None, currency_serial=None),\n",
       " Country(code=193, short_description='SH', name='ST HELENA', nationality='ST HELENA', zip_code=None, mobile_prefix=None, currency_serial=None),\n",
       " Country(code=194, short_description='SJ', name='SVALBARD ', nationality='SVALBARD ', zip_code=None, mobile_prefix=None, currency_serial=None),\n",
       " Country(code=195, short_description='SL', name='SIERRA LEONE', nationality='SIERRA LEONIAN', zip_code=None, mobile_prefix=None, currency_serial=None),\n",
       " Country(code=196, short_description='SM', name='SAN MARINO', nationality='SAN MARINO', zip_code=None, mobile_prefix=None, currency_serial=None),\n",
       " Country(code=197, short_description='SN', name='SENEGAL', nationality='SENEGALESE', zip_code=None, mobile_prefix=None, currency_serial=None),\n",
       " Country(code=198, short_description='SO', name='SOMALIA', nationality='SOMALI', zip_code=None, mobile_prefix=None, currency_serial=None),\n",
       " Country(code=199, short_description='SR', name='SURINAME', nationality='SURINAMESE', zip_code=None, mobile_prefix=None, currency_serial=None),\n",
       " Country(code=200, short_description='ST', name='SÃO TOMÉ AND PRÍNCIPE', nationality='SÃO TOMÉ AND PRÍNCIPE', zip_code=None, mobile_prefix=None, currency_serial=None),\n",
       " Country(code=201, short_description='SU', name='UNION OF SOVIET SOCIALIST REPUBLICS', nationality='UNION OF SOVIET SOCIALIST REPUBLICS', zip_code=None, mobile_prefix=None, currency_serial=None),\n",
       " Country(code=202, short_description='SV', name='EL SALVADOR', nationality='SALVADOREAN', zip_code=None, mobile_prefix=None, currency_serial=None),\n",
       " Country(code=203, short_description='SY', name='SYRIAN ARAB REPUBLIC', nationality='SYRIAN', zip_code=None, mobile_prefix=None, currency_serial=None),\n",
       " Country(code=204, short_description='SZ', name='SWAZILAND', nationality='SWAZI', zip_code=None, mobile_prefix=None, currency_serial=None),\n",
       " Country(code=205, short_description='TC', name='TURKS AND CAICOS ISLANDS', nationality='TURKS AND CAICOS ISLANDS', zip_code=None, mobile_prefix=None, currency_serial=None),\n",
       " Country(code=206, short_description='TD', name='CHAD', nationality='CHADIAN', zip_code=None, mobile_prefix=None, currency_serial=None),\n",
       " Country(code=207, short_description='TF', name='FRENCH SOUTHERN AND ANTARCTIC TERRITORIES', nationality='FRENCH SOUTHERN AND ANTARCTIC TERRITORIES', zip_code=None, mobile_prefix=None, currency_serial=None),\n",
       " Country(code=208, short_description='TG', name='TOGO', nationality='TOGOLESE', zip_code=None, mobile_prefix=None, currency_serial=None),\n",
       " Country(code=209, short_description='TH', name='THAILAND', nationality='THAI', zip_code=None, mobile_prefix=None, currency_serial=None),\n",
       " Country(code=210, short_description='TJ', name='TAJIKISTAN', nationality='TAJIK ', zip_code=None, mobile_prefix=None, currency_serial=None),\n",
       " Country(code=211, short_description='TK', name='TOKELAU', nationality='TOKELAU', zip_code=None, mobile_prefix=None, currency_serial=None),\n",
       " Country(code=212, short_description='TM', name='TURKMENISTAN', nationality='TURKMEN OR TURKOMAN', zip_code=None, mobile_prefix=None, currency_serial=None),\n",
       " Country(code=213, short_description='TN', name='TUNISIA', nationality='TUNISIAN', zip_code=None, mobile_prefix=None, currency_serial=None),\n",
       " Country(code=214, short_description='TO', name='TONGA', nationality='TONGA', zip_code=None, mobile_prefix=None, currency_serial=None),\n",
       " Country(code=215, short_description='TP', name='EAST TIMOR', nationality='EAST TIMOR', zip_code=None, mobile_prefix=None, currency_serial=None),\n",
       " Country(code=216, short_description='TR', name='TURKEY', nationality='TURKISH', zip_code=None, mobile_prefix=None, currency_serial=None),\n",
       " Country(code=217, short_description='TT', name='TRINIDAD AND TOBAGO', nationality='TRINIDADIAN', zip_code=None, mobile_prefix=None, currency_serial=None),\n",
       " Country(code=218, short_description='TV', name='TUVALU', nationality='TUVALUAN', zip_code=None, mobile_prefix=None, currency_serial=None),\n",
       " Country(code=219, short_description='TW', name='TAIWAN, PROVINCE OF CHINA', nationality='TAIWANESE', zip_code=None, mobile_prefix=None, currency_serial=None),\n",
       " Country(code=221, short_description='UA', name='UKRAINE', nationality='UKRAINIAN', zip_code=None, mobile_prefix=None, currency_serial=None),\n",
       " Country(code=223, short_description='UM', name='UNITED STATES MINOR OUTLYING ISLANDS', nationality='UNITED STATES MINOR OUTLYING ISLANDS', zip_code=None, mobile_prefix=None, currency_serial=None),\n",
       " Country(code=224, short_description='US', name='UNITED STATES OF AMERICA', nationality='AMERICAN', zip_code=None, mobile_prefix=None, currency_serial=None),\n",
       " Country(code=225, short_description='UY', name='URUGUAY', nationality='URUGUAYAN', zip_code=None, mobile_prefix=None, currency_serial=None),\n",
       " Country(code=226, short_description='UZ', name='UZBEKISTAN', nationality='UZBEK', zip_code=None, mobile_prefix=None, currency_serial=None),\n",
       " Country(code=227, short_description='VA', name='HOLY SEE ', nationality='HOLY SEE ', zip_code=None, mobile_prefix=None, currency_serial=None),\n",
       " Country(code=228, short_description='VC', name='SAINT VINCENT ', nationality='SAINT VINCENT ', zip_code=None, mobile_prefix=None, currency_serial=None),\n",
       " Country(code=229, short_description='VE', name='VENEZUELA', nationality='VENEZUELAN', zip_code=None, mobile_prefix=None, currency_serial=None),\n",
       " Country(code=230, short_description='VG', name='VIRGIN ISLANDS (BRITISH)', nationality='VIRGIN ISLANDS (BRITISH)', zip_code=None, mobile_prefix=None, currency_serial=None),\n",
       " Country(code=231, short_description='VI', name='VIRGIN ISLANDS (US)', nationality='VIRGIN ISLANDS (US)', zip_code=None, mobile_prefix=None, currency_serial=None),\n",
       " Country(code=232, short_description='VN', name='VIET NAM', nationality='VIETNAMESE', zip_code=None, mobile_prefix=None, currency_serial=None),\n",
       " Country(code=233, short_description='VU', name='VANAUTU', nationality='VANUATUAN', zip_code=None, mobile_prefix=None, currency_serial=None),\n",
       " Country(code=234, short_description='WF', name='WALLIS AND FUTUNA ISLANDS', nationality='WALLIS AND FUTUNA ISLANDS', zip_code=None, mobile_prefix=None, currency_serial=None),\n",
       " Country(code=235, short_description='WS', name='SAMOA', nationality='SAMOA', zip_code=None, mobile_prefix=None, currency_serial=None),\n",
       " Country(code=236, short_description='YE ', name='YEMEN', nationality='YEMENI', zip_code=None, mobile_prefix=None, currency_serial=None),\n",
       " Country(code=237, short_description='YT', name='MAYOTTE', nationality='MAYOTTE', zip_code=None, mobile_prefix=None, currency_serial=None),\n",
       " Country(code=240, short_description='ZW', name='ZIMBABWE', nationality='ZIMBABWEAN', zip_code=None, mobile_prefix=None, currency_serial=None),\n",
       " Country(code=241, short_description='AR', name='ARGENTINA', nationality='ARGENTINIAN', zip_code=None, mobile_prefix=None, currency_serial=None),\n",
       " Country(code=243, short_description='CH', name='SWITZERLAND', nationality='SWISS', zip_code=None, mobile_prefix=None, currency_serial=None),\n",
       " Country(code=244, short_description='CZ', name='CZECH REPUBLIC', nationality='CZECH', zip_code=None, mobile_prefix=None, currency_serial=None),\n",
       " Country(code=246, short_description='DK', name='DENMARK', nationality='DANISH', zip_code=None, mobile_prefix=None, currency_serial=None),\n",
       " Country(code=247, short_description='EE', name='ESTONIA', nationality='ESTONIAN', zip_code=None, mobile_prefix=None, currency_serial=None),\n",
       " Country(code=248, short_description='ES', name='SPAIN', nationality='SPANISH', zip_code=None, mobile_prefix=None, currency_serial=None),\n",
       " Country(code=249, short_description='FI', name='FINLAND', nationality='FINNISH', zip_code=None, mobile_prefix=None, currency_serial=None),\n",
       " Country(code=251, short_description='GR', name='GREECE', nationality='GREEK', zip_code=None, mobile_prefix=None, currency_serial=None),\n",
       " Country(code=252, short_description='HU', name='HUNGARY', nationality='HUNGARIAN', zip_code=None, mobile_prefix=None, currency_serial=None),\n",
       " Country(code=253, short_description='IS', name='ICELAND', nationality='ICELANDIC', zip_code=None, mobile_prefix=None, currency_serial=None),\n",
       " Country(code=254, short_description='IT', name='ITALY', nationality='ITALIAN', zip_code=None, mobile_prefix=None, currency_serial=None),\n",
       " Country(code=255, short_description='LT', name='LITHUANIA', nationality='LITHUANIAN', zip_code=None, mobile_prefix=None, currency_serial=None),\n",
       " Country(code=256, short_description='LU', name='LUXEMBOURG', nationality='LUXEMBOURG', zip_code=None, mobile_prefix=None, currency_serial=None),\n",
       " Country(code=257, short_description='LV', name='LATVIA', nationality='LATVIAN', zip_code=None, mobile_prefix=None, currency_serial=None),\n",
       " Country(code=258, short_description='MT', name='MALTA', nationality='MALTESE', zip_code=None, mobile_prefix=None, currency_serial=None),\n",
       " Country(code=259, short_description='NL', name='NETHERLANDS', nationality='DUTCH', zip_code=None, mobile_prefix=None, currency_serial=None),\n",
       " Country(code=260, short_description='NO', name='NORWAY', nationality='NORWEGIAN', zip_code=None, mobile_prefix=None, currency_serial=None),\n",
       " Country(code=261, short_description='PL', name='POLAND', nationality='POLISH', zip_code=None, mobile_prefix=None, currency_serial=None),\n",
       " Country(code=262, short_description='PT', name='PORTUGAL', nationality='PORTUGUESE', zip_code=None, mobile_prefix=None, currency_serial=None),\n",
       " Country(code=263, short_description='SE', name='SWEDEN', nationality='SWEDISH', zip_code=None, mobile_prefix=None, currency_serial=None),\n",
       " Country(code=264, short_description='SI', name='SLOVENIA', nationality='SLOVENE OR SLOVENIAN', zip_code=None, mobile_prefix=None, currency_serial=None),\n",
       " Country(code=265, short_description='SK', name='SLOVAKIA', nationality='SLOVAK', zip_code=None, mobile_prefix=None, currency_serial=None),\n",
       " Country(code=266, short_description='GER', name='GERMANY', nationality='GERMAN', zip_code=5165, mobile_prefix=None, currency_serial=None),\n",
       " Country(code=267, short_description='SSS', name='SSS', nationality='SSS', zip_code=200, mobile_prefix=None, currency_serial=None),\n",
       " Country(code=268, short_description='INDIA', name='INDIA', nationality='INDIAN', zip_code=91, mobile_prefix=None, currency_serial=None),\n",
       " Country(code=279, short_description='SS', name='SOUTH SUDAN', nationality='SOUTH SUDANESE', zip_code=211, mobile_prefix=None, currency_serial=None),\n",
       " Country(code=283, short_description='KEY', name='KENYA1', nationality='KENYANUAN', zip_code=543, mobile_prefix=None, currency_serial=23),\n",
       " Country(code=188, short_description='KSA', name='SAUDI ARABIA', nationality='SAUDI ARABIAN OR SAUDI', zip_code=966, mobile_prefix=None, currency_serial=3)]"
      ]
     },
     "execution_count": 11,
     "metadata": {},
     "output_type": "execute_result"
    }
   ],
   "source": [
    "client.crm.countries.get()"
   ]
  },
  {
   "cell_type": "code",
   "execution_count": 13,
   "metadata": {},
   "outputs": [
    {
     "ename": "ValueError",
     "evalue": "TQBUS_GIS_BASEURL env var not set!",
     "output_type": "error",
     "traceback": [
      "\u001b[1;31m---------------------------------------------------------------------------\u001b[0m",
      "\u001b[1;31mValueError\u001b[0m                                Traceback (most recent call last)",
      "Cell \u001b[1;32mIn[13], line 1\u001b[0m\n\u001b[1;32m----> 1\u001b[0m \u001b[43mclient\u001b[49m\u001b[38;5;241;43m.\u001b[39;49m\u001b[43mgis\u001b[49m\u001b[38;5;241;43m.\u001b[39;49m\u001b[43mendorsements\u001b[49m\u001b[38;5;241m.\u001b[39mrenew_policy_as_is(policy_no\u001b[38;5;241m=\u001b[39m\u001b[38;5;124m\"\u001b[39m\u001b[38;5;124mPRM/01/4/01979/24\u001b[39m\u001b[38;5;124m\"\u001b[39m)\n",
      "File \u001b[1;32mF:\\turnkey\\tqbus_sdk\\tqbus_sdk\\__init__.py:42\u001b[0m, in \u001b[0;36mGIS.endorsements\u001b[1;34m(self)\u001b[0m\n\u001b[0;32m     39\u001b[0m \u001b[38;5;129m@property\u001b[39m\n\u001b[0;32m     40\u001b[0m \u001b[38;5;28;01mdef\u001b[39;00m\u001b[38;5;250m \u001b[39m\u001b[38;5;21mendorsements\u001b[39m(\u001b[38;5;28mself\u001b[39m) \u001b[38;5;241m-\u001b[39m\u001b[38;5;241m>\u001b[39m _endorsements_gis\u001b[38;5;241m.\u001b[39mEndorsementService:\n\u001b[0;32m     41\u001b[0m     \u001b[38;5;28;01mif\u001b[39;00m \u001b[38;5;28mself\u001b[39m\u001b[38;5;241m.\u001b[39m_endorsements \u001b[38;5;129;01mis\u001b[39;00m \u001b[38;5;28;01mNone\u001b[39;00m:\n\u001b[1;32m---> 42\u001b[0m         \u001b[38;5;28mself\u001b[39m\u001b[38;5;241m.\u001b[39m_endorsements \u001b[38;5;241m=\u001b[39m \u001b[43m_endorsements_gis\u001b[49m\u001b[38;5;241;43m.\u001b[39;49m\u001b[43mEndorsementService\u001b[49m\u001b[43m(\u001b[49m\u001b[43mconfig\u001b[49m\u001b[38;5;241;43m=\u001b[39;49m\u001b[38;5;28;43mself\u001b[39;49m\u001b[38;5;241;43m.\u001b[39;49m\u001b[43mconfig\u001b[49m\u001b[43m)\u001b[49m\n\u001b[0;32m     43\u001b[0m     \u001b[38;5;28;01mreturn\u001b[39;00m \u001b[38;5;28mself\u001b[39m\u001b[38;5;241m.\u001b[39m_endorsements\n",
      "File \u001b[1;32m<string>:4\u001b[0m, in \u001b[0;36m__init__\u001b[1;34m(self, config)\u001b[0m\n",
      "File \u001b[1;32mF:\\turnkey\\tqbus_sdk\\tqbus_sdk\\gis\\endorsements.py:21\u001b[0m, in \u001b[0;36mEndorsementService.__post_init__\u001b[1;34m(self)\u001b[0m\n\u001b[0;32m     20\u001b[0m \u001b[38;5;28;01mdef\u001b[39;00m\u001b[38;5;250m \u001b[39m\u001b[38;5;21m__post_init__\u001b[39m(\u001b[38;5;28mself\u001b[39m):\n\u001b[1;32m---> 21\u001b[0m     \u001b[38;5;28mself\u001b[39m\u001b[38;5;241m.\u001b[39msystem \u001b[38;5;241m=\u001b[39m \u001b[43mTqSystem\u001b[49m\u001b[43m(\u001b[49m\u001b[43mtq_system_enum\u001b[49m\u001b[38;5;241;43m=\u001b[39;49m\u001b[43mTqSystemEnums\u001b[49m\u001b[38;5;241;43m.\u001b[39;49m\u001b[43mGIS\u001b[49m\u001b[43m,\u001b[49m\u001b[43m \u001b[49m\u001b[43mconfig\u001b[49m\u001b[38;5;241;43m=\u001b[39;49m\u001b[38;5;28;43mself\u001b[39;49m\u001b[38;5;241;43m.\u001b[39;49m\u001b[43mconfig\u001b[49m\u001b[43m)\u001b[49m\n",
      "File \u001b[1;32m<string>:6\u001b[0m, in \u001b[0;36m__init__\u001b[1;34m(self, tq_system_enum, config, token_manager)\u001b[0m\n",
      "File \u001b[1;32mF:\\turnkey\\tqbus_sdk\\tqbus_sdk\\tqsystem.py:140\u001b[0m, in \u001b[0;36mTqSystem.__post_init__\u001b[1;34m(self)\u001b[0m\n\u001b[0;32m    136\u001b[0m \u001b[38;5;250m\u001b[39m\u001b[38;5;124;03m\"\"\"\u001b[39;00m\n\u001b[0;32m    137\u001b[0m \u001b[38;5;124;03mInitializes the TqSystem object and creates a token manager if not already created.\u001b[39;00m\n\u001b[0;32m    138\u001b[0m \u001b[38;5;124;03m\"\"\"\u001b[39;00m\n\u001b[0;32m    139\u001b[0m \u001b[38;5;28;01mif\u001b[39;00m \u001b[38;5;129;01mnot\u001b[39;00m \u001b[38;5;28mself\u001b[39m\u001b[38;5;241m.\u001b[39mtoken_manager:\n\u001b[1;32m--> 140\u001b[0m     auth_url_val \u001b[38;5;241m=\u001b[39m \u001b[38;5;28;43mself\u001b[39;49m\u001b[38;5;241;43m.\u001b[39;49m\u001b[43mauth_url\u001b[49m\n\u001b[0;32m    141\u001b[0m     username_val \u001b[38;5;241m=\u001b[39m \u001b[38;5;28mself\u001b[39m\u001b[38;5;241m.\u001b[39musername\n\u001b[0;32m    142\u001b[0m     password_val \u001b[38;5;241m=\u001b[39m \u001b[38;5;28mself\u001b[39m\u001b[38;5;241m.\u001b[39mpassword\n",
      "File \u001b[1;32mF:\\turnkey\\tqbus_sdk\\tqbus_sdk\\tqsystem.py:218\u001b[0m, in \u001b[0;36mTqSystem.auth_url\u001b[1;34m(self)\u001b[0m\n\u001b[0;32m    209\u001b[0m \u001b[38;5;129m@property\u001b[39m\n\u001b[0;32m    210\u001b[0m \u001b[38;5;28;01mdef\u001b[39;00m\u001b[38;5;250m \u001b[39m\u001b[38;5;21mauth_url\u001b[39m(\u001b[38;5;28mself\u001b[39m) \u001b[38;5;241m-\u001b[39m\u001b[38;5;241m>\u001b[39m Optional[\u001b[38;5;28mstr\u001b[39m]:\n\u001b[0;32m    211\u001b[0m \u001b[38;5;250m    \u001b[39m\u001b[38;5;124;03m\"\"\"\u001b[39;00m\n\u001b[0;32m    212\u001b[0m \u001b[38;5;124;03m    Returns the authentication URL based on the TqSystemEnums.\u001b[39;00m\n\u001b[0;32m    213\u001b[0m \n\u001b[1;32m   (...)\u001b[0m\n\u001b[0;32m    216\u001b[0m \n\u001b[0;32m    217\u001b[0m \u001b[38;5;124;03m    \"\"\"\u001b[39;00m\n\u001b[1;32m--> 218\u001b[0m     current_base_url \u001b[38;5;241m=\u001b[39m \u001b[38;5;28;43mself\u001b[39;49m\u001b[38;5;241;43m.\u001b[39;49m\u001b[43mbase_url\u001b[49m  \u001b[38;5;66;03m# This will try config then env, or raise\u001b[39;00m\n\u001b[0;32m    219\u001b[0m     \u001b[38;5;66;03m# If TqDefaultConfig.get_var is called with raise_error=False and var is not found,\u001b[39;00m\n\u001b[0;32m    220\u001b[0m     \u001b[38;5;66;03m# current_base_url could be a default value or None. Assuming it raises or returns valid str for now.\u001b[39;00m\n\u001b[0;32m    222\u001b[0m     urls_dict: \u001b[38;5;28mdict\u001b[39m[TqSystemEnums, \u001b[38;5;28mstr\u001b[39m] \u001b[38;5;241m=\u001b[39m {\n\u001b[0;32m    223\u001b[0m         TqSystemEnums\u001b[38;5;241m.\u001b[39mCRM: \u001b[38;5;124mf\u001b[39m\u001b[38;5;124m\"\u001b[39m\u001b[38;5;132;01m{\u001b[39;00mcurrent_base_url\u001b[38;5;132;01m}\u001b[39;00m\u001b[38;5;124mauthenticate/login\u001b[39m\u001b[38;5;124m\"\u001b[39m,\n\u001b[0;32m    224\u001b[0m         TqSystemEnums\u001b[38;5;241m.\u001b[39mGIS: \u001b[38;5;124mf\u001b[39m\u001b[38;5;124m\"\u001b[39m\u001b[38;5;132;01m{\u001b[39;00mcurrent_base_url\u001b[38;5;132;01m}\u001b[39;00m\u001b[38;5;124moauth/token\u001b[39m\u001b[38;5;124m\"\u001b[39m,\n\u001b[0;32m    225\u001b[0m         TqSystemEnums\u001b[38;5;241m.\u001b[39mIND_V2: \u001b[38;5;124mf\u001b[39m\u001b[38;5;124m\"\u001b[39m\u001b[38;5;132;01m{\u001b[39;00mcurrent_base_url\u001b[38;5;132;01m}\u001b[39;00m\u001b[38;5;124mauthenticate/login\u001b[39m\u001b[38;5;124m\"\u001b[39m,\n\u001b[0;32m    226\u001b[0m     }\n",
      "File \u001b[1;32mF:\\turnkey\\tqbus_sdk\\tqbus_sdk\\tqsystem.py:175\u001b[0m, in \u001b[0;36mTqSystem.base_url\u001b[1;34m(self)\u001b[0m\n\u001b[0;32m    173\u001b[0m \u001b[38;5;28;01mif\u001b[39;00m \u001b[38;5;28mself\u001b[39m\u001b[38;5;241m.\u001b[39mconfig \u001b[38;5;129;01mand\u001b[39;00m \u001b[38;5;28misinstance\u001b[39m(\u001b[38;5;28mself\u001b[39m\u001b[38;5;241m.\u001b[39mconfig\u001b[38;5;241m.\u001b[39mget(\u001b[38;5;124m\"\u001b[39m\u001b[38;5;124mbase_url\u001b[39m\u001b[38;5;124m\"\u001b[39m), \u001b[38;5;28mstr\u001b[39m) \u001b[38;5;129;01mand\u001b[39;00m \u001b[38;5;28mself\u001b[39m\u001b[38;5;241m.\u001b[39mconfig[\u001b[38;5;124m\"\u001b[39m\u001b[38;5;124mbase_url\u001b[39m\u001b[38;5;124m\"\u001b[39m]:\n\u001b[0;32m    174\u001b[0m     \u001b[38;5;28;01mreturn\u001b[39;00m \u001b[38;5;28mself\u001b[39m\u001b[38;5;241m.\u001b[39mconfig[\u001b[38;5;124m\"\u001b[39m\u001b[38;5;124mbase_url\u001b[39m\u001b[38;5;124m\"\u001b[39m]\n\u001b[1;32m--> 175\u001b[0m \u001b[38;5;28;01mreturn\u001b[39;00m \u001b[38;5;28;43mself\u001b[39;49m\u001b[38;5;241;43m.\u001b[39;49m\u001b[43m_get_env_var\u001b[49m\u001b[43m(\u001b[49m\u001b[38;5;124;43m\"\u001b[39;49m\u001b[38;5;124;43mBASEURL\u001b[39;49m\u001b[38;5;124;43m\"\u001b[39;49m\u001b[43m)\u001b[49m\n",
      "File \u001b[1;32mF:\\turnkey\\tqbus_sdk\\tqbus_sdk\\tqsystem.py:162\u001b[0m, in \u001b[0;36mTqSystem._get_env_var\u001b[1;34m(self, suffix)\u001b[0m\n\u001b[0;32m    151\u001b[0m \u001b[38;5;28;01mdef\u001b[39;00m\u001b[38;5;250m \u001b[39m\u001b[38;5;21m_get_env_var\u001b[39m(\u001b[38;5;28mself\u001b[39m, suffix: \u001b[38;5;28mstr\u001b[39m) \u001b[38;5;241m-\u001b[39m\u001b[38;5;241m>\u001b[39m \u001b[38;5;28mstr\u001b[39m:\n\u001b[0;32m    152\u001b[0m \u001b[38;5;250m    \u001b[39m\u001b[38;5;124;03m\"\"\"\u001b[39;00m\n\u001b[0;32m    153\u001b[0m \u001b[38;5;124;03m    Retrieves an environment variable based on the given suffix.\u001b[39;00m\n\u001b[0;32m    154\u001b[0m \n\u001b[1;32m   (...)\u001b[0m\n\u001b[0;32m    160\u001b[0m \n\u001b[0;32m    161\u001b[0m \u001b[38;5;124;03m    \"\"\"\u001b[39;00m\n\u001b[1;32m--> 162\u001b[0m     \u001b[38;5;28;01mreturn\u001b[39;00m \u001b[43mTqDefaultConfig\u001b[49m\u001b[38;5;241;43m.\u001b[39;49m\u001b[43mget_var\u001b[49m\u001b[43m(\u001b[49m\u001b[43msuffix\u001b[49m\u001b[43m,\u001b[49m\u001b[43m \u001b[49m\u001b[38;5;28;43mself\u001b[39;49m\u001b[38;5;241;43m.\u001b[39;49m\u001b[43mtq_system_enum\u001b[49m\u001b[43m)\u001b[49m\n",
      "File \u001b[1;32mF:\\turnkey\\tqbus_sdk\\tqbus_sdk\\tqsystem.py:35\u001b[0m, in \u001b[0;36mTqDefaultConfig.get_var\u001b[1;34m(suffix, tq_sys_enum, raise_error)\u001b[0m\n\u001b[0;32m     33\u001b[0m var \u001b[38;5;241m=\u001b[39m os\u001b[38;5;241m.\u001b[39mgetenv(key)\n\u001b[0;32m     34\u001b[0m \u001b[38;5;28;01mif\u001b[39;00m raise_error \u001b[38;5;129;01mand\u001b[39;00m \u001b[38;5;129;01mnot\u001b[39;00m var:\n\u001b[1;32m---> 35\u001b[0m     \u001b[38;5;28;01mraise\u001b[39;00m \u001b[38;5;167;01mValueError\u001b[39;00m(\u001b[38;5;124mf\u001b[39m\u001b[38;5;124m\"\u001b[39m\u001b[38;5;132;01m{\u001b[39;00mkey\u001b[38;5;132;01m}\u001b[39;00m\u001b[38;5;124m env var not set!\u001b[39m\u001b[38;5;124m\"\u001b[39m)\n\u001b[0;32m     36\u001b[0m \u001b[38;5;28;01mreturn\u001b[39;00m var\n",
      "\u001b[1;31mValueError\u001b[0m: TQBUS_GIS_BASEURL env var not set!"
     ]
    }
   ],
   "source": [
    "client.gis.endorsements.renew_policy_as_is(policy_no=\"PRM/01/4/01979/24\")"
   ]
  },
  {
   "cell_type": "code",
   "execution_count": 18,
   "metadata": {},
   "outputs": [
    {
     "ename": "HTTPError",
     "evalue": "400 Client Error: {\"reason\":\"Error Renewing Policy: CallableStatementCallback; uncategorized SQLException for SQL [{call api_underwriting_pkg.policyRenewal(?, ?, ?, ?)}]; SQL state [72000]; error code [20015]; ORA-20015: Error tranfering to uw...ORA-20015: A renewal transaction for this policy for UW year 2024 and overlapping dates already exists. Cannot renew for this UW Year.. - ORA-20015: A renewal transaction for this policy for UW year 2024 and overlapping dates already exists. Cannot renew for this UW Year..\\nORA-06512: at \\\"TQ_GIS.API_UNDERWRITING_PKG\\\", line 9\\nORA-06512: at \\\"TQ_GIS.API_UNDERWRITING_PKG\\\", line 1239\\nORA-06512: at \\\"TQ_GIS.API_UNDERWRITING_PKG\\\", line 1239\\nORA-06512: at line 1\\n; nested exception is java.sql.SQLException: ORA-20015: Error tranfering to uw...ORA-20015: A renewal transaction for this policy for UW year 2024 and overlapping dates already exists. Cannot renew for this UW Year.. - ORA-20015: A renewal transaction for this policy for UW year 2024 and overlapping dates already exists. Cannot renew for this UW Year..\\nORA-06512: at \\\"TQ_GIS.API_UNDERWRITING_PKG\\\", line 9\\nORA-06512: at \\\"TQ_GIS.API_UNDERWRITING_PKG\\\", line 1239\\nORA-06512: at \\\"TQ_GIS.API_UNDERWRITING_PKG\\\", line 1239\\nORA-06512: at line 1\\n\",\"message\":\"Failed\",\"status\":\"0\"} for url: https://mutual.turnkeyafrica.com/gis-apis/endorsements/v1/policy-renewal",
     "output_type": "error",
     "traceback": [
      "\u001b[1;31m---------------------------------------------------------------------------\u001b[0m",
      "\u001b[1;31mHTTPError\u001b[0m                                 Traceback (most recent call last)",
      "Cell \u001b[1;32mIn[18], line 1\u001b[0m\n\u001b[1;32m----> 1\u001b[0m \u001b[43mclient2\u001b[49m\u001b[38;5;241;43m.\u001b[39;49m\u001b[43mgis\u001b[49m\u001b[38;5;241;43m.\u001b[39;49m\u001b[43mendorsements\u001b[49m\u001b[38;5;241;43m.\u001b[39;49m\u001b[43mrenew_policy_as_is\u001b[49m\u001b[43m(\u001b[49m\u001b[43mpolicy_no\u001b[49m\u001b[38;5;241;43m=\u001b[39;49m\u001b[38;5;124;43m\"\u001b[39;49m\u001b[38;5;124;43mPRM/01/4/01979/23\u001b[39;49m\u001b[38;5;124;43m\"\u001b[39;49m\u001b[43m)\u001b[49m\n",
      "File \u001b[1;32mF:\\turnkey\\tqbus_sdk\\tqbus_sdk\\gis\\endorsements.py:35\u001b[0m, in \u001b[0;36mEndorsementService.renew_policy_as_is\u001b[1;34m(self, policy_no)\u001b[0m\n\u001b[0;32m     33\u001b[0m url \u001b[38;5;241m=\u001b[39m \u001b[38;5;28mself\u001b[39m\u001b[38;5;241m.\u001b[39msystem\u001b[38;5;241m.\u001b[39mbase_url \u001b[38;5;241m+\u001b[39m \u001b[38;5;124m\"\u001b[39m\u001b[38;5;124mendorsements/v1/policy-renewal\u001b[39m\u001b[38;5;124m\"\u001b[39m\n\u001b[0;32m     34\u001b[0m payload \u001b[38;5;241m=\u001b[39m {\u001b[38;5;124m\"\u001b[39m\u001b[38;5;124mpolicyNo\u001b[39m\u001b[38;5;124m\"\u001b[39m: policy_no}\n\u001b[1;32m---> 35\u001b[0m data \u001b[38;5;241m=\u001b[39m \u001b[38;5;28;43mself\u001b[39;49m\u001b[38;5;241;43m.\u001b[39;49m\u001b[43msystem\u001b[49m\u001b[38;5;241;43m.\u001b[39;49m\u001b[43mrequest\u001b[49m\u001b[43m(\u001b[49m\u001b[38;5;124;43m\"\u001b[39;49m\u001b[38;5;124;43mpost\u001b[39;49m\u001b[38;5;124;43m\"\u001b[39;49m\u001b[43m,\u001b[49m\u001b[43m \u001b[49m\u001b[43murl\u001b[49m\u001b[43m,\u001b[49m\u001b[43m \u001b[49m\u001b[43mjson\u001b[49m\u001b[38;5;241;43m=\u001b[39;49m\u001b[43mpayload\u001b[49m\u001b[43m)\u001b[49m\n\u001b[0;32m     36\u001b[0m \u001b[38;5;28;01mreturn\u001b[39;00m data\n",
      "File \u001b[1;32mF:\\turnkey\\tqbus_sdk\\tqbus_sdk\\tqsystem.py:270\u001b[0m, in \u001b[0;36mTqSystem.request\u001b[1;34m(self, method, url, **kwargs)\u001b[0m\n\u001b[0;32m    268\u001b[0m \u001b[38;5;28;01mif\u001b[39;00m response\u001b[38;5;241m.\u001b[39mstatus_code \u001b[38;5;241m>\u001b[39m\u001b[38;5;241m=\u001b[39m \u001b[38;5;241m300\u001b[39m:  \u001b[38;5;66;03m# inject content to reason\u001b[39;00m\n\u001b[0;32m    269\u001b[0m     response\u001b[38;5;241m.\u001b[39mreason \u001b[38;5;241m=\u001b[39m response\u001b[38;5;241m.\u001b[39mreason \u001b[38;5;129;01mor\u001b[39;00m response\u001b[38;5;241m.\u001b[39mcontent\n\u001b[1;32m--> 270\u001b[0m \u001b[43mresponse\u001b[49m\u001b[38;5;241;43m.\u001b[39;49m\u001b[43mraise_for_status\u001b[49m\u001b[43m(\u001b[49m\u001b[43m)\u001b[49m\n\u001b[0;32m    271\u001b[0m data \u001b[38;5;241m=\u001b[39m response\u001b[38;5;241m.\u001b[39mjson()\n\u001b[0;32m    272\u001b[0m \u001b[38;5;28;01mif\u001b[39;00m \u001b[38;5;28misinstance\u001b[39m(data, \u001b[38;5;28mdict\u001b[39m) \u001b[38;5;129;01mand\u001b[39;00m \u001b[38;5;129;01mnot\u001b[39;00m data\u001b[38;5;241m.\u001b[39mget(\u001b[38;5;124m\"\u001b[39m\u001b[38;5;124msuccess\u001b[39m\u001b[38;5;124m\"\u001b[39m, \u001b[38;5;28;01mTrue\u001b[39;00m):\n",
      "File \u001b[1;32mf:\\turnkey\\tqbus_sdk\\.venv\\Lib\\site-packages\\requests\\models.py:1024\u001b[0m, in \u001b[0;36mResponse.raise_for_status\u001b[1;34m(self)\u001b[0m\n\u001b[0;32m   1019\u001b[0m     http_error_msg \u001b[38;5;241m=\u001b[39m (\n\u001b[0;32m   1020\u001b[0m         \u001b[38;5;124mf\u001b[39m\u001b[38;5;124m\"\u001b[39m\u001b[38;5;132;01m{\u001b[39;00m\u001b[38;5;28mself\u001b[39m\u001b[38;5;241m.\u001b[39mstatus_code\u001b[38;5;132;01m}\u001b[39;00m\u001b[38;5;124m Server Error: \u001b[39m\u001b[38;5;132;01m{\u001b[39;00mreason\u001b[38;5;132;01m}\u001b[39;00m\u001b[38;5;124m for url: \u001b[39m\u001b[38;5;132;01m{\u001b[39;00m\u001b[38;5;28mself\u001b[39m\u001b[38;5;241m.\u001b[39murl\u001b[38;5;132;01m}\u001b[39;00m\u001b[38;5;124m\"\u001b[39m\n\u001b[0;32m   1021\u001b[0m     )\n\u001b[0;32m   1023\u001b[0m \u001b[38;5;28;01mif\u001b[39;00m http_error_msg:\n\u001b[1;32m-> 1024\u001b[0m     \u001b[38;5;28;01mraise\u001b[39;00m HTTPError(http_error_msg, response\u001b[38;5;241m=\u001b[39m\u001b[38;5;28mself\u001b[39m)\n",
      "\u001b[1;31mHTTPError\u001b[0m: 400 Client Error: {\"reason\":\"Error Renewing Policy: CallableStatementCallback; uncategorized SQLException for SQL [{call api_underwriting_pkg.policyRenewal(?, ?, ?, ?)}]; SQL state [72000]; error code [20015]; ORA-20015: Error tranfering to uw...ORA-20015: A renewal transaction for this policy for UW year 2024 and overlapping dates already exists. Cannot renew for this UW Year.. - ORA-20015: A renewal transaction for this policy for UW year 2024 and overlapping dates already exists. Cannot renew for this UW Year..\\nORA-06512: at \\\"TQ_GIS.API_UNDERWRITING_PKG\\\", line 9\\nORA-06512: at \\\"TQ_GIS.API_UNDERWRITING_PKG\\\", line 1239\\nORA-06512: at \\\"TQ_GIS.API_UNDERWRITING_PKG\\\", line 1239\\nORA-06512: at line 1\\n; nested exception is java.sql.SQLException: ORA-20015: Error tranfering to uw...ORA-20015: A renewal transaction for this policy for UW year 2024 and overlapping dates already exists. Cannot renew for this UW Year.. - ORA-20015: A renewal transaction for this policy for UW year 2024 and overlapping dates already exists. Cannot renew for this UW Year..\\nORA-06512: at \\\"TQ_GIS.API_UNDERWRITING_PKG\\\", line 9\\nORA-06512: at \\\"TQ_GIS.API_UNDERWRITING_PKG\\\", line 1239\\nORA-06512: at \\\"TQ_GIS.API_UNDERWRITING_PKG\\\", line 1239\\nORA-06512: at line 1\\n\",\"message\":\"Failed\",\"status\":\"0\"} for url: https://mutual.turnkeyafrica.com/gis-apis/endorsements/v1/policy-renewal"
     ]
    }
   ],
   "source": [
    "client2.gis.endorsements.renew_policy_as_is(policy_no=\"PRM/01/4/01979/23\")"
   ]
  }
 ],
 "metadata": {
  "colab": {
   "provenance": []
  },
  "kernelspec": {
   "display_name": ".venv",
   "language": "python",
   "name": "python3"
  },
  "language_info": {
   "codemirror_mode": {
    "name": "ipython",
    "version": 3
   },
   "file_extension": ".py",
   "mimetype": "text/x-python",
   "name": "python",
   "nbconvert_exporter": "python",
   "pygments_lexer": "ipython3",
   "version": "3.12.6"
  }
 },
 "nbformat": 4,
 "nbformat_minor": 0
}
