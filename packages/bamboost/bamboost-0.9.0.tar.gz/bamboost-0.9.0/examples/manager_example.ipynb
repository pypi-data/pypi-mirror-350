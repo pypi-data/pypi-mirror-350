{
 "cells": [
  {
   "cell_type": "code",
   "execution_count": 1,
   "metadata": {},
   "outputs": [],
   "source": [
    "from dbmanager import Manager\n",
    "from dbmanager import SimulationWriter"
   ]
  },
  {
   "attachments": {},
   "cell_type": "markdown",
   "metadata": {},
   "source": [
    "# Basics\n",
    "\n",
    "- The database manager is a local solution to writing simulation data, to organize parametric runs and to visualize data.\n",
    "It mostly relies on hdf5 and `h5py` for storing data. \n",
    "- The manager object is built on a per directory basis, meaning that this directory represents a block of data for which it makes sense to be grouped and compared. Hence, its constructor requires the path to the desired directory. This can be a new path if you are creating a new database."
   ]
  },
  {
   "cell_type": "code",
   "execution_count": 3,
   "metadata": {},
   "outputs": [
    {
     "data": {
      "text/html": [
       "<div>\n",
       "<style scoped>\n",
       "    .dataframe tbody tr th:only-of-type {\n",
       "        vertical-align: middle;\n",
       "    }\n",
       "\n",
       "    .dataframe tbody tr th {\n",
       "        vertical-align: top;\n",
       "    }\n",
       "\n",
       "    .dataframe thead th {\n",
       "        text-align: right;\n",
       "    }\n",
       "</style>\n",
       "<table border=\"1\" class=\"dataframe\">\n",
       "  <thead>\n",
       "    <tr style=\"text-align: right;\">\n",
       "      <th></th>\n",
       "      <th>id</th>\n",
       "      <th>notes</th>\n",
       "      <th>status</th>\n",
       "      <th>a</th>\n",
       "      <th>processors</th>\n",
       "      <th>time_stamp</th>\n",
       "    </tr>\n",
       "  </thead>\n",
       "  <tbody>\n",
       "    <tr>\n",
       "      <th>0</th>\n",
       "      <td>3500a716</td>\n",
       "      <td></td>\n",
       "      <td>Finished</td>\n",
       "      <td>3</td>\n",
       "      <td>1</td>\n",
       "      <td>2023-07-13 18:26:00</td>\n",
       "    </tr>\n",
       "    <tr>\n",
       "      <th>1</th>\n",
       "      <td>3500a716</td>\n",
       "      <td></td>\n",
       "      <td>Finished</td>\n",
       "      <td>3</td>\n",
       "      <td>1</td>\n",
       "      <td>2023-07-13 18:26:00</td>\n",
       "    </tr>\n",
       "  </tbody>\n",
       "</table>\n",
       "</div>"
      ],
      "text/plain": [
       "         id notes    status  a  processors           time_stamp\n",
       "0  3500a716        Finished  3           1  2023-07-13 18:26:00\n",
       "1  3500a716        Finished  3           1  2023-07-13 18:26:00"
      ]
     },
     "execution_count": 3,
     "metadata": {},
     "output_type": "execute_result"
    }
   ],
   "source": [
    "db = Manager('out2')\n",
    "db.df"
   ]
  },
  {
   "cell_type": "code",
   "execution_count": 4,
   "metadata": {},
   "outputs": [
    {
     "name": "stdout",
     "output_type": "stream",
     "text": [
      "The parameter space may already exist. Here are the duplicates:\n",
      "         id notes    status  a  processors           time_stamp\n",
      "0  bed01b88        Finished  3           1  2023-07-13 18:26:00\n"
     ]
    }
   ],
   "source": [
    "import numpy as np\n",
    "with db.create_simulation(parameters={'a': 3}) as writer:\n",
    "    coords = np.linspace(0, 100, 100)\n",
    "    writer.add_metadata()\n",
    "    writer.add_mesh(np.linspace(0,10, 5), np.array([]))\n",
    "    writer.add_mesh(coords, np.array([]), mesh_name=\"apple\")\n",
    "    writer.add_field('what', 2*coords, time=1e-3, mesh='apple')\n",
    "    writer.add_field('pear', np.array([1, 2, 3, 4, 5]), time=2)"
   ]
  },
  {
   "cell_type": "code",
   "execution_count": 10,
   "metadata": {},
   "outputs": [
    {
     "data": {
      "text/plain": [
       "<HDF5 dataset \"0\": shape (100, 1), type \"<f4\">"
      ]
     },
     "execution_count": 10,
     "metadata": {},
     "output_type": "execute_result"
    }
   ],
   "source": [
    "from dbmanager.common.file_handler import H5Dataset\n",
    "sim = db[1]\n",
    "\n",
    "data = H5Dataset(sim.h5file, 'data/what/0')\n",
    "data"
   ]
  },
  {
   "cell_type": "code",
   "execution_count": 12,
   "metadata": {},
   "outputs": [
    {
     "data": {
      "text/plain": [
       "array([[[  0.],\n",
       "        [  0.],\n",
       "        [  0.],\n",
       "        [  0.],\n",
       "        [  0.]],\n",
       "\n",
       "       [[  9.],\n",
       "        [  7.],\n",
       "        [  0.],\n",
       "        [  8.],\n",
       "        [  3.]],\n",
       "\n",
       "       [[ 36.],\n",
       "        [ 28.],\n",
       "        [  0.],\n",
       "        [ 32.],\n",
       "        [ 12.]],\n",
       "\n",
       "       [[ 81.],\n",
       "        [ 63.],\n",
       "        [  0.],\n",
       "        [ 72.],\n",
       "        [ 27.]],\n",
       "\n",
       "       [[144.],\n",
       "        [112.],\n",
       "        [  0.],\n",
       "        [128.],\n",
       "        [ 48.]]], dtype=float32)"
      ]
     },
     "execution_count": 12,
     "metadata": {},
     "output_type": "execute_result"
    }
   ],
   "source": [
    "\n",
    "arr = sim.data('mult_with_t').arr\n",
    "arr"
   ]
  },
  {
   "attachments": {},
   "cell_type": "markdown",
   "metadata": {},
   "source": [
    "# Creating a simulation\n",
    "\n",
    "- When creating a simulation, a new directory will be created for it in which a `.h5` file will be initiated to hold any parameters and metadata, such as the time of creation.\n",
    "- The argument `uid` is a unique identifier for the simulation and can be any name. If none is specified, a unique identifier will be assigned automatically.\n",
    "- The executable script can be copied for reproducibility (it must be written in a specific way which will be presented later)\n",
    "- A bash/sbatch script can be created for either local execution or submission on Euler."
   ]
  },
  {
   "cell_type": "code",
   "execution_count": 3,
   "metadata": {},
   "outputs": [],
   "source": [
    "db = Manager('out')\n",
    "parameters = {\n",
    "    'timesteps': 2656,\n",
    "    'exponent': 2,\n",
    "}\n",
    "\n",
    "sim1 = db.create_simulation(uid='example_1', parameters=parameters, skip_duplicate_check=True)\n",
    "\n",
    "sim1.change_note('What does this do?')\n",
    "\n",
    "sim1.copy_executable('example_script.py')\n",
    "\n",
    "sim1.create_batch_script(euler=False, ntasks=1)"
   ]
  },
  {
   "cell_type": "code",
   "execution_count": 4,
   "metadata": {},
   "outputs": [
    {
     "name": "stdout",
     "output_type": "stream",
     "text": [
      "The parameter space may already exist. Here are the duplicates:\n",
      "          id                               notes    status  exponent  \\\n",
      "1  example_2  this must have some purpose right?  Finished       1.4   \n",
      "\n",
      "   processors  submitted           time_stamp  timesteps  \n",
      "1           1      False  2023-06-28 17:01:00          5  \n"
     ]
    }
   ],
   "source": [
    "parameters = {\n",
    "    'timesteps': 5,\n",
    "    'exponent': 1.4,\n",
    "}\n",
    "\n",
    "sim2 = db.create_simulation(uid='example_2', parameters=parameters)\n",
    "\n",
    "sim2.change_note('this must have some purpose right?')\n",
    "\n",
    "sim2.copy_executable('example_script.py')\n",
    "\n",
    "sim2.create_batch_script(euler=False, ntasks=1)"
   ]
  },
  {
   "cell_type": "code",
   "execution_count": 5,
   "metadata": {},
   "outputs": [
    {
     "data": {
      "text/html": [
       "<div>\n",
       "<style scoped>\n",
       "    .dataframe tbody tr th:only-of-type {\n",
       "        vertical-align: middle;\n",
       "    }\n",
       "\n",
       "    .dataframe tbody tr th {\n",
       "        vertical-align: top;\n",
       "    }\n",
       "\n",
       "    .dataframe thead th {\n",
       "        text-align: right;\n",
       "    }\n",
       "</style>\n",
       "<table border=\"1\" class=\"dataframe\">\n",
       "  <thead>\n",
       "    <tr style=\"text-align: right;\">\n",
       "      <th></th>\n",
       "      <th>id</th>\n",
       "      <th>notes</th>\n",
       "      <th>status</th>\n",
       "      <th>exponent</th>\n",
       "      <th>processors</th>\n",
       "      <th>submitted</th>\n",
       "      <th>time_stamp</th>\n",
       "      <th>timesteps</th>\n",
       "    </tr>\n",
       "  </thead>\n",
       "  <tbody>\n",
       "    <tr>\n",
       "      <th>0</th>\n",
       "      <td>example_1</td>\n",
       "      <td>What does this do?</td>\n",
       "      <td>Initiated</td>\n",
       "      <td>2.0</td>\n",
       "      <td>1</td>\n",
       "      <td>False</td>\n",
       "      <td>2023-06-28 17:41:00</td>\n",
       "      <td>5</td>\n",
       "    </tr>\n",
       "    <tr>\n",
       "      <th>1</th>\n",
       "      <td>example_2</td>\n",
       "      <td>this must have some purpose right?</td>\n",
       "      <td>Initiated</td>\n",
       "      <td>1.4</td>\n",
       "      <td>1</td>\n",
       "      <td>False</td>\n",
       "      <td>2023-06-28 17:42:00</td>\n",
       "      <td>5</td>\n",
       "    </tr>\n",
       "  </tbody>\n",
       "</table>\n",
       "</div>"
      ],
      "text/plain": [
       "          id                               notes     status  exponent  \\\n",
       "0  example_1                  What does this do?  Initiated       2.0   \n",
       "1  example_2  this must have some purpose right?  Initiated       1.4   \n",
       "\n",
       "   processors  submitted           time_stamp  timesteps  \n",
       "0           1      False  2023-06-28 17:41:00          5  \n",
       "1           1      False  2023-06-28 17:42:00          5  "
      ]
     },
     "execution_count": 5,
     "metadata": {},
     "output_type": "execute_result"
    }
   ],
   "source": [
    "sim = db[0]\n",
    "db.df"
   ]
  },
  {
   "attachments": {},
   "cell_type": "markdown",
   "metadata": {},
   "source": [
    "# The execution script\n",
    "\n",
    "**Requirements**\n",
    "\n",
    "- Using argparse with the following to parsed arguments:\n",
    "    - `path`: the path to the database\n",
    "    - `uid`: the unique identifier of a simulation\n",
    "\n",
    "Both these arguments will be passed automatically when the functionality of creating execution scripts is used. Otherwise, these arguments function as a condensed way of passing any required information to the execution script...\n"
   ]
  },
  {
   "attachments": {},
   "cell_type": "markdown",
   "metadata": {},
   "source": [
    "```python\n",
    "import numpy as np\n",
    "import argparse\n",
    "\n",
    "from dbmanager_v2.simulation import SimulationWriter\n",
    "\n",
    "def main(path, uid):\n",
    "\n",
    "    # initiate the database simulation writer\n",
    "    writer = SimulationWriter(uid, path)\n",
    "    writer.register_git_attributes()\n",
    "    writer.add_metadata()\n",
    "\n",
    "    # to load the parameters of this simulation use\n",
    "    parameters = writer.parameters\n",
    "    \n",
    "    # do what you have to do\n",
    "    # here we create a simple mesh\n",
    "    coords = np.array([\n",
    "        [0., 0.],\n",
    "        [1., 0.],\n",
    "        [2., 0.],\n",
    "        [0., 1.],\n",
    "        [1., 2.]\n",
    "    ])\n",
    "    \n",
    "    initial_values = np.random.randint(0, 10, 5)\n",
    "    \n",
    "    for t in range(parameters['timesteps']):\n",
    "\n",
    "        result = initial_values * t**parameters['exponent']\n",
    "        \n",
    "        # write the coordinates\n",
    "        # if you have a mesh with coords and connectivity, you can add a global mesh with\n",
    "        # writer.add_mesh(coords, conn) outside this for loop\n",
    "        writer.add_field('coords', coords, time=t)\n",
    "        \n",
    "        # write the data\n",
    "        writer.add_field('mult_with_t', result, time=t)\n",
    "\n",
    "        # write a global quantity\n",
    "        writer.add_global_field('sum', np.sum(result))        \n",
    "        \n",
    "        # finish the step, required\n",
    "        writer.finish_step()\n",
    "\n",
    "    # finish sim, not required\n",
    "    writer.finish_sim()\n",
    "\n",
    "\n",
    "if __name__ == '__main__':\n",
    "\n",
    "    parser = argparse.ArgumentParser()\n",
    "    parser.add_argument('--path', type=str)\n",
    "    parser.add_argument('--uid', type=str)\n",
    "    args = parser.parse_args()\n",
    "\n",
    "    main(args.path, args.uid)\n",
    "```"
   ]
  },
  {
   "attachments": {},
   "cell_type": "markdown",
   "metadata": {},
   "source": [
    "# Viewing data"
   ]
  },
  {
   "cell_type": "code",
   "execution_count": 1,
   "metadata": {},
   "outputs": [
    {
     "data": {
      "text/html": [
       "<div>\n",
       "<style scoped>\n",
       "    .dataframe tbody tr th:only-of-type {\n",
       "        vertical-align: middle;\n",
       "    }\n",
       "\n",
       "    .dataframe tbody tr th {\n",
       "        vertical-align: top;\n",
       "    }\n",
       "\n",
       "    .dataframe thead th {\n",
       "        text-align: right;\n",
       "    }\n",
       "</style>\n",
       "<table border=\"1\" class=\"dataframe\">\n",
       "  <thead>\n",
       "    <tr style=\"text-align: right;\">\n",
       "      <th></th>\n",
       "      <th>id</th>\n",
       "      <th>notes</th>\n",
       "      <th>status</th>\n",
       "      <th>a</th>\n",
       "      <th>exponent</th>\n",
       "      <th>processors</th>\n",
       "      <th>submitted</th>\n",
       "      <th>time_stamp</th>\n",
       "      <th>timesteps</th>\n",
       "    </tr>\n",
       "  </thead>\n",
       "  <tbody>\n",
       "    <tr>\n",
       "      <th>0</th>\n",
       "      <td>example_1</td>\n",
       "      <td>Ah I see what you are doing...</td>\n",
       "      <td>Finished</td>\n",
       "      <td>NaN</td>\n",
       "      <td>2.0</td>\n",
       "      <td>1</td>\n",
       "      <td>False</td>\n",
       "      <td>2023-07-31 15:01:00</td>\n",
       "      <td>2656.0</td>\n",
       "    </tr>\n",
       "    <tr>\n",
       "      <th>1</th>\n",
       "      <td>example_2</td>\n",
       "      <td>aojgaoirjg</td>\n",
       "      <td>Finished</td>\n",
       "      <td>NaN</td>\n",
       "      <td>1.4</td>\n",
       "      <td>1</td>\n",
       "      <td>False</td>\n",
       "      <td>2023-07-31 17:40:28</td>\n",
       "      <td>5.0</td>\n",
       "    </tr>\n",
       "    <tr>\n",
       "      <th>2</th>\n",
       "      <td>8c332c03</td>\n",
       "      <td></td>\n",
       "      <td>Finished</td>\n",
       "      <td>3.0</td>\n",
       "      <td>NaN</td>\n",
       "      <td>1</td>\n",
       "      <td>NaN</td>\n",
       "      <td>2023-07-13 18:09:00</td>\n",
       "      <td>NaN</td>\n",
       "    </tr>\n",
       "  </tbody>\n",
       "</table>\n",
       "</div>"
      ],
      "text/plain": [
       "          id                           notes    status    a  exponent  \\\n",
       "0  example_1  Ah I see what you are doing...  Finished  NaN       2.0   \n",
       "1  example_2                      aojgaoirjg  Finished  NaN       1.4   \n",
       "2   8c332c03                                  Finished  3.0       NaN   \n",
       "\n",
       "   processors submitted           time_stamp  timesteps  \n",
       "0           1     False  2023-07-31 15:01:00     2656.0  \n",
       "1           1     False  2023-07-31 17:40:28        5.0  \n",
       "2           1       NaN  2023-07-13 18:09:00        NaN  "
      ]
     },
     "execution_count": 1,
     "metadata": {},
     "output_type": "execute_result"
    }
   ],
   "source": [
    "from bamboost import Manager\n",
    "import numpy as np\n",
    "db = Manager('out')\n",
    "db.df"
   ]
  },
  {
   "cell_type": "code",
   "execution_count": 6,
   "metadata": {},
   "outputs": [
    {
     "data": {
      "text/plain": [
       "array([[0.19739932, 0.6128616 ],\n",
       "       [0.14721295, 0.51020974],\n",
       "       [0.05807517, 0.6004116 ],\n",
       "       [0.37866572, 0.9953071 ],\n",
       "       [0.74532026, 0.2457033 ],\n",
       "       [0.9309204 , 0.77416164],\n",
       "       [0.31410202, 0.7872507 ],\n",
       "       [0.9607823 , 0.6779158 ],\n",
       "       [0.4878306 , 0.27711028],\n",
       "       [0.39510974, 0.8640306 ]], dtype=float32)"
      ]
     },
     "execution_count": 6,
     "metadata": {},
     "output_type": "execute_result"
    }
   ],
   "source": [
    "sim = db['example_1']\n",
    "more = sim.userdata['more']\n",
    "meshes = sim.userdata['custom_meshes']\n",
    "meshes.add_dataset('blubb', np.random.random((10, 2)))\n",
    "meshes['blubb']"
   ]
  },
  {
   "cell_type": "code",
   "execution_count": 25,
   "metadata": {},
   "outputs": [
    {
     "data": {
      "text/html": [
       "<div>\n",
       "<style scoped>\n",
       "    .dataframe tbody tr th:only-of-type {\n",
       "        vertical-align: middle;\n",
       "    }\n",
       "\n",
       "    .dataframe tbody tr th {\n",
       "        vertical-align: top;\n",
       "    }\n",
       "\n",
       "    .dataframe thead th {\n",
       "        text-align: right;\n",
       "    }\n",
       "</style>\n",
       "<table border=\"1\" class=\"dataframe\">\n",
       "  <thead>\n",
       "    <tr style=\"text-align: right;\">\n",
       "      <th></th>\n",
       "      <th>coords</th>\n",
       "      <th>mult_with_t</th>\n",
       "    </tr>\n",
       "  </thead>\n",
       "  <tbody>\n",
       "    <tr>\n",
       "      <th>dtype</th>\n",
       "      <td>float32</td>\n",
       "      <td>float32</td>\n",
       "    </tr>\n",
       "    <tr>\n",
       "      <th>shape</th>\n",
       "      <td>(5, 2)</td>\n",
       "      <td>(5, 1)</td>\n",
       "    </tr>\n",
       "    <tr>\n",
       "      <th>steps</th>\n",
       "      <td>2656</td>\n",
       "      <td>2656</td>\n",
       "    </tr>\n",
       "  </tbody>\n",
       "</table>\n",
       "</div>"
      ],
      "text/plain": [
       "        coords mult_with_t\n",
       "dtype  float32     float32\n",
       "shape   (5, 2)      (5, 1)\n",
       "steps     2656        2656"
      ]
     },
     "execution_count": 25,
     "metadata": {},
     "output_type": "execute_result"
    }
   ],
   "source": [
    "sim.userdata.add_data('more', np.random.random(size=(10, 20, 2)), attrs=dict(mesh='none'))\n",
    "\n",
    "sim.data_info"
   ]
  },
  {
   "cell_type": "code",
   "execution_count": 63,
   "metadata": {},
   "outputs": [
    {
     "data": {
      "text/plain": [
       "(2, 3, 3)"
      ]
     },
     "execution_count": 63,
     "metadata": {},
     "output_type": "execute_result"
    }
   ],
   "source": [
    "sim = db['example_1']\n",
    "data = sim.data['mult_with_t']"
   ]
  },
  {
   "cell_type": "markdown",
   "metadata": {},
   "source": [
    "# sim.globals\n",
    "import numpy as np\n",
    "import dbmanager\n",
    "dbmanager.set_log_level(30)\n",
    "\n",
    "from dbmanager import Manager\n",
    "db = Manager('out')\n",
    "sim = db.sim('example_1')\n",
    "\n",
    "mwt = sim.data['mult_with_t']\n",
    "\n",
    "sim.data['coords'].mesh.coordinates\n",
    "\n",
    "sim = db['example_2']\n",
    "\n",
    "db.data_info\n",
    "\n",
    "sim.add_postprocess_field('some', [1, 2, 3])\n",
    "sim.change_note('aojgaoirjg')\n"
   ]
  },
  {
   "cell_type": "code",
   "execution_count": 2,
   "metadata": {},
   "outputs": [
    {
     "data": {
      "text/plain": [
       "<Axes: xlabel='eps', ylabel='mobility'>"
      ]
     },
     "execution_count": 2,
     "metadata": {},
     "output_type": "execute_result"
    },
    {
     "data": {
      "image/png": "[encoded data removed]",
      "text/plain": [
       "<Figure size 640x480 with 1 Axes>"
      ]
     },
     "metadata": {},
     "output_type": "display_data"
    }
   ],
   "source": [
    "from bamboost import Manager\n",
    "\n",
    "db = Manager('../../growth-phasefield/contact/paper_01/out/')\n",
    "sim = db['hertz_eps_01_fine_mob8']\n",
    "\n",
    "# sim.globals\n",
    "import matplotlib.pyplot as plt\n",
    "\n",
    "df = db.df\n",
    "df.plot('eps', 'mobility', kind='scatter', marker='x')"
   ]
  },
  {
   "cell_type": "code",
   "execution_count": 57,
   "metadata": {},
   "outputs": [
    {
     "data": {
      "text/plain": [
       "<class 'bamboost.common.hdf_pointer.Dataset'> pointing to: <HDF5 dataset \"var\": shape (3,), type \"<f4\">"
      ]
     },
     "execution_count": 57,
     "metadata": {},
     "output_type": "execute_result"
    },
    {
     "data": {
      "image/png": "[encoded data removed]",
      "text/plain": [
       "<Figure size 640x480 with 1 Axes>"
      ]
     },
     "metadata": {},
     "output_type": "display_data"
    }
   ],
   "source": [
    "db.df\n",
    "sims = db.sims(db.df.mobility.isin((1e-6, 1e-8)) & (db.df.eps==.2))\n",
    "\n",
    "for sim in sims:\n",
    "    plt.plot(sim.globals['wall_position'], sim.globals['traction_y'])\n",
    "    \n",
    "sim = sims[0]\n",
    "sim.data.keys()\n",
    "\n",
    "import numpy as np\n",
    "sim.userdata.add_dataset('var', np.array([1, 2, 3]))\n",
    "group = sim.userdata.require_group('group1')\n",
    "group.add_dataset('blasb', np.array([1, 4, 5, 6, 7, 5]))\n",
    "\n",
    "sim.userdata['var']"
   ]
  },
  {
   "cell_type": "code",
   "execution_count": 4,
   "metadata": {},
   "outputs": [
    {
     "data": {
      "text/plain": [
       "0"
      ]
     },
     "execution_count": 4,
     "metadata": {},
     "output_type": "execute_result"
    }
   ],
   "source": [
    "ll = ('a', 'b', 'c')\n",
    "lb = ()\n",
    "sum(1 for i in ll if i in lb)"
   ]
  }
 ],
 "metadata": {
  "kernelspec": {
   "display_name": "Python 3",
   "language": "python",
   "name": "python3"
  },
  "language_info": {
   "codemirror_mode": {
    "name": "ipython",
    "version": 3
   },
   "file_extension": ".py",
   "mimetype": "text/x-python",
   "name": "python",
   "nbconvert_exporter": "python",
   "pygments_lexer": "ipython3",
   "version": "3.10.12"
  },
  "orig_nbformat": 4
 },
 "nbformat": 4,
 "nbformat_minor": 2
}
