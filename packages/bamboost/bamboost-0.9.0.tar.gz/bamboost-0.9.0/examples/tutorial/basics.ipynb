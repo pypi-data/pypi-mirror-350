{
 "cells": [
  {
   "cell_type": "markdown",
   "metadata": {},
   "source": [
    "<div align=\"center\"> <h1> \n",
    "Bamboost<br/>\n",
    "🐼🐼🐼🐼\n",
    "</h1> </div>\n",
    "\n",
    "Bamboost is a Python library built for datamanagement using the HDF5 file format.\n",
    "bamboost stands for a lightweight shelf which will boost your efficiency and which\n",
    "will totally break if you load it heavily. Just kidding, bamboo can fully carry pandas. \n",
    "\n",
    "### Data architecture\n",
    "<img src=\"./assets/data_architecture.excalidraw.png\" >"
   ]
  },
  {
   "cell_type": "markdown",
   "metadata": {},
   "source": [
    "\n",
    "### Installation\n",
    "Requirements for the library: `h5py`, `mpi4py`, `numpy`, `pandas`\n",
    "\n",
    "In addition, for the model in this tutorial: `scipy` \n",
    "\n",
    "\n",
    "> Clone the repo ([link](https://gitlab.ethz.ch/compmechmat/research/libs/bamboost)):\n",
    "> ```\n",
    "> git clone git@gitlab.ethz.ch:compmechmat/research/libs/bamboost.git \n",
    "> ```\n",
    " \n",
    "> Install the package using pip:\n",
    "> ```\n",
    "> pip install -e .\n",
    "> ```"
   ]
  },
  {
   "cell_type": "code",
   "execution_count": 1,
   "metadata": {},
   "outputs": [],
   "source": [
    "import numpy as np\n",
    "import matplotlib.pyplot as plt\n",
    "\n",
    "# Import Manager from bamboost:\n",
    "from bamboost import Manager\n",
    "\n",
    "from lattice_model import LatticeModel  # this is the small model we will use for fun"
   ]
  },
  {
   "cell_type": "markdown",
   "metadata": {},
   "source": [
    "### Mockup problem\n",
    "\n",
    "To try out _bamboost_ we will look at a discrete RVE made up of trusses. The specimen is a unit square $x\\in[0,1]$ and $y\\in[0,1]$.\n",
    "- `N` controls the amount of nodes\n",
    "- `E` is the young's modulus which we will keep constant and equal to $1$ for brevity\n",
    "- `randomness` is a parameter we use to randomly move the points away from their position in a regular grid. The larger it is, the further the points are moved from the initial position.\n",
    "\n",
    "We will fix the bottom of the sample and move the top horizontally.\n",
    "The system is solved using the direct stiffness method under the small strain assumption.\n",
    "However, the sample can be \"loaded\" incrementally to imititate geometrical nonlinearities.\n",
    "I have no clue whether the model is justified, but this tutorial is about using bamboost to store and retrieve data, so it doesn't matter at all :)\n",
    "\n",
    "We will record the \n",
    "- the **nodal displacements**\n",
    "- the **nodal forces** \n",
    "- the total **reaction force** at the bottom edge\n",
    "\n",
    "A few functions of the model we can use:\n",
    "- `get_force_bottom()`: returns the total reaction forces ($F_x$, $F_y$) at the bottom edge\n",
    "- `plot()`: plot the system"
   ]
  },
  {
   "cell_type": "code",
   "execution_count": null,
   "metadata": {},
   "outputs": [],
   "source": [
    "# You can try the effect of N and randomness here\n",
    "E = 1\n",
    "N = 20\n",
    "randomness = .1\n",
    "step = .1\n",
    "\n",
    "model = LatticeModel(E, N, randomness)\n",
    "model.plot()"
   ]
  },
  {
   "cell_type": "markdown",
   "metadata": {},
   "source": [
    "Let's compute the response of 20 steps where in each step we move the top edge by 0.1..."
   ]
  },
  {
   "cell_type": "code",
   "execution_count": null,
   "metadata": {},
   "outputs": [],
   "source": [
    "E = 1\n",
    "N = 10\n",
    "randomness = 0\n",
    "step = .1\n",
    "\n",
    "model = LatticeModel(E, N, randomness)\n",
    "\n",
    "# displace the top edge in x-direction 21 times given by the vector:\n",
    "loadsteps = np.linspace(0, 2, 21)\n",
    "bottom_forces = list()\n",
    "for disp, change in zip(loadsteps, np.diff(loadsteps, prepend=0)):\n",
    "    model.move_top(change)\n",
    "    model.solve()\n",
    "    bottom_forces.append(model.get_force_bottom())\n",
    "    \n",
    "fig = plt.figure(figsize=(3.5, 2))\n",
    "plt.plot(loadsteps, bottom_forces, label=('$F_x$', '$F_y$'))\n",
    "plt.legend()"
   ]
  },
  {
   "cell_type": "code",
   "execution_count": null,
   "metadata": {},
   "outputs": [],
   "source": [
    "model.plot()"
   ]
  },
  {
   "cell_type": "markdown",
   "metadata": {},
   "source": [
    "---\n",
    "\n",
    "### Now, we want to save that data\n",
    "because data is all we want"
   ]
  },
  {
   "cell_type": "code",
   "execution_count": null,
   "metadata": {},
   "outputs": [],
   "source": [
    "# CREATE A DATABASE WITH SOME FANCY NAME AND DISPLAY IT:\n",
    "\n",
    "..."
   ]
  },
  {
   "cell_type": "code",
   "execution_count": null,
   "metadata": {},
   "outputs": [],
   "source": [
    "# GIVE A NAME FOR THIS TEST SIMULATION:\n",
    "name_for_this_test = ...\n",
    "\n",
    "# GENERATE A DICTIONARY WITH ALL PARAMETERS:\n",
    "parameters = {\n",
    "    'E': 1,\n",
    "    'N': 10,\n",
    "    'randomness': 1e-2,\n",
    "}\n",
    "\n",
    "# create the lattice model\n",
    "model = LatticeModel(parameters['E'], parameters['N'], parameters['randomness'])\n",
    "\n",
    "# CREATE A NEW SIMULATION IN YOUR DATABASE:\n",
    "writer = ...\n",
    "\n",
    "# bamboost: OPTIONAL, we can use the with block to tag the file ('running', 'finished', 'failed')\n",
    "with writer:\n",
    "\n",
    "    # WRITE THE MESH:\n",
    "    ...\n",
    "    \n",
    "    # WRITE METADATA:\n",
    "    ...\n",
    "    \n",
    "    # MAKE A NOTE FOR LATER YOU:\n",
    "    ...\n",
    "\n",
    "    # model: loop through 40 loadsteps\n",
    "    loadsteps = np.linspace(0, 4, 40)\n",
    "    for disp, change in zip(loadsteps, np.diff(loadsteps, prepend=0)):\n",
    "        model.move_top(change)\n",
    "        model.solve()\n",
    "        \n",
    "        # WRITE THE NODAL DISPLACEMENTS FOR THIS STEP (use the displacement value as \"time\"):\n",
    "        ...\n",
    "        \n",
    "        # WRITE THE NODAL FORCES FOR THIS STEP:\n",
    "        ...\n",
    "\n",
    "        # WRITE THE TOP DISPLACEMENT, AND THE BOTTOM REACTION FORCE:\n",
    "        ...\n",
    "        \n",
    "        # bamboost: end the step, will increase an internal step counter\n",
    "        writer.finish_step()\n"
   ]
  },
  {
   "cell_type": "code",
   "execution_count": null,
   "metadata": {},
   "outputs": [],
   "source": [
    "# Now our database is not empty anymore :D\n",
    "db = Manager('database-test')\n",
    "db.df"
   ]
  },
  {
   "cell_type": "markdown",
   "metadata": {},
   "source": [
    "### Mining the data"
   ]
  },
  {
   "cell_type": "code",
   "execution_count": null,
   "metadata": {},
   "outputs": [],
   "source": [
    "# ACCESS THE SIMULATION WE HAVE DONE:\n",
    "sim = ..."
   ]
  },
  {
   "cell_type": "markdown",
   "metadata": {},
   "source": [
    "**1. Accessing the global data**"
   ]
  },
  {
   "cell_type": "code",
   "execution_count": null,
   "metadata": {},
   "outputs": [],
   "source": [
    "# VIEW THE GLOBAL DATA WE STORED:\n",
    "..."
   ]
  },
  {
   "cell_type": "code",
   "execution_count": null,
   "metadata": {},
   "outputs": [],
   "source": [
    "# PLOT THE DISPLACEMENT-FORCE CURVE:\n",
    "..."
   ]
  },
  {
   "cell_type": "markdown",
   "metadata": {},
   "source": [
    "**2. Accessing the field data**\n",
    "\n",
    "The field data is accessible using the `Simulation` member `data`..."
   ]
  },
  {
   "cell_type": "code",
   "execution_count": null,
   "metadata": {},
   "outputs": [],
   "source": [
    "# PRINT INFORMATION ON THE DATA STORED:\n",
    "..."
   ]
  },
  {
   "cell_type": "code",
   "execution_count": null,
   "metadata": {},
   "outputs": [],
   "source": [
    "# RETRIEVE THE NODAL-DISPLACEMENTS OF THE LAST STEP:\n",
    "nodal_disp = ..."
   ]
  },
  {
   "cell_type": "code",
   "execution_count": null,
   "metadata": {},
   "outputs": [],
   "source": [
    "# lets plot the displaced lattice at step 10 of 40 (use function `plot_lattice`)\n",
    "from lattice_model import plot_lattice\n",
    "\n",
    "# GET THE MESH:\n",
    "coords, conn = ...\n",
    "\n",
    "# GET THE NODAL DISPLACEMENT AT STEP 10:\n",
    "disp = ...\n",
    "\n",
    "\n",
    "plot_lattice(coords, conn, disp);"
   ]
  },
  {
   "cell_type": "code",
   "execution_count": null,
   "metadata": {},
   "outputs": [],
   "source": [
    "# Let's plot the average x-component of the absolute nodal forces vs top displacement\n",
    "# (which acts here as an indicator of element forces...)\n",
    "\n",
    "# TOP DISPLACEMENT VECTOR:\n",
    "top_disp = ...\n",
    "\n",
    "# CONSTRUCT THE DESIRED QUANTITY:\n",
    "avg_fx = ...\n",
    "\n",
    "plt.plot(top_disp, avg_fx)"
   ]
  }
 ],
 "metadata": {
  "kernelspec": {
   "display_name": "Python 3",
   "language": "python",
   "name": "python3"
  },
  "language_info": {
   "codemirror_mode": {
    "name": "ipython",
    "version": 3
   },
   "file_extension": ".py",
   "mimetype": "text/x-python",
   "name": "python",
   "nbconvert_exporter": "python",
   "pygments_lexer": "ipython3",
   "version": "3.10.12"
  },
  "orig_nbformat": 4
 },
 "nbformat": 4,
 "nbformat_minor": 2
}
