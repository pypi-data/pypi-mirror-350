{
 "cells": [
  {
   "cell_type": "markdown",
   "metadata": {},
   "source": [
    "<div align=\"center\"> <h1> \n",
    "Bamboost<br/>\n",
    "🐼🐼🐼🐼\n",
    "</h1> </div>\n",
    "\n",
    "Bamboost is a Python library built for datamanagement using the HDF5 file format.\n",
    "bamboost stands for a lightweight shelf which will boost your efficiency and which\n",
    "will totally break if you load it heavily. Just kidding, bamboo can fully carry pandas. \n",
    "\n",
    "### Data architecture\n",
    "<img src=\"./assets/data_architecture.excalidraw.png\" >"
   ]
  },
  {
   "cell_type": "code",
   "execution_count": null,
   "metadata": {},
   "outputs": [],
   "source": [
    "import numpy as np\n",
    "import matplotlib.pyplot as plt\n",
    "\n",
    "from bamboost import Manager\n",
    "\n",
    "from lattice_model import LatticeModel"
   ]
  },
  {
   "cell_type": "markdown",
   "metadata": {},
   "source": [
    "## Parametric study\n",
    "Let's run many simulations on the lattice model from before.\n",
    "\n",
    "Remember that we have 3 parameters:\n",
    "- `N` controls the amount of nodes\n",
    "- `E` is the young's modulus which we will keep constant and equal to $1$ for brevity\n",
    "- `randomness` is a parameter we use to randomly move the points away from their position in a regular grid. The larger it is, the further the points are moved from the initial position.\n",
    "\n",
    "The young's modulus is very uninteresting in this case, so we'll limit ourselfs on the number of nodes and the perturbation of nodal positions."
   ]
  },
  {
   "cell_type": "markdown",
   "metadata": {},
   "source": [
    "\n",
    "\n",
    "### Model execution\n",
    "We imitate some program which computes the model with a simple function.\n",
    "It will take a bamboost `simulation` object as input and run all the computations.\n",
    "\n",
    "Let's first build this function. It does the same as we have done in the previous tutorial.\n",
    "Contrary to before, we will also store the loadsteps as an input parameter of the simulation.\n",
    "To do so, we add the numpy array with the loadsteps to the parameter dictionary."
   ]
  },
  {
   "cell_type": "code",
   "execution_count": null,
   "metadata": {},
   "outputs": [],
   "source": [
    "def run_simulation(sim):\n",
    "    \"\"\"Execute the model computation.\n",
    "    \n",
    "    Args:\n",
    "        sim: the simulation object\n",
    "    \"\"\"\n",
    "\n",
    "    # RETRIEVE THE PARAMETERS\n",
    "    parameters = sim.parameters\n",
    "\n",
    "    # setup the lattice model\n",
    "    model = LatticeModel(parameters['E'], parameters['N'], parameters['randomness'])\n",
    "\n",
    "    with sim:\n",
    "        # WRITE THE MESH:\n",
    "        sim.add_mesh(model.coordinates, model.connectivity)\n",
    "        \n",
    "        # WRITE METADATA:\n",
    "        sim.add_metadata()\n",
    "        \n",
    "        # MAKE A NOTE FOR LATER YOU:\n",
    "        sim.change_note('we are on the mountain')\n",
    "\n",
    "        # model: loop through the loadsteps\n",
    "        loadsteps = parameters['loadsteps']\n",
    "\n",
    "        for disp, change in zip(loadsteps, np.diff(loadsteps, prepend=0)):\n",
    "            model.move_top(change)\n",
    "            model.solve()\n",
    "            \n",
    "            # WRITE THE NODAL DISPLACEMENTS FOR THIS STEP (use the displacement value as \"time\"):\n",
    "            sim.add_field('nodal_displacement', model.displacements, time=disp)\n",
    "            \n",
    "            # WRITE THE NODAL FORCES FOR THIS STEP:\n",
    "            sim.add_field('nodal_force', model.forces, time=disp)\n",
    "\n",
    "            # WRITE THE TOP DISPLACEMENT, AND THE BOTTOM REACTION FORCE:\n",
    "            sim.add_global_field('top_disp', disp)\n",
    "            sim.add_global_field('bottom_force_x', model.get_force_bottom()[0])\n",
    "            sim.add_global_field('bottom_force_y', model.get_force_bottom()[1])\n",
    "            \n",
    "            # bamboost: end the step, will increase an internal step counter\n",
    "            sim.finish_step()\n",
    "        \n",
    "    return 'Success yey'\n"
   ]
  },
  {
   "cell_type": "markdown",
   "metadata": {},
   "source": [
    "### Creation of simulations\n",
    "We want to run simulations for the following parameters:\n",
    "- `N`: 10, 20, 30\n",
    "- `randomness`: 0.1, 0.2, 0.3\n",
    "\n",
    "First, we create a bunch of simulations."
   ]
  },
  {
   "cell_type": "code",
   "execution_count": null,
   "metadata": {},
   "outputs": [],
   "source": [
    "# CREATE A NEW DATABASE\n",
    "db = Manager('database')\n",
    "db.df"
   ]
  },
  {
   "cell_type": "code",
   "execution_count": null,
   "metadata": {},
   "outputs": [],
   "source": [
    "from itertools import product\n",
    "\n",
    "# DEFINE THE POSSIBLE PARAMETERS\n",
    "vec_N = [10, 20, 30]\n",
    "vec_random = [.1, .2, .3]\n",
    "\n",
    "# We can use product from itertools to get all combinations from the two arrays\n",
    "for N, randomness in product(vec_N, vec_random):\n",
    "    \n",
    "    # CREATE PARAMETER DICTIONARY\n",
    "    params = {\n",
    "        'E': 1,\n",
    "        'N': N,\n",
    "        'randomness': randomness,\n",
    "        'loadsteps': np.linspace(0, 2, 20),\n",
    "    }\n",
    "\n",
    "    # CREATE SIMULATION IN DATABASE\n",
    "    db.create_simulation(parameters=params)"
   ]
  },
  {
   "cell_type": "code",
   "execution_count": null,
   "metadata": {},
   "outputs": [],
   "source": [
    "# see that we now have 9 simulations in our database\n",
    "db.df"
   ]
  },
  {
   "cell_type": "markdown",
   "metadata": {},
   "source": [
    "### Execution of simulations\n",
    "Next, we can execute all simulations."
   ]
  },
  {
   "cell_type": "code",
   "execution_count": null,
   "metadata": {},
   "outputs": [],
   "source": [
    "# LOOP THROUGH ALL SIMULATIONS:\n",
    "for sim in db.sims(db.df.status=='Initiated', return_writer=True):\n",
    "    \n",
    "    print(f'Starting simulation {sim.uid}', flush=True)\n",
    "    \n",
    "    # CALL RUN FUNCTION:\n",
    "    run_simulation(sim)"
   ]
  },
  {
   "cell_type": "code",
   "execution_count": null,
   "metadata": {},
   "outputs": [],
   "source": [
    "# see that now all are finished (it has the note)\n",
    "db.df"
   ]
  },
  {
   "cell_type": "markdown",
   "metadata": {},
   "source": [
    "### Data mining\n",
    "Now that we have all our runs completed, we can look at results."
   ]
  },
  {
   "cell_type": "code",
   "execution_count": null,
   "metadata": {},
   "outputs": [],
   "source": [
    "# PLOT THE PARAMETRIC SPACE:\n",
    "db = Manager('database')\n",
    "db.df.plot('N', 'randomness', kind='scatter')"
   ]
  },
  {
   "cell_type": "code",
   "execution_count": null,
   "metadata": {},
   "outputs": [],
   "source": [
    "from lattice_model import plot_lattice\n",
    "\n",
    "# PLOT THE DEFORMED LATTICE FOR A SPECIFIC SIM:\n",
    "N = 10\n",
    "randomness = 0.1\n",
    "sim = db.sims((db.df.N==N) & (db.df.randomness==randomness))[0]\n",
    "print(sim.parameters)\n",
    "\n",
    "plot_lattice(*sim.mesh, sim.data['nodal_displacement'][10])"
   ]
  },
  {
   "cell_type": "code",
   "execution_count": null,
   "metadata": {},
   "outputs": [],
   "source": [
    "fig, axes = plt.subplots(1, 2)\n",
    "ax, bx = axes\n",
    "ax.set(xlabel='N', ylabel='Fx')\n",
    "bx.set(xlabel='randomness', ylabel='Fx')\n",
    "\n",
    "# PLOT THE FINAL HORIZONTAL FORCE VS N:\n",
    "ni = [sim.parameters['N'] for sim in db]\n",
    "fxi = [sim.globals['bottom_force_x'].iloc[-1] for sim in db]\n",
    "ax.scatter(ni, fxi, alpha=.5, s=100)\n",
    "\n",
    "# PLOT THE FINAL HORIZONTAL FORCE VS RANDOMNESS:\n",
    "for sim in db:\n",
    "    cb = bx.scatter(\n",
    "        sim.parameters['randomness'],\n",
    "        sim.globals['bottom_force_x'].iloc[-1],\n",
    "        alpha=.5, s=100,\n",
    "        color='k',\n",
    "    )\n",
    "fig.tight_layout()"
   ]
  },
  {
   "cell_type": "code",
   "execution_count": null,
   "metadata": {},
   "outputs": [],
   "source": [
    "# PLOT THE AVERAGE ABSOLUTE NODAL FORCE FOR ALL RUNS OF N=20:\n",
    "\n",
    "sims = db.sims(db.df.N==20, sort='randomness')\n",
    "\n",
    "for sim in sims:\n",
    "    plt.plot(sim.globals['top_disp'],\n",
    "             np.abs(sim.data['nodal_force'][:, :, 0]).mean(axis=1),\n",
    "             label=f\"randomness = {sim.parameters['randomness']}\",\n",
    "    )\n",
    "plt.legend()\n"
   ]
  },
  {
   "cell_type": "code",
   "execution_count": null,
   "metadata": {},
   "outputs": [],
   "source": [
    "# GET ALL SIMS IN A LIST\n",
    "sims = db.sims()\n",
    "\n",
    "# SORT THE SIMS BY THE ABSOLUTE NODAL DISPLACEMENT OF THE NODE CLOSEST TO (x,y)=(.5,.5):\n",
    "def get_center_displacement(sim):\n",
    "    center_node_idx = np.argmin(np.linalg.norm(sim.mesh[0] - np.array([.5, .5]), axis=1))    \n",
    "    center_displacement = sim.data['nodal_displacement'][-1, center_node_idx]\n",
    "    center_displacement_norm = np.linalg.norm(center_displacement)\n",
    "    return center_displacement_norm\n",
    "\n",
    "sorted_sims = sorted(sims, key=lambda sim: key_function(sim))\n",
    "\n",
    "# PLOT THE CENTER NODE DISPLACEMENT\n",
    "fig = plt.figure()\n",
    "ax = fig.add_subplot(111)\n",
    "ax.plot(\n",
    "    [get_center_displacement(sim) for sim in sorted_sims]\n",
    ")\n",
    "\n",
    "# CHECK WHETHER THIS VALUE CORRELATES WITH THE RANDOMNESS PARAMETER\n",
    "bx = ax.twinx()\n",
    "bx.plot(\n",
    "    [sim.parameters['randomness'] for sim in sorted_sims],\n",
    "    c='r',\n",
    ")"
   ]
  }
 ],
 "metadata": {
  "kernelspec": {
   "display_name": "Python 3",
   "language": "python",
   "name": "python3"
  },
  "language_info": {
   "codemirror_mode": {
    "name": "ipython",
    "version": 3
   },
   "file_extension": ".py",
   "mimetype": "text/x-python",
   "name": "python",
   "nbconvert_exporter": "python",
   "pygments_lexer": "ipython3",
   "version": "3.10.12"
  },
  "orig_nbformat": 4
 },
 "nbformat": 4,
 "nbformat_minor": 2
}
