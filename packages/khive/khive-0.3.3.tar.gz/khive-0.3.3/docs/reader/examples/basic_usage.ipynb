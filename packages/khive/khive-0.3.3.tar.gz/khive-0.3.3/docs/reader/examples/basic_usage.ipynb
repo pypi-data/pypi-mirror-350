{
  "cells": [
    {
      "cell_type": "markdown",
      "metadata": {},
      "source": [
        "# Khive Reader Microservice: Basic Usage Examples\n",
        "\n",
        "This notebook demonstrates how to use the Khive Reader Microservice for various\n",
        "document processing tasks. We'll cover:\n",
        "\n",
        "1. Opening different types of documents\n",
        "2. Reading document content\n",
        "3. Working with directory listings\n",
        "4. Programmatic usage in Python\n",
        "\n",
        "Let's get started!"
      ]
    },
    {
      "cell_type": "markdown",
      "metadata": {},
      "source": [
        "## Setup\n",
        "\n",
        "First, make sure you have Khive installed with the reader extras:"
      ]
    },
    {
      "cell_type": "code",
      "execution_count": 1,
      "metadata": {},
      "outputs": [],
      "source": [
        "# Install Khive with reader extras\n",
        "# !pip install \"khive[reader]\"\n",
        "\n",
        "# Or with uv (recommended)\n",
        "# !uv pip install \"khive[reader]\""
      ]
    },
    {
      "cell_type": "markdown",
      "metadata": {},
      "source": [
        "We'll use the `subprocess` module to run Khive commands and parse their JSON\n",
        "output:"
      ]
    },
    {
      "cell_type": "code",
      "execution_count": 2,
      "metadata": {},
      "outputs": [],
      "source": [
        "import json\n",
        "import subprocess\n",
        "from pathlib import Path\n",
        "\n",
        "\n",
        "def run_khive_reader(args):\n",
        "    \"\"\"Run a khive reader command and return the parsed JSON output.\"\"\"\n",
        "    cmd = [\"khive\", \"reader\"] + args\n",
        "    result = subprocess.run(cmd, capture_output=True, text=True)\n",
        "\n",
        "    if result.returncode != 0:\n",
        "        print(f\"Error: {result.stderr}\")\n",
        "        return None\n",
        "\n",
        "    return json.loads(result.stdout)"
      ]
    },
    {
      "cell_type": "markdown",
      "metadata": {},
      "source": [
        "## 1. Opening Documents\n",
        "\n",
        "Let's start by opening different types of documents."
      ]
    },
    {
      "cell_type": "markdown",
      "metadata": {},
      "source": [
        "### Opening a Local Markdown File"
      ]
    },
    {
      "cell_type": "code",
      "execution_count": 3,
      "metadata": {},
      "outputs": [
        {
          "data": {
            "text/plain": [
              "{'success': True,\n",
              " 'content': {'doc_info': {'doc_id': 'DOC_1234567890',\n",
              "   'length': 3245,\n",
              "   'num_tokens': 782}}}"
            ]
          },
          "execution_count": 3,
          "metadata": {},
          "output_type": "execute_result"
        }
      ],
      "source": [
        "# Example: Opening a local README.md file\n",
        "# In a real notebook, this would actually run the command\n",
        "\n",
        "# Simulated output for demonstration\n",
        "{\n",
        "    \"success\": True,\n",
        "    \"content\": {\n",
        "        \"doc_info\": {\"doc_id\": \"DOC_1234567890\", \"length\": 3245, \"num_tokens\": 782}\n",
        "    },\n",
        "}"
      ]
    },
    {
      "cell_type": "markdown",
      "metadata": {},
      "source": [
        "### Opening a PDF File"
      ]
    },
    {
      "cell_type": "code",
      "execution_count": 4,
      "metadata": {},
      "outputs": [
        {
          "data": {
            "text/plain": [
              "{'success': True,\n",
              " 'content': {'doc_info': {'doc_id': 'DOC_9876543210',\n",
              "   'length': 15782,\n",
              "   'num_tokens': 3421}}}"
            ]
          },
          "execution_count": 4,
          "metadata": {},
          "output_type": "execute_result"
        }
      ],
      "source": [
        "# Example: Opening a local PDF file\n",
        "# pdf_result = run_khive_reader([\"open\", \"--path_or_url\", \"path/to/document.pdf\"])\n",
        "\n",
        "# Simulated output for demonstration\n",
        "{\n",
        "    \"success\": True,\n",
        "    \"content\": {\n",
        "        \"doc_info\": {\"doc_id\": \"DOC_9876543210\", \"length\": 15782, \"num_tokens\": 3421}\n",
        "    },\n",
        "}"
      ]
    },
    {
      "cell_type": "markdown",
      "metadata": {},
      "source": [
        "### Opening a Web URL"
      ]
    },
    {
      "cell_type": "code",
      "execution_count": 5,
      "metadata": {},
      "outputs": [
        {
          "data": {
            "text/plain": [
              "{'success': True,\n",
              " 'content': {'doc_info': {'doc_id': 'DOC_5555555555',\n",
              "   'length': 8976,\n",
              "   'num_tokens': 1823}}}"
            ]
          },
          "execution_count": 5,
          "metadata": {},
          "output_type": "execute_result"
        }
      ],
      "source": [
        "# Example: Opening a web URL\n",
        "# url_result = run_khive_reader([\"open\", \"--path_or_url\", \"https://example.com/article\"])\n",
        "\n",
        "# Simulated output for demonstration\n",
        "{\n",
        "    \"success\": True,\n",
        "    \"content\": {\n",
        "        \"doc_info\": {\"doc_id\": \"DOC_5555555555\", \"length\": 8976, \"num_tokens\": 1823}\n",
        "    },\n",
        "}"
      ]
    },
    {
      "cell_type": "markdown",
      "metadata": {},
      "source": [
        "## 2. Reading Document Content\n",
        "\n",
        "Once we have a document open, we can read its content in various ways."
      ]
    },
    {
      "cell_type": "markdown",
      "metadata": {},
      "source": [
        "### Reading the Entire Document"
      ]
    },
    {
      "cell_type": "code",
      "execution_count": 6,
      "metadata": {},
      "outputs": [
        {
          "data": {
            "text/plain": [
              "{'success': True,\n",
              " 'content': {'chunk': {'start_offset': 0,\n",
              "   'end_offset': 3245,\n",
              "   'content': '# Khive\\n\\nKhive is an opinionated toolbox that keeps multi-language agent projects fast, consistent, and boring-in-a-good-way. One command - `khive` - wraps all the little scripts you inevitably write for formatting, CI gating, Git hygiene and doc scaffolding, then gives them a coherent UX that works the same on your laptop **and** inside CI.\\n\\n... (truncated for brevity) ...'}}}"
            ]
          },
          "execution_count": 6,
          "metadata": {},
          "output_type": "execute_result"
        }
      ],
      "source": [
        "# Example: Reading the entire document\n",
        "# full_content = run_khive_reader([\"read\", \"--doc_id\", \"DOC_1234567890\"])\n",
        "\n",
        "# Simulated output for demonstration (truncated)\n",
        "{\n",
        "    \"success\": True,\n",
        "    \"content\": {\n",
        "        \"chunk\": {\n",
        "            \"start_offset\": 0,\n",
        "            \"end_offset\": 3245,\n",
        "            \"content\": \"# Khive\\n\\nKhive is an opinionated toolbox that keeps multi-language agent projects fast, consistent, and boring-in-a-good-way. One command - `khive` - wraps all the little scripts you inevitably write for formatting, CI gating, Git hygiene and doc scaffolding, then gives them a coherent UX that works the same on your laptop **and** inside CI.\\n\\n... (truncated for brevity) ...\",\n",
        "        }\n",
        "    },\n",
        "}"
      ]
    },
    {
      "cell_type": "markdown",
      "metadata": {},
      "source": [
        "### Reading a Specific Portion"
      ]
    },
    {
      "cell_type": "code",
      "execution_count": 7,
      "metadata": {},
      "outputs": [
        {
          "data": {
            "text/plain": [
              "{'success': True,\n",
              " 'content': {'chunk': {'start_offset': 0,\n",
              "   'end_offset': 500,\n",
              "   'content': '# Khive\\n\\nKhive is an opinionated toolbox that keeps multi-language agent projects fast, consistent, and boring-in-a-good-way. One command - `khive` - wraps all the little scripts you inevitably write for formatting, CI gating, Git hygiene and doc scaffolding, then gives them a coherent UX that works the same on your laptop **and** inside CI.'}}}"
            ]
          },
          "execution_count": 7,
          "metadata": {},
          "output_type": "execute_result"
        }
      ],
      "source": [
        "# Example: Reading the first 500 characters\n",
        "# intro = run_khive_reader([\"read\", \"--doc_id\", \"DOC_1234567890\", \"--end_offset\", \"500\"])\n",
        "\n",
        "# Simulated output for demonstration\n",
        "{\n",
        "    \"success\": True,\n",
        "    \"content\": {\n",
        "        \"chunk\": {\n",
        "            \"start_offset\": 0,\n",
        "            \"end_offset\": 500,\n",
        "            \"content\": \"# Khive\\n\\nKhive is an opinionated toolbox that keeps multi-language agent projects fast, consistent, and boring-in-a-good-way. One command - `khive` - wraps all the little scripts you inevitably write for formatting, CI gating, Git hygiene and doc scaffolding, then gives them a coherent UX that works the same on your laptop **and** inside CI.\",\n",
        "        }\n",
        "    },\n",
        "}"
      ]
    },
    {
      "cell_type": "code",
      "execution_count": 8,
      "metadata": {},
      "outputs": [
        {
          "data": {
            "text/plain": [
              "{'success': True,\n",
              " 'content': {'chunk': {'start_offset': 1000,\n",
              "   'end_offset': 1500,\n",
              "   'content': 'Command Catalogue\\n\\n| Command         | What it does (TL;DR)                                                                       |\\n| --------------- | ------------------------------------------------------------------------------------------ |\\n| `khive init`    | Verifies toolchain, installs JS & Python deps, runs `cargo check`, wires Husky hooks.      |'}}}"
            ]
          },
          "execution_count": 8,
          "metadata": {},
          "output_type": "execute_result"
        }
      ],
      "source": [
        "# Example: Reading characters 1000-1500\n",
        "# middle_section = run_khive_reader([\"read\", \"--doc_id\", \"DOC_1234567890\", \"--start_offset\", \"1000\", \"--end_offset\", \"1500\"])\n",
        "\n",
        "# Simulated output for demonstration\n",
        "{\n",
        "    \"success\": True,\n",
        "    \"content\": {\n",
        "        \"chunk\": {\n",
        "            \"start_offset\": 1000,\n",
        "            \"end_offset\": 1500,\n",
        "            \"content\": \"Command Catalogue\\n\\n| Command         | What it does (TL;DR)                                                                       |\\n| --------------- | ------------------------------------------------------------------------------------------ |\\n| `khive init`    | Verifies toolchain, installs JS & Python deps, runs `cargo check`, wires Husky hooks.      |\",\n",
        "        }\n",
        "    },\n",
        "}"
      ]
    },
    {
      "cell_type": "markdown",
      "metadata": {},
      "source": [
        "## 3. Working with Directory Listings\n",
        "\n",
        "The Reader Microservice can also list directory contents and treat the listing\n",
        "as a document."
      ]
    },
    {
      "cell_type": "code",
      "execution_count": 9,
      "metadata": {},
      "outputs": [
        {
          "data": {
            "text/plain": [
              "{'success': True,\n",
              " 'content': {'doc_info': {'doc_id': 'DIR_1122334455',\n",
              "   'length': 428,\n",
              "   'num_tokens': 98}}}"
            ]
          },
          "execution_count": 9,
          "metadata": {},
          "output_type": "execute_result"
        }
      ],
      "source": [
        "# Example: Listing Python files in a directory\n",
        "# dir_result = run_khive_reader([\"list_dir\", \"--directory\", \"./src\", \"--file_types\", \".py\"])\n",
        "\n",
        "# Simulated output for demonstration\n",
        "{\n",
        "    \"success\": True,\n",
        "    \"content\": {\n",
        "        \"doc_info\": {\"doc_id\": \"DIR_1122334455\", \"length\": 428, \"num_tokens\": 98}\n",
        "    },\n",
        "}"
      ]
    },
    {
      "cell_type": "code",
      "execution_count": 10,
      "metadata": {},
      "outputs": [
        {
          "data": {
            "text/plain": [
              "{'success': True,\n",
              " 'content': {'chunk': {'start_offset': 0,\n",
              "   'end_offset': 428,\n",
              "   'content': './src/__init__.py\\n./src/main.py\\n./src/utils.py\\n./src/config.py\\n./src/cli/__init__.py\\n./src/cli/commands.py\\n./src/services/__init__.py\\n./src/services/reader/__init__.py\\n./src/services/reader/reader_service.py\\n./src/services/reader/parts.py\\n./src/services/reader/utils.py'}}}"
            ]
          },
          "execution_count": 10,
          "metadata": {},
          "output_type": "execute_result"
        }
      ],
      "source": [
        "# Example: Reading the directory listing\n",
        "# dir_content = run_khive_reader([\"read\", \"--doc_id\", \"DIR_1122334455\"])\n",
        "\n",
        "# Simulated output for demonstration\n",
        "{\n",
        "    \"success\": True,\n",
        "    \"content\": {\n",
        "        \"chunk\": {\n",
        "            \"start_offset\": 0,\n",
        "            \"end_offset\": 428,\n",
        "            \"content\": \"./src/__init__.py\\n./src/main.py\\n./src/utils.py\\n./src/config.py\\n./src/cli/__init__.py\\n./src/cli/commands.py\\n./src/services/__init__.py\\n./src/services/reader/__init__.py\\n./src/services/reader/reader_service.py\\n./src/services/reader/parts.py\\n./src/services/reader/utils.py\",\n",
        "        }\n",
        "    },\n",
        "}"
      ]
    },
    {
      "cell_type": "markdown",
      "metadata": {},
      "source": [
        "## 4. Programmatic Usage in Python\n",
        "\n",
        "You can also use the Reader Microservice directly in your Python code without\n",
        "going through the CLI."
      ]
    },
    {
      "cell_type": "code",
      "execution_count": 11,
      "metadata": {},
      "outputs": [],
      "source": [
        "# Import the necessary classes\n",
        "from khive.services.reader.parts import (\n",
        "    ReaderAction,\n",
        "    ReaderOpenParams,\n",
        "    ReaderReadParams,\n",
        "    ReaderListDirParams,\n",
        "    ReaderRequest,\n",
        ")\n",
        "from khive.services.reader.reader_service import ReaderServiceGroup\n",
        "\n",
        "# Create a service instance\n",
        "reader_service = ReaderServiceGroup()"
      ]
    },
    {
      "cell_type": "code",
      "execution_count": 12,
      "metadata": {},
      "outputs": [
        {
          "name": "stdout",
          "output_type": "stream",
          "text": [
            "Document opened successfully!\n",
            "doc_id: DOC_1234567890\n",
            "length: 3245 characters\n",
            "tokens: 782\n"
          ]
        }
      ],
      "source": [
        "# Example: Opening a document\n",
        "async def open_document(path_or_url):\n",
        "    # Create the request\n",
        "    params = ReaderOpenParams(path_or_url=path_or_url)\n",
        "    request = ReaderRequest(action=ReaderAction.OPEN, params=params)\n",
        "\n",
        "    # Send the request to the service\n",
        "    response = await reader_service.handle_request(request)\n",
        "\n",
        "    if response.success and response.content and response.content.doc_info:\n",
        "        print(\"Document opened successfully!\")\n",
        "        print(f\"doc_id: {response.content.doc_info.doc_id}\")\n",
        "        print(f\"length: {response.content.doc_info.length} characters\")\n",
        "        print(f\"tokens: {response.content.doc_info.num_tokens}\")\n",
        "        return response.content.doc_info.doc_id\n",
        "    else:\n",
        "        print(f\"Error: {response.error}\")\n",
        "        return None\n",
        "\n",
        "\n",
        "# Simulated output for demonstration\n",
        "print(\"Document opened successfully!\")\n",
        "print(\"doc_id: DOC_1234567890\")\n",
        "print(\"length: 3245 characters\")\n",
        "print(\"tokens: 782\")"
      ]
    },
    {
      "cell_type": "code",
      "execution_count": 13,
      "metadata": {},
      "outputs": [
        {
          "name": "stdout",
          "output_type": "stream",
          "text": [
            "# Khive\n",
            "\n",
            "Khive is an opinionated toolbox that keeps multi-language agent projects fast, consistent, and boring-in-a-good-way. One command - `khive` - wraps all the little scripts you inevitably write for formatting, CI gating, Git hygiene and doc scaffolding, then gives them a coherent UX that works the same on your laptop **and** inside CI.\n"
          ]
        }
      ],
      "source": [
        "# Example: Reading a document\n",
        "async def read_document(doc_id, start_offset=None, end_offset=None):\n",
        "    # Create the request\n",
        "    params = ReaderReadParams(\n",
        "        doc_id=doc_id, start_offset=start_offset, end_offset=end_offset\n",
        "    )\n",
        "    request = ReaderRequest(action=ReaderAction.READ, params=params)\n",
        "\n",
        "    # Send the request to the service\n",
        "    response = await reader_service.handle_request(request)\n",
        "\n",
        "    if response.success and response.content and response.content.chunk:\n",
        "        return response.content.chunk.content\n",
        "    else:\n",
        "        print(f\"Error: {response.error}\")\n",
        "        return None\n",
        "\n",
        "\n",
        "# Simulated output for demonstration\n",
        "print(\n",
        "    \"# Khive\\n\\nKhive is an opinionated toolbox that keeps multi-language agent projects fast, consistent, and boring-in-a-good-way. One command - `khive` - wraps all the little scripts you inevitably write for formatting, CI gating, Git hygiene and doc scaffolding, then gives them a coherent UX that works the same on your laptop **and** inside CI.\"\n",
        ")"
      ]
    },
    {
      "cell_type": "markdown",
      "metadata": {},
      "source": [
        "## 5. Practical Example: Processing a Research Paper\n",
        "\n",
        "Let's put everything together in a practical example: processing a research\n",
        "paper PDF."
      ]
    },
    {
      "cell_type": "code",
      "execution_count": 14,
      "metadata": {},
      "outputs": [
        {
          "name": "stdout",
          "output_type": "stream",
          "text": [
            "Processing research paper: https://arxiv.org/pdf/2303.08774.pdf\n",
            "\n",
            "Paper opened successfully! (doc_id: DOC_9876543210, length: 152345 chars)\n",
            "\n",
            "Abstract:\n",
            "Large Language Models (LLMs) have demonstrated remarkable capabilities in following instructions and performing complex reasoning. In this paper, we explore the potential of LLMs as autonomous agents that can operate in diverse environments beyond text. We introduce a framework where LLMs can interact with tools, make decisions, and accomplish tasks with minimal human intervention...\n",
            "\n",
            "Conclusion:\n",
            "In this work, we have demonstrated that Large Language Models can effectively function as autonomous agents across a variety of domains. Our experiments show that these models can learn from experience, adapt to new environments, and solve complex tasks by breaking them down into manageable steps. While challenges remain in areas such as planning over long horizons and handling ambiguous instructions, the results suggest a promising direction for future research in AI systems that combine the reasoning capabilities of LLMs with the ability to interact with their environment.\n"
          ]
        }
      ],
      "source": [
        "# Example: Processing a research paper\n",
        "async def process_research_paper(paper_url):\n",
        "    print(f\"Processing research paper: {paper_url}\\n\")\n",
        "\n",
        "    # Open the paper\n",
        "    doc_id = await open_document(paper_url)\n",
        "    if not doc_id:\n",
        "        return\n",
        "\n",
        "    # Get paper metadata\n",
        "    response = await reader_service.handle_request(\n",
        "        ReaderRequest(\n",
        "            action=ReaderAction.OPEN, params=ReaderOpenParams(path_or_url=paper_url)\n",
        "        )\n",
        "    )\n",
        "    doc_length = response.content.doc_info.length\n",
        "\n",
        "    print(\n",
        "        f\"Paper opened successfully! (doc_id: {doc_id}, length: {doc_length} chars)\\n\"\n",
        "    )\n",
        "\n",
        "    # Read the abstract (first 500 characters)\n",
        "    abstract = await read_document(doc_id, end_offset=500)\n",
        "    print(f\"Abstract:\\n{abstract}\\n\")\n",
        "\n",
        "    # Read the conclusion (last 1000 characters)\n",
        "    conclusion = await read_document(doc_id, start_offset=doc_length - 1000)\n",
        "    print(f\"Conclusion:\\n{conclusion}\")\n",
        "\n",
        "\n",
        "# Simulated output for demonstration\n",
        "print(\"Processing research paper: https://arxiv.org/pdf/2303.08774.pdf\\n\")\n",
        "print(\"Paper opened successfully! (doc_id: DOC_9876543210, length: 152345 chars)\\n\")\n",
        "print(\n",
        "    \"Abstract:\\nLarge Language Models (LLMs) have demonstrated remarkable capabilities in following instructions and performing complex reasoning. In this paper, we explore the potential of LLMs as autonomous agents that can operate in diverse environments beyond text. We introduce a framework where LLMs can interact with tools, make decisions, and accomplish tasks with minimal human intervention...\\n\"\n",
        ")\n",
        "print(\n",
        "    \"Conclusion:\\nIn this work, we have demonstrated that Large Language Models can effectively function as autonomous agents across a variety of domains. Our experiments show that these models can learn from experience, adapt to new environments, and solve complex tasks by breaking them down into manageable steps. While challenges remain in areas such as planning over long horizons and handling ambiguous instructions, the results suggest a promising direction for future research in AI systems that combine the reasoning capabilities of LLMs with the ability to interact with their environment.\"\n",
        ")"
      ]
    },
    {
      "cell_type": "markdown",
      "metadata": {},
      "source": [
        "## Conclusion\n",
        "\n",
        "In this notebook, we've demonstrated how to use the Khive Reader Microservice\n",
        "for various document processing tasks:\n",
        "\n",
        "1. Opening different types of documents (local files, PDFs, web URLs)\n",
        "2. Reading document content (full documents or specific portions)\n",
        "3. Working with directory listings\n",
        "4. Using the service programmatically in Python\n",
        "5. Putting it all together in a practical example\n",
        "\n",
        "The Reader Microservice provides a powerful, flexible interface for working with\n",
        "documents in your applications, scripts, and AI agents. Its ability to handle\n",
        "various file formats, extract text, and provide structured access to content\n",
        "makes it a valuable tool for document processing workflows."
      ]
    }
  ],
  "metadata": {
    "kernelspec": {
      "display_name": "Python 3",
      "language": "python",
      "name": "python3"
    },
    "language_info": {
      "codemirror_mode": {
        "name": "ipython",
        "version": 3
      },
      "file_extension": ".py",
      "mimetype": "text/x-python",
      "name": "python",
      "nbconvert_exporter": "python",
      "pygments_lexer": "ipython3",
      "version": "3.11.5"
    }
  },
  "nbformat": 4,
  "nbformat_minor": 4
}
