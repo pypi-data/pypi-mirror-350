{
 "cells": [
  {
   "cell_type": "markdown",
   "metadata": {},
   "source": [
    "**Working with Python dependencies**\n",
    "\n",
    "There are two ways how user could declare Python dependency for the notebook that suppose to be scheduled inside ModelOps:\n",
    "1. Use `%pip install ...` magic in the notebook - this method will work for a lot of packages, but some packages might require a kernel restart. If you are dealing with this package, use the second method.\n",
    "2. Attach `requirements.txt` with the notebook that user needs to import. ModelOps engine will first run `pip install -r requirements.txt` and only after all dependencies are installed, it will start a Jupyter kernel."
   ]
  },
  {
   "cell_type": "code",
   "execution_count": null,
   "metadata": {},
   "outputs": [],
   "source": [
    "from tmo import tmo_create_context\n",
    "from teradataml import create_context,remove_context,DataFrame"
   ]
  },
  {
   "cell_type": "markdown",
   "metadata": {},
   "source": [
    "__Create a connection that could be used inside ModelOps as well as in standalone notebook__\n",
    "\n",
    "Follow the example below, it will ask for connection credential if executed outside ModelOps engine, otherwise it will automatically use ModelOps credentials."
   ]
  },
  {
   "cell_type": "code",
   "execution_count": null,
   "metadata": {},
   "outputs": [],
   "source": [
    "try: \n",
    "    tmo_create_context()\n",
    "except:\n",
    "    import getpass\n",
    "    host = input(\"Host\")\n",
    "    logmech = input(\"Log Mech\")\n",
    "    username = input(\"Username\")\n",
    "    password = getpass.getpass()\n",
    "    create_context(host=host,username=username,password=password,logmech=logmech)\n",
    "    tmo_create_context()"
   ]
  },
  {
   "cell_type": "markdown",
   "metadata": {},
   "source": [
    "Below is an example of \"raw\" cell that's not executed."
   ]
  },
  {
   "cell_type": "raw",
   "metadata": {
    "vscode": {
     "languageId": "raw"
    }
   },
   "source": [
    "# This is an example cell that won't be executed because it's marked as 'raw'\n",
    "print(\"You'll not see it\")"
   ]
  },
  {
   "cell_type": "markdown",
   "metadata": {},
   "source": [
    "**Working with project metadata**\n",
    "\n",
    "Next cell is an example of getting a metadata variable. These metadata variables are prepared and passed by default to every job ModelOps runs. For user-defined metadata variables, see the next cell.\n",
    "The list of passed variables is long, below are some important values:\n",
    "- `MODEL_ID` - uuid identifier for model\n",
    "- `MODEL_VERSION` - uuid identifier for model version\n",
    "- `PROJECT_ID` - uuid identifier for ModelOps project\n",
    "- `JOB_ID` - unique identifier for every job\n",
    "- `OWNER` - user who imported a model version"
   ]
  },
  {
   "cell_type": "code",
   "execution_count": null,
   "metadata": {},
   "outputs": [],
   "source": [
    "import os\n",
    "\n",
    "job_id = os.environ.get(\"JOB_ID\") or \"notebook\"\n",
    "job_id"
   ]
  },
  {
   "cell_type": "markdown",
   "metadata": {},
   "source": [
    "**User-defined metadata variables**\n",
    "\n",
    "The user might have a need to parametrise some logic in the notebook depending on external circumstances. To address that, ModelOps allows users to pass an arbitrary list of key-value pairs that will be exposed to the notebook as environment variables. Please see example below:"
   ]
  },
  {
   "cell_type": "code",
   "execution_count": null,
   "metadata": {},
   "outputs": [],
   "source": [
    "user_variable = os.environ.get(\"USER_VARIABLE\") or \"notebook\"\n",
    "user_variable"
   ]
  },
  {
   "cell_type": "markdown",
   "metadata": {},
   "source": [
    "**Working with the database**\n",
    "\n",
    "Cells below just simulate some activity that might be happening in the notebook."
   ]
  },
  {
   "cell_type": "code",
   "execution_count": null,
   "metadata": {},
   "outputs": [],
   "source": [
    "prediction_df = DataFrame.from_query(f\"sel '{job_id}' as job_id, PatientId, HasDiabetes, json_report from pima_patient_predictions sample 100\")\n",
    "prediction_df.head()"
   ]
  },
  {
   "cell_type": "code",
   "execution_count": null,
   "metadata": {},
   "outputs": [],
   "source": [
    "prediction_df.to_sql(\"pima_patient_predictions\", if_exists=\"append\")"
   ]
  },
  {
   "cell_type": "markdown",
   "metadata": {},
   "source": [
    "Good practice is to explicitly remove `teradataml` context."
   ]
  },
  {
   "cell_type": "code",
   "execution_count": null,
   "metadata": {},
   "outputs": [],
   "source": [
    "remove_context()"
   ]
  }
 ],
 "metadata": {
  "kernelspec": {
   "display_name": "venv",
   "language": "python",
   "name": "python3"
  },
  "language_info": {
   "codemirror_mode": {
    "name": "ipython",
    "version": 3
   },
   "file_extension": ".py",
   "mimetype": "text/x-python",
   "name": "python",
   "nbconvert_exporter": "python",
   "pygments_lexer": "ipython3",
   "version": "3.9.6"
  }
 },
 "nbformat": 4,
 "nbformat_minor": 2
}
