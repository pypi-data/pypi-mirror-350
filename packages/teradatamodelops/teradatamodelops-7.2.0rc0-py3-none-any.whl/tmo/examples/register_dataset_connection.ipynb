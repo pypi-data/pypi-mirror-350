{
 "cells": [
  {
   "cell_type": "markdown",
   "metadata": {},
   "source": [
    "# Configuration"
   ]
  },
  {
   "cell_type": "code",
   "execution_count": null,
   "metadata": {},
   "outputs": [],
   "source": [
    "# These are connection parameters, could be coming from other source, like 'getpass'\n",
    "\n",
    "vantage_host = \"***\"\n",
    "vantage_username = \"***\"\n",
    "vantage_password = \"***\"\n",
    "val_db = \"val\"\n",
    "byom_db = \"mldb\"\n",
    "logmech = \"tdnego\""
   ]
  },
  {
   "cell_type": "code",
   "execution_count": null,
   "metadata": {},
   "outputs": [],
   "source": [
    "# making a connection to ModelOps and making sure we can see some projects\n",
    "\n",
    "from tmo import TmoClient\n",
    "import pprint\n",
    "\n",
    "client = TmoClient()\n",
    "\n",
    "projects = list(client.projects())\n",
    "pprint.pprint(projects)"
   ]
  },
  {
   "cell_type": "markdown",
   "metadata": {},
   "source": [
    "# Saving a connection using API"
   ]
  },
  {
   "cell_type": "code",
   "execution_count": null,
   "metadata": {},
   "outputs": [],
   "source": [
    "client.project_id = \"23e1df4b-b630-47a1-ab80-7ad5385fcd8d\"\n",
    "\n",
    "personal_connection_payload = {\n",
    "    \"name\": \"MyPersonalConnection\",\n",
    "    \"description\": \"Service Account Personal Connection\",\n",
    "    \"metadata\": {\n",
    "        \"host\": vantage_host,\n",
    "        \"log_mech\": \"TDNEGO\",\n",
    "        \"database\": \"\",\n",
    "        \"valDb\": val_db,\n",
    "        \"byomDb\": byom_db,\n",
    "    },\n",
    "    \"credentials\": {\n",
    "        \"username\": vantage_username,\n",
    "        \"password\": vantage_password,\n",
    "        \"credsEncrypted\": False,\n",
    "    },\n",
    "    \"personal\": True,\n",
    "}\n",
    "\n",
    "service_connection_payload = {\n",
    "    \"name\": \"MyServiceConnection\",\n",
    "    \"description\": \"Service Account Service Connection\",\n",
    "    \"metadata\": {\n",
    "        \"host\": vantage_host,\n",
    "        \"log_mech\": \"TDNEGO\",\n",
    "        \"database\": \"\",\n",
    "        \"valDb\": val_db,\n",
    "        \"byomDb\": byom_db,\n",
    "    },\n",
    "    \"credentials\": {\n",
    "        \"username\": vantage_username,\n",
    "        \"password\": vantage_password,\n",
    "        \"credsEncrypted\": False,\n",
    "    },\n",
    "    \"personal\": False,\n",
    "}"
   ]
  },
  {
   "cell_type": "code",
   "execution_count": null,
   "metadata": {},
   "outputs": [],
   "source": [
    "client.dataset_connections().save(dataset_connection=personal_connection_payload)"
   ]
  },
  {
   "cell_type": "code",
   "execution_count": null,
   "metadata": {},
   "outputs": [],
   "source": [
    "client.dataset_connections().save(dataset_connection=service_connection_payload)"
   ]
  },
  {
   "cell_type": "markdown",
   "metadata": {},
   "source": [
    "# Validating a connection using API"
   ]
  },
  {
   "cell_type": "code",
   "execution_count": null,
   "metadata": {},
   "outputs": [],
   "source": [
    "connections = list(client.dataset_connections())\n",
    "connection = connections[0]\n",
    "connection"
   ]
  },
  {
   "cell_type": "code",
   "execution_count": null,
   "metadata": {},
   "outputs": [],
   "source": [
    "try:\n",
    "    # We are validating the connection as returned from the API, it always returns encrypted credentials\n",
    "    result = client.dataset_connections().validate(\n",
    "        connection, encrypted_credentials=True\n",
    "    )\n",
    "except Exception as err:\n",
    "    print(err)\n",
    "else:\n",
    "    print(result)"
   ]
  }
 ],
 "metadata": {
  "kernelspec": {
   "display_name": "venv",
   "language": "python",
   "name": "python3"
  },
  "language_info": {
   "codemirror_mode": {
    "name": "ipython",
    "version": 3
   },
   "file_extension": ".py",
   "mimetype": "text/x-python",
   "name": "python",
   "nbconvert_exporter": "python",
   "pygments_lexer": "ipython3",
   "version": "3.11.9"
  }
 },
 "nbformat": 4,
 "nbformat_minor": 2
}
