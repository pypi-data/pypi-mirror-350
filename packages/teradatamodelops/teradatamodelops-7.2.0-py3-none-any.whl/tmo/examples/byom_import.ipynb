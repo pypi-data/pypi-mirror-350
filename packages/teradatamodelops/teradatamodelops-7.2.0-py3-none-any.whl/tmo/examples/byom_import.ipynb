{
 "cells": [
  {
   "cell_type": "code",
   "execution_count": null,
   "metadata": {},
   "outputs": [],
   "source": [
    "# making a connection to ModelOps and making sure we can see some projects\n",
    "\n",
    "from tmo import TmoClient\n",
    "import pprint\n",
    "\n",
    "client = TmoClient()\n",
    "\n",
    "projects = list(client.projects())\n",
    "pprint.pprint(projects)"
   ]
  },
  {
   "cell_type": "code",
   "execution_count": null,
   "metadata": {},
   "outputs": [],
   "source": [
    "# notice a file could be with any name, we just upload it as model.pmml\n",
    "file = \"./artifacts/pima.pmml\"\n",
    "language = \"PMML\"\n",
    "client.project_id = \"23e1df4b-b630-47a1-ab80-7ad5385fcd8d\""
   ]
  },
  {
   "cell_type": "code",
   "execution_count": null,
   "metadata": {},
   "outputs": [],
   "source": [
    "# Searching for a dataset template\n",
    "\n",
    "dataset_template = client.dataset_templates().find_by_name_like(\"PIMA\")[\"_embedded\"][\n",
    "    \"datasetTemplates\"\n",
    "][0]\n",
    "dataset_template"
   ]
  },
  {
   "cell_type": "code",
   "execution_count": null,
   "metadata": {},
   "outputs": [],
   "source": [
    "# Using that dataset template, let's fetch datasets ...\n",
    "\n",
    "datasets = client.datasets().find_by_dataset_template_id(dataset_template[\"id\"])[\n",
    "    \"_embedded\"\n",
    "][\"datasets\"]\n",
    "datasets"
   ]
  },
  {
   "cell_type": "code",
   "execution_count": null,
   "metadata": {},
   "outputs": [],
   "source": [
    "# ... and take train dataset\n",
    "\n",
    "train_dataset = [d for d in datasets if d[\"scope\"] == \"train\"][0]\n",
    "train_dataset"
   ]
  },
  {
   "cell_type": "code",
   "execution_count": null,
   "metadata": {},
   "outputs": [],
   "source": [
    "# New API, allows users do fetch a default dataset connection\n",
    "# (notice it only works for real users, service account probably don't have personal connections)\n",
    "\n",
    "default_connection = client.user_attributes().get_default_connection()\n",
    "default_connection\n",
    "default_connection_id = default_connection[\"value\"][\"defaultDatasetConnectionId\"]\n",
    "default_connection_id"
   ]
  },
  {
   "cell_type": "code",
   "execution_count": null,
   "metadata": {},
   "outputs": [],
   "source": [
    "# Let's create a BYOM model that we'll use to register model versions in\n",
    "\n",
    "import uuid\n",
    "\n",
    "model_dict = {\n",
    "    \"name\": f\"{language}_Python_{uuid.uuid4().clock_seq}\",\n",
    "    \"description\": f\"{language} model defined from Python SDK\",\n",
    "    \"language\": language,\n",
    "}\n",
    "model_response = client.models().save(model_dict)\n",
    "model = model_response[\"id\"]"
   ]
  },
  {
   "cell_type": "code",
   "execution_count": null,
   "metadata": {},
   "outputs": [],
   "source": [
    "# Importing that artefact, all we need is a language/format, and path to a local file\n",
    "\n",
    "import_id = client.trained_model_artefacts().upload_byom_model(\"PMML\", file)\n",
    "import_id"
   ]
  },
  {
   "cell_type": "code",
   "execution_count": null,
   "metadata": {},
   "outputs": [],
   "source": [
    "# Second step of BYOM is here. We define a structure with all necessary metadata and submit our import request\n",
    "\n",
    "import_request = {\n",
    "    \"artefactImportId\": import_id,\n",
    "    \"externalId\": str(uuid.uuid4()),\n",
    "    \"modelMonitoring\": {\n",
    "        \"language\": language,\n",
    "        \"useDefaultEvaluation\": True,\n",
    "        \"evaluationEnabled\": True,\n",
    "        \"modelType\": \"CLASSIFICATION\",\n",
    "        \"byomColumnExpression\": (\n",
    "            \"CAST(CAST(json_report AS JSON).JSONExtractValue('$.predicted_HasDiabetes')\"\n",
    "            \" AS INT)\"\n",
    "        ),\n",
    "        \"driftMonitoringEnabled\": True,\n",
    "        \"datasetId\": train_dataset[\"id\"],\n",
    "        \"datasetConnectionId\": default_connection_id,\n",
    "    },\n",
    "}\n",
    "\n",
    "response = client.models().import_byom(model, import_request)"
   ]
  },
  {
   "cell_type": "code",
   "execution_count": null,
   "metadata": {},
   "outputs": [],
   "source": [
    "response"
   ]
  }
 ],
 "metadata": {
  "kernelspec": {
   "display_name": "venv",
   "language": "python",
   "name": "python3"
  },
  "language_info": {
   "codemirror_mode": {
    "name": "ipython",
    "version": 3
   },
   "file_extension": ".py",
   "mimetype": "text/x-python",
   "name": "python",
   "nbconvert_exporter": "python",
   "pygments_lexer": "ipython3",
   "version": "3.11.9"
  }
 },
 "nbformat": 4,
 "nbformat_minor": 2
}
