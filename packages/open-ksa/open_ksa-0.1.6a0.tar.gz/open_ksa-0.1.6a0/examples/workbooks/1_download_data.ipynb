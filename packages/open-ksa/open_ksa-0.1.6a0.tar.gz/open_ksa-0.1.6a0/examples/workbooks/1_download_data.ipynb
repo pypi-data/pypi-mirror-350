{
 "cells": [
  {
   "cell_type": "markdown",
   "metadata": {},
   "source": [
    "# Showcase 1 - Downloading Organization Data\n",
    "\n",
    "This Jupyter Notebook demonstrates how to use APIs to download data from a specific organization and provider. The example uses the search functionality from the original website: [Saudi Open Data](https://open.data.gov.sa/en/publishers).\n",
    "\n",
    "## Workflow Overview\n",
    "\n",
    "1. **Import Necessary Modules**: Import the required functions from the `open_ksa` module.\n",
    "2. **Search for Organizations**: Use the search function to find organizations based on a keyword.\n",
    "3. **Retrieve Organization ID**: Extract the organization ID from the search results.\n",
    "4. **Get Organization Resources**: Fetch all dataset IDs and other resources associated with the organization.\n",
    "5. **Download Data**: Download the datasets to a specified directory.\n",
    "\n",
    "### Steps 1 and 2\n",
    "\n",
    "Here we showcase how the modules are imported and the organizations are found in the search in the process of discovery based on certain key word term.\n"
   ]
  },
  {
   "cell_type": "code",
   "execution_count": 1,
   "metadata": {},
   "outputs": [
    {
     "name": "stdout",
     "output_type": "stream",
     "text": [
      "| publisherID                          | slug                                                                     | Datasets |\n",
      "---------------------------------------------------------------------------------------------------------------------------\n",
      "| bd9ff32e-4956-4dbf-bdde-1c1e4d786640 | general_authority_for_statistics                                         | 1081     |\n",
      "| 694ebd35-2ea6-4f1d-84b6-2ea875159b95 | ministry_of_environment-_water_and_agriculture                           | 1013     |\n",
      "| c43616c3-f3ac-41b9-bbad-040670bc396d | ministry_of_health                                                       | 873      |\n",
      "| 9de66f38-9569-4ca4-a57c-32518f29bd79 | information_sector_-_secretariat_general_of_the_gulf_cooperation_council | 307      |\n",
      "| afd0f613-3fae-42fa-a383-b87647e8d32f | capital_market_authority                                                 | 291      |\n",
      "| 3910a763-1829-445f-97b1-2bd988249b7e | ministry_of_education                                                    | 265      |\n",
      "| 4ba15530-c615-4290-b953-1748cb73c44f | annual_statistical_report_of_general_organization_for_social_insurance   | 245      |\n",
      "| 044b2cb2-db38-48ff-ae38-be9391f6c248 | nuclear-and-radiological-regulatory-commission                           | 198      |\n",
      "| a9e617ff-d918-4f4d-8be1-c42b733b1143 | king_saud_university                                                     | 197      |\n",
      "| 2d5b6db6-caaa-416d-ae1f-c91400e68ed8 | the_general_authority_of_meteorology_and_environmenal_protection         | 181      |\n"
     ]
    }
   ],
   "source": [
    "#Here you can import all of the corresponding functions from the workbook\n",
    "import open_ksa as ok\n",
    "\n",
    "#An example on how to use the search function\n",
    "orgs = ok.organizations()\n",
    "\n",
    "#Note: Orgs as a value has the export of the full JSON taken from the API\n"
   ]
  },
  {
   "cell_type": "markdown",
   "metadata": {},
   "source": [
    "### Steps 3 - 5\n",
    "\n",
    "Once you've discovered the organization you want to pull the data from, we can begin to assign the organization and similarly look for all of the associated resources and download them in the process to a local folder.\n",
    "\n",
    "The folder path is usually assigned in the workspace where `python` is running and the allowed extensions specify the file types to download.\n",
    "\n",
    "#### Variables\n",
    "\n",
    "- **`dataset_ids`**: List of dataset IDs retrieved from the organization.\n",
    "- **`ks`**: Organization ID.\n",
    "- **`location`**: Directory path where the datasets will be saved.\n",
    "- **`organization_id`**: Organization ID (same as `ks`).\n",
    "- **`orgs`**: Dictionary containing search results for organizations.\n",
    "- **`resources`**: Dictionary containing resources and dataset IDs for the organization.\n",
    "\n",
    "This workbook provides a structured approach to interact with the API, search for organizations, retrieve relevant data, and download it for further analysis.\n"
   ]
  },
  {
   "cell_type": "code",
   "execution_count": 3,
   "metadata": {},
   "outputs": [
    {
     "name": "stdout",
     "output_type": "stream",
     "text": [
      "Failed to decode JSON for dataset e63563d0-3312-48f3-8786-7c3e2af61fe7\n",
      "Failed to decode JSON for dataset f3d0c52d-3b54-48f6-9138-64126782e1bc\n"
     ]
    }
   ],
   "source": [
    "#Here, we grab the first value which is the value of the organization ID from the API\n",
    "#Depending on the parameters, we can specify the return of the response\n",
    "ks = orgs['content'][3]['publisherID']\n",
    "# We have now gotten the publisher ID programmatically. If you change the ID to a string of your choosing or decide to \n",
    "#change the search, you can change the orgs['content'][0]['publisherID'] to match your search and the index 0 to N to \n",
    "#to match the organization you want\n",
    "resources = ok.get_org_resources(org_id=ks)\n",
    "#Here, we grab all of the different dataset_ids\n",
    "dataset_ids = resources['dataset_ids']\n",
    "#Here, we grab the organization ID as well. But we can use the same organization ID from the ks value\n",
    "# we named it ks for 'King Saud University'\n",
    "organization_id = resources['organization_id']\n",
    "location = f\"opendata/{resources['organization_name'].strip().replace(' ', '_').lower()}\"\n",
    "# Create a directory named after the organization ID\n",
    "# Get all of the data resources for the organization\n",
    "ok.get_dataset_resources(dataset_ids=dataset_ids, \n",
    "                         allowed_exts=[\"csv\"],\n",
    "                        #You can update the dataset resource location to change the output directory\n",
    "                        #Note: you may have to make the directory\n",
    "                         output_dir=location\n",
    "                         )\n"
   ]
  }
 ],
 "metadata": {
  "kernelspec": {
   "display_name": "venv3.9",
   "language": "python",
   "name": "python3"
  },
  "language_info": {
   "codemirror_mode": {
    "name": "ipython",
    "version": 3
   },
   "file_extension": ".py",
   "mimetype": "text/x-python",
   "name": "python",
   "nbconvert_exporter": "python",
   "pygments_lexer": "ipython3",
   "version": "3.9.20"
  }
 },
 "nbformat": 4,
 "nbformat_minor": 2
}
