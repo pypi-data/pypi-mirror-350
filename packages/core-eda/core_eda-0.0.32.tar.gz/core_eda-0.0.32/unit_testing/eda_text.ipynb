{
 "cells": [
  {
   "metadata": {
    "ExecuteTime": {
     "end_time": "2024-11-01T06:53:23.880933Z",
     "start_time": "2024-11-01T06:53:22.406844Z"
    }
   },
   "cell_type": "code",
   "source": [
    "from pathlib import Path\n",
    "from src.core_eda import TextEDA, TextPLOT\n",
    "import duckdb"
   ],
   "id": "8abaf55a9f5c7db3",
   "outputs": [],
   "execution_count": 1
  },
  {
   "metadata": {
    "ExecuteTime": {
     "end_time": "2024-11-01T06:53:23.885573Z",
     "start_time": "2024-11-01T06:53:23.883766Z"
    }
   },
   "cell_type": "code",
   "source": "path = Path.home() / 'Downloads/Data/cx_product_review'",
   "id": "c9c8fb30ff7a5c2d",
   "outputs": [],
   "execution_count": 2
  },
  {
   "metadata": {
    "ExecuteTime": {
     "end_time": "2024-11-01T06:53:23.983712Z",
     "start_time": "2024-11-01T06:53:23.981436Z"
    }
   },
   "cell_type": "code",
   "source": [
    "def load_data(file: Path, sample: int = None):\n",
    "    query = f\"\"\"\n",
    "    select distinct * exclude(comment_star)\n",
    "    , cast(unnest(comment_star, recursive := true)::json as STRUCT(comment_id bigint, comment VARCHAR, rating_star int)) comment_star\n",
    "    from read_parquet('{str(file)}')\n",
    "    \"\"\"\n",
    "    df = (\n",
    "        duckdb.sql(query).pl()\n",
    "        .unnest('comment_star')\n",
    "    )\n",
    "    if sample:\n",
    "        df = df.sample(sample)\n",
    "\n",
    "    print(\n",
    "        f'Data Shape: {df.shape} \\n'\n",
    "        f'Items: {df['item_id'].n_unique():,.0f} \\n'\n",
    "        f'Comments: {df['comment_id'].n_unique():,.0f}'\n",
    "    )\n",
    "    return df"
   ],
   "id": "1343d51a870f1354",
   "outputs": [],
   "execution_count": 3
  },
  {
   "cell_type": "code",
   "id": "initial_id",
   "metadata": {
    "collapsed": true,
    "ExecuteTime": {
     "end_time": "2024-11-01T06:53:32.660256Z",
     "start_time": "2024-11-01T06:53:23.991347Z"
    }
   },
   "source": [
    "file = path / 'raw_choice.parquet'\n",
    "\n",
    "# load data\n",
    "df = (\n",
    "    load_data(file, sample=30_000)\n",
    "    .pipe(TextEDA.clean_text, col='comment')\n",
    "    .pipe(TextEDA.len_text, col='comment_clean')\n",
    "    .pipe(TextEDA.detect_phone, col='comment_clean')\n",
    "    .pipe(TextEDA.detect_url, col='comment_clean')\n",
    "    .pipe(TextEDA.detect_words, col='comment_clean', patterns=['xu'])\n",
    ")\n",
    "\n",
    "print(df['phone_detect'].value_counts())\n",
    "print(df['url_detect'].value_counts())\n",
    "df.head()"
   ],
   "outputs": [
    {
     "data": {
      "text/plain": [
       "FloatProgress(value=0.0, layout=Layout(width='auto'), style=ProgressStyle(bar_color='black'))"
      ],
      "application/vnd.jupyter.widget-view+json": {
       "version_major": 2,
       "version_minor": 0,
       "model_id": "ec05583b93074ab7b3e755f41627e7f9"
      }
     },
     "metadata": {},
     "output_type": "display_data"
    },
    {
     "name": "stdout",
     "output_type": "stream",
     "text": [
      "Data Shape: (30000, 8) \n",
      "Items: 3,589 \n",
      "Comments: 29,816\n"
     ]
    },
    {
     "name": "stderr",
     "output_type": "stream",
     "text": [
      "[TextEDA] Clean Text: 100%|██████████| 30000/30000 [00:01<00:00, 18237.64it/s]\n"
     ]
    },
    {
     "name": "stdout",
     "output_type": "stream",
     "text": [
      "shape: (2, 2)\n",
      "┌──────────────┬───────┐\n",
      "│ phone_detect ┆ count │\n",
      "│ ---          ┆ ---   │\n",
      "│ bool         ┆ u32   │\n",
      "╞══════════════╪═══════╡\n",
      "│ false        ┆ 29934 │\n",
      "│ true         ┆ 66    │\n",
      "└──────────────┴───────┘\n",
      "shape: (2, 2)\n",
      "┌────────────┬───────┐\n",
      "│ url_detect ┆ count │\n",
      "│ ---        ┆ ---   │\n",
      "│ bool       ┆ u32   │\n",
      "╞════════════╪═══════╡\n",
      "│ true       ┆ 179   │\n",
      "│ false      ┆ 29821 │\n",
      "└────────────┴───────┘\n"
     ]
    },
    {
     "data": {
      "text/plain": [
       "shape: (5, 13)\n",
       "┌───────────┬───────────┬───────────┬───────────┬───┬───────────┬───────────┬───────────┬──────────┐\n",
       "│ shop_id   ┆ item_id   ┆ item_name ┆ grass_dat ┆ … ┆ comment_c ┆ phone_det ┆ url_detec ┆ word_det │\n",
       "│ ---       ┆ ---       ┆ ---       ┆ e         ┆   ┆ lean_word ┆ ect       ┆ t         ┆ ect      │\n",
       "│ i64       ┆ i64       ┆ str       ┆ ---       ┆   ┆ _count    ┆ ---       ┆ ---       ┆ ---      │\n",
       "│           ┆           ┆           ┆ date      ┆   ┆ ---       ┆ bool      ┆ bool      ┆ bool     │\n",
       "│           ┆           ┆           ┆           ┆   ┆ u32       ┆           ┆           ┆          │\n",
       "╞═══════════╪═══════════╪═══════════╪═══════════╪═══╪═══════════╪═══════════╪═══════════╪══════════╡\n",
       "│ 851157471 ┆ 251231050 ┆ Quần lót  ┆ 2024-10-3 ┆ … ┆ 18        ┆ false     ┆ false     ┆ false    │\n",
       "│           ┆ 85        ┆ nữ Choice ┆ 1         ┆   ┆           ┆           ┆           ┆          │\n",
       "│           ┆           ┆ QLS06 đúc ┆           ┆   ┆           ┆           ┆           ┆          │\n",
       "│           ┆           ┆ s…        ┆           ┆   ┆           ┆           ┆           ┆          │\n",
       "│ 851157471 ┆ 255084724 ┆ [Choice]  ┆ 2024-10-2 ┆ … ┆ 19        ┆ false     ┆ false     ┆ false    │\n",
       "│           ┆ 36        ┆ Áo hai    ┆ 9         ┆   ┆           ┆           ┆           ┆          │\n",
       "│           ┆           ┆ dây TIDA  ┆           ┆   ┆           ┆           ┆           ┆          │\n",
       "│           ┆           ┆ OFFIC…    ┆           ┆   ┆           ┆           ┆           ┆          │\n",
       "│ 851157471 ┆ 244704291 ┆ [Choice]  ┆ 2024-10-3 ┆ … ┆ 35        ┆ false     ┆ false     ┆ false    │\n",
       "│           ┆ 88        ┆ Sáp dưỡng ┆ 1         ┆   ┆           ┆           ┆           ┆          │\n",
       "│           ┆           ┆ môi hồng  ┆           ┆   ┆           ┆           ┆           ┆          │\n",
       "│           ┆           ┆ xi…       ┆           ┆   ┆           ┆           ┆           ┆          │\n",
       "│ 851157471 ┆ 251526904 ┆ Áo thun   ┆ 2024-10-3 ┆ … ┆ 2         ┆ false     ┆ false     ┆ false    │\n",
       "│           ┆ 04        ┆ nữ Choice ┆ 0         ┆   ┆           ┆           ┆           ┆          │\n",
       "│           ┆           ┆ AT01 màu  ┆           ┆   ┆           ┆           ┆           ┆          │\n",
       "│           ┆           ┆ tr…       ┆           ┆   ┆           ┆           ┆           ┆          │\n",
       "│ 851157471 ┆ 245713372 ┆ [Choice]  ┆ 2024-10-2 ┆ … ┆ 20        ┆ false     ┆ false     ┆ false    │\n",
       "│           ┆ 90        ┆ Khăn ướt  ┆ 9         ┆   ┆           ┆           ┆           ┆          │\n",
       "│           ┆           ┆ Gumi GM90 ┆           ┆   ┆           ┆           ┆           ┆          │\n",
       "│           ┆           ┆ kh…       ┆           ┆   ┆           ┆           ┆           ┆          │\n",
       "└───────────┴───────────┴───────────┴───────────┴───┴───────────┴───────────┴───────────┴──────────┘"
      ],
      "text/html": [
       "<div><style>\n",
       ".dataframe > thead > tr,\n",
       ".dataframe > tbody > tr {\n",
       "  text-align: right;\n",
       "  white-space: pre-wrap;\n",
       "}\n",
       "</style>\n",
       "<small>shape: (5, 13)</small><table border=\"1\" class=\"dataframe\"><thead><tr><th>shop_id</th><th>item_id</th><th>item_name</th><th>grass_date</th><th>total_orders</th><th>comment_id</th><th>comment</th><th>rating_star</th><th>comment_clean</th><th>comment_clean_word_count</th><th>phone_detect</th><th>url_detect</th><th>word_detect</th></tr><tr><td>i64</td><td>i64</td><td>str</td><td>date</td><td>i64</td><td>i64</td><td>str</td><td>i32</td><td>str</td><td>u32</td><td>bool</td><td>bool</td><td>bool</td></tr></thead><tbody><tr><td>851157471</td><td>25123105085</td><td>&quot;Quần lót nữ Choice QLS06 đúc s…</td><td>2024-10-31</td><td>4200</td><td>16668958393</td><td>&quot;Sản phẩm tuyệt vời mn nên mua …</td><td>5</td><td>&quot;sản phẩm tuyệt vời mn nên mua …</td><td>18</td><td>false</td><td>false</td><td>false</td></tr><tr><td>851157471</td><td>25508472436</td><td>&quot;[Choice] Áo hai dây TIDA OFFIC…</td><td>2024-10-29</td><td>1175</td><td>15570023607</td><td>&quot;Rẻ thì rẻ thật đấy nhưng mà ch…</td><td>5</td><td>&quot;rẻ thì rẻ thật đấy nhưng mà ch…</td><td>19</td><td>false</td><td>false</td><td>false</td></tr><tr><td>851157471</td><td>24470429188</td><td>&quot;[Choice] Sáp dưỡng môi hồng xi…</td><td>2024-10-31</td><td>null</td><td>15772845933</td><td>&quot;Shipped thân thiện giao hàng n…</td><td>5</td><td>&quot;shipped thân thiện giao hàng n…</td><td>35</td><td>false</td><td>false</td><td>false</td></tr><tr><td>851157471</td><td>25152690404</td><td>&quot;Áo thun nữ Choice AT01 màu tr…</td><td>2024-10-30</td><td>581</td><td>14505691267</td><td>&quot;hơi mỏng&quot;</td><td>2</td><td>&quot;hơi mỏng&quot;</td><td>2</td><td>false</td><td>false</td><td>false</td></tr><tr><td>851157471</td><td>24571337290</td><td>&quot;[Choice] Khăn ướt Gumi GM90 kh…</td><td>2024-10-29</td><td>8</td><td>15701277676</td><td>&quot;Hàng rẻ, chất lượng tốt, giaoH…</td><td>5</td><td>&quot;hàng rẻ, chất lượng tốt, giaoh…</td><td>20</td><td>false</td><td>false</td><td>false</td></tr></tbody></table></div>"
      ]
     },
     "execution_count": 4,
     "metadata": {},
     "output_type": "execute_result"
    }
   ],
   "execution_count": 4
  },
  {
   "metadata": {
    "ExecuteTime": {
     "end_time": "2024-11-01T06:53:33.171596Z",
     "start_time": "2024-11-01T06:53:32.738798Z"
    }
   },
   "cell_type": "code",
   "source": "TextPLOT(fig_size=(12, 4)).len_word(data=df, col_target='comment_clean_word_count', col_agg='comment_id', name='comment')",
   "id": "261b4da4b650a731",
   "outputs": [
    {
     "data": {
      "text/plain": [
       "<Figure size 1200x400 with 2 Axes>"
      ],
      "image/png": "[encoded data removed]"
     },
     "metadata": {},
     "output_type": "display_data"
    }
   ],
   "execution_count": 5
  },
  {
   "metadata": {
    "ExecuteTime": {
     "end_time": "2024-11-01T06:53:33.193443Z",
     "start_time": "2024-11-01T06:53:33.191990Z"
    }
   },
   "cell_type": "code",
   "source": "",
   "id": "4b2d61c2b407e0f1",
   "outputs": [],
   "execution_count": null
  }
 ],
 "metadata": {
  "kernelspec": {
   "display_name": "Python 3",
   "language": "python",
   "name": "python3"
  },
  "language_info": {
   "codemirror_mode": {
    "name": "ipython",
    "version": 2
   },
   "file_extension": ".py",
   "mimetype": "text/x-python",
   "name": "python",
   "nbconvert_exporter": "python",
   "pygments_lexer": "ipython2",
   "version": "2.7.6"
  }
 },
 "nbformat": 4,
 "nbformat_minor": 5
}
