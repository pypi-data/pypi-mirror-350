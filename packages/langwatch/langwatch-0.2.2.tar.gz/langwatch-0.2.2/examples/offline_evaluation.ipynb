{
 "cells": [
  {
   "cell_type": "markdown",
   "id": "cde8a9dc",
   "metadata": {},
   "source": [
    "# LangWatch Evaluation Tracking\n",
    "\n",
    "## Simple Evaluation Loop"
   ]
  },
  {
   "cell_type": "code",
   "execution_count": 1,
   "id": "e4b3c5de",
   "metadata": {},
   "outputs": [
    {
     "name": "stdout",
     "output_type": "stream",
     "text": [
      "Please go to https://app.langwatch.ai/authorize to get your API key\n",
      "2025-05-26 11:53:44,848 - langwatch.client - INFO - Registering atexit handler to flush tracer provider on exit\n",
      "LangWatch API key set\n"
     ]
    }
   ],
   "source": [
    "import langwatch\n",
    "\n",
    "langwatch.login()"
   ]
  },
  {
   "cell_type": "code",
   "execution_count": 1,
   "id": "6f664279",
   "metadata": {},
   "outputs": [
    {
     "name": "stdout",
     "output_type": "stream",
     "text": [
      "2025-05-26 11:31:23,761 - langwatch.utils.initialization - INFO - Setting up LangWatch client...\n",
      "2025-05-26 11:31:23,773 - langwatch.client - INFO - Configuring OTLP exporter with endpoint: https://app.langwatch.ai/api/otel/v1/traces\n",
      "2025-05-26 11:31:23,776 - langwatch.client - INFO - Registering atexit handler to flush tracer provider on exit\n",
      "2025-05-26 11:31:23,778 - langwatch.client - INFO - Successfully configured tracer provider with OTLP exporter\n",
      "2025-05-26 11:31:23,781 - langwatch.utils.initialization - INFO - LangWatch client setup complete\n",
      "Follow the results at: https://app.langwatch.ai/inbox-narrator/experiments/my-incredible-experiment?runId=xanthic-hyrax-of-tenacity\n"
     ]
    },
    {
     "data": {
      "application/vnd.jupyter.widget-view+json": {
       "model_id": "070124a11eac4cc7ae292b02c0c3d706",
       "version_major": 2,
       "version_minor": 0
      },
      "text/plain": [
       "Evaluating:   0%|          | 0/6 [00:00<?, ?it/s]"
      ]
     },
     "metadata": {},
     "output_type": "display_data"
    }
   ],
   "source": [
    "import random\n",
    "import pandas as pd\n",
    "import time\n",
    "\n",
    "df = pd.DataFrame(\n",
    "    [\n",
    "        {\n",
    "            \"question\": \"What is LangWatch?\",\n",
    "            \"answer\": \"LangWatch is a platform for evaluating and improving language models.\",\n",
    "        },\n",
    "        {\n",
    "            \"question\": \"How do I use LangWatch?\",\n",
    "            \"answer\": \"You can use LangWatch by installing the LangWatch SDK and then calling the LangWatch API.\",\n",
    "        },\n",
    "        {\n",
    "            \"question\": \"Does LangWatch support multiple language models?\",\n",
    "            \"answer\": \"Yes, LangWatch is compatible with all language models by using LiteLLM under the hood.\",\n",
    "        },\n",
    "        {\n",
    "            \"question\": \"Can I visualize evaluation metrics in LangWatch?\",\n",
    "            \"answer\": \"Yes, LangWatch provides dashboards for visualizing key evaluation metrics.\",\n",
    "        },\n",
    "        {\n",
    "            \"question\": \"Is there a free tier for LangWatch?\",\n",
    "            \"answer\": \"LangWatch offers a free tier with limited usage, ideal for small projects and evaluation.\",\n",
    "        },\n",
    "        {\n",
    "            \"question\": \"Where can I find documentation for LangWatch?\",\n",
    "            \"answer\": \"You can find the official documentation on the LangWatch website or GitHub repository.\",\n",
    "        },\n",
    "    ]\n",
    ")\n",
    "\n",
    "evaluation = langwatch.evaluation.init(\"my-incredible-experiment\")\n",
    "\n",
    "\n",
    "@langwatch.trace()\n",
    "def agent(question):\n",
    "    time.sleep(random.randint(0, 10))\n",
    "    return {\"text\": \"foo bar\"}\n",
    "\n",
    "\n",
    "for index, row in evaluation.loop(df.iterrows()):\n",
    "    result = agent(row[\"question\"])  # your code\n",
    "\n",
    "    score = random.randint(0, 80) / 100 + 0.2\n",
    "    evaluation.log(\"sample_metric\", index=index, score=score, passed=score > 0.5)\n"
   ]
  },
  {
   "cell_type": "markdown",
   "id": "0bf2e191",
   "metadata": {},
   "source": [
    "## Parallel Evaluation Loop"
   ]
  },
  {
   "cell_type": "code",
   "execution_count": 3,
   "id": "8fd7b230",
   "metadata": {},
   "outputs": [
    {
     "name": "stdout",
     "output_type": "stream",
     "text": [
      "2025-05-26 11:32:11,315 - langwatch.client - INFO - Registering atexit handler to flush tracer provider on exit\n",
      "2025-05-26 11:32:11,315 - langwatch.client - WARNING - An existing global trace provider was found. LangWatch will not override it automatically, but instead is attaching another span processor and exporter to it. You can disable this warning by setting `ignore_global_tracer_provider_override_warning` to `True`.\n",
      "Follow the results at: https://app.langwatch.ai/inbox-narrator/experiments/my-incredible-experiment?runId=eager-sawfish-of-intensity\n"
     ]
    },
    {
     "data": {
      "application/vnd.jupyter.widget-view+json": {
       "model_id": "643abdbbeea9487c825e6951e4f19c10",
       "version_major": 2,
       "version_minor": 0
      },
      "text/plain": [
       "Evaluating:   0%|          | 0/6 [00:00<?, ?it/s]"
      ]
     },
     "metadata": {},
     "output_type": "display_data"
    },
    {
     "name": "stderr",
     "output_type": "stream",
     "text": [
      "Failed to detach context\n",
      "Traceback (most recent call last):\n",
      "  File \"/Users/rchaves/Projects/langwatch-saas/langwatch/python-sdk/.venv/lib/python3.11/site-packages/opentelemetry/context/__init__.py\", line 155, in detach\n",
      "    _RUNTIME_CONTEXT.detach(token)\n",
      "  File \"/Users/rchaves/Projects/langwatch-saas/langwatch/python-sdk/.venv/lib/python3.11/site-packages/opentelemetry/context/contextvars_context.py\", line 53, in detach\n",
      "    self._current_context.reset(token)\n",
      "ValueError: <Token var=<ContextVar name='current_context' default={} at 0x1045fcb80> at 0x16d3a4800> was created in a different Context\n",
      "Failed to detach context\n",
      "Traceback (most recent call last):\n",
      "  File \"/Users/rchaves/Projects/langwatch-saas/langwatch/python-sdk/.venv/lib/python3.11/site-packages/pydantic/type_adapter.py\", line 271, in _init_core_attrs\n",
      "    self.core_schema = _getattr_no_parents(self._type, '__pydantic_core_schema__')\n",
      "                       ^^^^^^^^^^^^^^^^^^^^^^^^^^^^^^^^^^^^^^^^^^^^^^^^^^^^^^^^^^^\n",
      "  File \"/Users/rchaves/Projects/langwatch-saas/langwatch/python-sdk/.venv/lib/python3.11/site-packages/pydantic/type_adapter.py\", line 55, in _getattr_no_parents\n",
      "    raise AttributeError(attribute)\n",
      "AttributeError: __pydantic_core_schema__\n",
      "\n",
      "During handling of the above exception, another exception occurred:\n",
      "\n",
      "Traceback (most recent call last):\n",
      "  File \"/Users/rchaves/Projects/langwatch-saas/langwatch/python-sdk/.venv/lib/python3.11/site-packages/pydantic/_internal/_decorators.py\", line 384, in get_attribute_from_bases\n",
      "    return getattr(tp, name)\n",
      "           ^^^^^^^^^^^^^^^^^\n",
      "AttributeError: type object 'FunctionCall' has no attribute '__pydantic_config__'\n",
      "\n",
      "During handling of the above exception, another exception occurred:\n",
      "\n",
      "Traceback (most recent call last):\n",
      "  File \"/Users/rchaves/Projects/langwatch-saas/langwatch/python-sdk/.venv/lib/python3.11/site-packages/opentelemetry/context/__init__.py\", line 155, in detach\n",
      "    _RUNTIME_CONTEXT.detach(token)\n",
      "  File \"/Users/rchaves/Projects/langwatch-saas/langwatch/python-sdk/.venv/lib/python3.11/site-packages/opentelemetry/context/contextvars_context.py\", line 53, in detach\n",
      "    self._current_context.reset(token)\n",
      "ValueError: <Token var=<ContextVar name='current_context' default={} at 0x1045fcb80> at 0x1044bfd80> was created in a different Context\n",
      "Failed to detach context\n",
      "Traceback (most recent call last):\n",
      "  File \"/Users/rchaves/Projects/langwatch-saas/langwatch/python-sdk/.venv/lib/python3.11/site-packages/pydantic/type_adapter.py\", line 271, in _init_core_attrs\n",
      "    self.core_schema = _getattr_no_parents(self._type, '__pydantic_core_schema__')\n",
      "                       ^^^^^^^^^^^^^^^^^^^^^^^^^^^^^^^^^^^^^^^^^^^^^^^^^^^^^^^^^^^\n",
      "  File \"/Users/rchaves/Projects/langwatch-saas/langwatch/python-sdk/.venv/lib/python3.11/site-packages/pydantic/type_adapter.py\", line 55, in _getattr_no_parents\n",
      "    raise AttributeError(attribute)\n",
      "AttributeError: __pydantic_core_schema__\n",
      "\n",
      "During handling of the above exception, another exception occurred:\n",
      "\n",
      "Traceback (most recent call last):\n",
      "  File \"/Users/rchaves/Projects/langwatch-saas/langwatch/python-sdk/.venv/lib/python3.11/site-packages/pydantic/_internal/_decorators.py\", line 384, in get_attribute_from_bases\n",
      "    return getattr(tp, name)\n",
      "           ^^^^^^^^^^^^^^^^^\n",
      "AttributeError: type object 'FunctionCall' has no attribute '__pydantic_config__'\n",
      "\n",
      "During handling of the above exception, another exception occurred:\n",
      "\n",
      "Traceback (most recent call last):\n",
      "  File \"/Users/rchaves/Projects/langwatch-saas/langwatch/python-sdk/.venv/lib/python3.11/site-packages/opentelemetry/context/__init__.py\", line 155, in detach\n",
      "    _RUNTIME_CONTEXT.detach(token)\n",
      "  File \"/Users/rchaves/Projects/langwatch-saas/langwatch/python-sdk/.venv/lib/python3.11/site-packages/opentelemetry/context/contextvars_context.py\", line 53, in detach\n",
      "    self._current_context.reset(token)\n",
      "ValueError: <Token var=<ContextVar name='current_context' default={} at 0x1045fcb80> at 0x16d329700> was created in a different Context\n",
      "Failed to detach context\n",
      "Traceback (most recent call last):\n",
      "  File \"/Users/rchaves/Projects/langwatch-saas/langwatch/python-sdk/.venv/lib/python3.11/site-packages/pydantic/type_adapter.py\", line 271, in _init_core_attrs\n",
      "    self.core_schema = _getattr_no_parents(self._type, '__pydantic_core_schema__')\n",
      "                       ^^^^^^^^^^^^^^^^^^^^^^^^^^^^^^^^^^^^^^^^^^^^^^^^^^^^^^^^^^^\n",
      "  File \"/Users/rchaves/Projects/langwatch-saas/langwatch/python-sdk/.venv/lib/python3.11/site-packages/pydantic/type_adapter.py\", line 55, in _getattr_no_parents\n",
      "    raise AttributeError(attribute)\n",
      "AttributeError: __pydantic_core_schema__\n",
      "\n",
      "During handling of the above exception, another exception occurred:\n",
      "\n",
      "Traceback (most recent call last):\n",
      "  File \"/Users/rchaves/Projects/langwatch-saas/langwatch/python-sdk/.venv/lib/python3.11/site-packages/pydantic/_internal/_decorators.py\", line 384, in get_attribute_from_bases\n",
      "    return getattr(tp, name)\n",
      "           ^^^^^^^^^^^^^^^^^\n",
      "AttributeError: type object 'FunctionCall' has no attribute '__pydantic_config__'\n",
      "\n",
      "During handling of the above exception, another exception occurred:\n",
      "\n",
      "Traceback (most recent call last):\n",
      "  File \"/Users/rchaves/Projects/langwatch-saas/langwatch/python-sdk/.venv/lib/python3.11/site-packages/opentelemetry/context/__init__.py\", line 155, in detach\n",
      "    _RUNTIME_CONTEXT.detach(token)\n",
      "  File \"/Users/rchaves/Projects/langwatch-saas/langwatch/python-sdk/.venv/lib/python3.11/site-packages/opentelemetry/context/contextvars_context.py\", line 53, in detach\n",
      "    self._current_context.reset(token)\n",
      "ValueError: <Token var=<ContextVar name='current_context' default={} at 0x1045fcb80> at 0x16d398400> was created in a different Context\n",
      "Failed to detach context\n",
      "Traceback (most recent call last):\n",
      "  File \"/Users/rchaves/Projects/langwatch-saas/langwatch/python-sdk/.venv/lib/python3.11/site-packages/pydantic/type_adapter.py\", line 271, in _init_core_attrs\n",
      "    self.core_schema = _getattr_no_parents(self._type, '__pydantic_core_schema__')\n",
      "                       ^^^^^^^^^^^^^^^^^^^^^^^^^^^^^^^^^^^^^^^^^^^^^^^^^^^^^^^^^^^\n",
      "  File \"/Users/rchaves/Projects/langwatch-saas/langwatch/python-sdk/.venv/lib/python3.11/site-packages/pydantic/type_adapter.py\", line 55, in _getattr_no_parents\n",
      "    raise AttributeError(attribute)\n",
      "AttributeError: __pydantic_core_schema__\n",
      "\n",
      "During handling of the above exception, another exception occurred:\n",
      "\n",
      "Traceback (most recent call last):\n",
      "  File \"/Users/rchaves/Projects/langwatch-saas/langwatch/python-sdk/.venv/lib/python3.11/site-packages/pydantic/_internal/_decorators.py\", line 384, in get_attribute_from_bases\n",
      "    return getattr(tp, name)\n",
      "           ^^^^^^^^^^^^^^^^^\n",
      "AttributeError: type object 'FunctionCall' has no attribute '__pydantic_config__'\n",
      "\n",
      "During handling of the above exception, another exception occurred:\n",
      "\n",
      "Traceback (most recent call last):\n",
      "  File \"/Users/rchaves/Projects/langwatch-saas/langwatch/python-sdk/.venv/lib/python3.11/site-packages/opentelemetry/context/__init__.py\", line 155, in detach\n",
      "    _RUNTIME_CONTEXT.detach(token)\n",
      "  File \"/Users/rchaves/Projects/langwatch-saas/langwatch/python-sdk/.venv/lib/python3.11/site-packages/opentelemetry/context/contextvars_context.py\", line 53, in detach\n",
      "    self._current_context.reset(token)\n",
      "ValueError: <Token var=<ContextVar name='current_context' default={} at 0x1045fcb80> at 0x16d3aeec0> was created in a different Context\n",
      "Failed to detach context\n",
      "Traceback (most recent call last):\n",
      "  File \"/Users/rchaves/Projects/langwatch-saas/langwatch/python-sdk/.venv/lib/python3.11/site-packages/pydantic/type_adapter.py\", line 271, in _init_core_attrs\n",
      "    self.core_schema = _getattr_no_parents(self._type, '__pydantic_core_schema__')\n",
      "                       ^^^^^^^^^^^^^^^^^^^^^^^^^^^^^^^^^^^^^^^^^^^^^^^^^^^^^^^^^^^\n",
      "  File \"/Users/rchaves/Projects/langwatch-saas/langwatch/python-sdk/.venv/lib/python3.11/site-packages/pydantic/type_adapter.py\", line 55, in _getattr_no_parents\n",
      "    raise AttributeError(attribute)\n",
      "AttributeError: __pydantic_core_schema__\n",
      "\n",
      "During handling of the above exception, another exception occurred:\n",
      "\n",
      "Traceback (most recent call last):\n",
      "  File \"/Users/rchaves/Projects/langwatch-saas/langwatch/python-sdk/.venv/lib/python3.11/site-packages/pydantic/_internal/_decorators.py\", line 384, in get_attribute_from_bases\n",
      "    return getattr(tp, name)\n",
      "           ^^^^^^^^^^^^^^^^^\n",
      "AttributeError: type object 'FunctionCall' has no attribute '__pydantic_config__'\n",
      "\n",
      "During handling of the above exception, another exception occurred:\n",
      "\n",
      "Traceback (most recent call last):\n",
      "  File \"/Users/rchaves/Projects/langwatch-saas/langwatch/python-sdk/.venv/lib/python3.11/site-packages/opentelemetry/context/__init__.py\", line 155, in detach\n",
      "    _RUNTIME_CONTEXT.detach(token)\n",
      "  File \"/Users/rchaves/Projects/langwatch-saas/langwatch/python-sdk/.venv/lib/python3.11/site-packages/opentelemetry/context/contextvars_context.py\", line 53, in detach\n",
      "    self._current_context.reset(token)\n",
      "ValueError: <Token var=<ContextVar name='current_context' default={} at 0x1045fcb80> at 0x16d357f80> was created in a different Context\n"
     ]
    }
   ],
   "source": [
    "import random\n",
    "import time\n",
    "\n",
    "langwatch.setup()\n",
    "evaluation = langwatch.evaluation.init(\"my-incredible-experiment\")\n",
    "\n",
    "@langwatch.trace()\n",
    "def agent(question):\n",
    "    time.sleep(random.randint(0, 10))\n",
    "    return \"foo parallel\"\n",
    "\n",
    "for index, row in evaluation.loop(df.iterrows(), threads=4):\n",
    "    def evaluate(index, row):\n",
    "        result = agent(row[\"question\"])\n",
    "        evaluation.log(\"sample_metric\", index=index, data={\"response\": result}, score=1)\n",
    "    evaluation.submit(evaluate, index, row)"
   ]
  },
  {
   "cell_type": "code",
   "execution_count": null,
   "id": "c9fa8b21",
   "metadata": {},
   "outputs": [],
   "source": []
  }
 ],
 "metadata": {
  "kernelspec": {
   "display_name": ".venv",
   "language": "python",
   "name": "python3"
  },
  "language_info": {
   "codemirror_mode": {
    "name": "ipython",
    "version": 3
   },
   "file_extension": ".py",
   "mimetype": "text/x-python",
   "name": "python",
   "nbconvert_exporter": "python",
   "pygments_lexer": "ipython3",
   "version": "3.11.6"
  }
 },
 "nbformat": 4,
 "nbformat_minor": 5
}
