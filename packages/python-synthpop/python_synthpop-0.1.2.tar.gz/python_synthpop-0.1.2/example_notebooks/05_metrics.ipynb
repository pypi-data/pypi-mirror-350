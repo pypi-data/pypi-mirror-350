{
 "cells": [
  {
   "cell_type": "code",
   "execution_count": 1,
   "metadata": {},
   "outputs": [],
   "source": [
    "import numpy as np\n",
    "import pandas as pd\n",
    "from synthpop.metrics import (\n",
    "    MetricsReport,\n",
    "    EfficacyMetrics,\n",
    "    DisclosureProtection\n",
    ")"
   ]
  },
  {
   "cell_type": "code",
   "execution_count": 2,
   "metadata": {},
   "outputs": [],
   "source": [
    "# Create a small real DataFrame\n",
    "real_df = pd.DataFrame({\n",
    "    \"numeric_col\": [1, 2, 3, 4, 5, np.nan],\n",
    "    \"categorical_col\": [\"a\", \"b\", \"a\", \"c\", \"b\", \"b\"],\n",
    "    \"datetime_col\": pd.date_range(\"2023-01-01\", periods=6),\n",
    "    \"boolean_col\": [True, False, True, False, True, False]\n",
    "})\n",
    "\n",
    "# Create a corresponding synthetic DataFrame\n",
    "#can come from one of the SDG methods \n",
    "synthetic_df = pd.DataFrame({\n",
    "    \"numeric_col\": [1.1, 2.1, 2.9, 3.8, 5.2, np.nan],\n",
    "    \"categorical_col\": [\"a\", \"b\", \"b\", \"c\", \"d\", \"b\"],\n",
    "    \"datetime_col\": pd.date_range(\"2023-01-01\", periods=6),\n",
    "    \"boolean_col\": [True, True, True, False, True, False]\n",
    "})\n",
    "\n",
    "# Optional metadata\n",
    "#can be obtained also by the missing data handler \n",
    "metadata = {\n",
    "    \"numeric_col\": \"numerical\",\n",
    "    \"categorical_col\": \"categorical\",\n",
    "    \"datetime_col\": \"datetime\",\n",
    "    \"boolean_col\": \"boolean\"\n",
    "}"
   ]
  },
  {
   "cell_type": "code",
   "execution_count": 3,
   "metadata": {},
   "outputs": [
    {
     "name": "stdout",
     "output_type": "stream",
     "text": [
      "=== Diagnostic Report ===\n"
     ]
    },
    {
     "name": "stderr",
     "output_type": "stream",
     "text": [
      "/opt/homebrew/lib/python3.11/site-packages/synthpop/metrics/single_columns_metrics.py:123: RuntimeWarning: ks_2samp: Exact calculation unsuccessful. Switching to method=asymp.\n",
      "  ks_stat, _ = ks_2samp(real_clean, synthetic_clean)\n"
     ]
    },
    {
     "data": {
      "text/html": [
       "<div>\n",
       "<style scoped>\n",
       "    .dataframe tbody tr th:only-of-type {\n",
       "        vertical-align: middle;\n",
       "    }\n",
       "\n",
       "    .dataframe tbody tr th {\n",
       "        vertical-align: top;\n",
       "    }\n",
       "\n",
       "    .dataframe thead th {\n",
       "        text-align: right;\n",
       "    }\n",
       "</style>\n",
       "<table border=\"1\" class=\"dataframe\">\n",
       "  <thead>\n",
       "    <tr style=\"text-align: right;\">\n",
       "      <th></th>\n",
       "      <th>column</th>\n",
       "      <th>type</th>\n",
       "      <th>missing_value_similarity</th>\n",
       "      <th>range_coverage</th>\n",
       "      <th>boundary_adherence</th>\n",
       "      <th>ks_complement</th>\n",
       "      <th>tv_complement</th>\n",
       "      <th>statistic_similarity</th>\n",
       "      <th>category_coverage</th>\n",
       "      <th>category_adherence</th>\n",
       "    </tr>\n",
       "  </thead>\n",
       "  <tbody>\n",
       "    <tr>\n",
       "      <th>0</th>\n",
       "      <td>numeric_col</td>\n",
       "      <td>numerical</td>\n",
       "      <td>1.0</td>\n",
       "      <td>0.975</td>\n",
       "      <td>0.666667</td>\n",
       "      <td>0.8</td>\n",
       "      <td>N/A</td>\n",
       "      <td>0.98513</td>\n",
       "      <td>N/A</td>\n",
       "      <td>N/A</td>\n",
       "    </tr>\n",
       "    <tr>\n",
       "      <th>1</th>\n",
       "      <td>categorical_col</td>\n",
       "      <td>categorical</td>\n",
       "      <td>1.0</td>\n",
       "      <td>N/A</td>\n",
       "      <td>N/A</td>\n",
       "      <td>N/A</td>\n",
       "      <td>0.833333</td>\n",
       "      <td>N/A</td>\n",
       "      <td>1.0</td>\n",
       "      <td>0.833333</td>\n",
       "    </tr>\n",
       "    <tr>\n",
       "      <th>2</th>\n",
       "      <td>datetime_col</td>\n",
       "      <td>datetime</td>\n",
       "      <td>1.0</td>\n",
       "      <td>1.0</td>\n",
       "      <td>1.0</td>\n",
       "      <td>1.0</td>\n",
       "      <td>N/A</td>\n",
       "      <td>1.0</td>\n",
       "      <td>N/A</td>\n",
       "      <td>N/A</td>\n",
       "    </tr>\n",
       "    <tr>\n",
       "      <th>3</th>\n",
       "      <td>boolean_col</td>\n",
       "      <td>boolean</td>\n",
       "      <td>1.0</td>\n",
       "      <td>N/A</td>\n",
       "      <td>N/A</td>\n",
       "      <td>N/A</td>\n",
       "      <td>0.833333</td>\n",
       "      <td>N/A</td>\n",
       "      <td>1.0</td>\n",
       "      <td>1.0</td>\n",
       "    </tr>\n",
       "  </tbody>\n",
       "</table>\n",
       "</div>"
      ],
      "text/plain": [
       "            column         type  missing_value_similarity range_coverage  \\\n",
       "0      numeric_col    numerical                       1.0          0.975   \n",
       "1  categorical_col  categorical                       1.0            N/A   \n",
       "2     datetime_col     datetime                       1.0            1.0   \n",
       "3      boolean_col      boolean                       1.0            N/A   \n",
       "\n",
       "  boundary_adherence ks_complement tv_complement statistic_similarity  \\\n",
       "0           0.666667           0.8           N/A              0.98513   \n",
       "1                N/A           N/A      0.833333                  N/A   \n",
       "2                1.0           1.0           N/A                  1.0   \n",
       "3                N/A           N/A      0.833333                  N/A   \n",
       "\n",
       "  category_coverage category_adherence  \n",
       "0               N/A                N/A  \n",
       "1               1.0           0.833333  \n",
       "2               N/A                N/A  \n",
       "3               1.0                1.0  "
      ]
     },
     "metadata": {},
     "output_type": "display_data"
    }
   ],
   "source": [
    "# Instantiate and generate a diagnostic report\n",
    "report = MetricsReport(real_df, synthetic_df, metadata)\n",
    "report_df = report.generate_report()\n",
    "print(\"=== Diagnostic Report ===\")\n",
    "display(report_df)"
   ]
  },
  {
   "cell_type": "markdown",
   "metadata": {},
   "source": [
    "##  2. DEMO: EfficacyMetrics"
   ]
  },
  {
   "cell_type": "code",
   "execution_count": 4,
   "metadata": {},
   "outputs": [
    {
     "name": "stdout",
     "output_type": "stream",
     "text": [
      "=== Regression Efficacy Metrics ===\n",
      "{'mse': 10.597519466752676, 'mae': 2.557045171404732, 'r2': -0.03565850750220312}\n"
     ]
    }
   ],
   "source": [
    "# EXAMPLE A: Regression\n",
    "real_reg = pd.DataFrame({\n",
    "    \"feat1\": np.random.normal(0, 1, 100),\n",
    "    \"feat2\": np.random.normal(5, 2, 100),\n",
    "    \"target\": np.random.normal(10, 3, 100)\n",
    "})\n",
    "synthetic_reg = pd.DataFrame({\n",
    "    \"feat1\": np.random.normal(0, 1, 100),\n",
    "    \"feat2\": np.random.normal(5, 2, 100),\n",
    "    \"target\": np.random.normal(10, 3, 100)\n",
    "})\n",
    "\n",
    "reg_efficacy = EfficacyMetrics(task='regression', target_column=\"target\")\n",
    "reg_metrics = reg_efficacy.evaluate(real_reg, synthetic_reg)\n",
    "print(\"=== Regression Efficacy Metrics ===\")\n",
    "print(reg_metrics)"
   ]
  },
  {
   "cell_type": "code",
   "execution_count": 5,
   "metadata": {},
   "outputs": [
    {
     "name": "stdout",
     "output_type": "stream",
     "text": [
      "\n",
      "=== Classification Efficacy Metrics ===\n",
      "{'accuracy': 0.43, 'f1_score': 0.4331733981172184}\n"
     ]
    }
   ],
   "source": [
    "# EXAMPLE B: Classification\n",
    "real_clf = pd.DataFrame({\n",
    "    \"feat1\": np.random.normal(0, 1, 100),\n",
    "    \"feat2\": np.random.normal(5, 2, 100),\n",
    "    \"target\": np.random.choice([\"A\", \"B\"], size=100)\n",
    "})\n",
    "synthetic_clf = pd.DataFrame({\n",
    "    \"feat1\": np.random.normal(0, 1, 100),\n",
    "    \"feat2\": np.random.normal(5, 2, 100),\n",
    "    \"target\": np.random.choice([\"A\", \"B\"], size=100)\n",
    "})\n",
    "\n",
    "clf_efficacy = EfficacyMetrics(task='classification', target_column=\"target\")\n",
    "clf_metrics = clf_efficacy.evaluate(real_clf, synthetic_clf)\n",
    "print(\"\\n=== Classification Efficacy Metrics ===\")\n",
    "print(clf_metrics)"
   ]
  },
  {
   "cell_type": "markdown",
   "metadata": {},
   "source": [
    "## 3. DEMO: Privacy metrics"
   ]
  },
  {
   "cell_type": "code",
   "execution_count": 6,
   "metadata": {},
   "outputs": [
    {
     "name": "stdout",
     "output_type": "stream",
     "text": [
      "\n",
      "=== Disclosure Protection ===\n",
      "Score: 0.810\n",
      "Detailed Report: {'threshold': 0.015464603229079318, 'risk_rate': 0.19, 'disclosure_protection_score': 0.81}\n"
     ]
    }
   ],
   "source": [
    "# Example numeric real vs. synthetic data\n",
    "real_privacy = pd.DataFrame({\n",
    "    \"col1\": np.random.normal(0, 1, 100),\n",
    "    \"col2\": np.random.normal(5, 2, 100)\n",
    "})\n",
    "synthetic_privacy = real_privacy + np.random.normal(0, 0.3, real_privacy.shape)\n",
    "\n",
    "dp = DisclosureProtection(real_privacy, synthetic_privacy)\n",
    "dp_score = dp.score()\n",
    "dp_report = dp.report()\n",
    "\n",
    "print(\"\\n=== Disclosure Protection ===\")\n",
    "print(f\"Score: {dp_score:.3f}\")\n",
    "print(\"Detailed Report:\", dp_report)"
   ]
  }
 ],
 "metadata": {
  "kernelspec": {
   "display_name": "Python 3",
   "language": "python",
   "name": "python3"
  },
  "language_info": {
   "codemirror_mode": {
    "name": "ipython",
    "version": 3
   },
   "file_extension": ".py",
   "mimetype": "text/x-python",
   "name": "python",
   "nbconvert_exporter": "python",
   "pygments_lexer": "ipython3",
   "version": "3.11.9"
  }
 },
 "nbformat": 4,
 "nbformat_minor": 2
}
