{
 "cells": [
  {
   "cell_type": "code",
   "execution_count": 1,
   "metadata": {},
   "outputs": [],
   "source": [
    "import pandas as pd\n",
    "import warnings\n",
    "warnings.filterwarnings('ignore')\n",
    "\n",
    "df = pd.read_csv('../datasets/socialdiagnosis/data/SocialDiagnosis2011.csv', sep=';')"
   ]
  },
  {
   "cell_type": "code",
   "execution_count": 2,
   "metadata": {},
   "outputs": [
    {
     "data": {
      "text/html": [
       "<div>\n",
       "<style scoped>\n",
       "    .dataframe tbody tr th:only-of-type {\n",
       "        vertical-align: middle;\n",
       "    }\n",
       "\n",
       "    .dataframe tbody tr th {\n",
       "        vertical-align: top;\n",
       "    }\n",
       "\n",
       "    .dataframe thead th {\n",
       "        text-align: right;\n",
       "    }\n",
       "</style>\n",
       "<table border=\"1\" class=\"dataframe\">\n",
       "  <thead>\n",
       "    <tr style=\"text-align: right;\">\n",
       "      <th></th>\n",
       "      <th>sex</th>\n",
       "      <th>age</th>\n",
       "      <th>marital</th>\n",
       "      <th>income</th>\n",
       "      <th>ls</th>\n",
       "      <th>smoke</th>\n",
       "    </tr>\n",
       "  </thead>\n",
       "  <tbody>\n",
       "    <tr>\n",
       "      <th>0</th>\n",
       "      <td>FEMALE</td>\n",
       "      <td>57</td>\n",
       "      <td>MARRIED</td>\n",
       "      <td>800.0</td>\n",
       "      <td>PLEASED</td>\n",
       "      <td>NO</td>\n",
       "    </tr>\n",
       "    <tr>\n",
       "      <th>1</th>\n",
       "      <td>MALE</td>\n",
       "      <td>20</td>\n",
       "      <td>SINGLE</td>\n",
       "      <td>350.0</td>\n",
       "      <td>MOSTLY SATISFIED</td>\n",
       "      <td>NO</td>\n",
       "    </tr>\n",
       "    <tr>\n",
       "      <th>2</th>\n",
       "      <td>FEMALE</td>\n",
       "      <td>18</td>\n",
       "      <td>SINGLE</td>\n",
       "      <td>NaN</td>\n",
       "      <td>PLEASED</td>\n",
       "      <td>NO</td>\n",
       "    </tr>\n",
       "    <tr>\n",
       "      <th>3</th>\n",
       "      <td>FEMALE</td>\n",
       "      <td>78</td>\n",
       "      <td>WIDOWED</td>\n",
       "      <td>900.0</td>\n",
       "      <td>MIXED</td>\n",
       "      <td>NO</td>\n",
       "    </tr>\n",
       "    <tr>\n",
       "      <th>4</th>\n",
       "      <td>FEMALE</td>\n",
       "      <td>54</td>\n",
       "      <td>MARRIED</td>\n",
       "      <td>1500.0</td>\n",
       "      <td>MOSTLY SATISFIED</td>\n",
       "      <td>YES</td>\n",
       "    </tr>\n",
       "  </tbody>\n",
       "</table>\n",
       "</div>"
      ],
      "text/plain": [
       "      sex  age  marital  income                ls smoke\n",
       "0  FEMALE   57  MARRIED   800.0           PLEASED    NO\n",
       "1    MALE   20   SINGLE   350.0  MOSTLY SATISFIED    NO\n",
       "2  FEMALE   18   SINGLE     NaN           PLEASED    NO\n",
       "3  FEMALE   78  WIDOWED   900.0             MIXED    NO\n",
       "4  FEMALE   54  MARRIED  1500.0  MOSTLY SATISFIED   YES"
      ]
     },
     "execution_count": 2,
     "metadata": {},
     "output_type": "execute_result"
    }
   ],
   "source": [
    "df.head()"
   ]
  },
  {
   "cell_type": "code",
   "execution_count": 3,
   "metadata": {},
   "outputs": [],
   "source": [
    "from synthpop import MissingDataHandler, DataProcessor, CARTMethod"
   ]
  },
  {
   "cell_type": "code",
   "execution_count": 4,
   "metadata": {},
   "outputs": [
    {
     "name": "stdout",
     "output_type": "stream",
     "text": [
      "Column Data Types: {'sex': 'categorical', 'age': 'numerical', 'marital': 'categorical', 'income': 'numerical', 'ls': 'categorical', 'smoke': 'categorical'}\n"
     ]
    }
   ],
   "source": [
    "# 1. Initiate metadata\n",
    "md_handler = MissingDataHandler()\n",
    "\n",
    "# 1.1 Get data types\n",
    "metadata= md_handler.get_column_dtypes(df)\n",
    "print(\"Column Data Types:\", metadata)"
   ]
  },
  {
   "cell_type": "code",
   "execution_count": 5,
   "metadata": {},
   "outputs": [
    {
     "name": "stdout",
     "output_type": "stream",
     "text": [
      "Missing data:\n",
      "sex          0\n",
      "age          0\n",
      "marital      9\n",
      "income     683\n",
      "ls           8\n",
      "smoke       10\n",
      "dtype: int64\n"
     ]
    }
   ],
   "source": [
    "# 2. Process missing data\n",
    "print(\"Missing data:\")\n",
    "print(df.isnull().sum())"
   ]
  },
  {
   "cell_type": "code",
   "execution_count": 6,
   "metadata": {},
   "outputs": [
    {
     "name": "stdout",
     "output_type": "stream",
     "text": [
      "Detected missingness type: {'marital': 'MAR', 'income': 'MAR', 'ls': 'MAR', 'smoke': 'MAR'}\n"
     ]
    }
   ],
   "source": [
    "# 2.1 Detect type of missingness\n",
    "missingness_dict = md_handler.detect_missingness(df)\n",
    "print(\"Detected missingness type:\", missingness_dict)"
   ]
  },
  {
   "cell_type": "code",
   "execution_count": 7,
   "metadata": {},
   "outputs": [
    {
     "name": "stdout",
     "output_type": "stream",
     "text": [
      "Missing data:\n",
      "sex        0\n",
      "age        0\n",
      "marital    0\n",
      "income     0\n",
      "ls         0\n",
      "smoke      0\n",
      "dtype: int64\n"
     ]
    }
   ],
   "source": [
    "# 2.2 Impute missing values\n",
    "real_df = md_handler.apply_imputation(df, missingness_dict)\n",
    "\n",
    "print(\"Missing data:\")\n",
    "print(real_df.isnull().sum())"
   ]
  },
  {
   "cell_type": "code",
   "execution_count": 8,
   "metadata": {},
   "outputs": [
    {
     "name": "stdout",
     "output_type": "stream",
     "text": [
      "Processed data:\n"
     ]
    },
    {
     "data": {
      "text/html": [
       "<div>\n",
       "<style scoped>\n",
       "    .dataframe tbody tr th:only-of-type {\n",
       "        vertical-align: middle;\n",
       "    }\n",
       "\n",
       "    .dataframe tbody tr th {\n",
       "        vertical-align: top;\n",
       "    }\n",
       "\n",
       "    .dataframe thead th {\n",
       "        text-align: right;\n",
       "    }\n",
       "</style>\n",
       "<table border=\"1\" class=\"dataframe\">\n",
       "  <thead>\n",
       "    <tr style=\"text-align: right;\">\n",
       "      <th></th>\n",
       "      <th>sex</th>\n",
       "      <th>age</th>\n",
       "      <th>marital</th>\n",
       "      <th>income</th>\n",
       "      <th>ls</th>\n",
       "      <th>smoke</th>\n",
       "    </tr>\n",
       "  </thead>\n",
       "  <tbody>\n",
       "    <tr>\n",
       "      <th>0</th>\n",
       "      <td>0</td>\n",
       "      <td>57.0</td>\n",
       "      <td>3</td>\n",
       "      <td>800.000000</td>\n",
       "      <td>4</td>\n",
       "      <td>0</td>\n",
       "    </tr>\n",
       "    <tr>\n",
       "      <th>1</th>\n",
       "      <td>1</td>\n",
       "      <td>20.0</td>\n",
       "      <td>4</td>\n",
       "      <td>350.000000</td>\n",
       "      <td>3</td>\n",
       "      <td>0</td>\n",
       "    </tr>\n",
       "    <tr>\n",
       "      <th>2</th>\n",
       "      <td>0</td>\n",
       "      <td>18.0</td>\n",
       "      <td>4</td>\n",
       "      <td>1411.093352</td>\n",
       "      <td>4</td>\n",
       "      <td>0</td>\n",
       "    </tr>\n",
       "    <tr>\n",
       "      <th>3</th>\n",
       "      <td>0</td>\n",
       "      <td>78.0</td>\n",
       "      <td>5</td>\n",
       "      <td>900.000000</td>\n",
       "      <td>1</td>\n",
       "      <td>0</td>\n",
       "    </tr>\n",
       "    <tr>\n",
       "      <th>4</th>\n",
       "      <td>0</td>\n",
       "      <td>54.0</td>\n",
       "      <td>3</td>\n",
       "      <td>1500.000000</td>\n",
       "      <td>3</td>\n",
       "      <td>1</td>\n",
       "    </tr>\n",
       "  </tbody>\n",
       "</table>\n",
       "</div>"
      ],
      "text/plain": [
       "   sex   age  marital       income  ls  smoke\n",
       "0    0  57.0        3   800.000000   4      0\n",
       "1    1  20.0        4   350.000000   3      0\n",
       "2    0  18.0        4  1411.093352   4      0\n",
       "3    0  78.0        5   900.000000   1      0\n",
       "4    0  54.0        3  1500.000000   3      1"
      ]
     },
     "metadata": {},
     "output_type": "display_data"
    }
   ],
   "source": [
    "# 3. Preprocessing: Instantiate the DataProcessor with column_dtypes\n",
    "processor = DataProcessor(metadata)\n",
    "\n",
    "# 3.1 Preprocess the data: transforms raw data into a numerical format\n",
    "processed_data = processor.preprocess(real_df)\n",
    "print(\"Processed data:\")\n",
    "display(processed_data.head())"
   ]
  },
  {
   "cell_type": "code",
   "execution_count": 9,
   "metadata": {},
   "outputs": [],
   "source": [
    "# 4. Fit the CART method\n",
    "cart = CARTMethod(metadata, smoothing=True, proper=True, minibucket=5, random_state=42)\n",
    "cart.fit(processed_data)"
   ]
  },
  {
   "cell_type": "code",
   "execution_count": 10,
   "metadata": {},
   "outputs": [
    {
     "name": "stdout",
     "output_type": "stream",
     "text": [
      "Synthetic processed data:\n"
     ]
    },
    {
     "data": {
      "text/html": [
       "<div>\n",
       "<style scoped>\n",
       "    .dataframe tbody tr th:only-of-type {\n",
       "        vertical-align: middle;\n",
       "    }\n",
       "\n",
       "    .dataframe tbody tr th {\n",
       "        vertical-align: top;\n",
       "    }\n",
       "\n",
       "    .dataframe thead th {\n",
       "        text-align: right;\n",
       "    }\n",
       "</style>\n",
       "<table border=\"1\" class=\"dataframe\">\n",
       "  <thead>\n",
       "    <tr style=\"text-align: right;\">\n",
       "      <th></th>\n",
       "      <th>sex</th>\n",
       "      <th>age</th>\n",
       "      <th>marital</th>\n",
       "      <th>income</th>\n",
       "      <th>ls</th>\n",
       "      <th>smoke</th>\n",
       "    </tr>\n",
       "  </thead>\n",
       "  <tbody>\n",
       "    <tr>\n",
       "      <th>0</th>\n",
       "      <td>1</td>\n",
       "      <td>27.000861</td>\n",
       "      <td>3</td>\n",
       "      <td>5940.743483</td>\n",
       "      <td>4</td>\n",
       "      <td>0</td>\n",
       "    </tr>\n",
       "    <tr>\n",
       "      <th>1</th>\n",
       "      <td>1</td>\n",
       "      <td>33.685012</td>\n",
       "      <td>3</td>\n",
       "      <td>1747.087586</td>\n",
       "      <td>4</td>\n",
       "      <td>1</td>\n",
       "    </tr>\n",
       "    <tr>\n",
       "      <th>2</th>\n",
       "      <td>0</td>\n",
       "      <td>76.212963</td>\n",
       "      <td>5</td>\n",
       "      <td>955.997763</td>\n",
       "      <td>2</td>\n",
       "      <td>0</td>\n",
       "    </tr>\n",
       "    <tr>\n",
       "      <th>3</th>\n",
       "      <td>1</td>\n",
       "      <td>36.493914</td>\n",
       "      <td>3</td>\n",
       "      <td>1783.896317</td>\n",
       "      <td>4</td>\n",
       "      <td>1</td>\n",
       "    </tr>\n",
       "    <tr>\n",
       "      <th>4</th>\n",
       "      <td>0</td>\n",
       "      <td>54.019538</td>\n",
       "      <td>3</td>\n",
       "      <td>791.422965</td>\n",
       "      <td>4</td>\n",
       "      <td>0</td>\n",
       "    </tr>\n",
       "  </tbody>\n",
       "</table>\n",
       "</div>"
      ],
      "text/plain": [
       "  sex        age marital       income ls smoke\n",
       "0   1  27.000861       3  5940.743483  4     0\n",
       "1   1  33.685012       3  1747.087586  4     1\n",
       "2   0  76.212963       5   955.997763  2     0\n",
       "3   1  36.493914       3  1783.896317  4     1\n",
       "4   0  54.019538       3   791.422965  4     0"
      ]
     },
     "metadata": {},
     "output_type": "display_data"
    }
   ],
   "source": [
    "# 4.1 Preview generated synthetic data\n",
    "synthetic_processed = cart.sample(100)\n",
    "print(\"Synthetic processed data:\")\n",
    "display(synthetic_processed.head())"
   ]
  },
  {
   "cell_type": "code",
   "execution_count": 11,
   "metadata": {},
   "outputs": [
    {
     "name": "stdout",
     "output_type": "stream",
     "text": [
      "Synthetic data in original format:\n"
     ]
    },
    {
     "data": {
      "text/html": [
       "<div>\n",
       "<style scoped>\n",
       "    .dataframe tbody tr th:only-of-type {\n",
       "        vertical-align: middle;\n",
       "    }\n",
       "\n",
       "    .dataframe tbody tr th {\n",
       "        vertical-align: top;\n",
       "    }\n",
       "\n",
       "    .dataframe thead th {\n",
       "        text-align: right;\n",
       "    }\n",
       "</style>\n",
       "<table border=\"1\" class=\"dataframe\">\n",
       "  <thead>\n",
       "    <tr style=\"text-align: right;\">\n",
       "      <th></th>\n",
       "      <th>sex</th>\n",
       "      <th>age</th>\n",
       "      <th>marital</th>\n",
       "      <th>income</th>\n",
       "      <th>ls</th>\n",
       "      <th>smoke</th>\n",
       "    </tr>\n",
       "  </thead>\n",
       "  <tbody>\n",
       "    <tr>\n",
       "      <th>0</th>\n",
       "      <td>MALE</td>\n",
       "      <td>27.000861</td>\n",
       "      <td>MARRIED</td>\n",
       "      <td>5940.743483</td>\n",
       "      <td>PLEASED</td>\n",
       "      <td>NO</td>\n",
       "    </tr>\n",
       "    <tr>\n",
       "      <th>1</th>\n",
       "      <td>MALE</td>\n",
       "      <td>33.685012</td>\n",
       "      <td>MARRIED</td>\n",
       "      <td>1747.087586</td>\n",
       "      <td>PLEASED</td>\n",
       "      <td>YES</td>\n",
       "    </tr>\n",
       "    <tr>\n",
       "      <th>2</th>\n",
       "      <td>FEMALE</td>\n",
       "      <td>76.212963</td>\n",
       "      <td>WIDOWED</td>\n",
       "      <td>955.997763</td>\n",
       "      <td>MOSTLY DISSATISFIED</td>\n",
       "      <td>NO</td>\n",
       "    </tr>\n",
       "    <tr>\n",
       "      <th>3</th>\n",
       "      <td>MALE</td>\n",
       "      <td>36.493914</td>\n",
       "      <td>MARRIED</td>\n",
       "      <td>1783.896317</td>\n",
       "      <td>PLEASED</td>\n",
       "      <td>YES</td>\n",
       "    </tr>\n",
       "    <tr>\n",
       "      <th>4</th>\n",
       "      <td>FEMALE</td>\n",
       "      <td>54.019538</td>\n",
       "      <td>MARRIED</td>\n",
       "      <td>791.422965</td>\n",
       "      <td>PLEASED</td>\n",
       "      <td>NO</td>\n",
       "    </tr>\n",
       "  </tbody>\n",
       "</table>\n",
       "</div>"
      ],
      "text/plain": [
       "      sex        age  marital       income                   ls smoke\n",
       "0    MALE  27.000861  MARRIED  5940.743483              PLEASED    NO\n",
       "1    MALE  33.685012  MARRIED  1747.087586              PLEASED   YES\n",
       "2  FEMALE  76.212963  WIDOWED   955.997763  MOSTLY DISSATISFIED    NO\n",
       "3    MALE  36.493914  MARRIED  1783.896317              PLEASED   YES\n",
       "4  FEMALE  54.019538  MARRIED   791.422965              PLEASED    NO"
      ]
     },
     "metadata": {},
     "output_type": "display_data"
    }
   ],
   "source": [
    "# 5. Postprocessing: back to the original format and preview of data\n",
    "synthetic_df = processor.postprocess(synthetic_processed)\n",
    "print(\"Synthetic data in original format:\")\n",
    "display(synthetic_df.head())"
   ]
  },
  {
   "cell_type": "code",
   "execution_count": 12,
   "metadata": {},
   "outputs": [],
   "source": [
    "from synthpop.metrics import (\n",
    "    MetricsReport,\n",
    "    EfficacyMetrics,\n",
    "    DisclosureProtection\n",
    ")"
   ]
  },
  {
   "cell_type": "code",
   "execution_count": 13,
   "metadata": {},
   "outputs": [
    {
     "name": "stdout",
     "output_type": "stream",
     "text": [
      "=== Diagnostic Report ===\n"
     ]
    },
    {
     "data": {
      "text/html": [
       "<div>\n",
       "<style scoped>\n",
       "    .dataframe tbody tr th:only-of-type {\n",
       "        vertical-align: middle;\n",
       "    }\n",
       "\n",
       "    .dataframe tbody tr th {\n",
       "        vertical-align: top;\n",
       "    }\n",
       "\n",
       "    .dataframe thead th {\n",
       "        text-align: right;\n",
       "    }\n",
       "</style>\n",
       "<table border=\"1\" class=\"dataframe\">\n",
       "  <thead>\n",
       "    <tr style=\"text-align: right;\">\n",
       "      <th></th>\n",
       "      <th>column</th>\n",
       "      <th>type</th>\n",
       "      <th>missing_value_similarity</th>\n",
       "      <th>range_coverage</th>\n",
       "      <th>boundary_adherence</th>\n",
       "      <th>ks_complement</th>\n",
       "      <th>tv_complement</th>\n",
       "      <th>statistic_similarity</th>\n",
       "      <th>category_coverage</th>\n",
       "      <th>category_adherence</th>\n",
       "    </tr>\n",
       "  </thead>\n",
       "  <tbody>\n",
       "    <tr>\n",
       "      <th>0</th>\n",
       "      <td>sex</td>\n",
       "      <td>categorical</td>\n",
       "      <td>1.0</td>\n",
       "      <td>N/A</td>\n",
       "      <td>N/A</td>\n",
       "      <td>N/A</td>\n",
       "      <td>0.9964</td>\n",
       "      <td>N/A</td>\n",
       "      <td>1.0</td>\n",
       "      <td>1.0</td>\n",
       "    </tr>\n",
       "    <tr>\n",
       "      <th>1</th>\n",
       "      <td>age</td>\n",
       "      <td>numerical</td>\n",
       "      <td>1.0</td>\n",
       "      <td>0.885944</td>\n",
       "      <td>1.0</td>\n",
       "      <td>0.9342</td>\n",
       "      <td>N/A</td>\n",
       "      <td>0.966491</td>\n",
       "      <td>N/A</td>\n",
       "      <td>N/A</td>\n",
       "    </tr>\n",
       "    <tr>\n",
       "      <th>2</th>\n",
       "      <td>marital</td>\n",
       "      <td>categorical</td>\n",
       "      <td>1.0</td>\n",
       "      <td>N/A</td>\n",
       "      <td>N/A</td>\n",
       "      <td>N/A</td>\n",
       "      <td>0.975</td>\n",
       "      <td>N/A</td>\n",
       "      <td>0.833333</td>\n",
       "      <td>1.0</td>\n",
       "    </tr>\n",
       "    <tr>\n",
       "      <th>3</th>\n",
       "      <td>income</td>\n",
       "      <td>numerical</td>\n",
       "      <td>1.0</td>\n",
       "      <td>0.498955</td>\n",
       "      <td>1.0</td>\n",
       "      <td>0.8468</td>\n",
       "      <td>N/A</td>\n",
       "      <td>0.912639</td>\n",
       "      <td>N/A</td>\n",
       "      <td>N/A</td>\n",
       "    </tr>\n",
       "    <tr>\n",
       "      <th>4</th>\n",
       "      <td>ls</td>\n",
       "      <td>categorical</td>\n",
       "      <td>1.0</td>\n",
       "      <td>N/A</td>\n",
       "      <td>N/A</td>\n",
       "      <td>N/A</td>\n",
       "      <td>0.9176</td>\n",
       "      <td>N/A</td>\n",
       "      <td>0.857143</td>\n",
       "      <td>1.0</td>\n",
       "    </tr>\n",
       "    <tr>\n",
       "      <th>5</th>\n",
       "      <td>smoke</td>\n",
       "      <td>categorical</td>\n",
       "      <td>1.0</td>\n",
       "      <td>N/A</td>\n",
       "      <td>N/A</td>\n",
       "      <td>N/A</td>\n",
       "      <td>0.9746</td>\n",
       "      <td>N/A</td>\n",
       "      <td>1.0</td>\n",
       "      <td>1.0</td>\n",
       "    </tr>\n",
       "  </tbody>\n",
       "</table>\n",
       "</div>"
      ],
      "text/plain": [
       "    column         type  missing_value_similarity range_coverage  \\\n",
       "0      sex  categorical                       1.0            N/A   \n",
       "1      age    numerical                       1.0       0.885944   \n",
       "2  marital  categorical                       1.0            N/A   \n",
       "3   income    numerical                       1.0       0.498955   \n",
       "4       ls  categorical                       1.0            N/A   \n",
       "5    smoke  categorical                       1.0            N/A   \n",
       "\n",
       "  boundary_adherence ks_complement tv_complement statistic_similarity  \\\n",
       "0                N/A           N/A        0.9964                  N/A   \n",
       "1                1.0        0.9342           N/A             0.966491   \n",
       "2                N/A           N/A         0.975                  N/A   \n",
       "3                1.0        0.8468           N/A             0.912639   \n",
       "4                N/A           N/A        0.9176                  N/A   \n",
       "5                N/A           N/A        0.9746                  N/A   \n",
       "\n",
       "  category_coverage category_adherence  \n",
       "0               1.0                1.0  \n",
       "1               N/A                N/A  \n",
       "2          0.833333                1.0  \n",
       "3               N/A                N/A  \n",
       "4          0.857143                1.0  \n",
       "5               1.0                1.0  "
      ]
     },
     "metadata": {},
     "output_type": "display_data"
    }
   ],
   "source": [
    "# 6. Evaluate the synthetic data\n",
    "\n",
    "# 6.1 Diagnostic report\n",
    "report = MetricsReport(real_df, synthetic_df, metadata)\n",
    "report_df = report.generate_report()\n",
    "print(\"=== Diagnostic Report ===\")\n",
    "display(report_df)"
   ]
  },
  {
   "cell_type": "code",
   "execution_count": 14,
   "metadata": {},
   "outputs": [
    {
     "name": "stdout",
     "output_type": "stream",
     "text": [
      "=== Regression Efficacy Metrics ===\n",
      "{'mse': 1455890.3266689673, 'mae': 810.365268015888, 'r2': -0.04299904229518581}\n"
     ]
    }
   ],
   "source": [
    "# 6.2 Efficacy metrics\n",
    "\n",
    "# 6.2.1 Regression\n",
    "reg_efficacy = EfficacyMetrics(task='regression', target_column=\"income\")\n",
    "reg_metrics = reg_efficacy.evaluate(real_df, synthetic_df)\n",
    "print(\"=== Regression Efficacy Metrics ===\")\n",
    "print(reg_metrics)"
   ]
  },
  {
   "cell_type": "code",
   "execution_count": 15,
   "metadata": {},
   "outputs": [
    {
     "name": "stdout",
     "output_type": "stream",
     "text": [
      "\n",
      "=== Classification Efficacy Metrics ===\n",
      "{'accuracy': 0.64, 'f1_score': 0.6461333333333333}\n"
     ]
    }
   ],
   "source": [
    "# 6.2.2 Classification\n",
    "clf_efficacy = EfficacyMetrics(task='classification', target_column=\"smoke\")\n",
    "clf_metrics = clf_efficacy.evaluate(real_df, synthetic_df)\n",
    "print(\"\\n=== Classification Efficacy Metrics ===\")\n",
    "print(clf_metrics)"
   ]
  },
  {
   "cell_type": "code",
   "execution_count": 16,
   "metadata": {},
   "outputs": [
    {
     "name": "stdout",
     "output_type": "stream",
     "text": [
      "\n",
      "=== Disclosure Protection ===\n",
      "Score: 1.000\n",
      "Detailed Report: {'threshold': 0.0, 'risk_rate': 0.0, 'disclosure_protection_score': 1.0}\n"
     ]
    }
   ],
   "source": [
    "# 6.3 Privacy\n",
    "dp = DisclosureProtection(real_df, synthetic_df)\n",
    "dp_score = dp.score()\n",
    "dp_report = dp.report()\n",
    "\n",
    "print(\"\\n=== Disclosure Protection ===\")\n",
    "print(f\"Score: {dp_score:.3f}\")\n",
    "print(\"Detailed Report:\", dp_report)"
   ]
  }
 ],
 "metadata": {
  "kernelspec": {
   "display_name": "Python 3",
   "language": "python",
   "name": "python3"
  },
  "language_info": {
   "codemirror_mode": {
    "name": "ipython",
    "version": 3
   },
   "file_extension": ".py",
   "mimetype": "text/x-python",
   "name": "python",
   "nbconvert_exporter": "python",
   "pygments_lexer": "ipython3",
   "version": "3.11.9"
  }
 },
 "nbformat": 4,
 "nbformat_minor": 2
}
