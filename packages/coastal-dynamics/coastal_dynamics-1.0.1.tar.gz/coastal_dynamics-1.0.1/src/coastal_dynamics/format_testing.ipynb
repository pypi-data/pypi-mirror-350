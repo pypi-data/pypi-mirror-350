{
 "cells": [
  {
   "cell_type": "code",
   "execution_count": null,
   "id": "59e5ff1a-9b99-49d6-822d-76b94bcf3622",
   "metadata": {},
   "outputs": [],
   "source": [
    "# import warnings\n",
    "# warnings.filterwarnings(\"ignore\")"
   ]
  },
  {
   "cell_type": "code",
   "execution_count": null,
   "id": "28778acd-000e-4fd2-b62f-5222b3657855",
   "metadata": {},
   "outputs": [],
   "source": [
    "import panel as pn\n",
    "\n",
    "pn.extension(\n",
    "    'katex',\n",
    "    log_level='ERROR'\n",
    ")"
   ]
  },
  {
   "cell_type": "code",
   "execution_count": null,
   "id": "468ab246-3915-4822-b55f-ad310b4ebd35",
   "metadata": {},
   "outputs": [],
   "source": [
    "sample_text = r'{\\tiny ' + \\\n",
    "r'Lorem ipsum dolor sit amet, consectetur adipiscing elit, sed do eiusmod tempor incididunt ut labore et dolore magna aliqua. Ut enim ad minim veniam, quis nostrud exercitation ullamco laboris nisi ut aliquip ex ea commodo consequat. Duis aute irure dolor in reprehenderit in voluptate velit esse cillum dolore eu fugiat nulla pariatur. Excepteur sint occaecat cupidatat non proident, sunt in culpa qui officia deserunt mollit anim id est laborum.' +\\\n",
    "r'}'"
   ]
  },
  {
   "cell_type": "code",
   "execution_count": null,
   "id": "fe09e690-41e4-4664-b2e0-a25cd82b4575",
   "metadata": {},
   "outputs": [],
   "source": [
    "sample_text = r'Lorem ipsum dolor sit amet, consectetur adipiscing elit, sed do eiusmod tempor incididunt ut labore et dolore magna aliqua. Ut enim ad minim veniam, quis nostrud exercitation ullamco laboris nisi ut aliquip ex ea commodo consequat. Duis aute irure dolor in reprehenderit in voluptate velit esse cillum dolore eu fugiat nulla pariatur. Excepteur sint occaecat cupidatat non proident, sunt in culpa qui officia deserunt mollit anim id est laborum.'"
   ]
  },
  {
   "cell_type": "code",
   "execution_count": null,
   "id": "0cd0b77a-8675-4ddc-bc7d-bc9ed24a6be8",
   "metadata": {},
   "outputs": [],
   "source": [
    "custom_style = {\n",
    "    'font-size': '40pt',\n",
    "}"
   ]
  },
  {
   "cell_type": "code",
   "execution_count": null,
   "id": "6a6ecc42-eea7-4282-b91d-33d7e28ba1f4",
   "metadata": {},
   "outputs": [],
   "source": [
    "pn.Column(\n",
    "    pn.pane.LaTeX(sample_text, sizing_mode='stretch_width', styles=custom_style),\n",
    "    pn.widgets.Button(width=75), width_policy='max'\n",
    ")"
   ]
  },
  {
   "cell_type": "code",
   "execution_count": null,
   "id": "02f75297-1c67-4d7c-9f45-5179efddb74d",
   "metadata": {},
   "outputs": [],
   "source": [
    "pn.Column(\n",
    "    pn.pane.LaTeX(sample_text, renderer='katex', sizing_mode='stretch_width'),\n",
    "    width_policy='max'\n",
    ")\n"
   ]
  },
  {
   "cell_type": "code",
   "execution_count": null,
   "id": "65ec8f7c-b02e-4706-b01a-b55768e43439",
   "metadata": {},
   "outputs": [],
   "source": [
    "pn.Column(\n",
    "    pn.pane.LaTeX(\"#####\" + sample_text , sizing_mode='stretch_width', styles={'font-size': '12pt'}),\n",
    "    pn.widgets.Button(width=75),\n",
    "    width_policy='max'\n",
    ")"
   ]
  },
  {
   "cell_type": "markdown",
   "id": "e4f631af-e6de-480f-8b4a-e0b83591d3eb",
   "metadata": {},
   "source": [
    "Lorem ipsum dolor sit amet, consectetur adipiscing elit, sed do eiusmod tempor incididunt ut labore et dolore magna aliqua. Ut enim ad minim veniam, quis nostrud exercitation ullamco laboris nisi ut aliquip ex ea commodo consequat. Duis aute irure dolor in reprehenderit in voluptate velit esse cillum dolore eu fugiat nulla pariatur. Excepteur sint occaecat cupidatat non proident, sunt in culpa qui officia deserunt mollit anim id est laborum.\n"
   ]
  },
  {
   "cell_type": "code",
   "execution_count": null,
   "id": "8da4124c-b378-45ac-95aa-67b17cf01a57",
   "metadata": {},
   "outputs": [],
   "source": [
    "pn.Column(\n",
    "    pn.pane.Markdown('hello world'),\n",
    "    pn.pane.Markdown(),\n",
    "    pn.widgets.Button()\n",
    ")"
   ]
  },
  {
   "cell_type": "code",
   "execution_count": null,
   "id": "aa60ae88-d31d-404c-af22-686719bdfbce",
   "metadata": {},
   "outputs": [],
   "source": [
    "import numpy as np"
   ]
  },
  {
   "cell_type": "code",
   "execution_count": null,
   "id": "a1dd06e6-94e0-4662-8553-b470bf4a3ea4",
   "metadata": {},
   "outputs": [],
   "source": [
    "sig_figs = 2\n",
    "\n",
    "user_answer = 10.5\n",
    "\n",
    "np.format_float_positional(\n",
    "                    user_answer,\n",
    "                    precision=sig_figs,\n",
    "                    unique=False,\n",
    "                    fractional=False,\n",
    "                    trim=\"k\",\n",
    ")"
   ]
  },
  {
   "cell_type": "code",
   "execution_count": null,
   "id": "9e607bf3-4f2c-46ca-a12b-5b258dd8f590",
   "metadata": {},
   "outputs": [],
   "source": [
    "import math\n",
    "\n",
    "def compare_significant_figures(a, b, significant_figures):\n",
    "    \"\"\"\n",
    "    Compare two numbers up to a given number of significant figures.\n",
    "    \n",
    "    Parameters:\n",
    "        a (float): The first number.\n",
    "        b (float): The second number.\n",
    "        significant_figures (int): Number of significant figures for comparison.\n",
    "    \n",
    "    Returns:\n",
    "        bool: True if the numbers are equal up to the given significant figures, False otherwise.\n",
    "    \"\"\"\n",
    "    if a == 0 or b == 0:\n",
    "        # If either number is zero, significant figures do not apply, compare directly\n",
    "        return round(a, significant_figures) == round(b, significant_figures)\n",
    "\n",
    "    # Round each number to the desired number of significant figures\n",
    "    scale_a = -int(math.floor(math.log10(abs(a)))) + (significant_figures - 1)\n",
    "    scale_b = -int(math.floor(math.log10(abs(b)))) + (significant_figures - 1)\n",
    "    \n",
    "    rounded_a = round(a, scale_a)\n",
    "    rounded_b = round(b, scale_b)\n",
    "    \n",
    "    return rounded_a == rounded_b"
   ]
  },
  {
   "cell_type": "code",
   "execution_count": null,
   "id": "c789b765-14eb-457e-9476-5f91ddfb9e6f",
   "metadata": {},
   "outputs": [],
   "source": [
    "a = 10\n",
    "b = 10.4\n",
    "\n",
    "sig_figs = 2\n",
    "\n",
    "compare_significant_figures(a, b, sig_figs)"
   ]
  },
  {
   "cell_type": "code",
   "execution_count": null,
   "id": "522af8db-69d5-4316-b572-77903fb4c21f",
   "metadata": {},
   "outputs": [],
   "source": [
    "a = 10\n",
    "b = 10.500000001\n",
    "\n",
    "sig_figs = 2\n",
    "\n",
    "compare_significant_figures(a, b, sig_figs)"
   ]
  },
  {
   "cell_type": "code",
   "execution_count": null,
   "id": "0e6601f9-686d-439f-af78-9ab93931f154",
   "metadata": {},
   "outputs": [],
   "source": [
    "i = 10\n",
    "sig_figs\n",
    "\n",
    "print(f'{float(f\"{i:.1g}\"):g}')"
   ]
  },
  {
   "cell_type": "code",
   "execution_count": null,
   "id": "bc167d17-d979-4055-9b17-19ee5b2d67ed",
   "metadata": {},
   "outputs": [],
   "source": [
    "from math import log10, floor\n",
    "\n",
    "def round_sig(x, sig=3):\n",
    "    return round(x, sig-int(floor(log10(abs(x))))-1)\n",
    "\n",
    "# print(round(10.5, 0))\n",
    "\n",
    "x = 0.003\n",
    "\n",
    "round_sig(x, 2)"
   ]
  },
  {
   "cell_type": "code",
   "execution_count": null,
   "id": "adc77eaf-63bd-45bc-9a12-de257bf99262",
   "metadata": {},
   "outputs": [],
   "source": [
    "print(round_sig(0.000400001, 2))"
   ]
  },
  {
   "cell_type": "code",
   "execution_count": null,
   "id": "9affa4b6-fa92-4599-ae66-7a75df8ff6e9",
   "metadata": {},
   "outputs": [],
   "source": [
    "x1 = 10\n",
    "x2 = 10.5\n",
    "\n",
    "sf = 2\n",
    "\n",
    "print(round_sig(x1, sig=sf) == round_sig(x2,sig=sf))"
   ]
  },
  {
   "cell_type": "code",
   "execution_count": null,
   "id": "0f784551-75da-4091-8b55-1678e967754f",
   "metadata": {},
   "outputs": [],
   "source": [
    "def round_sig(x, sig=3):\n",
    "    \n",
    "    # Handle zero input explicitly\n",
    "    if x == 0:\n",
    "        return float(0)\n",
    "        \n",
    "    # Calculate the rounding precision\n",
    "    precision = sig - int(floor(log10(abs(x)))) - 1\n",
    "    \n",
    "    # Check if the number ends in a significant 5\n",
    "    rounded = round(x, precision)\n",
    "    adjustment = 10**(-precision) / 2  # Adjustment to push up when needed\n",
    "    \n",
    "    if rounded < x and round(x - rounded, precision + 1) == 0.5 * 10**-precision:\n",
    "        # If the rounded value is lower, and x ends in an exact 5, add the adjustment\n",
    "        value = float(round(x + adjustment, precision))\n",
    "    else:\n",
    "        # Otherwise, return the normal rounded value\n",
    "        value = float(rounded)\n",
    "\n",
    "    return value"
   ]
  },
  {
   "cell_type": "code",
   "execution_count": null,
   "id": "5fb8aabc-fafc-4cb3-bccc-7fea3ae39b87",
   "metadata": {},
   "outputs": [],
   "source": [
    "print(round_sig(10.5, 2))\n",
    "print(round_sig(10.4, 2))\n",
    "print(round_sig(0.0045, 1))\n",
    "print(round_sig(5.50, 1))\n",
    "print(round_sig(0.006, 1))\n",
    "\n"
   ]
  },
  {
   "cell_type": "code",
   "execution_count": null,
   "id": "47962a04-6e87-41d4-9596-1d5ca45bad89",
   "metadata": {},
   "outputs": [],
   "source": [
    "print(round_sig(10, 2))\n",
    "print(round_sig(10.499999999999999, 2))\n",
    "print(round_sig(10.5, 2))\n"
   ]
  },
  {
   "cell_type": "code",
   "execution_count": null,
   "id": "d0ab2093-9bd4-41e5-a6e8-97512d4f2026",
   "metadata": {},
   "outputs": [],
   "source": [
    "print(round_sig(10, 2)==round_sig(10.4, 2))\n"
   ]
  },
  {
   "cell_type": "code",
   "execution_count": null,
   "id": "67806c6d-c966-4d67-824f-c7d411f73726",
   "metadata": {},
   "outputs": [],
   "source": [
    "def round_sig(x, sig=3):\n",
    "    \n",
    "    # Handle zero input explicitly\n",
    "    if x == 0:\n",
    "        return 0  \n",
    "    \n",
    "    # Calculate the rounding precision\n",
    "    precision = sig - int(floor(log10(abs(x)))) - 1\n",
    "    \n",
    "    # Compute rounded value\n",
    "    factor = 10**precision\n",
    "    adjusted_x = x * factor\n",
    "    \n",
    "    if adjusted_x % 1 == 0.5:  # Check if it ends in an exact 5\n",
    "        adjusted_x = adjusted_x + 0.5  # Push up if it's exactly halfway\n",
    "        \n",
    "    return round(adjusted_x) / factor"
   ]
  },
  {
   "cell_type": "code",
   "execution_count": null,
   "id": "3495f2d6-2e4e-4a6f-a86d-58d8bd7d2e4a",
   "metadata": {},
   "outputs": [],
   "source": []
  },
  {
   "cell_type": "code",
   "execution_count": null,
   "id": "68008759-d1c5-4e86-8555-9ab98d59b52a",
   "metadata": {},
   "outputs": [],
   "source": []
  }
 ],
 "metadata": {
  "kernelspec": {
   "display_name": "Python [conda env:coastalcodebook] *",
   "language": "python",
   "name": "conda-env-coastalcodebook-py"
  },
  "language_info": {
   "codemirror_mode": {
    "name": "ipython",
    "version": 3
   },
   "file_extension": ".py",
   "mimetype": "text/x-python",
   "name": "python",
   "nbconvert_exporter": "python",
   "pygments_lexer": "ipython3",
   "version": "3.10.15"
  }
 },
 "nbformat": 4,
 "nbformat_minor": 5
}
