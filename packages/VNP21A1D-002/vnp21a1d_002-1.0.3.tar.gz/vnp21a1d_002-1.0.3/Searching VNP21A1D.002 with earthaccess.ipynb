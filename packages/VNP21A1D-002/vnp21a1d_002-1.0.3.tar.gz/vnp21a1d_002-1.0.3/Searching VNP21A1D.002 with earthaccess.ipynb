{
 "cells": [
  {
   "cell_type": "code",
   "execution_count": 1,
   "metadata": {},
   "outputs": [],
   "source": [
    "import VNP21A1D_002"
   ]
  },
  {
   "cell_type": "code",
   "execution_count": 2,
   "metadata": {},
   "outputs": [],
   "source": [
    "import logging\n",
    "\n",
    "logger = logging.getLogger(__name__)"
   ]
  },
  {
   "cell_type": "code",
   "execution_count": 11,
   "metadata": {},
   "outputs": [],
   "source": [
    "tile = \"h08v05\"\n",
    "date_UTC = \"2025-01-17\"\n",
    "download_directory = \"~/data/VIIRS_download\""
   ]
  },
  {
   "cell_type": "code",
   "execution_count": 12,
   "metadata": {},
   "outputs": [
    {
     "name": "stdout",
     "output_type": "stream",
     "text": [
      "[2025-01-21 12:33:32 INFO] Found the following granules for VIIRS 2 using the CMR search:\n",
      "[2025-01-21 12:33:32 INFO] Number of VIIRS 2 granules found using CMR search: 0\n"
     ]
    },
    {
     "ename": "GranuleNotFoundError",
     "evalue": "no VNP21A1D.002 granules found at tile h08v05 on date 2025-01-17",
     "output_type": "error",
     "traceback": [
      "\u001b[0;31m---------------------------------------------------------------------------\u001b[0m",
      "\u001b[0;31mGranuleNotFoundError\u001b[0m                      Traceback (most recent call last)",
      "Cell \u001b[0;32mIn[12], line 1\u001b[0m\n\u001b[0;32m----> 1\u001b[0m granule \u001b[38;5;241m=\u001b[39m \u001b[43mVNP21A1D_002\u001b[49m\u001b[38;5;241;43m.\u001b[39;49m\u001b[43mretrieve_granule\u001b[49m\u001b[43m(\u001b[49m\n\u001b[1;32m      2\u001b[0m \u001b[43m    \u001b[49m\u001b[43mdate_UTC\u001b[49m\u001b[38;5;241;43m=\u001b[39;49m\u001b[43mdate_UTC\u001b[49m\u001b[43m,\u001b[49m\n\u001b[1;32m      3\u001b[0m \u001b[43m    \u001b[49m\u001b[43mtile\u001b[49m\u001b[38;5;241;43m=\u001b[39;49m\u001b[43mtile\u001b[49m\u001b[43m,\u001b[49m\n\u001b[1;32m      4\u001b[0m \u001b[43m    \u001b[49m\u001b[43mdownload_directory\u001b[49m\u001b[38;5;241;43m=\u001b[39;49m\u001b[43mdownload_directory\u001b[49m\n\u001b[1;32m      5\u001b[0m \u001b[43m)\u001b[49m\n\u001b[1;32m      7\u001b[0m granule\n",
      "File \u001b[0;32m~/Projects/VNP21A1D-002/VNP21A1D_002/retrieve_granule.py:26\u001b[0m, in \u001b[0;36mretrieve_granule\u001b[0;34m(date_UTC, tile, download_directory, parent_directory, concept_ID)\u001b[0m\n\u001b[1;32m     18\u001b[0m remote_granules \u001b[38;5;241m=\u001b[39m VIIRS_tiled_granules\u001b[38;5;241m.\u001b[39msearch_granules(\n\u001b[1;32m     19\u001b[0m     concept_ID\u001b[38;5;241m=\u001b[39mconcept_ID,\n\u001b[1;32m     20\u001b[0m     date_UTC\u001b[38;5;241m=\u001b[39mdate_UTC,\n\u001b[1;32m     21\u001b[0m     tile\u001b[38;5;241m=\u001b[39mtile,\n\u001b[1;32m     22\u001b[0m     tile_size\u001b[38;5;241m=\u001b[39m\u001b[38;5;241m1200\u001b[39m\n\u001b[1;32m     23\u001b[0m )\n\u001b[1;32m     25\u001b[0m \u001b[38;5;28;01mif\u001b[39;00m \u001b[38;5;28mlen\u001b[39m(remote_granules) \u001b[38;5;241m==\u001b[39m \u001b[38;5;241m0\u001b[39m:\n\u001b[0;32m---> 26\u001b[0m     \u001b[38;5;28;01mraise\u001b[39;00m GranuleNotFoundError(\u001b[38;5;124mf\u001b[39m\u001b[38;5;124m\"\u001b[39m\u001b[38;5;124mno VNP21A1D.002 granules found at tile \u001b[39m\u001b[38;5;132;01m{\u001b[39;00mtile\u001b[38;5;132;01m}\u001b[39;00m\u001b[38;5;124m on date \u001b[39m\u001b[38;5;132;01m{\u001b[39;00mdate_UTC\u001b[38;5;132;01m}\u001b[39;00m\u001b[38;5;124m\"\u001b[39m)\n\u001b[1;32m     28\u001b[0m remote_granule \u001b[38;5;241m=\u001b[39m remote_granules[\u001b[38;5;241m0\u001b[39m]\n\u001b[1;32m     30\u001b[0m granule \u001b[38;5;241m=\u001b[39m VIIRS_tiled_granules\u001b[38;5;241m.\u001b[39mretrieve_granule(\n\u001b[1;32m     31\u001b[0m     remote_granule, \n\u001b[1;32m     32\u001b[0m     download_directory\u001b[38;5;241m=\u001b[39mdownload_directory, \n\u001b[1;32m     33\u001b[0m     parent_directory\u001b[38;5;241m=\u001b[39mparent_directory\n\u001b[1;32m     34\u001b[0m )\n",
      "\u001b[0;31mGranuleNotFoundError\u001b[0m: no VNP21A1D.002 granules found at tile h08v05 on date 2025-01-17"
     ]
    }
   ],
   "source": [
    "granule = VNP21A1D_002.retrieve_granule(\n",
    "    date_UTC=date_UTC,\n",
    "    tile=tile,\n",
    "    download_directory=download_directory\n",
    ")\n",
    "\n",
    "granule"
   ]
  },
  {
   "cell_type": "code",
   "execution_count": null,
   "metadata": {},
   "outputs": [],
   "source": [
    "granule.ST_C"
   ]
  },
  {
   "cell_type": "code",
   "execution_count": null,
   "metadata": {},
   "outputs": [],
   "source": [
    "granule.date_UTC"
   ]
  },
  {
   "cell_type": "code",
   "execution_count": null,
   "metadata": {},
   "outputs": [],
   "source": []
  }
 ],
 "metadata": {
  "kernelspec": {
   "display_name": "VNP21A1D-002",
   "language": "python",
   "name": "python3"
  },
  "language_info": {
   "codemirror_mode": {
    "name": "ipython",
    "version": 3
   },
   "file_extension": ".py",
   "mimetype": "text/x-python",
   "name": "python",
   "nbconvert_exporter": "python",
   "pygments_lexer": "ipython3",
   "version": "3.10.17"
  }
 },
 "nbformat": 4,
 "nbformat_minor": 2
}
