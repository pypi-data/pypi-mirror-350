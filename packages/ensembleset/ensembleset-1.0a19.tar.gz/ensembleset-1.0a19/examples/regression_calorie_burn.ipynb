{
 "cells": [
  {
   "cell_type": "markdown",
   "id": "5e4940df",
   "metadata": {},
   "source": [
    "# Dataset ensemble"
   ]
  },
  {
   "cell_type": "code",
   "execution_count": null,
   "id": "52073aa2",
   "metadata": {},
   "outputs": [],
   "source": [
    "import logging\n",
    "from logging.handlers import RotatingFileHandler\n",
    "from pathlib import Path\n",
    "\n",
    "import h5py\n",
    "import numpy as np\n",
    "import pandas as pd\n",
    "from sklearn.metrics import mean_squared_log_error\n",
    "from sklearn.model_selection import train_test_split, cross_val_score\n",
    "from sklearn.ensemble import HistGradientBoostingRegressor\n",
    "\n",
    "%cd ..\n",
    "from ensembleset.dataset import DataSet\n",
    "import examples.functions.plotting_functions as plot_funcs\n",
    "import examples.functions.helper_functions as helper_funcs\n",
    "\n",
    "\n",
    "example_name = 'calories'\n",
    "log_path = 'examples/logs'\n",
    "\n",
    "Path(log_path).mkdir(parents=True, exist_ok=True)\n",
    "helper_funcs.delete_old_logs(log_path, example_name)\n",
    "\n",
    "function_logger = logging.getLogger(__name__ + '.optimization_run')\n",
    "\n",
    "logging.basicConfig(\n",
    "    handlers=[RotatingFileHandler(\n",
    "        f'{log_path}/{example_name}.log',\n",
    "        maxBytes=10 * 1024 * 1024,\n",
    "        backupCount=10\n",
    "    )],\n",
    "    level=logging.INFO,\n",
    "    format='%(levelname)s - %(name)s - %(message)s'\n",
    ")"
   ]
  },
  {
   "cell_type": "markdown",
   "id": "d02324ab",
   "metadata": {},
   "source": [
    "## 1. Data preparation"
   ]
  },
  {
   "cell_type": "code",
   "execution_count": null,
   "id": "94c1234f",
   "metadata": {},
   "outputs": [],
   "source": [
    "data_df=pd.read_csv('examples/example_data/calories.csv')\n",
    "data_df.drop('id', axis=1, inplace=True)\n",
    "train_df, test_df=train_test_split(data_df, test_size=0.5)\n",
    "train_df.reset_index(inplace=True, drop=True)\n",
    "test_df.reset_index(inplace=True, drop=True)\n",
    "train_df.info()"
   ]
  },
  {
   "cell_type": "markdown",
   "id": "4f1ec89d",
   "metadata": {},
   "source": [
    "## 2. Gradient boosting: original data"
   ]
  },
  {
   "cell_type": "code",
   "execution_count": null,
   "id": "24c72322",
   "metadata": {},
   "outputs": [],
   "source": [
    "model=HistGradientBoostingRegressor(loss='gamma')\n",
    "model.fit(\n",
    "    train_df.drop('Calories', axis=1).replace({'male': 0, 'female': 1}),\n",
    "    train_df['Calories']\n",
    ")\n",
    "\n",
    "predictions=model.predict(test_df.drop('Calories', axis=1).replace({'male': 0, 'female': 1}))\n",
    "labels=test_df['Calories']\n",
    "rmsle=np.sqrt(mean_squared_log_error(labels, predictions))\n",
    "\n",
    "plot_title=f'HistGradientBoostingRegressor(): RMSLE {rmsle:.4f}'\n",
    "plot_funcs.model_eval(plot_title, 'calories burned', predictions, labels)"
   ]
  },
  {
   "cell_type": "markdown",
   "id": "26a19a26",
   "metadata": {},
   "source": [
    "## 2. Gradient boosting ensemble model\n",
    "\n",
    "### 3.1. Generate ensembleset"
   ]
  },
  {
   "cell_type": "code",
   "execution_count": null,
   "id": "d1431106",
   "metadata": {},
   "outputs": [],
   "source": [
    "ensemble_members=100"
   ]
  },
  {
   "cell_type": "code",
   "execution_count": null,
   "id": "04727047",
   "metadata": {},
   "outputs": [],
   "source": [
    "%%time\n",
    "\n",
    "data_ensemble=DataSet(\n",
    "    label='Calories',\n",
    "    train_data=train_df,\n",
    "    test_data=test_df,\n",
    "    string_features=['Sex'],\n",
    "    data_directory='examples/ensemblesets',\n",
    "    ensembleset_base_name='calories'\n",
    ")\n",
    "\n",
    "ensembleset_file = data_ensemble.make_datasets(\n",
    "    n_datasets=ensemble_members,\n",
    "    frac_features=0.7,\n",
    "    n_steps=3\n",
    ")"
   ]
  },
  {
   "cell_type": "markdown",
   "id": "5be2e4d1",
   "metadata": {},
   "source": [
    "### 3.2. Stage I model"
   ]
  },
  {
   "cell_type": "code",
   "execution_count": null,
   "id": "aea8fe67",
   "metadata": {},
   "outputs": [],
   "source": [
    "stage_one_models={}\n",
    "stage_one_test_predictions={}\n",
    "\n",
    "with h5py.File(f'examples/ensemblesets/{ensembleset_file}', 'r') as hdf:\n",
    "    for i in range(ensemble_members):\n",
    "\n",
    "        print(f'\\rFitting model {i}', end='')\n",
    "    \n",
    "        stage_one_models[i]=HistGradientBoostingRegressor(loss='gamma')\n",
    "        stage_one_models[i].fit(hdf[f'train/{i}'], hdf[f'train/labels'])\n",
    "        stage_one_test_predictions[i]=stage_one_models[i].predict(hdf[f'test/{i}'])\n",
    "\n",
    "    stage_two_training_df=pd.DataFrame.from_dict(stage_one_test_predictions)\n",
    "    stage_two_training_df['labels']=hdf[f'test/labels']\n",
    "\n",
    "stage_two_training_df.head()"
   ]
  },
  {
   "cell_type": "markdown",
   "id": "6abe7646",
   "metadata": {},
   "source": [
    "### 3.2. Stage II model\n",
    "\n",
    "#### 3.2.1. Cross-validation"
   ]
  },
  {
   "cell_type": "code",
   "execution_count": null,
   "id": "4397e7fc",
   "metadata": {},
   "outputs": [],
   "source": [
    "scores=cross_val_score(\n",
    "    HistGradientBoostingRegressor(loss='gamma'),\n",
    "    stage_two_training_df.drop('labels', axis=1),\n",
    "    stage_two_training_df['labels'],\n",
    "    scoring='neg_mean_squared_log_error',\n",
    "    n_jobs=-1,\n",
    "    cv=7\n",
    ")\n",
    "\n",
    "print(f'Cross-validation RMSLE: {np.mean(np.sqrt(-scores)):.4f} +/- {np.std(np.sqrt(-scores)):.4f}')"
   ]
  },
  {
   "cell_type": "markdown",
   "id": "1f9e192c",
   "metadata": {},
   "source": [
    "#### 3.2.2. Test set evaluation"
   ]
  },
  {
   "cell_type": "code",
   "execution_count": null,
   "id": "e42fc02a",
   "metadata": {},
   "outputs": [],
   "source": [
    "train_df, test_df=train_test_split(stage_two_training_df, test_size=0.25)\n",
    "train_df.reset_index(inplace=True, drop=True)\n",
    "test_df.reset_index(inplace=True, drop=True)\n",
    "\n",
    "model=HistGradientBoostingRegressor(loss='gamma')\n",
    "model.fit(train_df.drop('labels', axis=1), train_df['labels'])\n",
    "\n",
    "predictions=model.predict(test_df.drop('labels', axis=1))\n",
    "labels=test_df['labels']\n",
    "rmsle=np.sqrt(mean_squared_log_error(labels, predictions))\n",
    "\n",
    "plot_title=f'Stage II EnsembleSet model: RMSLE {rmsle:.4f}'\n",
    "plot_funcs.model_eval(plot_title, 'calories burned', predictions, labels)"
   ]
  }
 ],
 "metadata": {
  "kernelspec": {
   "display_name": "Python 3",
   "language": "python",
   "name": "python3"
  },
  "language_info": {
   "codemirror_mode": {
    "name": "ipython",
    "version": 3
   },
   "file_extension": ".py",
   "mimetype": "text/x-python",
   "name": "python",
   "nbconvert_exporter": "python",
   "pygments_lexer": "ipython3",
   "version": "3.10.12"
  }
 },
 "nbformat": 4,
 "nbformat_minor": 5
}
