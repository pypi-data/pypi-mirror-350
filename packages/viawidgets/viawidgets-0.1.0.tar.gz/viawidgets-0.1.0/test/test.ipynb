{
 "cells": [
  {
   "cell_type": "code",
   "execution_count": null,
   "id": "82f73d35-c42e-49da-8eb8-c5bb4cfe3da2",
   "metadata": {},
   "outputs": [],
   "source": [
    "from viawidgets.widgets import CounterWidget, ClusteringLinkConstraintsWidget"
   ]
  },
  {
   "cell_type": "code",
   "execution_count": null,
   "id": "398f4399-d66e-4d04-85b3-cfd541ca4995",
   "metadata": {},
   "outputs": [],
   "source": [
    "w = CounterWidget()\n",
    "w"
   ]
  },
  {
   "cell_type": "code",
   "execution_count": null,
   "id": "24c48dfe-fe89-4cb5-ab18-4696f5fb49fb",
   "metadata": {},
   "outputs": [],
   "source": [
    "w.value"
   ]
  },
  {
   "cell_type": "code",
   "execution_count": null,
   "id": "7e952fee-d609-4f22-9fa4-fc78ad5535ba",
   "metadata": {},
   "outputs": [],
   "source": [
    "import pandas as pd\n",
    "import random\n",
    "\n",
    "def generate_random_clustering_data():\n",
    "    # Define possible values for each component of the shape_name\n",
    "    areas = [str(i) for i in range(1, 5)]\n",
    "    shapes = [\"triangle\", \"rectangle\", \"circle\"]\n",
    "    colors = [\"red\", \"blue\", \"green\"]\n",
    "    \n",
    "    # Generate 100 rows of data\n",
    "    data = []\n",
    "    for _ in range(100):\n",
    "        area = random.choice(areas)\n",
    "        shape = random.choice(shapes)\n",
    "        color = random.choice(colors)\n",
    "        shape_name = f\"{area}_{shape}_{color}\"\n",
    "        cr4 = f\"{shape}_{color}\"\n",
    "        data.append([shape_name, int(area), shape, color, cr4])\n",
    "    \n",
    "    # Create the DataFrame\n",
    "    df = pd.DataFrame(data, columns=[\"shape_name\", \"cr1\", \"cr2\", \"cr3\", \"cr4\"])\n",
    "\n",
    "    return df, [\"cr1\", \"cr2\", \"cr3\", \"cr4\"]\n",
    "df, clustering_result_columns = generate_random_clustering_data()\n",
    "print(df)\n",
    "\n",
    "widget = ClusteringLinkConstraintsWidget(df = df, clustering_result_columns = [\"cr1\", \"cr2\", \"cr3\", \"cr4\"], text_label_column=\"shape_name\")\n",
    "widget"
   ]
  },
  {
   "cell_type": "code",
   "execution_count": null,
   "id": "157d581c-f7cc-40bf-a208-10d4cad05907",
   "metadata": {},
   "outputs": [],
   "source": [
    "widget.get_eligible_cr()"
   ]
  }
 ],
 "metadata": {
  "kernelspec": {
   "display_name": ".venv",
   "language": "python",
   "name": "python3"
  },
  "language_info": {
   "codemirror_mode": {
    "name": "ipython",
    "version": 3
   },
   "file_extension": ".py",
   "mimetype": "text/x-python",
   "name": "python",
   "nbconvert_exporter": "python",
   "pygments_lexer": "ipython3",
   "version": "3.12.0"
  }
 },
 "nbformat": 4,
 "nbformat_minor": 5
}
