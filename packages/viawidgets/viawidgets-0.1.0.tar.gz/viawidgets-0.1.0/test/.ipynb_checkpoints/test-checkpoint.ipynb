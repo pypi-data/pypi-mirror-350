{
 "cells": [
  {
   "cell_type": "code",
   "execution_count": 1,
   "id": "82f73d35-c42e-49da-8eb8-c5bb4cfe3da2",
   "metadata": {},
   "outputs": [],
   "source": [
    "from viawidgets.widget import CounterWidget, MustLink_CannotLink_Widget"
   ]
  },
  {
   "cell_type": "code",
   "execution_count": 2,
   "id": "398f4399-d66e-4d04-85b3-cfd541ca4995",
   "metadata": {},
   "outputs": [
    {
     "data": {
      "application/vnd.jupyter.widget-view+json": {
       "model_id": "86043286906f4e22aed440087ea07683",
       "version_major": 2,
       "version_minor": 1
      },
      "text/plain": [
       "CounterWidget()"
      ]
     },
     "execution_count": 2,
     "metadata": {},
     "output_type": "execute_result"
    }
   ],
   "source": [
    "w = CounterWidget()\n",
    "w"
   ]
  },
  {
   "cell_type": "code",
   "execution_count": 3,
   "id": "24c48dfe-fe89-4cb5-ab18-4696f5fb49fb",
   "metadata": {},
   "outputs": [
    {
     "data": {
      "text/plain": [
       "0"
      ]
     },
     "execution_count": 3,
     "metadata": {},
     "output_type": "execute_result"
    }
   ],
   "source": [
    "w.value"
   ]
  },
  {
   "cell_type": "code",
   "execution_count": 5,
   "id": "7e952fee-d609-4f22-9fa4-fc78ad5535ba",
   "metadata": {},
   "outputs": [
    {
     "name": "stdout",
     "output_type": "stream",
     "text": [
      "           shape_name  cr1        cr2    cr3              cr4\n",
      "0    3_triangle_green    3   triangle  green   triangle_green\n",
      "1    3_triangle_green    3   triangle  green   triangle_green\n",
      "2      2_triangle_red    2   triangle    red     triangle_red\n",
      "3       2_circle_blue    2     circle   blue      circle_blue\n",
      "4      1_triangle_red    1   triangle    red     triangle_red\n",
      "..                ...  ...        ...    ...              ...\n",
      "95  1_rectangle_green    1  rectangle  green  rectangle_green\n",
      "96   2_rectangle_blue    2  rectangle   blue   rectangle_blue\n",
      "97      4_circle_blue    4     circle   blue      circle_blue\n",
      "98     1_circle_green    1     circle  green     circle_green\n",
      "99    1_triangle_blue    1   triangle   blue    triangle_blue\n",
      "\n",
      "[100 rows x 5 columns]\n"
     ]
    },
    {
     "data": {
      "application/vnd.jupyter.widget-view+json": {
       "model_id": "9674d0b51ea343bf8e3aab0369d3f807",
       "version_major": 2,
       "version_minor": 1
      },
      "text/plain": [
       "MustLink_CannotLink_Widget(df_indices=[39, 33, 92, 56, 83, 32, 85, 77, 11, 47], text_labels=['1_rectangle_gree…"
      ]
     },
     "execution_count": 5,
     "metadata": {},
     "output_type": "execute_result"
    }
   ],
   "source": [
    "import pandas as pd\n",
    "import random\n",
    "\n",
    "def generate_random_clustering_data():\n",
    "    # Define possible values for each component of the shape_name\n",
    "    areas = [str(i) for i in range(1, 5)]\n",
    "    shapes = [\"triangle\", \"rectangle\", \"circle\"]\n",
    "    colors = [\"red\", \"blue\", \"green\"]\n",
    "    \n",
    "    # Generate 100 rows of data\n",
    "    data = []\n",
    "    for _ in range(100):\n",
    "        area = random.choice(areas)\n",
    "        shape = random.choice(shapes)\n",
    "        color = random.choice(colors)\n",
    "        shape_name = f\"{area}_{shape}_{color}\"\n",
    "        cr4 = f\"{shape}_{color}\"\n",
    "        data.append([shape_name, int(area), shape, color, cr4])\n",
    "    \n",
    "    # Create the DataFrame\n",
    "    df = pd.DataFrame(data, columns=[\"shape_name\", \"cr1\", \"cr2\", \"cr3\", \"cr4\"])\n",
    "\n",
    "    return df, [\"cr1\", \"cr2\", \"cr3\", \"cr4\"]\n",
    "df, clustering_result_columns = generate_random_clustering_data()\n",
    "print(df)\n",
    "\n",
    "widget = MustLink_CannotLink_Widget(df = df, clustering_result_columns = [\"cr1\", \"cr2\", \"cr3\", \"cr4\"], text_label_column=\"shape_name\")\n",
    "widget"
   ]
  }
 ],
 "metadata": {
  "kernelspec": {
   "display_name": "Python 3 (ipykernel)",
   "language": "python",
   "name": "python3"
  },
  "language_info": {
   "codemirror_mode": {
    "name": "ipython",
    "version": 3
   },
   "file_extension": ".py",
   "mimetype": "text/x-python",
   "name": "python",
   "nbconvert_exporter": "python",
   "pygments_lexer": "ipython3",
   "version": "3.12.0"
  }
 },
 "nbformat": 4,
 "nbformat_minor": 5
}
