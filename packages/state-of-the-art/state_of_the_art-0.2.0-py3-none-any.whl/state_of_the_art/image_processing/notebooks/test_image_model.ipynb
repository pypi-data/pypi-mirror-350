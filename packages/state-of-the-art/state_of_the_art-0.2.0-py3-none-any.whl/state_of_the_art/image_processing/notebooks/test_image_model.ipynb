{
 "cells": [
  {
   "cell_type": "code",
   "execution_count": 2,
   "metadata": {},
   "outputs": [
    {
     "name": "stdout",
     "output_type": "stream",
     "text": [
      "The autoreload extension is already loaded. To reload it, use:\n",
      "  %reload_ext autoreload\n"
     ]
    }
   ],
   "source": [
    "%load_ext autoreload\n",
    "%autoreload 2"
   ]
  },
  {
   "cell_type": "code",
   "execution_count": 4,
   "metadata": {},
   "outputs": [
    {
     "name": "stdout",
     "output_type": "stream",
     "text": [
      "tensor([[  7.1626, -17.2197,  -8.6118]], grad_fn=<AddmmBackward0>)\n",
      "tensor([[-4.1622, -1.7248,  2.6320]], grad_fn=<AddmmBackward0>)\n",
      "tensor([[-2.5123, -4.4079,  0.5259]], grad_fn=<AddmmBackward0>)\n",
      "tensor([[-2.0640, -3.6534,  0.9732]], grad_fn=<AddmmBackward0>)\n"
     ]
    }
   ],
   "source": [
    "from state_of_the_art.image_processing.image_inference import ImageInference\n",
    "\n",
    "test_images = [ \n",
    "    'data/train/0/103.png',\n",
    "    'paper_images/2503.01307/1.jpg',\n",
    "    'paper_images/2503.01307/24.jpg',\n",
    "    'paper_images/2503.01307/25.jpg'\n",
    "]\n",
    "for image in test_images:\n",
    "    ImageInference.get_instance().predict_image(image)"
   ]
  }
 ],
 "metadata": {
  "kernelspec": {
   "display_name": "python312",
   "language": "python",
   "name": "python3"
  },
  "language_info": {
   "codemirror_mode": {
    "name": "ipython",
    "version": 3
   },
   "file_extension": ".py",
   "mimetype": "text/x-python",
   "name": "python",
   "nbconvert_exporter": "python",
   "pygments_lexer": "ipython3",
   "version": "3.12.7"
  }
 },
 "nbformat": 4,
 "nbformat_minor": 2
}
