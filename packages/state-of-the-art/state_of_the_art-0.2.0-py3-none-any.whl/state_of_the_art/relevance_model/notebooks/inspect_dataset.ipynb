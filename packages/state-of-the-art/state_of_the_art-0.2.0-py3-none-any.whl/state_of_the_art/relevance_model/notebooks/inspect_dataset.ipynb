{
 "cells": [
  {
   "cell_type": "code",
   "execution_count": 11,
   "metadata": {},
   "outputs": [
    {
     "name": "stdout",
     "output_type": "stream",
     "text": [
      "Total rows:  856\n"
     ]
    },
    {
     "data": {
      "text/html": [
       "<div>\n",
       "<style scoped>\n",
       "    .dataframe tbody tr th:only-of-type {\n",
       "        vertical-align: middle;\n",
       "    }\n",
       "\n",
       "    .dataframe tbody tr th {\n",
       "        vertical-align: top;\n",
       "    }\n",
       "\n",
       "    .dataframe thead th {\n",
       "        text-align: right;\n",
       "    }\n",
       "</style>\n",
       "<table border=\"1\" class=\"dataframe\">\n",
       "  <thead>\n",
       "    <tr style=\"text-align: right;\">\n",
       "      <th></th>\n",
       "      <th>text</th>\n",
       "      <th>score</th>\n",
       "      <th>type</th>\n",
       "      <th>context</th>\n",
       "      <th>tdw_timestamp</th>\n",
       "      <th>tdw_uuid</th>\n",
       "    </tr>\n",
       "  </thead>\n",
       "  <tbody>\n",
       "    <tr>\n",
       "      <th>0</th>\n",
       "      <td>S$^2$DN: Learning to Denoise Unconvincing Know...</td>\n",
       "      <td>1</td>\n",
       "      <td>paper_title</td>\n",
       "      <td></td>\n",
       "      <td>2024-12-23 13:46:25.216813</td>\n",
       "      <td>1836911e-3a5e-40cc-89b1-f7d0e7379dd9</td>\n",
       "    </tr>\n",
       "    <tr>\n",
       "      <th>0</th>\n",
       "      <td>Stochastic Analysis of Entanglement-assisted Q...</td>\n",
       "      <td>1</td>\n",
       "      <td>paper_title</td>\n",
       "      <td></td>\n",
       "      <td>2024-12-23 13:41:05.925089</td>\n",
       "      <td>bc8c76a5-390d-4805-94ae-e4dd6b1cecd3</td>\n",
       "    </tr>\n",
       "    <tr>\n",
       "      <th>0</th>\n",
       "      <td>Benchmarking stochasticity behind reproducibil...</td>\n",
       "      <td>1</td>\n",
       "      <td>paper_title</td>\n",
       "      <td></td>\n",
       "      <td>2024-12-23 13:41:01.482263</td>\n",
       "      <td>3bd39b7f-1de9-448e-aa60-fd8cbe7b3b63</td>\n",
       "    </tr>\n",
       "    <tr>\n",
       "      <th>0</th>\n",
       "      <td>Differentially Private Federated Learning of D...</td>\n",
       "      <td>1</td>\n",
       "      <td>paper_title</td>\n",
       "      <td></td>\n",
       "      <td>2024-12-23 13:41:01.298036</td>\n",
       "      <td>634d3afe-e4e0-4cc2-980b-9b65e06b2d97</td>\n",
       "    </tr>\n",
       "    <tr>\n",
       "      <th>0</th>\n",
       "      <td>Stochastic Analysis of Entanglement-assisted Q...</td>\n",
       "      <td>1</td>\n",
       "      <td>paper_title</td>\n",
       "      <td></td>\n",
       "      <td>2024-12-23 13:40:54.775505</td>\n",
       "      <td>43c47d55-90d1-41bd-8ad5-98f538478fcb</td>\n",
       "    </tr>\n",
       "    <tr>\n",
       "      <th>...</th>\n",
       "      <td>...</td>\n",
       "      <td>...</td>\n",
       "      <td>...</td>\n",
       "      <td>...</td>\n",
       "      <td>...</td>\n",
       "      <td>...</td>\n",
       "    </tr>\n",
       "    <tr>\n",
       "      <th>0</th>\n",
       "      <td>Bridging 4D QFTs and 2D VOAs via 3D high-tempe...</td>\n",
       "      <td>0</td>\n",
       "      <td>paper_title</td>\n",
       "      <td></td>\n",
       "      <td>2024-09-29 16:53:57.183952</td>\n",
       "      <td>62a13b6b-2f4d-4e71-8582-0c5fccc395b9</td>\n",
       "    </tr>\n",
       "    <tr>\n",
       "      <th>0</th>\n",
       "      <td>Open-World Evaluation for Retrieving Diverse P...</td>\n",
       "      <td>0</td>\n",
       "      <td>paper_title</td>\n",
       "      <td></td>\n",
       "      <td>2024-09-29 16:53:22.413739</td>\n",
       "      <td>cc94b3f3-f8ed-42cf-a852-26d4f9c091e5</td>\n",
       "    </tr>\n",
       "    <tr>\n",
       "      <th>0</th>\n",
       "      <td>Bridging 4D QFTs and 2D VOAs via 3D high-tempe...</td>\n",
       "      <td>0</td>\n",
       "      <td>paper_title</td>\n",
       "      <td></td>\n",
       "      <td>2024-09-29 16:53:22.390766</td>\n",
       "      <td>dc624675-d9ea-4afa-bf60-3438abc7a6b5</td>\n",
       "    </tr>\n",
       "    <tr>\n",
       "      <th>0</th>\n",
       "      <td>Bridging 4D QFTs and 2D VOAs via 3D high-tempe...</td>\n",
       "      <td>0</td>\n",
       "      <td>paper_title</td>\n",
       "      <td></td>\n",
       "      <td>2024-09-29 16:52:22.533470</td>\n",
       "      <td>0bad9198-8f85-4f8f-81d3-07a3848641c6</td>\n",
       "    </tr>\n",
       "    <tr>\n",
       "      <th>0</th>\n",
       "      <td>Bridging 4D QFTs and 2D VOAs via 3D high-tempe...</td>\n",
       "      <td>0</td>\n",
       "      <td>paper_title</td>\n",
       "      <td></td>\n",
       "      <td>2024-09-29 16:51:32.509783</td>\n",
       "      <td>a4245e23-cc5e-4707-b949-0d6ad592085d</td>\n",
       "    </tr>\n",
       "  </tbody>\n",
       "</table>\n",
       "<p>856 rows × 6 columns</p>\n",
       "</div>"
      ],
      "text/plain": [
       "                                                 text  score         type  \\\n",
       "0   S$^2$DN: Learning to Denoise Unconvincing Know...      1  paper_title   \n",
       "0   Stochastic Analysis of Entanglement-assisted Q...      1  paper_title   \n",
       "0   Benchmarking stochasticity behind reproducibil...      1  paper_title   \n",
       "0   Differentially Private Federated Learning of D...      1  paper_title   \n",
       "0   Stochastic Analysis of Entanglement-assisted Q...      1  paper_title   \n",
       "..                                                ...    ...          ...   \n",
       "0   Bridging 4D QFTs and 2D VOAs via 3D high-tempe...      0  paper_title   \n",
       "0   Open-World Evaluation for Retrieving Diverse P...      0  paper_title   \n",
       "0   Bridging 4D QFTs and 2D VOAs via 3D high-tempe...      0  paper_title   \n",
       "0   Bridging 4D QFTs and 2D VOAs via 3D high-tempe...      0  paper_title   \n",
       "0   Bridging 4D QFTs and 2D VOAs via 3D high-tempe...      0  paper_title   \n",
       "\n",
       "   context              tdw_timestamp                              tdw_uuid  \n",
       "0          2024-12-23 13:46:25.216813  1836911e-3a5e-40cc-89b1-f7d0e7379dd9  \n",
       "0          2024-12-23 13:41:05.925089  bc8c76a5-390d-4805-94ae-e4dd6b1cecd3  \n",
       "0          2024-12-23 13:41:01.482263  3bd39b7f-1de9-448e-aa60-fd8cbe7b3b63  \n",
       "0          2024-12-23 13:41:01.298036  634d3afe-e4e0-4cc2-980b-9b65e06b2d97  \n",
       "0          2024-12-23 13:40:54.775505  43c47d55-90d1-41bd-8ad5-98f538478fcb  \n",
       "..     ...                        ...                                   ...  \n",
       "0          2024-09-29 16:53:57.183952  62a13b6b-2f4d-4e71-8582-0c5fccc395b9  \n",
       "0          2024-09-29 16:53:22.413739  cc94b3f3-f8ed-42cf-a852-26d4f9c091e5  \n",
       "0          2024-09-29 16:53:22.390766  dc624675-d9ea-4afa-bf60-3438abc7a6b5  \n",
       "0          2024-09-29 16:52:22.533470  0bad9198-8f85-4f8f-81d3-07a3848641c6  \n",
       "0          2024-09-29 16:51:32.509783  a4245e23-cc5e-4707-b949-0d6ad592085d  \n",
       "\n",
       "[856 rows x 6 columns]"
      ]
     },
     "execution_count": 11,
     "metadata": {},
     "output_type": "execute_result"
    }
   ],
   "source": [
    "from state_of_the_art.relevance_model.dataset import Dataset\n",
    "df = Dataset().get_raw_feedback_table()\n",
    "\n",
    "df.head()\n",
    "print(\"Total rows: \", len(df))\n",
    "df"
   ]
  },
  {
   "cell_type": "code",
   "execution_count": 4,
   "metadata": {},
   "outputs": [
    {
     "data": {
      "text/plain": [
       "score\n",
       "2    414\n",
       "1    152\n",
       "3    125\n",
       "0     55\n",
       "4      2\n",
       "Name: count, dtype: int64"
      ]
     },
     "execution_count": 4,
     "metadata": {},
     "output_type": "execute_result"
    }
   ],
   "source": [
    "df['score'].value_counts()\n"
   ]
  },
  {
   "cell_type": "code",
   "execution_count": 10,
   "metadata": {},
   "outputs": [
    {
     "data": {
      "image/png": "[encoded data removed]",
      "text/plain": [
       "<Figure size 640x480 with 1 Axes>"
      ]
     },
     "metadata": {},
     "output_type": "display_data"
    }
   ],
   "source": [
    "# plot the cummulative amount of rows per day in the last 30 days also tag the last day as today in the plot\n",
    "import matplotlib.pyplot as plt\n",
    "\n",
    "plt.plot(df.sort_values(by='tdw_timestamp', ascending=True)['tdw_timestamp'].dt.date.unique(), df.groupby(df['tdw_timestamp'].dt.date).size().cumsum())\n",
    "plt.axvline(x=df['tdw_timestamp'].max(), color='red', linestyle='--', label='Today')\n",
    "plt.legend()\n",
    "plt.show()\n"
   ]
  },
  {
   "cell_type": "code",
   "execution_count": null,
   "metadata": {},
   "outputs": [],
   "source": []
  }
 ],
 "metadata": {
  "kernelspec": {
   "display_name": "python312",
   "language": "python",
   "name": "python3"
  },
  "language_info": {
   "codemirror_mode": {
    "name": "ipython",
    "version": 3
   },
   "file_extension": ".py",
   "mimetype": "text/x-python",
   "name": "python",
   "nbconvert_exporter": "python",
   "pygments_lexer": "ipython3",
   "version": "3.12.7"
  }
 },
 "nbformat": 4,
 "nbformat_minor": 2
}
