{
 "cells": [
  {
   "cell_type": "code",
   "execution_count": 11,
   "metadata": {},
   "outputs": [
    {
     "name": "stdout",
     "output_type": "stream",
     "text": [
      "Replace of event state_of_the_art_summary, destructive event! Disable dry run to execute it\n"
     ]
    }
   ],
   "source": [
    "from state_of_the_art.tables.recommendations_history_table import UserRecommendationsHistoryTable\n",
    "df = UserRecommendationsHistoryTable(auth_filter=False).read(recent_first=True)\n",
    "\n",
    "# get only first 100\n",
    "df = df.head(3)\n",
    "\n",
    "df\n",
    "\n",
    "\n",
    "UserRecommendationsHistoryTable(auth_filter=False).replace(df)\n"
   ]
  },
  {
   "cell_type": "code",
   "execution_count": null,
   "metadata": {},
   "outputs": [],
   "source": [
    "\n"
   ]
  }
 ],
 "metadata": {
  "kernelspec": {
   "display_name": "python312",
   "language": "python",
   "name": "python3"
  },
  "language_info": {
   "codemirror_mode": {
    "name": "ipython",
    "version": 3
   },
   "file_extension": ".py",
   "mimetype": "text/x-python",
   "name": "python",
   "nbconvert_exporter": "python",
   "pygments_lexer": "ipython3",
   "version": "3.12.7"
  }
 },
 "nbformat": 4,
 "nbformat_minor": 2
}
