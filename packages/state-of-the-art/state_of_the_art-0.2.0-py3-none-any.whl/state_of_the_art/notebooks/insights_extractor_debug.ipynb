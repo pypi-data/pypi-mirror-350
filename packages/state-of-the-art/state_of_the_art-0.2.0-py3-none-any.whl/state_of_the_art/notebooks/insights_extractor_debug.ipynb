{
 "cells": [
  {
   "cell_type": "code",
   "execution_count": 19,
   "metadata": {},
   "outputs": [
    {
     "name": "stdout",
     "output_type": "stream",
     "text": [
      "The autoreload extension is already loaded. To reload it, use:\n",
      "  %reload_ext autoreload\n"
     ]
    }
   ],
   "source": [
    "%load_ext autoreload\n",
    "%autoreload 2"
   ]
  },
  {
   "cell_type": "code",
   "execution_count": 22,
   "metadata": {},
   "outputs": [
    {
     "name": "stdout",
     "output_type": "stream",
     "text": [
      "Given url:  http://arxiv.org/abs/2505.03674\n",
      "While searching by partial url match found                       abstract_url                 published  \\\n",
      "0  http://arxiv.org/abs/2505.03674 2025-05-06 16:15:24+00:00   \n",
      "\n",
      "                                               title  \\\n",
      "0  Gap the (Theory of) Mind: Sharing Beliefs Abou...   \n",
      "\n",
      "                                            abstract  \\\n",
      "0  In human-agent teams, openly sharing goals is ...   \n",
      "\n",
      "               tdw_timestamp                              tdw_uuid  \\\n",
      "0 2025-05-08 06:30:47.001007  1b412caa-63bb-44e5-ad1e-3513e5b8e51f   \n",
      "\n",
      "                                pdf_url institution  \n",
      "0  https://arxiv.org/pdf/2505.03674.pdf        None  \n",
      "While searching by partial url match found                       abstract_url                 published  \\\n",
      "0  http://arxiv.org/abs/2505.03674 2025-05-06 16:15:24+00:00   \n",
      "\n",
      "                                               title  \\\n",
      "0  Gap the (Theory of) Mind: Sharing Beliefs Abou...   \n",
      "\n",
      "                                            abstract  \\\n",
      "0  In human-agent teams, openly sharing goals is ...   \n",
      "\n",
      "               tdw_timestamp                              tdw_uuid  \\\n",
      "0 2025-05-08 06:30:47.001007  1b412caa-63bb-44e5-ad1e-3513e5b8e51f   \n",
      "\n",
      "                                pdf_url institution  \n",
      "0  https://arxiv.org/pdf/2505.03674.pdf        None  \n",
      "Paper title:  Gap the (Theory of) Mind: Sharing Beliefs About Teammates' Goals Boosts Collaboration Perception, Not Performance\n",
      "Downloading paper from https://arxiv.org/pdf/2505.03674.pdf\n",
      "File /Users/jean.machado@getyourguide.com/.sota/papers/paperGap_the_Theory_of_Mind_Sharing_Beliefs_About_Teammates_Goals_Boosts_Collaboration_Perception_No.pdf already exists so wont download it again\n",
      "Reading content from pdf:  /Users/jean.machado@getyourguide.com/.sota/papers/paperGap_the_Theory_of_Mind_Sharing_Beliefs_About_Teammates_Goals_Boosts_Collaboration_Perception_No.pdf\n",
      "Number of pages:  8\n",
      "Number of characters:  40906\n",
      "Number of tokens:  10226.5\n",
      "Number of pages:  8\n",
      "Number of characters:  40906\n",
      "Number of tokens:  10226.5\n",
      "Using profile jean\n",
      "Using profile jean\n",
      "Using model:  gpt-4o\n",
      "Paper preview to summarize:  Gap the (Theory of) Mind: Sharing Beliefs About\n",
      "Teammates’ Goals Boosts Collaboration Perception,\n",
      "Not Performance\n",
      "1stYotam Amitai\n",
      "Faculty of Data & Decisions Science\n",
      "Technion - Israel Institute of Technology\n",
      "Haifa, Israel\n",
      "0000-0002-0084-97392ndReuth Mirsky\n",
      "Department of Computer Science\n",
      "Tufts University\n",
      "Medford, Massachusetts, United States\n",
      "0000-0003-1392-94443rdOfra Amir\n",
      "Faculty of Data & Decisions Science\n",
      "Technion - Israel Institute of Technology\n",
      "Haifa, Israel\n",
      "0000-0003-2303-3684\n",
      "Abstract —In human-agent teams, openly sharing goals is often\n",
      "assumed to enhance planning, collaboration, and effectiveness.\n",
      "However, direct communication of these goals is not always\n",
      "feasible, requiring teammates to infer their partner’s intentions\n",
      "through actions. Building on this, we investigate whether an AI\n",
      "agent’s ability to share its inferred understanding of a human\n",
      "teammate’s goals can improve task performance and perceived\n",
      "collaboration. Through an experiment comparing three condi-\n",
      "tions—no recognition (NR), viable goals (VG), and viable goals\n",
      "on-demand (VGod)—we find that while goal-sharing information\n",
      "did not yield significant improvements in task performance or\n",
      "overall satisfaction scores, thematic analysis suggests that it\n",
      "supported strategic adaptations and subjective perceptions of\n",
      "collaboration. Cognitive load assessments revealed no additional\n",
      "burden across conditions, highlighting the challenge of balanc-\n",
      "ing informativeness and simplicity in human-agent interactions.\n",
      "These findings highlight the nuanced trade-off of goal-sharing:\n",
      "while it fosters trust and enhances perceived collaboration, it can\n",
      "occasionally hinder objective performance gains.\n",
      "Index Terms —XAI, HCI, Ad-Hoc Teamwork, Goal Recognition\n",
      "I. I NTRODUCTION\n",
      "In human-agent collaboration, effective teamwork often\n",
      "depends on the agent’s ability to interpret and act upon the\n",
      "human teammate’s intentions. Ad-hoc teamwork [1], where\n",
      "team members must collaborate effectively without prior plan-\n",
      "ning, exemplifies contexts where this capability is critical.\n",
      "Explainable AI (XAI) aims to address this by enhancing trans-\n",
      "parency and interpretability in AI systems, fostering shared\n",
      "mental models, trust, and mutual understanding [2], [3]. The\n",
      "principles of goal-setting theory [4] highlight the role of\n",
      "clear objectives in enhancing team performance by activating\n",
      "motivational drivers. Similarly, the concept of shared mental\n",
      "models [5] underscores the benefits of a common understand-\n",
      "ing of tasks and objectives for improving coordination and\n",
      "effectiveness. Therefore, in decision-making settings or ad-\n",
      "hoc teamwork scenarios, the practice of sharing teammates’\n",
      "inferred beliefs about objectives is seen as crucial for fostering\n",
      "stronger collaborative alignment and ensuring all members are\n",
      "effectively oriented towards common goals. However, while\n",
      "transparency and information sharing are assumed to benefitcollaboration, empirical studies increasingly suggest a com-\n",
      "plex relationship between these factors and act\n",
      "prompt:  This function returns expert science insights that ecompasses the knwoledge of all world top scientists.\n",
      "It returns the most insightful and actionable information from the given paper content\n",
      "It optimized the answers for the following audience: Jean Machado, a Data Science Manager for GetYourGuide.\n",
      "        Jean wants the following out this tool:\n",
      "        2. to understand exciting and important topics with further depth\n",
      "        1. to have actionable insights and learnings he can apply in his teams\n",
      "        3. to stay on the bleeding edge of t\n"
     ]
    },
    {
     "ename": "BadRequestError",
     "evalue": "Error code: 400 - {'error': {'message': \"Invalid schema for response_format 'PaperQuestions': In context=('properties', 'explain_the_structure_and_most_important_parts'), 'minLength' is not permitted.\", 'type': 'invalid_request_error', 'param': 'text.format.schema', 'code': 'invalid_json_schema'}}",
     "output_type": "error",
     "traceback": [
      "\u001b[31m---------------------------------------------------------------------------\u001b[39m",
      "\u001b[31mBadRequestError\u001b[39m                           Traceback (most recent call last)",
      "\u001b[36mCell\u001b[39m\u001b[36m \u001b[39m\u001b[32mIn[22]\u001b[39m\u001b[32m, line 5\u001b[39m\n\u001b[32m      1\u001b[39m \u001b[38;5;28;01mfrom\u001b[39;00m\u001b[38;5;250m \u001b[39m\u001b[34;01mstate_of_the_art\u001b[39;00m\u001b[34;01m.\u001b[39;00m\u001b[34;01minsight_extractor\u001b[39;00m\u001b[34;01m.\u001b[39;00m\u001b[34;01minsight_extractor\u001b[39;00m\u001b[38;5;250m \u001b[39m\u001b[38;5;28;01mimport\u001b[39;00m AIInsightsExtractor\n\u001b[32m      4\u001b[39m extractor = AIInsightsExtractor()\n\u001b[32m----> \u001b[39m\u001b[32m5\u001b[39m \u001b[43mextractor\u001b[49m\u001b[43m.\u001b[49m\u001b[43mextract_insights_from_paper_url\u001b[49m\u001b[43m(\u001b[49m\u001b[33;43m'\u001b[39;49m\u001b[33;43mhttp://arxiv.org/abs/2505.03674\u001b[39;49m\u001b[33;43m'\u001b[39;49m\u001b[43m)\u001b[49m\n",
      "\u001b[36mFile \u001b[39m\u001b[32m<string>:7\u001b[39m, in \u001b[36mextract_insights_from_paper_url\u001b[39m\u001b[34m(self, url)\u001b[39m\n",
      "\u001b[36mFile \u001b[39m\u001b[32m<string>:7\u001b[39m, in \u001b[36mget_paper_questions\u001b[39m\u001b[34m(self, url)\u001b[39m\n",
      "\u001b[36mFile \u001b[39m\u001b[32m<string>:15\u001b[39m, in \u001b[36mget_result\u001b[39m\u001b[34m(self, paper_content)\u001b[39m\n",
      "\u001b[36mFile \u001b[39m\u001b[32m~/Library/Caches/pypoetry/virtualenvs/state-of-the-art-qLEHmU7R-py3.12/lib/python3.12/site-packages/openai/resources/responses/responses.py:825\u001b[39m, in \u001b[36mResponses.parse\u001b[39m\u001b[34m(self, input, model, text_format, tools, include, instructions, max_output_tokens, metadata, parallel_tool_calls, previous_response_id, reasoning, store, stream, temperature, text, tool_choice, top_p, truncation, user, extra_headers, extra_query, extra_body, timeout)\u001b[39m\n\u001b[32m    818\u001b[39m \u001b[38;5;28;01mdef\u001b[39;00m\u001b[38;5;250m \u001b[39m\u001b[34mparser\u001b[39m(raw_response: Response) -> ParsedResponse[TextFormatT]:\n\u001b[32m    819\u001b[39m     \u001b[38;5;28;01mreturn\u001b[39;00m parse_response(\n\u001b[32m    820\u001b[39m         input_tools=tools,\n\u001b[32m    821\u001b[39m         text_format=text_format,\n\u001b[32m    822\u001b[39m         response=raw_response,\n\u001b[32m    823\u001b[39m     )\n\u001b[32m--> \u001b[39m\u001b[32m825\u001b[39m \u001b[38;5;28;01mreturn\u001b[39;00m \u001b[38;5;28;43mself\u001b[39;49m\u001b[43m.\u001b[49m\u001b[43m_post\u001b[49m\u001b[43m(\u001b[49m\n\u001b[32m    826\u001b[39m \u001b[43m    \u001b[49m\u001b[33;43m\"\u001b[39;49m\u001b[33;43m/responses\u001b[39;49m\u001b[33;43m\"\u001b[39;49m\u001b[43m,\u001b[49m\n\u001b[32m    827\u001b[39m \u001b[43m    \u001b[49m\u001b[43mbody\u001b[49m\u001b[43m=\u001b[49m\u001b[43mmaybe_transform\u001b[49m\u001b[43m(\u001b[49m\n\u001b[32m    828\u001b[39m \u001b[43m        \u001b[49m\u001b[43m{\u001b[49m\n\u001b[32m    829\u001b[39m \u001b[43m            \u001b[49m\u001b[33;43m\"\u001b[39;49m\u001b[33;43minput\u001b[39;49m\u001b[33;43m\"\u001b[39;49m\u001b[43m:\u001b[49m\u001b[43m \u001b[49m\u001b[38;5;28;43minput\u001b[39;49m\u001b[43m,\u001b[49m\n\u001b[32m    830\u001b[39m \u001b[43m            \u001b[49m\u001b[33;43m\"\u001b[39;49m\u001b[33;43mmodel\u001b[39;49m\u001b[33;43m\"\u001b[39;49m\u001b[43m:\u001b[49m\u001b[43m \u001b[49m\u001b[43mmodel\u001b[49m\u001b[43m,\u001b[49m\n\u001b[32m    831\u001b[39m \u001b[43m            \u001b[49m\u001b[33;43m\"\u001b[39;49m\u001b[33;43minclude\u001b[39;49m\u001b[33;43m\"\u001b[39;49m\u001b[43m:\u001b[49m\u001b[43m \u001b[49m\u001b[43minclude\u001b[49m\u001b[43m,\u001b[49m\n\u001b[32m    832\u001b[39m \u001b[43m            \u001b[49m\u001b[33;43m\"\u001b[39;49m\u001b[33;43minstructions\u001b[39;49m\u001b[33;43m\"\u001b[39;49m\u001b[43m:\u001b[49m\u001b[43m \u001b[49m\u001b[43minstructions\u001b[49m\u001b[43m,\u001b[49m\n\u001b[32m    833\u001b[39m \u001b[43m            \u001b[49m\u001b[33;43m\"\u001b[39;49m\u001b[33;43mmax_output_tokens\u001b[39;49m\u001b[33;43m\"\u001b[39;49m\u001b[43m:\u001b[49m\u001b[43m \u001b[49m\u001b[43mmax_output_tokens\u001b[49m\u001b[43m,\u001b[49m\n\u001b[32m    834\u001b[39m \u001b[43m            \u001b[49m\u001b[33;43m\"\u001b[39;49m\u001b[33;43mmetadata\u001b[39;49m\u001b[33;43m\"\u001b[39;49m\u001b[43m:\u001b[49m\u001b[43m \u001b[49m\u001b[43mmetadata\u001b[49m\u001b[43m,\u001b[49m\n\u001b[32m    835\u001b[39m \u001b[43m            \u001b[49m\u001b[33;43m\"\u001b[39;49m\u001b[33;43mparallel_tool_calls\u001b[39;49m\u001b[33;43m\"\u001b[39;49m\u001b[43m:\u001b[49m\u001b[43m \u001b[49m\u001b[43mparallel_tool_calls\u001b[49m\u001b[43m,\u001b[49m\n\u001b[32m    836\u001b[39m \u001b[43m            \u001b[49m\u001b[33;43m\"\u001b[39;49m\u001b[33;43mprevious_response_id\u001b[39;49m\u001b[33;43m\"\u001b[39;49m\u001b[43m:\u001b[49m\u001b[43m \u001b[49m\u001b[43mprevious_response_id\u001b[49m\u001b[43m,\u001b[49m\n\u001b[32m    837\u001b[39m \u001b[43m            \u001b[49m\u001b[33;43m\"\u001b[39;49m\u001b[33;43mreasoning\u001b[39;49m\u001b[33;43m\"\u001b[39;49m\u001b[43m:\u001b[49m\u001b[43m \u001b[49m\u001b[43mreasoning\u001b[49m\u001b[43m,\u001b[49m\n\u001b[32m    838\u001b[39m \u001b[43m            \u001b[49m\u001b[33;43m\"\u001b[39;49m\u001b[33;43mstore\u001b[39;49m\u001b[33;43m\"\u001b[39;49m\u001b[43m:\u001b[49m\u001b[43m \u001b[49m\u001b[43mstore\u001b[49m\u001b[43m,\u001b[49m\n\u001b[32m    839\u001b[39m \u001b[43m            \u001b[49m\u001b[33;43m\"\u001b[39;49m\u001b[33;43mstream\u001b[39;49m\u001b[33;43m\"\u001b[39;49m\u001b[43m:\u001b[49m\u001b[43m \u001b[49m\u001b[43mstream\u001b[49m\u001b[43m,\u001b[49m\n\u001b[32m    840\u001b[39m \u001b[43m            \u001b[49m\u001b[33;43m\"\u001b[39;49m\u001b[33;43mtemperature\u001b[39;49m\u001b[33;43m\"\u001b[39;49m\u001b[43m:\u001b[49m\u001b[43m \u001b[49m\u001b[43mtemperature\u001b[49m\u001b[43m,\u001b[49m\n\u001b[32m    841\u001b[39m \u001b[43m            \u001b[49m\u001b[33;43m\"\u001b[39;49m\u001b[33;43mtext\u001b[39;49m\u001b[33;43m\"\u001b[39;49m\u001b[43m:\u001b[49m\u001b[43m \u001b[49m\u001b[43mtext\u001b[49m\u001b[43m,\u001b[49m\n\u001b[32m    842\u001b[39m \u001b[43m            \u001b[49m\u001b[33;43m\"\u001b[39;49m\u001b[33;43mtool_choice\u001b[39;49m\u001b[33;43m\"\u001b[39;49m\u001b[43m:\u001b[49m\u001b[43m \u001b[49m\u001b[43mtool_choice\u001b[49m\u001b[43m,\u001b[49m\n\u001b[32m    843\u001b[39m \u001b[43m            \u001b[49m\u001b[33;43m\"\u001b[39;49m\u001b[33;43mtools\u001b[39;49m\u001b[33;43m\"\u001b[39;49m\u001b[43m:\u001b[49m\u001b[43m \u001b[49m\u001b[43mtools\u001b[49m\u001b[43m,\u001b[49m\n\u001b[32m    844\u001b[39m \u001b[43m            \u001b[49m\u001b[33;43m\"\u001b[39;49m\u001b[33;43mtop_p\u001b[39;49m\u001b[33;43m\"\u001b[39;49m\u001b[43m:\u001b[49m\u001b[43m \u001b[49m\u001b[43mtop_p\u001b[49m\u001b[43m,\u001b[49m\n\u001b[32m    845\u001b[39m \u001b[43m            \u001b[49m\u001b[33;43m\"\u001b[39;49m\u001b[33;43mtruncation\u001b[39;49m\u001b[33;43m\"\u001b[39;49m\u001b[43m:\u001b[49m\u001b[43m \u001b[49m\u001b[43mtruncation\u001b[49m\u001b[43m,\u001b[49m\n\u001b[32m    846\u001b[39m \u001b[43m            \u001b[49m\u001b[33;43m\"\u001b[39;49m\u001b[33;43muser\u001b[39;49m\u001b[33;43m\"\u001b[39;49m\u001b[43m:\u001b[49m\u001b[43m \u001b[49m\u001b[43muser\u001b[49m\u001b[43m,\u001b[49m\n\u001b[32m    847\u001b[39m \u001b[43m        \u001b[49m\u001b[43m}\u001b[49m\u001b[43m,\u001b[49m\n\u001b[32m    848\u001b[39m \u001b[43m        \u001b[49m\u001b[43mresponse_create_params\u001b[49m\u001b[43m.\u001b[49m\u001b[43mResponseCreateParams\u001b[49m\u001b[43m,\u001b[49m\n\u001b[32m    849\u001b[39m \u001b[43m    \u001b[49m\u001b[43m)\u001b[49m\u001b[43m,\u001b[49m\n\u001b[32m    850\u001b[39m \u001b[43m    \u001b[49m\u001b[43moptions\u001b[49m\u001b[43m=\u001b[49m\u001b[43mmake_request_options\u001b[49m\u001b[43m(\u001b[49m\n\u001b[32m    851\u001b[39m \u001b[43m        \u001b[49m\u001b[43mextra_headers\u001b[49m\u001b[43m=\u001b[49m\u001b[43mextra_headers\u001b[49m\u001b[43m,\u001b[49m\n\u001b[32m    852\u001b[39m \u001b[43m        \u001b[49m\u001b[43mextra_query\u001b[49m\u001b[43m=\u001b[49m\u001b[43mextra_query\u001b[49m\u001b[43m,\u001b[49m\n\u001b[32m    853\u001b[39m \u001b[43m        \u001b[49m\u001b[43mextra_body\u001b[49m\u001b[43m=\u001b[49m\u001b[43mextra_body\u001b[49m\u001b[43m,\u001b[49m\n\u001b[32m    854\u001b[39m \u001b[43m        \u001b[49m\u001b[43mtimeout\u001b[49m\u001b[43m=\u001b[49m\u001b[43mtimeout\u001b[49m\u001b[43m,\u001b[49m\n\u001b[32m    855\u001b[39m \u001b[43m        \u001b[49m\u001b[43mpost_parser\u001b[49m\u001b[43m=\u001b[49m\u001b[43mparser\u001b[49m\u001b[43m,\u001b[49m\n\u001b[32m    856\u001b[39m \u001b[43m    \u001b[49m\u001b[43m)\u001b[49m\u001b[43m,\u001b[49m\n\u001b[32m    857\u001b[39m \u001b[43m    \u001b[49m\u001b[38;5;66;43;03m# we turn the `Response` instance into a `ParsedResponse`\u001b[39;49;00m\n\u001b[32m    858\u001b[39m \u001b[43m    \u001b[49m\u001b[38;5;66;43;03m# in the `parser` function above\u001b[39;49;00m\n\u001b[32m    859\u001b[39m \u001b[43m    \u001b[49m\u001b[43mcast_to\u001b[49m\u001b[43m=\u001b[49m\u001b[43mcast\u001b[49m\u001b[43m(\u001b[49m\u001b[43mType\u001b[49m\u001b[43m[\u001b[49m\u001b[43mParsedResponse\u001b[49m\u001b[43m[\u001b[49m\u001b[43mTextFormatT\u001b[49m\u001b[43m]\u001b[49m\u001b[43m]\u001b[49m\u001b[43m,\u001b[49m\u001b[43m \u001b[49m\u001b[43mResponse\u001b[49m\u001b[43m)\u001b[49m\u001b[43m,\u001b[49m\n\u001b[32m    860\u001b[39m \u001b[43m\u001b[49m\u001b[43m)\u001b[49m\n",
      "\u001b[36mFile \u001b[39m\u001b[32m~/Library/Caches/pypoetry/virtualenvs/state-of-the-art-qLEHmU7R-py3.12/lib/python3.12/site-packages/openai/_base_client.py:1239\u001b[39m, in \u001b[36mSyncAPIClient.post\u001b[39m\u001b[34m(self, path, cast_to, body, options, files, stream, stream_cls)\u001b[39m\n\u001b[32m   1225\u001b[39m \u001b[38;5;28;01mdef\u001b[39;00m\u001b[38;5;250m \u001b[39m\u001b[34mpost\u001b[39m(\n\u001b[32m   1226\u001b[39m     \u001b[38;5;28mself\u001b[39m,\n\u001b[32m   1227\u001b[39m     path: \u001b[38;5;28mstr\u001b[39m,\n\u001b[32m   (...)\u001b[39m\u001b[32m   1234\u001b[39m     stream_cls: \u001b[38;5;28mtype\u001b[39m[_StreamT] | \u001b[38;5;28;01mNone\u001b[39;00m = \u001b[38;5;28;01mNone\u001b[39;00m,\n\u001b[32m   1235\u001b[39m ) -> ResponseT | _StreamT:\n\u001b[32m   1236\u001b[39m     opts = FinalRequestOptions.construct(\n\u001b[32m   1237\u001b[39m         method=\u001b[33m\"\u001b[39m\u001b[33mpost\u001b[39m\u001b[33m\"\u001b[39m, url=path, json_data=body, files=to_httpx_files(files), **options\n\u001b[32m   1238\u001b[39m     )\n\u001b[32m-> \u001b[39m\u001b[32m1239\u001b[39m     \u001b[38;5;28;01mreturn\u001b[39;00m cast(ResponseT, \u001b[38;5;28;43mself\u001b[39;49m\u001b[43m.\u001b[49m\u001b[43mrequest\u001b[49m\u001b[43m(\u001b[49m\u001b[43mcast_to\u001b[49m\u001b[43m,\u001b[49m\u001b[43m \u001b[49m\u001b[43mopts\u001b[49m\u001b[43m,\u001b[49m\u001b[43m \u001b[49m\u001b[43mstream\u001b[49m\u001b[43m=\u001b[49m\u001b[43mstream\u001b[49m\u001b[43m,\u001b[49m\u001b[43m \u001b[49m\u001b[43mstream_cls\u001b[49m\u001b[43m=\u001b[49m\u001b[43mstream_cls\u001b[49m\u001b[43m)\u001b[49m)\n",
      "\u001b[36mFile \u001b[39m\u001b[32m~/Library/Caches/pypoetry/virtualenvs/state-of-the-art-qLEHmU7R-py3.12/lib/python3.12/site-packages/openai/_base_client.py:1034\u001b[39m, in \u001b[36mSyncAPIClient.request\u001b[39m\u001b[34m(self, cast_to, options, stream, stream_cls)\u001b[39m\n\u001b[32m   1031\u001b[39m             err.response.read()\n\u001b[32m   1033\u001b[39m         log.debug(\u001b[33m\"\u001b[39m\u001b[33mRe-raising status error\u001b[39m\u001b[33m\"\u001b[39m)\n\u001b[32m-> \u001b[39m\u001b[32m1034\u001b[39m         \u001b[38;5;28;01mraise\u001b[39;00m \u001b[38;5;28mself\u001b[39m._make_status_error_from_response(err.response) \u001b[38;5;28;01mfrom\u001b[39;00m\u001b[38;5;250m \u001b[39m\u001b[38;5;28;01mNone\u001b[39;00m\n\u001b[32m   1036\u001b[39m     \u001b[38;5;28;01mbreak\u001b[39;00m\n\u001b[32m   1038\u001b[39m \u001b[38;5;28;01massert\u001b[39;00m response \u001b[38;5;129;01mis\u001b[39;00m \u001b[38;5;129;01mnot\u001b[39;00m \u001b[38;5;28;01mNone\u001b[39;00m, \u001b[33m\"\u001b[39m\u001b[33mcould not resolve response (should never happen)\u001b[39m\u001b[33m\"\u001b[39m\n",
      "\u001b[31mBadRequestError\u001b[39m: Error code: 400 - {'error': {'message': \"Invalid schema for response_format 'PaperQuestions': In context=('properties', 'explain_the_structure_and_most_important_parts'), 'minLength' is not permitted.\", 'type': 'invalid_request_error', 'param': 'text.format.schema', 'code': 'invalid_json_schema'}}"
     ]
    }
   ],
   "source": [
    "from state_of_the_art.insight_extractor.insight_extractor import AIInsightsExtractor\n",
    "\n",
    "\n",
    "extractor = AIInsightsExtractor()\n",
    "extractor.extract_insights_from_paper_url('http://arxiv.org/abs/2505.03674')"
   ]
  }
 ],
 "metadata": {
  "kernelspec": {
   "display_name": "state-of-the-art-qLEHmU7R-py3.12",
   "language": "python",
   "name": "python3"
  },
  "language_info": {
   "codemirror_mode": {
    "name": "ipython",
    "version": 3
   },
   "file_extension": ".py",
   "mimetype": "text/x-python",
   "name": "python",
   "nbconvert_exporter": "python",
   "pygments_lexer": "ipython3",
   "version": "3.12.7"
  }
 },
 "nbformat": 4,
 "nbformat_minor": 2
}
