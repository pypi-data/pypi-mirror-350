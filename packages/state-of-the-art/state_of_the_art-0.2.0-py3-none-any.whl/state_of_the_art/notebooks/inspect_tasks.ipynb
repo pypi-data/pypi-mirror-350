{
 "cells": [
  {
   "cell_type": "code",
   "execution_count": 1,
   "metadata": {},
   "outputs": [
    {
     "name": "stdout",
     "output_type": "stream",
     "text": [
      "Events config given:  {'arxiv_papers': {'prevent_duplicates_col': 'abstract_url'}}\n"
     ]
    },
    {
     "data": {
      "text/html": [
       "<div>\n",
       "<style scoped>\n",
       "    .dataframe tbody tr th:only-of-type {\n",
       "        vertical-align: middle;\n",
       "    }\n",
       "\n",
       "    .dataframe tbody tr th {\n",
       "        vertical-align: top;\n",
       "    }\n",
       "\n",
       "    .dataframe thead th {\n",
       "        text-align: right;\n",
       "    }\n",
       "</style>\n",
       "<table border=\"1\" class=\"dataframe\">\n",
       "  <thead>\n",
       "    <tr style=\"text-align: right;\">\n",
       "      <th></th>\n",
       "      <th>task_name</th>\n",
       "      <th>shell_cmd</th>\n",
       "      <th>status</th>\n",
       "      <th>tdw_timestamp</th>\n",
       "      <th>tdw_uuid</th>\n",
       "    </tr>\n",
       "  </thead>\n",
       "  <tbody>\n",
       "    <tr>\n",
       "      <th>0</th>\n",
       "      <td>generate_new_recos</td>\n",
       "      <td>sota InterestsRecommender generate -n 1</td>\n",
       "      <td>NOT_STARTED</td>\n",
       "      <td>2024-10-28 12:40:34.778130</td>\n",
       "      <td>223d90cc-bf7c-40da-b580-0a2da0c801cb</td>\n",
       "    </tr>\n",
       "  </tbody>\n",
       "</table>\n",
       "</div>"
      ],
      "text/plain": [
       "            task_name                                shell_cmd       status  \\\n",
       "0  generate_new_recos  sota InterestsRecommender generate -n 1  NOT_STARTED   \n",
       "\n",
       "               tdw_timestamp                              tdw_uuid  \n",
       "0 2024-10-28 12:40:34.778130  223d90cc-bf7c-40da-b580-0a2da0c801cb  "
      ]
     },
     "execution_count": 1,
     "metadata": {},
     "output_type": "execute_result"
    }
   ],
   "source": [
    "\n",
    "from state_of_the_art.tables.open_tasks_table import OpenTasksTable\n",
    "\n",
    "\n",
    "OpenTasksTable().read()"
   ]
  }
 ],
 "metadata": {
  "kernelspec": {
   "display_name": "python312",
   "language": "python",
   "name": "python3"
  },
  "language_info": {
   "codemirror_mode": {
    "name": "ipython",
    "version": 3
   },
   "file_extension": ".py",
   "mimetype": "text/x-python",
   "name": "python",
   "nbconvert_exporter": "python",
   "pygments_lexer": "ipython3",
   "version": "3.12.7"
  }
 },
 "nbformat": 4,
 "nbformat_minor": 2
}
