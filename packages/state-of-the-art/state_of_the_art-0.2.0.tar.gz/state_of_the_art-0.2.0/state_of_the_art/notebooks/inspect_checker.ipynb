{
 "cells": [
  {
   "cell_type": "code",
   "execution_count": 1,
   "metadata": {},
   "outputs": [
    {
     "name": "stdout",
     "output_type": "stream",
     "text": [
      "Events config given:  {'arxiv_papers': {'prevent_duplicates_col': 'abstract_url'}}\n",
      "Datadog initialized successfully\n",
      " Datadog API key: '401bb07a5c31429892b464233304377a' and app key: 'f59c8ee96f5165c254a0266c088c4d418ff4a18a'\n",
      "Found internet\n",
      "Searching by query:  cat:cs.AI\n",
      "Sorting by:  submitted\n",
      "({'status': 'ok'}, <Response [202]>)\n",
      "Datadog call sota.arxiv_sync_checker.delay_from_today=[(1739396057, 1)] result: 202 {'status': 'ok'}\n",
      "({'status': 'ok'}, <Response [202]>)\n",
      "Datadog call sota.arxiv_sync_checker.delay_from_today=[(1739396057, 1)] result: 202 {'status': 'ok'}\n"
     ]
    }
   ],
   "source": [
    "from state_of_the_art.register_papers.arxiv_sync_checker import ArxivSyncChecker\n",
    "\n",
    "\n",
    "ArxivSyncChecker().send_to_datadog()"
   ]
  },
  {
   "cell_type": "code",
   "execution_count": 2,
   "metadata": {},
   "outputs": [
    {
     "name": "stdout",
     "output_type": "stream",
     "text": [
      "Datadog initialized successfully\n",
      " Datadog API key: '401bb07a5c31429892b464233304377a' and app key: 'f59c8ee96f5165c254a0266c088c4d418ff4a18a'\n",
      "Found internet\n",
      "Searching by query:  cat:cs.AI\n",
      "Sorting by:  submitted\n"
     ]
    },
    {
     "data": {
      "text/plain": [
       "datetime.date(2025, 2, 6)"
      ]
     },
     "execution_count": 2,
     "metadata": {},
     "output_type": "execute_result"
    }
   ],
   "source": [
    "\n",
    "ArxivSyncChecker().get_latest_paper_registered_date_from_arxiv()"
   ]
  },
  {
   "cell_type": "code",
   "execution_count": 3,
   "metadata": {},
   "outputs": [],
   "source": [
    "%load_ext autoreload\n",
    "%autoreload 2"
   ]
  }
 ],
 "metadata": {
  "kernelspec": {
   "display_name": "python312",
   "language": "python",
   "name": "python3"
  },
  "language_info": {
   "codemirror_mode": {
    "name": "ipython",
    "version": 3
   },
   "file_extension": ".py",
   "mimetype": "text/x-python",
   "name": "python",
   "nbconvert_exporter": "python",
   "pygments_lexer": "ipython3",
   "version": "3.12.7"
  }
 },
 "nbformat": 4,
 "nbformat_minor": 2
}
