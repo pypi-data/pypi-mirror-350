{
 "cells": [
  {
   "cell_type": "code",
   "execution_count": 1,
   "metadata": {},
   "outputs": [
    {
     "name": "stderr",
     "output_type": "stream",
     "text": [
      "/opt/miniconda3/envs/python312/lib/python3.12/site-packages/sentence_transformers/cross_encoder/CrossEncoder.py:13: TqdmExperimentalWarning: Using `tqdm.autonotebook.tqdm` in notebook mode. Use `tqdm.tqdm` instead to force console mode (e.g. in jupyter console)\n",
      "  from tqdm.autonotebook import tqdm, trange\n",
      "/opt/miniconda3/envs/python312/lib/python3.12/site-packages/torch/nn/modules/transformer.py:379: UserWarning: enable_nested_tensor is True, but self.use_nested_tensor is False because encoder_layer.self_attn.batch_first was not True(use batch_first for better inference performance)\n",
      "  warnings.warn(\n",
      "/Users/jean.machado@getyourguide.com/prj/state-of-the-art-with-ai/state_of_the_art/relevance_model/text_evaluation_inference.py:38: FutureWarning: You are using `torch.load` with `weights_only=False` (the current default value), which uses the default pickle module implicitly. It is possible to construct malicious pickle data which will execute arbitrary code during unpickling (See https://github.com/pytorch/pytorch/blob/main/SECURITY.md#untrusted-models for more details). In a future release, the default value for `weights_only` will be flipped to `True`. This limits the functions that could be executed during unpickling. Arbitrary objects will no longer be allowed to be loaded via this mode unless they are explicitly allowlisted by the user via `torch.serialization.add_safe_globals`. We recommend you start setting `weights_only=True` for any use case where you don't have full control of the loaded file. Please open an issue on GitHub for any issues related to this experimental feature.\n",
      "  model.load_state_dict(torch.load(config.TEXT_PREDICTOR_PATH_LOCALLY))\n"
     ]
    },
    {
     "name": "stdout",
     "output_type": "stream",
     "text": [
      "Events config given:  {'arxiv_papers': {'prevent_duplicates_col': 'abstract_url'}}\n",
      "856\n",
      "Clasess balance\n",
      "score\n",
      "2    480\n",
      "1    178\n",
      "3    141\n",
      "0     55\n",
      "4      2\n",
      "Name: count, dtype: int64\n",
      "600 256\n",
      "Class distributions over train and test\n",
      "Train Labels:  score\n",
      "2    333\n",
      "1    120\n",
      "3    104\n",
      "0     41\n",
      "4      2\n",
      "Name: count, dtype: int64\n",
      "Test Labels:  score\n",
      "2    147\n",
      "1     58\n",
      "3     37\n",
      "0     14\n",
      "Name: count, dtype: int64\n"
     ]
    }
   ],
   "source": [
    "\n",
    "\n",
    "from state_of_the_art.relevance_model.metrics import Metrics\n",
    "from state_of_the_art.relevance_model.text_evaluation_inference import load_trained_model\n",
    "from state_of_the_art.relevance_model.dataset import Dataset\n",
    "\n",
    "model = load_trained_model()\n",
    "\n",
    "train_data, test_data = Dataset().get_train_test_split()\n",
    "\n",
    "metrics = Metrics()\n",
    "metrics.set_data(train_data, test_data)\n"
   ]
  },
  {
   "cell_type": "code",
   "execution_count": 2,
   "metadata": {},
   "outputs": [
    {
     "data": {
      "text/plain": [
       "{'train': {'loss': 0,\n",
       "  'accuracy': 0.8683333333333333,\n",
       "  'recall_class_0': 1.0,\n",
       "  'recall_class_1': 0.775,\n",
       "  'recall_class_2': 0.9069069069069069,\n",
       "  'recall_class_3': 0.8173076923076923,\n",
       "  'recall_class_4': 0.0},\n",
       " 'test': {'loss': 0,\n",
       "  'accuracy': 0.859375,\n",
       "  'recall_class_0': 0.9285714285714286,\n",
       "  'recall_class_1': 0.7413793103448276,\n",
       "  'recall_class_2': 0.9251700680272109,\n",
       "  'recall_class_3': 0.7567567567567568,\n",
       "  'recall_class_4': 100}}"
      ]
     },
     "execution_count": 2,
     "metadata": {},
     "output_type": "execute_result"
    }
   ],
   "source": [
    "metrics.calculate_metrics(model)"
   ]
  }
 ],
 "metadata": {
  "kernelspec": {
   "display_name": "python312",
   "language": "python",
   "name": "python3"
  },
  "language_info": {
   "codemirror_mode": {
    "name": "ipython",
    "version": 3
   },
   "file_extension": ".py",
   "mimetype": "text/x-python",
   "name": "python",
   "nbconvert_exporter": "python",
   "pygments_lexer": "ipython3",
   "version": "3.12.7"
  }
 },
 "nbformat": 4,
 "nbformat_minor": 2
}
