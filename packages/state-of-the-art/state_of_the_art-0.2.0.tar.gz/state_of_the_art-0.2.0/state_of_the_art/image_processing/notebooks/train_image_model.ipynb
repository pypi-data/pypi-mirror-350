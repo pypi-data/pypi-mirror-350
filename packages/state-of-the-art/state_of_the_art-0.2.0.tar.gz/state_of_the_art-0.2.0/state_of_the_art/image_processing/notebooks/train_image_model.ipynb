{
 "cells": [
  {
   "cell_type": "code",
   "execution_count": 1,
   "metadata": {},
   "outputs": [],
   "source": [
    "%load_ext autoreload\n",
    "%autoreload 2"
   ]
  },
  {
   "cell_type": "code",
   "execution_count": 2,
   "metadata": {},
   "outputs": [
    {
     "name": "stdout",
     "output_type": "stream",
     "text": [
      "Events config given:  {'arxiv_papers': {'prevent_duplicates_col': 'abstract_url'}}\n",
      "Number of rows:  115\n"
     ]
    }
   ],
   "source": [
    "# preparpe dataset\n",
    "import pandas as pd\n",
    "\n",
    "from state_of_the_art.image_processing.image_feeddback_table import ImageFeedbackTable\n",
    "df = ImageFeedbackTable().read(recent_first=True)\n",
    "pd.set_option('display.max_rows', None)\n",
    "\n",
    "print(\"Number of rows: \", len(df))"
   ]
  },
  {
   "cell_type": "code",
   "execution_count": 3,
   "metadata": {},
   "outputs": [
    {
     "data": {
      "text/plain": [
       "paper_id    image_position  score\n",
       "2504.16922  11              0        3\n",
       "2504.16918  1               2        3\n",
       "2504.10546  1               0        2\n",
       "2504.16923  21              0        2\n",
       "2504.16917  1               2        2\n",
       "2504.09689  69              2        2\n",
       "2504.16930  1               0        2\n",
       "2504.16923  22              0        1\n",
       "            13              0        1\n",
       "            12              0        1\n",
       "            11              0        1\n",
       "            1               0        1\n",
       "2504.16922  3               0        1\n",
       "            13              0        1\n",
       "2504.02660  1               2        1\n",
       "2504.16922  12              0        1\n",
       "2504.16925  1               2        1\n",
       "2504.16922  10              0        1\n",
       "            1               0        1\n",
       "2504.16917  13              2        1\n",
       "2504.13181  101             1        1\n",
       "                            0        1\n",
       "            100             0        1\n",
       "            10              1        1\n",
       "            1               0        1\n",
       "2504.13180  14              0        1\n",
       "2504.16923  23              0        1\n",
       "2504.16925  2               2        1\n",
       "2504.13180  12              0        1\n",
       "2504.16925  3               0        1\n",
       "2504.16930  5               0        1\n",
       "            4               0        1\n",
       "            33              0        1\n",
       "            31              0        1\n",
       "            23              0        1\n",
       "            22              0        1\n",
       "            21              0        1\n",
       "            17              0        1\n",
       "            16              0        1\n",
       "            15              2        1\n",
       "                            0        1\n",
       "            13              0        1\n",
       "            12              0        1\n",
       "            11              0        1\n",
       "            10              0        1\n",
       "2504.16929  6               0        1\n",
       "            16              0        1\n",
       "            15              0        1\n",
       "            14              0        1\n",
       "            13              0        1\n",
       "            12              0        1\n",
       "            1               0        1\n",
       "2504.16925  4               0        1\n",
       "2504.13180  13              0        1\n",
       "            11              0        1\n",
       "2504.02660  3               2        1\n",
       "2504.02819  10              0        1\n",
       "2504.02826  101             0        1\n",
       "            100             0        1\n",
       "            10              0        1\n",
       "            1               0        1\n",
       "2504.02823  15              2        1\n",
       "            12              2        1\n",
       "            10              0        1\n",
       "            1               0        1\n",
       "2504.02822  10              2        1\n",
       "2504.02821  14              2        1\n",
       "2504.02819  1               0        1\n",
       "2504.02826  103             0        1\n",
       "2504.02817  10              0        1\n",
       "            1               0        1\n",
       "2504.02812  104             0        1\n",
       "            103             0        1\n",
       "            102             0        1\n",
       "2504.02673  1               0        1\n",
       "2504.02671  2               3        1\n",
       "            1               2        1\n",
       "2504.02660  9               2        1\n",
       "            8               2        1\n",
       "2504.02826  102             0        1\n",
       "            104             0        1\n",
       "2504.13180  10              0        1\n",
       "2504.13166  1               2        1\n",
       "2504.13178  15              0        1\n",
       "2504.13176  102             0        1\n",
       "2504.13175  104             0        1\n",
       "            10              0        1\n",
       "2504.13173  2               2        1\n",
       "            1               2        1\n",
       "2504.13171  12              0        1\n",
       "            1               0        1\n",
       "2504.13169  1               2        1\n",
       "2504.13166  3               2        1\n",
       "2504.10546  10              0        1\n",
       "2504.02827  1               2        1\n",
       "2504.09736  8               3        1\n",
       "2504.09716  2               2        1\n",
       "2504.02828  104             0        1\n",
       "            103             0        1\n",
       "            102             0        1\n",
       "            101             0        1\n",
       "            100             0        1\n",
       "            10              0        1\n",
       "            1               0        1\n",
       "2504.02827  2               2        1\n",
       "2504.16930  8               0        1\n",
       "Name: count, dtype: int64"
      ]
     },
     "execution_count": 3,
     "metadata": {},
     "output_type": "execute_result"
    }
   ],
   "source": [
    "df[['paper_id', 'image_position', 'score']].value_counts()"
   ]
  },
  {
   "cell_type": "code",
   "execution_count": 4,
   "metadata": {},
   "outputs": [
    {
     "name": "stderr",
     "output_type": "stream",
     "text": [
      "  0%|          | 0/115 [00:00<?, ?it/s]"
     ]
    },
    {
     "name": "stdout",
     "output_type": "stream",
     "text": [
      "2504.16930\n",
      "Extracting images from paper: 2504.16930\n",
      "Position: 17 is set and write_to_folder: data/train/0 is set\n",
      "Downloading paper from https://arxiv.org/pdf/2504.16930.pdf\n",
      "Force download is enabled so will download the file again\n",
      "Downloading file https://arxiv.org/pdf/2504.16930.pdf to /Users/jean.machado@getyourguide.com/.sota/papers/paper250416930.pdf\n",
      "Downloaded file to  /Users/jean.machado@getyourguide.com/.sota/papers/paper250416930.pdf\n",
      "reading pdf: /Users/jean.machado@getyourguide.com/.sota/papers/paper250416930.pdf\n",
      "image_file_object: ImageFile(name=Image12.jpg, data: 221.8 kB)\n",
      "ImageFile(name=Image12.jpg, data: 221.8 kB)\n",
      "wrote image to: 18.jpg\n"
     ]
    },
    {
     "name": "stderr",
     "output_type": "stream",
     "text": [
      "/opt/miniconda3/envs/python312/lib/python3.12/site-packages/PIL/Image.py:3442: DecompressionBombWarning: Image size (136517355 pixels) exceeds limit of 89478485 pixels, could be decompression bomb DOS attack.\n",
      "  warnings.warn(\n",
      "  1%|          | 1/115 [00:05<10:02,  5.29s/it]"
     ]
    },
    {
     "name": "stdout",
     "output_type": "stream",
     "text": [
      "2504.16917\n",
      "Extracting images from paper: 2504.16917\n",
      "Position: 13 is set and write_to_folder: data/train/2 is set\n",
      "Downloading paper from https://arxiv.org/pdf/2504.16917.pdf\n",
      "Force download is enabled so will download the file again\n",
      "Downloading file https://arxiv.org/pdf/2504.16917.pdf to /Users/jean.machado@getyourguide.com/.sota/papers/paper250416917.pdf\n",
      "Downloaded file to  /Users/jean.machado@getyourguide.com/.sota/papers/paper250416917.pdf\n",
      "reading pdf: /Users/jean.machado@getyourguide.com/.sota/papers/paper250416917.pdf\n",
      "image_file_object: ImageFile(name=Image107.png, data: 9.8 kB)\n",
      "ImageFile(name=Image107.png, data: 9.8 kB)\n",
      "wrote image to: 14.png\n"
     ]
    },
    {
     "name": "stderr",
     "output_type": "stream",
     "text": [
      "  2%|▏         | 2/115 [00:06<04:55,  2.61s/it]"
     ]
    },
    {
     "name": "stdout",
     "output_type": "stream",
     "text": [
      "2504.16917\n",
      "Extracting images from paper: 2504.16917\n",
      "Position: 1 is set and write_to_folder: data/train/2 is set\n",
      "Downloading paper from https://arxiv.org/pdf/2504.16917.pdf\n",
      "Force download is enabled so will download the file again\n",
      "Downloading file https://arxiv.org/pdf/2504.16917.pdf to /Users/jean.machado@getyourguide.com/.sota/papers/paper250416917.pdf\n",
      "Downloaded file to  /Users/jean.machado@getyourguide.com/.sota/papers/paper250416917.pdf\n",
      "reading pdf: /Users/jean.machado@getyourguide.com/.sota/papers/paper250416917.pdf\n",
      "image_file_object: ImageFile(name=Image64.png, data: 207.1 kB)\n",
      "ImageFile(name=Image64.png, data: 207.1 kB)\n",
      "wrote image to: 2.png\n"
     ]
    },
    {
     "name": "stderr",
     "output_type": "stream",
     "text": [
      "  3%|▎         | 3/115 [00:06<03:18,  1.77s/it]"
     ]
    },
    {
     "name": "stdout",
     "output_type": "stream",
     "text": [
      "2504.16918\n",
      "Extracting images from paper: 2504.16918\n",
      "Position: 1 is set and write_to_folder: data/train/2 is set\n",
      "Downloading paper from https://arxiv.org/pdf/2504.16918.pdf\n",
      "Force download is enabled so will download the file again\n",
      "Downloading file https://arxiv.org/pdf/2504.16918.pdf to /Users/jean.machado@getyourguide.com/.sota/papers/paper250416918.pdf\n"
     ]
    },
    {
     "name": "stderr",
     "output_type": "stream",
     "text": [
      "  3%|▎         | 4/115 [00:07<02:15,  1.22s/it]"
     ]
    },
    {
     "name": "stdout",
     "output_type": "stream",
     "text": [
      "Downloaded file to  /Users/jean.machado@getyourguide.com/.sota/papers/paper250416918.pdf\n",
      "reading pdf: /Users/jean.machado@getyourguide.com/.sota/papers/paper250416918.pdf\n",
      "image_file_object: ImageFile(name=Im2.jpg, data: 39.3 kB)\n",
      "ImageFile(name=Im2.jpg, data: 39.3 kB)\n",
      "wrote image to: 2.jpg\n",
      "2504.16917\n",
      "Extracting images from paper: 2504.16917\n",
      "Position: 1 is set and write_to_folder: data/train/2 is set\n",
      "Downloading paper from https://arxiv.org/pdf/2504.16917.pdf\n",
      "Force download is enabled so will download the file again\n",
      "Downloading file https://arxiv.org/pdf/2504.16917.pdf to /Users/jean.machado@getyourguide.com/.sota/papers/paper250416917.pdf\n",
      "Downloaded file to  /Users/jean.machado@getyourguide.com/.sota/papers/paper250416917.pdf\n",
      "reading pdf: /Users/jean.machado@getyourguide.com/.sota/papers/paper250416917.pdf\n",
      "image_file_object: ImageFile(name=Image64.png, data: 207.1 kB)\n",
      "ImageFile(name=Image64.png, data: 207.1 kB)\n",
      "wrote image to: 2.png\n"
     ]
    },
    {
     "name": "stderr",
     "output_type": "stream",
     "text": [
      "  4%|▍         | 5/115 [00:07<01:56,  1.06s/it]"
     ]
    },
    {
     "name": "stdout",
     "output_type": "stream",
     "text": [
      "2504.16918\n",
      "Extracting images from paper: 2504.16918\n",
      "Position: 1 is set and write_to_folder: data/train/2 is set\n",
      "Downloading paper from https://arxiv.org/pdf/2504.16918.pdf\n",
      "Force download is enabled so will download the file again\n",
      "Downloading file https://arxiv.org/pdf/2504.16918.pdf to /Users/jean.machado@getyourguide.com/.sota/papers/paper250416918.pdf\n"
     ]
    },
    {
     "name": "stderr",
     "output_type": "stream",
     "text": [
      "  5%|▌         | 6/115 [00:08<01:30,  1.21it/s]"
     ]
    },
    {
     "name": "stdout",
     "output_type": "stream",
     "text": [
      "Downloaded file to  /Users/jean.machado@getyourguide.com/.sota/papers/paper250416918.pdf\n",
      "reading pdf: /Users/jean.machado@getyourguide.com/.sota/papers/paper250416918.pdf\n",
      "image_file_object: ImageFile(name=Im2.jpg, data: 39.3 kB)\n",
      "ImageFile(name=Im2.jpg, data: 39.3 kB)\n",
      "wrote image to: 2.jpg\n",
      "2504.16918\n",
      "Extracting images from paper: 2504.16918\n",
      "Position: 1 is set and write_to_folder: data/train/2 is set\n",
      "Downloading paper from https://arxiv.org/pdf/2504.16918.pdf\n",
      "Force download is enabled so will download the file again\n",
      "Downloading file https://arxiv.org/pdf/2504.16918.pdf to /Users/jean.machado@getyourguide.com/.sota/papers/paper250416918.pdf\n"
     ]
    },
    {
     "name": "stderr",
     "output_type": "stream",
     "text": [
      "  6%|▌         | 7/115 [00:08<01:13,  1.46it/s]"
     ]
    },
    {
     "name": "stdout",
     "output_type": "stream",
     "text": [
      "Downloaded file to  /Users/jean.machado@getyourguide.com/.sota/papers/paper250416918.pdf\n",
      "reading pdf: /Users/jean.machado@getyourguide.com/.sota/papers/paper250416918.pdf\n",
      "image_file_object: ImageFile(name=Im2.jpg, data: 39.3 kB)\n",
      "ImageFile(name=Im2.jpg, data: 39.3 kB)\n",
      "wrote image to: 2.jpg\n",
      "2504.16929\n",
      "Extracting images from paper: 2504.16929\n",
      "Position: 6 is set and write_to_folder: data/train/0 is set\n",
      "Downloading paper from https://arxiv.org/pdf/2504.16929.pdf\n",
      "Force download is enabled so will download the file again\n",
      "Downloading file https://arxiv.org/pdf/2504.16929.pdf to /Users/jean.machado@getyourguide.com/.sota/papers/paper250416929.pdf\n",
      "Downloaded file to  /Users/jean.machado@getyourguide.com/.sota/papers/paper250416929.pdf\n",
      "reading pdf: /Users/jean.machado@getyourguide.com/.sota/papers/paper250416929.pdf\n",
      "image_file_object: ImageFile(name=Im6.jpg, data: 2.6 kB)\n",
      "ImageFile(name=Im6.jpg, data: 2.6 kB)\n",
      "wrote image to: 7.jpg\n"
     ]
    },
    {
     "name": "stderr",
     "output_type": "stream",
     "text": [
      "  7%|▋         | 8/115 [00:10<01:38,  1.08it/s]"
     ]
    },
    {
     "name": "stdout",
     "output_type": "stream",
     "text": [
      "2504.10546\n",
      "Extracting images from paper: 2504.10546\n",
      "Position: 10 is set and write_to_folder: data/train/0 is set\n",
      "Downloading paper from https://arxiv.org/pdf/2504.10546.pdf\n",
      "Force download is enabled so will download the file again\n",
      "Downloading file https://arxiv.org/pdf/2504.10546.pdf to /Users/jean.machado@getyourguide.com/.sota/papers/paper250410546.pdf\n",
      "Downloaded file to  /Users/jean.machado@getyourguide.com/.sota/papers/paper250410546.pdf\n",
      "reading pdf: /Users/jean.machado@getyourguide.com/.sota/papers/paper250410546.pdf\n"
     ]
    },
    {
     "name": "stderr",
     "output_type": "stream",
     "text": [
      "  8%|▊         | 9/115 [00:10<01:17,  1.36it/s]"
     ]
    },
    {
     "name": "stdout",
     "output_type": "stream",
     "text": [
      "image_file_object: ImageFile(name=Image15.png, data: 21.5 kB)\n",
      "ImageFile(name=Image15.png, data: 21.5 kB)\n",
      "wrote image to: 11.png\n",
      "2504.10546\n",
      "Extracting images from paper: 2504.10546\n",
      "Position: 1 is set and write_to_folder: data/train/0 is set\n",
      "Downloading paper from https://arxiv.org/pdf/2504.10546.pdf\n",
      "Force download is enabled so will download the file again\n",
      "Downloading file https://arxiv.org/pdf/2504.10546.pdf to /Users/jean.machado@getyourguide.com/.sota/papers/paper250410546.pdf\n"
     ]
    },
    {
     "name": "stderr",
     "output_type": "stream",
     "text": [
      "  9%|▊         | 10/115 [00:10<01:03,  1.66it/s]"
     ]
    },
    {
     "name": "stdout",
     "output_type": "stream",
     "text": [
      "Downloaded file to  /Users/jean.machado@getyourguide.com/.sota/papers/paper250410546.pdf\n",
      "reading pdf: /Users/jean.machado@getyourguide.com/.sota/papers/paper250410546.pdf\n",
      "image_file_object: ImageFile(name=Image16.jpg, data: 7.1 kB)\n",
      "ImageFile(name=Image16.jpg, data: 7.1 kB)\n",
      "wrote image to: 2.jpg\n",
      "2504.10546\n",
      "Extracting images from paper: 2504.10546\n",
      "Position: 1 is set and write_to_folder: data/train/0 is set\n",
      "Downloading paper from https://arxiv.org/pdf/2504.10546.pdf\n",
      "Force download is enabled so will download the file again\n",
      "Downloading file https://arxiv.org/pdf/2504.10546.pdf to /Users/jean.machado@getyourguide.com/.sota/papers/paper250410546.pdf\n"
     ]
    },
    {
     "name": "stderr",
     "output_type": "stream",
     "text": [
      " 10%|▉         | 11/115 [00:11<00:53,  1.95it/s]"
     ]
    },
    {
     "name": "stdout",
     "output_type": "stream",
     "text": [
      "Downloaded file to  /Users/jean.machado@getyourguide.com/.sota/papers/paper250410546.pdf\n",
      "reading pdf: /Users/jean.machado@getyourguide.com/.sota/papers/paper250410546.pdf\n",
      "image_file_object: ImageFile(name=Image16.jpg, data: 7.1 kB)\n",
      "ImageFile(name=Image16.jpg, data: 7.1 kB)\n",
      "wrote image to: 2.jpg\n",
      "2504.09689\n",
      "Extracting images from paper: 2504.09689\n",
      "Position: 69 is set and write_to_folder: data/train/2 is set\n",
      "Downloading paper from https://arxiv.org/pdf/2504.09689.pdf\n",
      "Force download is enabled so will download the file again\n",
      "Downloading file https://arxiv.org/pdf/2504.09689.pdf to /Users/jean.machado@getyourguide.com/.sota/papers/paper250409689.pdf\n",
      "Downloaded file to  /Users/jean.machado@getyourguide.com/.sota/papers/paper250409689.pdf\n",
      "reading pdf: /Users/jean.machado@getyourguide.com/.sota/papers/paper250409689.pdf\n"
     ]
    },
    {
     "name": "stderr",
     "output_type": "stream",
     "text": [
      " 10%|█         | 12/115 [00:13<01:58,  1.15s/it]"
     ]
    },
    {
     "name": "stdout",
     "output_type": "stream",
     "text": [
      "image_file_object: ImageFile(name=X0.png, data: 28.7 kB)\n",
      "ImageFile(name=X0.png, data: 28.7 kB)\n",
      "wrote image to: 70.png\n",
      "2504.09689\n",
      "Extracting images from paper: 2504.09689\n",
      "Position: 69 is set and write_to_folder: data/train/2 is set\n",
      "Downloading paper from https://arxiv.org/pdf/2504.09689.pdf\n",
      "Force download is enabled so will download the file again\n",
      "Downloading file https://arxiv.org/pdf/2504.09689.pdf to /Users/jean.machado@getyourguide.com/.sota/papers/paper250409689.pdf\n",
      "Downloaded file to  /Users/jean.machado@getyourguide.com/.sota/papers/paper250409689.pdf\n",
      "reading pdf: /Users/jean.machado@getyourguide.com/.sota/papers/paper250409689.pdf\n"
     ]
    },
    {
     "name": "stderr",
     "output_type": "stream",
     "text": [
      " 11%|█▏        | 13/115 [00:16<02:43,  1.60s/it]"
     ]
    },
    {
     "name": "stdout",
     "output_type": "stream",
     "text": [
      "image_file_object: ImageFile(name=X0.png, data: 28.7 kB)\n",
      "ImageFile(name=X0.png, data: 28.7 kB)\n",
      "wrote image to: 70.png\n",
      "2504.09716\n",
      "Extracting images from paper: 2504.09716\n",
      "Position: 2 is set and write_to_folder: data/train/2 is set\n",
      "Downloading paper from https://arxiv.org/pdf/2504.09716.pdf\n",
      "Force download is enabled so will download the file again\n",
      "Downloading file https://arxiv.org/pdf/2504.09716.pdf to /Users/jean.machado@getyourguide.com/.sota/papers/paper250409716.pdf\n",
      "Downloaded file to  /Users/jean.machado@getyourguide.com/.sota/papers/paper250409716.pdf\n",
      "reading pdf: /Users/jean.machado@getyourguide.com/.sota/papers/paper250409716.pdf\n"
     ]
    },
    {
     "name": "stderr",
     "output_type": "stream",
     "text": [
      " 12%|█▏        | 14/115 [00:16<02:02,  1.22s/it]"
     ]
    },
    {
     "name": "stdout",
     "output_type": "stream",
     "text": [
      "image_file_object: ImageFile(name=Im3.png, data: 3.0 kB)\n",
      "ImageFile(name=Im3.png, data: 3.0 kB)\n",
      "wrote image to: 3.png\n",
      "2504.09736\n",
      "Extracting images from paper: 2504.09736\n",
      "Position: 8 is set and write_to_folder: data/train/3 is set\n",
      "Downloading paper from https://arxiv.org/pdf/2504.09736.pdf\n",
      "Force download is enabled so will download the file again\n",
      "Downloading file https://arxiv.org/pdf/2504.09736.pdf to /Users/jean.machado@getyourguide.com/.sota/papers/paper250409736.pdf\n",
      "Downloaded file to  /Users/jean.machado@getyourguide.com/.sota/papers/paper250409736.pdf\n",
      "reading pdf: /Users/jean.machado@getyourguide.com/.sota/papers/paper250409736.pdf\n"
     ]
    },
    {
     "name": "stderr",
     "output_type": "stream",
     "text": [
      " 13%|█▎        | 15/115 [00:19<02:40,  1.61s/it]"
     ]
    },
    {
     "name": "stdout",
     "output_type": "stream",
     "text": [
      "2504.16922\n",
      "Extracting images from paper: 2504.16922\n",
      "Position: 3 is set and write_to_folder: data/train/0 is set\n",
      "Downloading paper from https://arxiv.org/pdf/2504.16922.pdf\n",
      "Force download is enabled so will download the file again\n",
      "Downloading file https://arxiv.org/pdf/2504.16922.pdf to /Users/jean.machado@getyourguide.com/.sota/papers/paper250416922.pdf\n",
      "Downloaded file to  /Users/jean.machado@getyourguide.com/.sota/papers/paper250416922.pdf\n",
      "reading pdf: /Users/jean.machado@getyourguide.com/.sota/papers/paper250416922.pdf\n",
      "image_file_object: ImageFile(name=Im3.png, data: 1.9 kB)\n",
      "ImageFile(name=Im3.png, data: 1.9 kB)\n",
      "wrote image to: 4.png\n"
     ]
    },
    {
     "name": "stderr",
     "output_type": "stream",
     "text": [
      " 14%|█▍        | 16/115 [00:27<06:13,  3.77s/it]"
     ]
    },
    {
     "name": "stdout",
     "output_type": "stream",
     "text": [
      "2504.16922\n",
      "Extracting images from paper: 2504.16922\n",
      "Position: 11 is set and write_to_folder: data/train/0 is set\n",
      "Downloading paper from https://arxiv.org/pdf/2504.16922.pdf\n",
      "Force download is enabled so will download the file again\n",
      "Downloading file https://arxiv.org/pdf/2504.16922.pdf to /Users/jean.machado@getyourguide.com/.sota/papers/paper250416922.pdf\n",
      "Downloaded file to  /Users/jean.machado@getyourguide.com/.sota/papers/paper250416922.pdf\n",
      "reading pdf: /Users/jean.machado@getyourguide.com/.sota/papers/paper250416922.pdf\n",
      "image_file_object: ImageFile(name=Im6.png, data: 1.9 kB)\n",
      "ImageFile(name=Im6.png, data: 1.9 kB)\n",
      "wrote image to: 12.png\n"
     ]
    },
    {
     "name": "stderr",
     "output_type": "stream",
     "text": [
      " 15%|█▍        | 17/115 [00:36<08:30,  5.20s/it]"
     ]
    },
    {
     "name": "stdout",
     "output_type": "stream",
     "text": [
      "2504.16922\n",
      "Extracting images from paper: 2504.16922\n",
      "Position: 11 is set and write_to_folder: data/train/0 is set\n",
      "Downloading paper from https://arxiv.org/pdf/2504.16922.pdf\n",
      "Force download is enabled so will download the file again\n",
      "Downloading file https://arxiv.org/pdf/2504.16922.pdf to /Users/jean.machado@getyourguide.com/.sota/papers/paper250416922.pdf\n",
      "Downloaded file to  /Users/jean.machado@getyourguide.com/.sota/papers/paper250416922.pdf\n",
      "reading pdf: /Users/jean.machado@getyourguide.com/.sota/papers/paper250416922.pdf\n",
      "image_file_object: ImageFile(name=Im6.png, data: 1.9 kB)\n",
      "ImageFile(name=Im6.png, data: 1.9 kB)\n",
      "wrote image to: 12.png\n"
     ]
    },
    {
     "name": "stderr",
     "output_type": "stream",
     "text": [
      " 16%|█▌        | 18/115 [00:44<09:57,  6.16s/it]"
     ]
    },
    {
     "name": "stdout",
     "output_type": "stream",
     "text": [
      "2504.16930\n",
      "Extracting images from paper: 2504.16930\n",
      "Position: 1 is set and write_to_folder: data/train/0 is set\n",
      "Downloading paper from https://arxiv.org/pdf/2504.16930.pdf\n",
      "Force download is enabled so will download the file again\n",
      "Downloading file https://arxiv.org/pdf/2504.16930.pdf to /Users/jean.machado@getyourguide.com/.sota/papers/paper250416930.pdf\n",
      "Downloaded file to  /Users/jean.machado@getyourguide.com/.sota/papers/paper250416930.pdf\n",
      "reading pdf: /Users/jean.machado@getyourguide.com/.sota/papers/paper250416930.pdf\n",
      "image_file_object: ImageFile(name=Image11.jpg, data: 33.1 kB)\n",
      "ImageFile(name=Image11.jpg, data: 33.1 kB)\n",
      "wrote image to: 2.jpg\n"
     ]
    },
    {
     "name": "stderr",
     "output_type": "stream",
     "text": [
      " 17%|█▋        | 19/115 [00:50<09:22,  5.85s/it]"
     ]
    },
    {
     "name": "stdout",
     "output_type": "stream",
     "text": [
      "2504.16929\n",
      "Extracting images from paper: 2504.16929\n",
      "Position: 16 is set and write_to_folder: data/train/0 is set\n",
      "Downloading paper from https://arxiv.org/pdf/2504.16929.pdf\n",
      "Force download is enabled so will download the file again\n",
      "Downloading file https://arxiv.org/pdf/2504.16929.pdf to /Users/jean.machado@getyourguide.com/.sota/papers/paper250416929.pdf\n",
      "Downloaded file to  /Users/jean.machado@getyourguide.com/.sota/papers/paper250416929.pdf\n",
      "reading pdf: /Users/jean.machado@getyourguide.com/.sota/papers/paper250416929.pdf\n",
      "image_file_object: ImageFile(name=Im6.jpg, data: 2.6 kB)\n",
      "ImageFile(name=Im6.jpg, data: 2.6 kB)\n",
      "wrote image to: 17.jpg\n"
     ]
    },
    {
     "name": "stderr",
     "output_type": "stream",
     "text": [
      " 17%|█▋        | 20/115 [00:51<07:10,  4.53s/it]"
     ]
    },
    {
     "name": "stdout",
     "output_type": "stream",
     "text": [
      "2504.16923\n",
      "Extracting images from paper: 2504.16923\n",
      "Position: 23 is set and write_to_folder: data/train/0 is set\n",
      "Downloading paper from https://arxiv.org/pdf/2504.16923.pdf\n",
      "Force download is enabled so will download the file again\n",
      "Downloading file https://arxiv.org/pdf/2504.16923.pdf to /Users/jean.machado@getyourguide.com/.sota/papers/paper250416923.pdf\n",
      "Downloaded file to  /Users/jean.machado@getyourguide.com/.sota/papers/paper250416923.pdf\n",
      "reading pdf: /Users/jean.machado@getyourguide.com/.sota/papers/paper250416923.pdf\n",
      "image_file_object: ImageFile(name=Image9.jpg, data: 60.5 kB)\n",
      "ImageFile(name=Image9.jpg, data: 60.5 kB)\n",
      "wrote image to: 24.jpg\n"
     ]
    },
    {
     "name": "stderr",
     "output_type": "stream",
     "text": [
      " 18%|█▊        | 21/115 [00:52<05:13,  3.34s/it]"
     ]
    },
    {
     "name": "stdout",
     "output_type": "stream",
     "text": [
      "2504.16923\n",
      "Extracting images from paper: 2504.16923\n",
      "Position: 22 is set and write_to_folder: data/train/0 is set\n",
      "Downloading paper from https://arxiv.org/pdf/2504.16923.pdf\n",
      "Force download is enabled so will download the file again\n",
      "Downloading file https://arxiv.org/pdf/2504.16923.pdf to /Users/jean.machado@getyourguide.com/.sota/papers/paper250416923.pdf\n",
      "Downloaded file to  /Users/jean.machado@getyourguide.com/.sota/papers/paper250416923.pdf\n",
      "reading pdf: /Users/jean.machado@getyourguide.com/.sota/papers/paper250416923.pdf\n",
      "image_file_object: ImageFile(name=Image8.jpg, data: 61.2 kB)\n",
      "ImageFile(name=Image8.jpg, data: 61.2 kB)\n",
      "wrote image to: 23.jpg\n"
     ]
    },
    {
     "name": "stderr",
     "output_type": "stream",
     "text": [
      " 19%|█▉        | 22/115 [00:52<03:53,  2.51s/it]"
     ]
    },
    {
     "name": "stdout",
     "output_type": "stream",
     "text": [
      "2504.16923\n",
      "Extracting images from paper: 2504.16923\n",
      "Position: 21 is set and write_to_folder: data/train/0 is set\n",
      "Downloading paper from https://arxiv.org/pdf/2504.16923.pdf\n",
      "Force download is enabled so will download the file again\n",
      "Downloading file https://arxiv.org/pdf/2504.16923.pdf to /Users/jean.machado@getyourguide.com/.sota/papers/paper250416923.pdf\n",
      "Downloaded file to  /Users/jean.machado@getyourguide.com/.sota/papers/paper250416923.pdf\n",
      "reading pdf: /Users/jean.machado@getyourguide.com/.sota/papers/paper250416923.pdf\n",
      "image_file_object: ImageFile(name=Image6.jpg, data: 65.2 kB)\n",
      "ImageFile(name=Image6.jpg, data: 65.2 kB)\n",
      "wrote image to: 22.jpg\n"
     ]
    },
    {
     "name": "stderr",
     "output_type": "stream",
     "text": [
      " 20%|██        | 23/115 [00:53<02:57,  1.93s/it]"
     ]
    },
    {
     "name": "stdout",
     "output_type": "stream",
     "text": [
      "2504.16923\n",
      "Extracting images from paper: 2504.16923\n",
      "Position: 21 is set and write_to_folder: data/train/0 is set\n",
      "Downloading paper from https://arxiv.org/pdf/2504.16923.pdf\n",
      "Force download is enabled so will download the file again\n",
      "Downloading file https://arxiv.org/pdf/2504.16923.pdf to /Users/jean.machado@getyourguide.com/.sota/papers/paper250416923.pdf\n",
      "Downloaded file to  /Users/jean.machado@getyourguide.com/.sota/papers/paper250416923.pdf\n",
      "reading pdf: /Users/jean.machado@getyourguide.com/.sota/papers/paper250416923.pdf\n",
      "image_file_object: ImageFile(name=Image6.jpg, data: 65.2 kB)\n",
      "ImageFile(name=Image6.jpg, data: 65.2 kB)\n",
      "wrote image to: 22.jpg\n"
     ]
    },
    {
     "name": "stderr",
     "output_type": "stream",
     "text": [
      " 21%|██        | 24/115 [00:53<02:18,  1.52s/it]"
     ]
    },
    {
     "name": "stdout",
     "output_type": "stream",
     "text": [
      "2504.16930\n",
      "Extracting images from paper: 2504.16930\n",
      "Position: 33 is set and write_to_folder: data/train/0 is set\n",
      "Downloading paper from https://arxiv.org/pdf/2504.16930.pdf\n",
      "Force download is enabled so will download the file again\n",
      "Downloading file https://arxiv.org/pdf/2504.16930.pdf to /Users/jean.machado@getyourguide.com/.sota/papers/paper250416930.pdf\n",
      "Downloaded file to  /Users/jean.machado@getyourguide.com/.sota/papers/paper250416930.pdf\n",
      "reading pdf: /Users/jean.machado@getyourguide.com/.sota/papers/paper250416930.pdf\n",
      "image_file_object: ImageFile(name=Im4.png, data: 82.4 kB)\n",
      "ImageFile(name=Im4.png, data: 82.4 kB)\n",
      "wrote image to: 34.png\n"
     ]
    },
    {
     "name": "stderr",
     "output_type": "stream",
     "text": [
      " 22%|██▏       | 25/115 [00:59<03:58,  2.66s/it]"
     ]
    },
    {
     "name": "stdout",
     "output_type": "stream",
     "text": [
      "2504.16930\n",
      "Extracting images from paper: 2504.16930\n",
      "Position: 31 is set and write_to_folder: data/train/0 is set\n",
      "Downloading paper from https://arxiv.org/pdf/2504.16930.pdf\n",
      "Force download is enabled so will download the file again\n",
      "Downloading file https://arxiv.org/pdf/2504.16930.pdf to /Users/jean.machado@getyourguide.com/.sota/papers/paper250416930.pdf\n",
      "Downloaded file to  /Users/jean.machado@getyourguide.com/.sota/papers/paper250416930.pdf\n",
      "reading pdf: /Users/jean.machado@getyourguide.com/.sota/papers/paper250416930.pdf\n",
      "image_file_object: ImageFile(name=Image8.jpg, data: 184.6 kB)\n",
      "ImageFile(name=Image8.jpg, data: 184.6 kB)\n",
      "wrote image to: 32.jpg\n"
     ]
    },
    {
     "name": "stderr",
     "output_type": "stream",
     "text": [
      " 23%|██▎       | 26/115 [01:04<05:02,  3.40s/it]"
     ]
    },
    {
     "name": "stdout",
     "output_type": "stream",
     "text": [
      "2504.16930\n",
      "Extracting images from paper: 2504.16930\n",
      "Position: 23 is set and write_to_folder: data/train/0 is set\n",
      "Downloading paper from https://arxiv.org/pdf/2504.16930.pdf\n",
      "Force download is enabled so will download the file again\n",
      "Downloading file https://arxiv.org/pdf/2504.16930.pdf to /Users/jean.machado@getyourguide.com/.sota/papers/paper250416930.pdf\n",
      "Downloaded file to  /Users/jean.machado@getyourguide.com/.sota/papers/paper250416930.pdf\n",
      "reading pdf: /Users/jean.machado@getyourguide.com/.sota/papers/paper250416930.pdf\n",
      "image_file_object: ImageFile(name=Image18.jpg, data: 34.3 kB)\n",
      "ImageFile(name=Image18.jpg, data: 34.3 kB)\n",
      "wrote image to: 24.jpg\n"
     ]
    },
    {
     "name": "stderr",
     "output_type": "stream",
     "text": [
      " 23%|██▎       | 27/115 [01:09<05:46,  3.93s/it]"
     ]
    },
    {
     "name": "stdout",
     "output_type": "stream",
     "text": [
      "2504.16930\n",
      "Extracting images from paper: 2504.16930\n",
      "Position: 5 is set and write_to_folder: data/train/0 is set\n",
      "Downloading paper from https://arxiv.org/pdf/2504.16930.pdf\n",
      "Force download is enabled so will download the file again\n",
      "Downloading file https://arxiv.org/pdf/2504.16930.pdf to /Users/jean.machado@getyourguide.com/.sota/papers/paper250416930.pdf\n",
      "Downloaded file to  /Users/jean.machado@getyourguide.com/.sota/papers/paper250416930.pdf\n",
      "reading pdf: /Users/jean.machado@getyourguide.com/.sota/papers/paper250416930.pdf\n",
      "image_file_object: ImageFile(name=Image15.jpg, data: 39.1 kB)\n",
      "ImageFile(name=Image15.jpg, data: 39.1 kB)\n",
      "wrote image to: 6.jpg\n"
     ]
    },
    {
     "name": "stderr",
     "output_type": "stream",
     "text": [
      " 24%|██▍       | 28/115 [01:14<06:15,  4.32s/it]"
     ]
    },
    {
     "name": "stdout",
     "output_type": "stream",
     "text": [
      "2504.16930\n",
      "Extracting images from paper: 2504.16930\n",
      "Position: 8 is set and write_to_folder: data/train/0 is set\n",
      "Downloading paper from https://arxiv.org/pdf/2504.16930.pdf\n",
      "Force download is enabled so will download the file again\n",
      "Downloading file https://arxiv.org/pdf/2504.16930.pdf to /Users/jean.machado@getyourguide.com/.sota/papers/paper250416930.pdf\n",
      "Downloaded file to  /Users/jean.machado@getyourguide.com/.sota/papers/paper250416930.pdf\n",
      "reading pdf: /Users/jean.machado@getyourguide.com/.sota/papers/paper250416930.pdf\n",
      "image_file_object: ImageFile(name=Image18.jpg, data: 28.3 kB)\n",
      "ImageFile(name=Image18.jpg, data: 28.3 kB)\n",
      "wrote image to: 9.jpg\n"
     ]
    },
    {
     "name": "stderr",
     "output_type": "stream",
     "text": [
      " 25%|██▌       | 29/115 [01:19<06:32,  4.57s/it]"
     ]
    },
    {
     "name": "stdout",
     "output_type": "stream",
     "text": [
      "2504.16930\n",
      "Extracting images from paper: 2504.16930\n",
      "Position: 12 is set and write_to_folder: data/train/0 is set\n",
      "Downloading paper from https://arxiv.org/pdf/2504.16930.pdf\n",
      "Force download is enabled so will download the file again\n",
      "Downloading file https://arxiv.org/pdf/2504.16930.pdf to /Users/jean.machado@getyourguide.com/.sota/papers/paper250416930.pdf\n",
      "Downloaded file to  /Users/jean.machado@getyourguide.com/.sota/papers/paper250416930.pdf\n",
      "reading pdf: /Users/jean.machado@getyourguide.com/.sota/papers/paper250416930.pdf\n",
      "image_file_object: ImageFile(name=Image22.jpg, data: 25.5 kB)\n",
      "ImageFile(name=Image22.jpg, data: 25.5 kB)\n",
      "wrote image to: 13.jpg\n"
     ]
    },
    {
     "name": "stderr",
     "output_type": "stream",
     "text": [
      " 26%|██▌       | 30/115 [01:24<06:43,  4.75s/it]"
     ]
    },
    {
     "name": "stdout",
     "output_type": "stream",
     "text": [
      "2504.16930\n",
      "Extracting images from paper: 2504.16930\n",
      "Position: 4 is set and write_to_folder: data/train/0 is set\n",
      "Downloading paper from https://arxiv.org/pdf/2504.16930.pdf\n",
      "Force download is enabled so will download the file again\n",
      "Downloading file https://arxiv.org/pdf/2504.16930.pdf to /Users/jean.machado@getyourguide.com/.sota/papers/paper250416930.pdf\n",
      "Downloaded file to  /Users/jean.machado@getyourguide.com/.sota/papers/paper250416930.pdf\n",
      "reading pdf: /Users/jean.machado@getyourguide.com/.sota/papers/paper250416930.pdf\n",
      "image_file_object: ImageFile(name=Image14.jpg, data: 29.4 kB)\n",
      "ImageFile(name=Image14.jpg, data: 29.4 kB)\n",
      "wrote image to: 5.jpg\n"
     ]
    },
    {
     "name": "stderr",
     "output_type": "stream",
     "text": [
      " 27%|██▋       | 31/115 [01:30<06:49,  4.87s/it]"
     ]
    },
    {
     "name": "stdout",
     "output_type": "stream",
     "text": [
      "2504.16930\n",
      "Extracting images from paper: 2504.16930\n",
      "Position: 22 is set and write_to_folder: data/train/0 is set\n",
      "Downloading paper from https://arxiv.org/pdf/2504.16930.pdf\n",
      "Force download is enabled so will download the file again\n",
      "Downloading file https://arxiv.org/pdf/2504.16930.pdf to /Users/jean.machado@getyourguide.com/.sota/papers/paper250416930.pdf\n",
      "Downloaded file to  /Users/jean.machado@getyourguide.com/.sota/papers/paper250416930.pdf\n",
      "reading pdf: /Users/jean.machado@getyourguide.com/.sota/papers/paper250416930.pdf\n",
      "image_file_object: ImageFile(name=Image17.jpg, data: 148.7 kB)\n",
      "ImageFile(name=Image17.jpg, data: 148.7 kB)\n",
      "wrote image to: 23.jpg\n"
     ]
    },
    {
     "name": "stderr",
     "output_type": "stream",
     "text": [
      " 28%|██▊       | 32/115 [01:35<06:52,  4.97s/it]"
     ]
    },
    {
     "name": "stdout",
     "output_type": "stream",
     "text": [
      "2504.16930\n",
      "Extracting images from paper: 2504.16930\n",
      "Position: 21 is set and write_to_folder: data/train/0 is set\n",
      "Downloading paper from https://arxiv.org/pdf/2504.16930.pdf\n",
      "Force download is enabled so will download the file again\n",
      "Downloading file https://arxiv.org/pdf/2504.16930.pdf to /Users/jean.machado@getyourguide.com/.sota/papers/paper250416930.pdf\n",
      "Downloaded file to  /Users/jean.machado@getyourguide.com/.sota/papers/paper250416930.pdf\n",
      "reading pdf: /Users/jean.machado@getyourguide.com/.sota/papers/paper250416930.pdf\n",
      "image_file_object: ImageFile(name=Image16.jpg, data: 47.5 kB)\n",
      "ImageFile(name=Image16.jpg, data: 47.5 kB)\n",
      "wrote image to: 22.jpg\n"
     ]
    },
    {
     "name": "stderr",
     "output_type": "stream",
     "text": [
      " 29%|██▊       | 33/115 [01:40<06:52,  5.03s/it]"
     ]
    },
    {
     "name": "stdout",
     "output_type": "stream",
     "text": [
      "2504.16930\n",
      "Extracting images from paper: 2504.16930\n",
      "Position: 15 is set and write_to_folder: data/train/2 is set\n",
      "Downloading paper from https://arxiv.org/pdf/2504.16930.pdf\n",
      "Force download is enabled so will download the file again\n",
      "Downloading file https://arxiv.org/pdf/2504.16930.pdf to /Users/jean.machado@getyourguide.com/.sota/papers/paper250416930.pdf\n",
      "Downloaded file to  /Users/jean.machado@getyourguide.com/.sota/papers/paper250416930.pdf\n",
      "reading pdf: /Users/jean.machado@getyourguide.com/.sota/papers/paper250416930.pdf\n",
      "image_file_object: ImageFile(name=Image10.jpg, data: 48.9 kB)\n",
      "ImageFile(name=Image10.jpg, data: 48.9 kB)\n",
      "wrote image to: 16.jpg\n"
     ]
    },
    {
     "name": "stderr",
     "output_type": "stream",
     "text": [
      " 30%|██▉       | 34/115 [01:45<06:51,  5.08s/it]"
     ]
    },
    {
     "name": "stdout",
     "output_type": "stream",
     "text": [
      "2504.16930\n",
      "Extracting images from paper: 2504.16930\n",
      "Position: 16 is set and write_to_folder: data/train/0 is set\n",
      "Downloading paper from https://arxiv.org/pdf/2504.16930.pdf\n",
      "Force download is enabled so will download the file again\n",
      "Downloading file https://arxiv.org/pdf/2504.16930.pdf to /Users/jean.machado@getyourguide.com/.sota/papers/paper250416930.pdf\n",
      "Downloaded file to  /Users/jean.machado@getyourguide.com/.sota/papers/paper250416930.pdf\n",
      "reading pdf: /Users/jean.machado@getyourguide.com/.sota/papers/paper250416930.pdf\n",
      "image_file_object: ImageFile(name=Image11.jpg, data: 105.1 kB)\n",
      "ImageFile(name=Image11.jpg, data: 105.1 kB)\n",
      "wrote image to: 17.jpg\n"
     ]
    },
    {
     "name": "stderr",
     "output_type": "stream",
     "text": [
      " 30%|███       | 35/115 [01:50<06:48,  5.11s/it]"
     ]
    },
    {
     "name": "stdout",
     "output_type": "stream",
     "text": [
      "2504.16930\n",
      "Extracting images from paper: 2504.16930\n",
      "Position: 15 is set and write_to_folder: data/train/0 is set\n",
      "Downloading paper from https://arxiv.org/pdf/2504.16930.pdf\n",
      "Force download is enabled so will download the file again\n",
      "Downloading file https://arxiv.org/pdf/2504.16930.pdf to /Users/jean.machado@getyourguide.com/.sota/papers/paper250416930.pdf\n",
      "Downloaded file to  /Users/jean.machado@getyourguide.com/.sota/papers/paper250416930.pdf\n",
      "reading pdf: /Users/jean.machado@getyourguide.com/.sota/papers/paper250416930.pdf\n",
      "image_file_object: ImageFile(name=Image10.jpg, data: 48.9 kB)\n",
      "ImageFile(name=Image10.jpg, data: 48.9 kB)\n",
      "wrote image to: 16.jpg\n"
     ]
    },
    {
     "name": "stderr",
     "output_type": "stream",
     "text": [
      " 31%|███▏      | 36/115 [01:55<06:44,  5.12s/it]"
     ]
    },
    {
     "name": "stdout",
     "output_type": "stream",
     "text": [
      "2504.16922\n",
      "Extracting images from paper: 2504.16922\n",
      "Position: 13 is set and write_to_folder: data/train/0 is set\n",
      "Downloading paper from https://arxiv.org/pdf/2504.16922.pdf\n",
      "Force download is enabled so will download the file again\n",
      "Downloading file https://arxiv.org/pdf/2504.16922.pdf to /Users/jean.machado@getyourguide.com/.sota/papers/paper250416922.pdf\n",
      "Downloaded file to  /Users/jean.machado@getyourguide.com/.sota/papers/paper250416922.pdf\n",
      "reading pdf: /Users/jean.machado@getyourguide.com/.sota/papers/paper250416922.pdf\n",
      "image_file_object: ImageFile(name=I1.png, data: 40.9 kB)\n",
      "ImageFile(name=I1.png, data: 40.9 kB)\n",
      "wrote image to: 14.png\n"
     ]
    },
    {
     "name": "stderr",
     "output_type": "stream",
     "text": [
      " 32%|███▏      | 37/115 [02:04<07:58,  6.14s/it]"
     ]
    },
    {
     "name": "stdout",
     "output_type": "stream",
     "text": [
      "2504.16922\n",
      "Extracting images from paper: 2504.16922\n",
      "Position: 12 is set and write_to_folder: data/train/0 is set\n",
      "Downloading paper from https://arxiv.org/pdf/2504.16922.pdf\n",
      "Force download is enabled so will download the file again\n",
      "Downloading file https://arxiv.org/pdf/2504.16922.pdf to /Users/jean.machado@getyourguide.com/.sota/papers/paper250416922.pdf\n",
      "Downloaded file to  /Users/jean.machado@getyourguide.com/.sota/papers/paper250416922.pdf\n",
      "reading pdf: /Users/jean.machado@getyourguide.com/.sota/papers/paper250416922.pdf\n",
      "image_file_object: ImageFile(name=Im7.png, data: 2.0 kB)\n",
      "ImageFile(name=Im7.png, data: 2.0 kB)\n",
      "wrote image to: 13.png\n"
     ]
    },
    {
     "name": "stderr",
     "output_type": "stream",
     "text": [
      " 33%|███▎      | 38/115 [02:13<08:48,  6.86s/it]"
     ]
    },
    {
     "name": "stdout",
     "output_type": "stream",
     "text": [
      "2504.16922\n",
      "Extracting images from paper: 2504.16922\n",
      "Position: 11 is set and write_to_folder: data/train/0 is set\n",
      "Downloading paper from https://arxiv.org/pdf/2504.16922.pdf\n",
      "Force download is enabled so will download the file again\n",
      "Downloading file https://arxiv.org/pdf/2504.16922.pdf to /Users/jean.machado@getyourguide.com/.sota/papers/paper250416922.pdf\n",
      "Downloaded file to  /Users/jean.machado@getyourguide.com/.sota/papers/paper250416922.pdf\n",
      "reading pdf: /Users/jean.machado@getyourguide.com/.sota/papers/paper250416922.pdf\n",
      "image_file_object: ImageFile(name=Im6.png, data: 1.9 kB)\n",
      "ImageFile(name=Im6.png, data: 1.9 kB)\n",
      "wrote image to: 12.png\n"
     ]
    },
    {
     "name": "stderr",
     "output_type": "stream",
     "text": [
      " 34%|███▍      | 39/115 [02:21<09:15,  7.31s/it]"
     ]
    },
    {
     "name": "stdout",
     "output_type": "stream",
     "text": [
      "2504.16922\n",
      "Extracting images from paper: 2504.16922\n",
      "Position: 10 is set and write_to_folder: data/train/0 is set\n",
      "Downloading paper from https://arxiv.org/pdf/2504.16922.pdf\n",
      "Force download is enabled so will download the file again\n",
      "Downloading file https://arxiv.org/pdf/2504.16922.pdf to /Users/jean.machado@getyourguide.com/.sota/papers/paper250416922.pdf\n",
      "Downloaded file to  /Users/jean.machado@getyourguide.com/.sota/papers/paper250416922.pdf\n",
      "reading pdf: /Users/jean.machado@getyourguide.com/.sota/papers/paper250416922.pdf\n",
      "image_file_object: ImageFile(name=Im5.png, data: 1.7 kB)\n",
      "ImageFile(name=Im5.png, data: 1.7 kB)\n",
      "wrote image to: 11.png\n"
     ]
    },
    {
     "name": "stderr",
     "output_type": "stream",
     "text": [
      " 35%|███▍      | 40/115 [02:29<09:37,  7.70s/it]"
     ]
    },
    {
     "name": "stdout",
     "output_type": "stream",
     "text": [
      "2504.16922\n",
      "Extracting images from paper: 2504.16922\n",
      "Position: 1 is set and write_to_folder: data/train/0 is set\n",
      "Downloading paper from https://arxiv.org/pdf/2504.16922.pdf\n",
      "Force download is enabled so will download the file again\n",
      "Downloading file https://arxiv.org/pdf/2504.16922.pdf to /Users/jean.machado@getyourguide.com/.sota/papers/paper250416922.pdf\n",
      "Downloaded file to  /Users/jean.machado@getyourguide.com/.sota/papers/paper250416922.pdf\n",
      "reading pdf: /Users/jean.machado@getyourguide.com/.sota/papers/paper250416922.pdf\n",
      "image_file_object: ImageFile(name=Im1.png, data: 1.1 MB)\n",
      "ImageFile(name=Im1.png, data: 1.1 MB)\n",
      "wrote image to: 2.png\n"
     ]
    },
    {
     "name": "stderr",
     "output_type": "stream",
     "text": [
      " 36%|███▌      | 41/115 [02:38<09:50,  7.98s/it]"
     ]
    },
    {
     "name": "stdout",
     "output_type": "stream",
     "text": [
      "2504.16923\n",
      "Extracting images from paper: 2504.16923\n",
      "Position: 13 is set and write_to_folder: data/train/0 is set\n",
      "Downloading paper from https://arxiv.org/pdf/2504.16923.pdf\n",
      "Force download is enabled so will download the file again\n",
      "Downloading file https://arxiv.org/pdf/2504.16923.pdf to /Users/jean.machado@getyourguide.com/.sota/papers/paper250416923.pdf\n",
      "Downloaded file to  /Users/jean.machado@getyourguide.com/.sota/papers/paper250416923.pdf\n",
      "reading pdf: /Users/jean.machado@getyourguide.com/.sota/papers/paper250416923.pdf\n",
      "image_file_object: ImageFile(name=Image7.jpg, data: 74.2 kB)\n",
      "ImageFile(name=Image7.jpg, data: 74.2 kB)\n",
      "wrote image to: 14.jpg\n"
     ]
    },
    {
     "name": "stderr",
     "output_type": "stream",
     "text": [
      " 37%|███▋      | 42/115 [02:39<07:00,  5.76s/it]"
     ]
    },
    {
     "name": "stdout",
     "output_type": "stream",
     "text": [
      "2504.16923\n",
      "Extracting images from paper: 2504.16923\n",
      "Position: 12 is set and write_to_folder: data/train/0 is set\n",
      "Downloading paper from https://arxiv.org/pdf/2504.16923.pdf\n",
      "Force download is enabled so will download the file again\n",
      "Downloading file https://arxiv.org/pdf/2504.16923.pdf to /Users/jean.machado@getyourguide.com/.sota/papers/paper250416923.pdf\n",
      "Downloaded file to  /Users/jean.machado@getyourguide.com/.sota/papers/paper250416923.pdf\n",
      "reading pdf: /Users/jean.machado@getyourguide.com/.sota/papers/paper250416923.pdf\n",
      "image_file_object: ImageFile(name=Image6.jpg, data: 48.7 kB)\n",
      "ImageFile(name=Image6.jpg, data: 48.7 kB)\n",
      "wrote image to: 13.jpg\n"
     ]
    },
    {
     "name": "stderr",
     "output_type": "stream",
     "text": [
      " 37%|███▋      | 43/115 [02:40<05:09,  4.29s/it]"
     ]
    },
    {
     "name": "stdout",
     "output_type": "stream",
     "text": [
      "2504.16923\n",
      "Extracting images from paper: 2504.16923\n",
      "Position: 11 is set and write_to_folder: data/train/0 is set\n",
      "Downloading paper from https://arxiv.org/pdf/2504.16923.pdf\n",
      "Force download is enabled so will download the file again\n",
      "Downloading file https://arxiv.org/pdf/2504.16923.pdf to /Users/jean.machado@getyourguide.com/.sota/papers/paper250416923.pdf\n",
      "Downloaded file to  /Users/jean.machado@getyourguide.com/.sota/papers/paper250416923.pdf\n",
      "reading pdf: /Users/jean.machado@getyourguide.com/.sota/papers/paper250416923.pdf\n",
      "image_file_object: ImageFile(name=Image11.jpg, data: 75.8 kB)\n",
      "ImageFile(name=Image11.jpg, data: 75.8 kB)\n",
      "wrote image to: 12.jpg\n"
     ]
    },
    {
     "name": "stderr",
     "output_type": "stream",
     "text": [
      " 38%|███▊      | 44/115 [02:40<03:47,  3.20s/it]"
     ]
    },
    {
     "name": "stdout",
     "output_type": "stream",
     "text": [
      "2504.16923\n",
      "Extracting images from paper: 2504.16923\n",
      "Position: 1 is set and write_to_folder: data/train/0 is set\n",
      "Downloading paper from https://arxiv.org/pdf/2504.16923.pdf\n",
      "Force download is enabled so will download the file again\n",
      "Downloading file https://arxiv.org/pdf/2504.16923.pdf to /Users/jean.machado@getyourguide.com/.sota/papers/paper250416923.pdf\n",
      "Downloaded file to  /Users/jean.machado@getyourguide.com/.sota/papers/paper250416923.pdf\n",
      "reading pdf: /Users/jean.machado@getyourguide.com/.sota/papers/paper250416923.pdf\n",
      "image_file_object: ImageFile(name=Image14.png, data: 1.2 kB)\n",
      "ImageFile(name=Image14.png, data: 1.2 kB)\n",
      "wrote image to: 2.png\n"
     ]
    },
    {
     "name": "stderr",
     "output_type": "stream",
     "text": [
      " 39%|███▉      | 45/115 [02:41<02:49,  2.43s/it]"
     ]
    },
    {
     "name": "stdout",
     "output_type": "stream",
     "text": [
      "2504.16925\n",
      "Extracting images from paper: 2504.16925\n",
      "Position: 4 is set and write_to_folder: data/train/0 is set\n",
      "Downloading paper from https://arxiv.org/pdf/2504.16925.pdf\n",
      "Force download is enabled so will download the file again\n",
      "Downloading file https://arxiv.org/pdf/2504.16925.pdf to /Users/jean.machado@getyourguide.com/.sota/papers/paper250416925.pdf\n",
      "Downloaded file to  /Users/jean.machado@getyourguide.com/.sota/papers/paper250416925.pdf\n",
      "reading pdf: /Users/jean.machado@getyourguide.com/.sota/papers/paper250416925.pdf\n"
     ]
    },
    {
     "name": "stderr",
     "output_type": "stream",
     "text": [
      " 40%|████      | 46/115 [02:43<02:41,  2.35s/it]"
     ]
    },
    {
     "name": "stdout",
     "output_type": "stream",
     "text": [
      "image_file_object: ImageFile(name=Im5.png, data: 384.8 kB)\n",
      "ImageFile(name=Im5.png, data: 384.8 kB)\n",
      "wrote image to: 5.png\n",
      "2504.16925\n",
      "Extracting images from paper: 2504.16925\n",
      "Position: 3 is set and write_to_folder: data/train/0 is set\n",
      "Downloading paper from https://arxiv.org/pdf/2504.16925.pdf\n",
      "Force download is enabled so will download the file again\n",
      "Downloading file https://arxiv.org/pdf/2504.16925.pdf to /Users/jean.machado@getyourguide.com/.sota/papers/paper250416925.pdf\n",
      "Downloaded file to  /Users/jean.machado@getyourguide.com/.sota/papers/paper250416925.pdf\n",
      "reading pdf: /Users/jean.machado@getyourguide.com/.sota/papers/paper250416925.pdf\n"
     ]
    },
    {
     "name": "stderr",
     "output_type": "stream",
     "text": [
      " 41%|████      | 47/115 [02:45<02:32,  2.24s/it]"
     ]
    },
    {
     "name": "stdout",
     "output_type": "stream",
     "text": [
      "image_file_object: ImageFile(name=Im4.png, data: 4.2 MB)\n",
      "ImageFile(name=Im4.png, data: 4.2 MB)\n",
      "wrote image to: 4.png\n",
      "2504.16925\n",
      "Extracting images from paper: 2504.16925\n",
      "Position: 2 is set and write_to_folder: data/train/2 is set\n",
      "Downloading paper from https://arxiv.org/pdf/2504.16925.pdf\n",
      "Force download is enabled so will download the file again\n",
      "Downloading file https://arxiv.org/pdf/2504.16925.pdf to /Users/jean.machado@getyourguide.com/.sota/papers/paper250416925.pdf\n",
      "Downloaded file to  /Users/jean.machado@getyourguide.com/.sota/papers/paper250416925.pdf\n",
      "reading pdf: /Users/jean.machado@getyourguide.com/.sota/papers/paper250416925.pdf\n",
      "image_file_object: ImageFile(name=Im3.png, data: 1.2 MB)\n",
      "ImageFile(name=Im3.png, data: 1.2 MB)\n",
      "wrote image to: 3.png\n"
     ]
    },
    {
     "name": "stderr",
     "output_type": "stream",
     "text": [
      " 42%|████▏     | 48/115 [02:47<02:24,  2.16s/it]"
     ]
    },
    {
     "name": "stdout",
     "output_type": "stream",
     "text": [
      "2504.16925\n",
      "Extracting images from paper: 2504.16925\n",
      "Position: 1 is set and write_to_folder: data/train/2 is set\n",
      "Downloading paper from https://arxiv.org/pdf/2504.16925.pdf\n",
      "Force download is enabled so will download the file again\n",
      "Downloading file https://arxiv.org/pdf/2504.16925.pdf to /Users/jean.machado@getyourguide.com/.sota/papers/paper250416925.pdf\n",
      "Downloaded file to  /Users/jean.machado@getyourguide.com/.sota/papers/paper250416925.pdf\n",
      "reading pdf: /Users/jean.machado@getyourguide.com/.sota/papers/paper250416925.pdf\n",
      "image_file_object: ImageFile(name=Im2.png, data: 386.4 kB)\n",
      "ImageFile(name=Im2.png, data: 386.4 kB)\n",
      "wrote image to: 2.png\n"
     ]
    },
    {
     "name": "stderr",
     "output_type": "stream",
     "text": [
      " 43%|████▎     | 49/115 [02:49<02:18,  2.10s/it]"
     ]
    },
    {
     "name": "stdout",
     "output_type": "stream",
     "text": [
      "2504.16929\n",
      "Extracting images from paper: 2504.16929\n",
      "Position: 15 is set and write_to_folder: data/train/0 is set\n",
      "Downloading paper from https://arxiv.org/pdf/2504.16929.pdf\n",
      "Force download is enabled so will download the file again\n",
      "Downloading file https://arxiv.org/pdf/2504.16929.pdf to /Users/jean.machado@getyourguide.com/.sota/papers/paper250416929.pdf\n",
      "Downloaded file to  /Users/jean.machado@getyourguide.com/.sota/papers/paper250416929.pdf\n",
      "reading pdf: /Users/jean.machado@getyourguide.com/.sota/papers/paper250416929.pdf\n",
      "image_file_object: ImageFile(name=Im5.png, data: 1.4 kB)\n",
      "ImageFile(name=Im5.png, data: 1.4 kB)\n",
      "wrote image to: 16.png\n"
     ]
    },
    {
     "name": "stderr",
     "output_type": "stream",
     "text": [
      " 43%|████▎     | 50/115 [02:51<02:07,  1.96s/it]"
     ]
    },
    {
     "name": "stdout",
     "output_type": "stream",
     "text": [
      "2504.16929\n",
      "Extracting images from paper: 2504.16929\n",
      "Position: 14 is set and write_to_folder: data/train/0 is set\n",
      "Downloading paper from https://arxiv.org/pdf/2504.16929.pdf\n",
      "Force download is enabled so will download the file again\n",
      "Downloading file https://arxiv.org/pdf/2504.16929.pdf to /Users/jean.machado@getyourguide.com/.sota/papers/paper250416929.pdf\n",
      "Downloaded file to  /Users/jean.machado@getyourguide.com/.sota/papers/paper250416929.pdf\n",
      "reading pdf: /Users/jean.machado@getyourguide.com/.sota/papers/paper250416929.pdf\n",
      "image_file_object: ImageFile(name=Im4.jpg, data: 7.1 kB)\n",
      "ImageFile(name=Im4.jpg, data: 7.1 kB)\n",
      "wrote image to: 15.jpg\n"
     ]
    },
    {
     "name": "stderr",
     "output_type": "stream",
     "text": [
      " 44%|████▍     | 51/115 [02:52<01:55,  1.80s/it]"
     ]
    },
    {
     "name": "stdout",
     "output_type": "stream",
     "text": [
      "2504.16929\n",
      "Extracting images from paper: 2504.16929\n",
      "Position: 13 is set and write_to_folder: data/train/0 is set\n",
      "Downloading paper from https://arxiv.org/pdf/2504.16929.pdf\n",
      "Force download is enabled so will download the file again\n",
      "Downloading file https://arxiv.org/pdf/2504.16929.pdf to /Users/jean.machado@getyourguide.com/.sota/papers/paper250416929.pdf\n",
      "Downloaded file to  /Users/jean.machado@getyourguide.com/.sota/papers/paper250416929.pdf\n",
      "reading pdf: /Users/jean.machado@getyourguide.com/.sota/papers/paper250416929.pdf\n",
      "image_file_object: ImageFile(name=Im3.jpg, data: 6.6 kB)\n",
      "ImageFile(name=Im3.jpg, data: 6.6 kB)\n",
      "wrote image to: 14.jpg\n"
     ]
    },
    {
     "name": "stderr",
     "output_type": "stream",
     "text": [
      " 45%|████▌     | 52/115 [02:53<01:47,  1.71s/it]"
     ]
    },
    {
     "name": "stdout",
     "output_type": "stream",
     "text": [
      "2504.16929\n",
      "Extracting images from paper: 2504.16929\n",
      "Position: 12 is set and write_to_folder: data/train/0 is set\n",
      "Downloading paper from https://arxiv.org/pdf/2504.16929.pdf\n",
      "Force download is enabled so will download the file again\n",
      "Downloading file https://arxiv.org/pdf/2504.16929.pdf to /Users/jean.machado@getyourguide.com/.sota/papers/paper250416929.pdf\n",
      "Downloaded file to  /Users/jean.machado@getyourguide.com/.sota/papers/paper250416929.pdf\n",
      "reading pdf: /Users/jean.machado@getyourguide.com/.sota/papers/paper250416929.pdf\n",
      "image_file_object: ImageFile(name=Im2.jpg, data: 8.7 kB)\n",
      "ImageFile(name=Im2.jpg, data: 8.7 kB)\n",
      "wrote image to: 13.jpg\n"
     ]
    },
    {
     "name": "stderr",
     "output_type": "stream",
     "text": [
      " 46%|████▌     | 53/115 [02:55<01:42,  1.65s/it]"
     ]
    },
    {
     "name": "stdout",
     "output_type": "stream",
     "text": [
      "2504.16929\n",
      "Extracting images from paper: 2504.16929\n",
      "Position: 1 is set and write_to_folder: data/train/0 is set\n",
      "Downloading paper from https://arxiv.org/pdf/2504.16929.pdf\n",
      "Force download is enabled so will download the file again\n",
      "Downloading file https://arxiv.org/pdf/2504.16929.pdf to /Users/jean.machado@getyourguide.com/.sota/papers/paper250416929.pdf\n",
      "Downloaded file to  /Users/jean.machado@getyourguide.com/.sota/papers/paper250416929.pdf\n",
      "reading pdf: /Users/jean.machado@getyourguide.com/.sota/papers/paper250416929.pdf\n",
      "image_file_object: ImageFile(name=Im10.jpg, data: 2.2 kB)\n",
      "ImageFile(name=Im10.jpg, data: 2.2 kB)\n",
      "wrote image to: 2.jpg\n"
     ]
    },
    {
     "name": "stderr",
     "output_type": "stream",
     "text": [
      " 47%|████▋     | 54/115 [02:57<01:38,  1.61s/it]"
     ]
    },
    {
     "name": "stdout",
     "output_type": "stream",
     "text": [
      "2504.16930\n",
      "Extracting images from paper: 2504.16930\n",
      "Position: 1 is set and write_to_folder: data/train/0 is set\n",
      "Downloading paper from https://arxiv.org/pdf/2504.16930.pdf\n",
      "Force download is enabled so will download the file again\n",
      "Downloading file https://arxiv.org/pdf/2504.16930.pdf to /Users/jean.machado@getyourguide.com/.sota/papers/paper250416930.pdf\n",
      "Downloaded file to  /Users/jean.machado@getyourguide.com/.sota/papers/paper250416930.pdf\n",
      "reading pdf: /Users/jean.machado@getyourguide.com/.sota/papers/paper250416930.pdf\n",
      "image_file_object: ImageFile(name=Image11.jpg, data: 33.1 kB)\n",
      "ImageFile(name=Image11.jpg, data: 33.1 kB)\n",
      "wrote image to: 2.jpg\n"
     ]
    },
    {
     "name": "stderr",
     "output_type": "stream",
     "text": [
      " 48%|████▊     | 55/115 [03:02<02:42,  2.71s/it]"
     ]
    },
    {
     "name": "stdout",
     "output_type": "stream",
     "text": [
      "2504.16930\n",
      "Extracting images from paper: 2504.16930\n",
      "Position: 13 is set and write_to_folder: data/train/0 is set\n",
      "Downloading paper from https://arxiv.org/pdf/2504.16930.pdf\n",
      "Force download is enabled so will download the file again\n",
      "Downloading file https://arxiv.org/pdf/2504.16930.pdf to /Users/jean.machado@getyourguide.com/.sota/papers/paper250416930.pdf\n",
      "Downloaded file to  /Users/jean.machado@getyourguide.com/.sota/papers/paper250416930.pdf\n",
      "reading pdf: /Users/jean.machado@getyourguide.com/.sota/papers/paper250416930.pdf\n",
      "image_file_object: ImageFile(name=Image9.jpg, data: 30.8 kB)\n",
      "ImageFile(name=Image9.jpg, data: 30.8 kB)\n",
      "wrote image to: 14.jpg\n"
     ]
    },
    {
     "name": "stderr",
     "output_type": "stream",
     "text": [
      " 49%|████▊     | 56/115 [03:07<03:27,  3.52s/it]"
     ]
    },
    {
     "name": "stdout",
     "output_type": "stream",
     "text": [
      "2504.16930\n",
      "Extracting images from paper: 2504.16930\n",
      "Position: 11 is set and write_to_folder: data/train/0 is set\n",
      "Downloading paper from https://arxiv.org/pdf/2504.16930.pdf\n",
      "Force download is enabled so will download the file again\n",
      "Downloading file https://arxiv.org/pdf/2504.16930.pdf to /Users/jean.machado@getyourguide.com/.sota/papers/paper250416930.pdf\n",
      "Downloaded file to  /Users/jean.machado@getyourguide.com/.sota/papers/paper250416930.pdf\n",
      "reading pdf: /Users/jean.machado@getyourguide.com/.sota/papers/paper250416930.pdf\n",
      "image_file_object: ImageFile(name=Image21.jpg, data: 28.9 kB)\n",
      "ImageFile(name=Image21.jpg, data: 28.9 kB)\n",
      "wrote image to: 12.jpg\n"
     ]
    },
    {
     "name": "stderr",
     "output_type": "stream",
     "text": [
      " 50%|████▉     | 57/115 [03:13<03:55,  4.06s/it]"
     ]
    },
    {
     "name": "stdout",
     "output_type": "stream",
     "text": [
      "2504.16930\n",
      "Extracting images from paper: 2504.16930\n",
      "Position: 10 is set and write_to_folder: data/train/0 is set\n",
      "Downloading paper from https://arxiv.org/pdf/2504.16930.pdf\n",
      "Force download is enabled so will download the file again\n",
      "Downloading file https://arxiv.org/pdf/2504.16930.pdf to /Users/jean.machado@getyourguide.com/.sota/papers/paper250416930.pdf\n",
      "Downloaded file to  /Users/jean.machado@getyourguide.com/.sota/papers/paper250416930.pdf\n",
      "reading pdf: /Users/jean.machado@getyourguide.com/.sota/papers/paper250416930.pdf\n",
      "image_file_object: ImageFile(name=Image20.jpg, data: 28.4 kB)\n",
      "ImageFile(name=Image20.jpg, data: 28.4 kB)\n",
      "wrote image to: 11.jpg\n"
     ]
    },
    {
     "name": "stderr",
     "output_type": "stream",
     "text": [
      " 50%|█████     | 58/115 [03:18<04:13,  4.44s/it]"
     ]
    },
    {
     "name": "stdout",
     "output_type": "stream",
     "text": [
      "2504.13166\n",
      "Extracting images from paper: 2504.13166\n",
      "Position: 3 is set and write_to_folder: data/train/2 is set\n",
      "Downloading paper from https://arxiv.org/pdf/2504.13166.pdf\n",
      "Force download is enabled so will download the file again\n",
      "Downloading file https://arxiv.org/pdf/2504.13166.pdf to /Users/jean.machado@getyourguide.com/.sota/papers/paper250413166.pdf\n",
      "Downloaded file to  /Users/jean.machado@getyourguide.com/.sota/papers/paper250413166.pdf\n",
      "reading pdf: /Users/jean.machado@getyourguide.com/.sota/papers/paper250413166.pdf\n",
      "image_file_object: ImageFile(name=Im4.png, data: 144.4 kB)\n",
      "ImageFile(name=Im4.png, data: 144.4 kB)\n",
      "wrote image to: 4.png\n"
     ]
    },
    {
     "name": "stderr",
     "output_type": "stream",
     "text": [
      " 51%|█████▏    | 59/115 [03:20<03:22,  3.61s/it]"
     ]
    },
    {
     "name": "stdout",
     "output_type": "stream",
     "text": [
      "2504.13166\n",
      "Extracting images from paper: 2504.13166\n",
      "Position: 1 is set and write_to_folder: data/train/2 is set\n",
      "Downloading paper from https://arxiv.org/pdf/2504.13166.pdf\n",
      "Force download is enabled so will download the file again\n",
      "Downloading file https://arxiv.org/pdf/2504.13166.pdf to /Users/jean.machado@getyourguide.com/.sota/papers/paper250413166.pdf\n",
      "Downloaded file to  /Users/jean.machado@getyourguide.com/.sota/papers/paper250413166.pdf\n",
      "reading pdf: /Users/jean.machado@getyourguide.com/.sota/papers/paper250413166.pdf\n",
      "image_file_object: ImageFile(name=Im2.png, data: 810.7 kB)\n",
      "ImageFile(name=Im2.png, data: 810.7 kB)\n",
      "wrote image to: 2.png\n"
     ]
    },
    {
     "name": "stderr",
     "output_type": "stream",
     "text": [
      " 52%|█████▏    | 60/115 [03:21<02:45,  3.01s/it]"
     ]
    },
    {
     "name": "stdout",
     "output_type": "stream",
     "text": [
      "2504.13169\n",
      "Extracting images from paper: 2504.13169\n",
      "Position: 1 is set and write_to_folder: data/train/2 is set\n",
      "Downloading paper from https://arxiv.org/pdf/2504.13169.pdf\n",
      "Force download is enabled so will download the file again\n",
      "Downloading file https://arxiv.org/pdf/2504.13169.pdf to /Users/jean.machado@getyourguide.com/.sota/papers/paper250413169.pdf\n",
      "Downloaded file to  /Users/jean.machado@getyourguide.com/.sota/papers/paper250413169.pdf\n",
      "reading pdf: /Users/jean.machado@getyourguide.com/.sota/papers/paper250413169.pdf\n",
      "image_file_object: ImageFile(name=Im2.png, data: 1.4 MB)\n",
      "ImageFile(name=Im2.png, data: 1.4 MB)\n",
      "wrote image to: 2.png\n"
     ]
    },
    {
     "name": "stderr",
     "output_type": "stream",
     "text": [
      " 53%|█████▎    | 61/115 [03:22<02:10,  2.42s/it]"
     ]
    },
    {
     "name": "stdout",
     "output_type": "stream",
     "text": [
      "2504.13171\n",
      "Extracting images from paper: 2504.13171\n",
      "Position: 12 is set and write_to_folder: data/train/0 is set\n",
      "Downloading paper from https://arxiv.org/pdf/2504.13171.pdf\n",
      "Force download is enabled so will download the file again\n",
      "Downloading file https://arxiv.org/pdf/2504.13171.pdf to /Users/jean.machado@getyourguide.com/.sota/papers/paper250413171.pdf\n",
      "Downloaded file to  /Users/jean.machado@getyourguide.com/.sota/papers/paper250413171.pdf\n",
      "reading pdf: /Users/jean.machado@getyourguide.com/.sota/papers/paper250413171.pdf\n",
      "image_file_object: ImageFile(name=X2.jp2, data: 633.7 kB)\n",
      "ImageFile(name=X2.jp2, data: 633.7 kB)\n",
      "wrote image to: 13.jp2\n"
     ]
    },
    {
     "name": "stderr",
     "output_type": "stream",
     "text": [
      " 54%|█████▍    | 62/115 [03:25<02:09,  2.44s/it]"
     ]
    },
    {
     "name": "stdout",
     "output_type": "stream",
     "text": [
      "2504.13171\n",
      "Extracting images from paper: 2504.13171\n",
      "Position: 1 is set and write_to_folder: data/train/0 is set\n",
      "Downloading paper from https://arxiv.org/pdf/2504.13171.pdf\n",
      "Force download is enabled so will download the file again\n",
      "Downloading file https://arxiv.org/pdf/2504.13171.pdf to /Users/jean.machado@getyourguide.com/.sota/papers/paper250413171.pdf\n",
      "Downloaded file to  /Users/jean.machado@getyourguide.com/.sota/papers/paper250413171.pdf\n",
      "reading pdf: /Users/jean.machado@getyourguide.com/.sota/papers/paper250413171.pdf\n",
      "image_file_object: ImageFile(name=X1.jp2, data: 97.3 kB)\n",
      "ImageFile(name=X1.jp2, data: 97.3 kB)\n",
      "wrote image to: 2.jp2\n"
     ]
    },
    {
     "name": "stderr",
     "output_type": "stream",
     "text": [
      " 55%|█████▍    | 63/115 [03:27<02:09,  2.49s/it]"
     ]
    },
    {
     "name": "stdout",
     "output_type": "stream",
     "text": [
      "2504.13173\n",
      "Extracting images from paper: 2504.13173\n",
      "Position: 2 is set and write_to_folder: data/train/2 is set\n",
      "Downloading paper from https://arxiv.org/pdf/2504.13173.pdf\n",
      "Force download is enabled so will download the file again\n",
      "Downloading file https://arxiv.org/pdf/2504.13173.pdf to /Users/jean.machado@getyourguide.com/.sota/papers/paper250413173.pdf\n",
      "Downloaded file to  /Users/jean.machado@getyourguide.com/.sota/papers/paper250413173.pdf\n",
      "reading pdf: /Users/jean.machado@getyourguide.com/.sota/papers/paper250413173.pdf\n"
     ]
    },
    {
     "name": "stderr",
     "output_type": "stream",
     "text": [
      " 56%|█████▌    | 64/115 [03:28<01:41,  1.99s/it]"
     ]
    },
    {
     "name": "stdout",
     "output_type": "stream",
     "text": [
      "image_file_object: ImageFile(name=Im3.png, data: 121.1 kB)\n",
      "ImageFile(name=Im3.png, data: 121.1 kB)\n",
      "wrote image to: 3.png\n",
      "2504.13173\n",
      "Extracting images from paper: 2504.13173\n",
      "Position: 1 is set and write_to_folder: data/train/2 is set\n",
      "Downloading paper from https://arxiv.org/pdf/2504.13173.pdf\n",
      "Force download is enabled so will download the file again\n",
      "Downloading file https://arxiv.org/pdf/2504.13173.pdf to /Users/jean.machado@getyourguide.com/.sota/papers/paper250413173.pdf\n",
      "Downloaded file to  /Users/jean.machado@getyourguide.com/.sota/papers/paper250413173.pdf\n",
      "reading pdf: /Users/jean.machado@getyourguide.com/.sota/papers/paper250413173.pdf\n",
      "image_file_object: ImageFile(name=Im2.png, data: 192.0 kB)\n",
      "ImageFile(name=Im2.png, data: 192.0 kB)\n",
      "wrote image to: 2.png\n"
     ]
    },
    {
     "name": "stderr",
     "output_type": "stream",
     "text": [
      " 57%|█████▋    | 65/115 [03:29<01:21,  1.63s/it]"
     ]
    },
    {
     "name": "stdout",
     "output_type": "stream",
     "text": [
      "2504.13175\n",
      "Extracting images from paper: 2504.13175\n",
      "Position: 104 is set and write_to_folder: data/train/0 is set\n",
      "Downloading paper from https://arxiv.org/pdf/2504.13175.pdf\n",
      "Force download is enabled so will download the file again\n",
      "Downloading file https://arxiv.org/pdf/2504.13175.pdf to /Users/jean.machado@getyourguide.com/.sota/papers/paper250413175.pdf\n",
      "Downloaded file to  /Users/jean.machado@getyourguide.com/.sota/papers/paper250413175.pdf\n",
      "reading pdf: /Users/jean.machado@getyourguide.com/.sota/papers/paper250413175.pdf\n",
      "image_file_object: ImageFile(name=X2.jpg, data: 27.3 kB)\n",
      "ImageFile(name=X2.jpg, data: 27.3 kB)\n",
      "wrote image to: 105.jpg\n"
     ]
    },
    {
     "name": "stderr",
     "output_type": "stream",
     "text": [
      " 57%|█████▋    | 66/115 [03:35<02:28,  3.03s/it]"
     ]
    },
    {
     "name": "stdout",
     "output_type": "stream",
     "text": [
      "2504.13175\n",
      "Extracting images from paper: 2504.13175\n",
      "Position: 10 is set and write_to_folder: data/train/0 is set\n",
      "Downloading paper from https://arxiv.org/pdf/2504.13175.pdf\n",
      "Force download is enabled so will download the file again\n",
      "Downloading file https://arxiv.org/pdf/2504.13175.pdf to /Users/jean.machado@getyourguide.com/.sota/papers/paper250413175.pdf\n",
      "Downloaded file to  /Users/jean.machado@getyourguide.com/.sota/papers/paper250413175.pdf\n",
      "reading pdf: /Users/jean.machado@getyourguide.com/.sota/papers/paper250413175.pdf\n",
      "image_file_object: ImageFile(name=Im19.jpg, data: 24.6 kB)\n",
      "ImageFile(name=Im19.jpg, data: 24.6 kB)\n",
      "wrote image to: 11.jpg\n"
     ]
    },
    {
     "name": "stderr",
     "output_type": "stream",
     "text": [
      " 58%|█████▊    | 67/115 [03:42<03:12,  4.01s/it]"
     ]
    },
    {
     "name": "stdout",
     "output_type": "stream",
     "text": [
      "2504.13176\n",
      "Extracting images from paper: 2504.13176\n",
      "Position: 102 is set and write_to_folder: data/train/0 is set\n",
      "Downloading paper from https://arxiv.org/pdf/2504.13176.pdf\n",
      "Force download is enabled so will download the file again\n",
      "Downloading file https://arxiv.org/pdf/2504.13176.pdf to /Users/jean.machado@getyourguide.com/.sota/papers/paper250413176.pdf\n",
      "Downloaded file to  /Users/jean.machado@getyourguide.com/.sota/papers/paper250413176.pdf\n",
      "reading pdf: /Users/jean.machado@getyourguide.com/.sota/papers/paper250413176.pdf\n"
     ]
    },
    {
     "name": "stderr",
     "output_type": "stream",
     "text": [
      "image and mask size not matching: {'/Type': '/XObject', '/Subtype': '/Image', '/BitsPerComponent': 8, '/ColorSpace': IndirectObject(355, 0, 4826007024), '/Filter': '/FlateDecode', '/Height': 1, '/Interpolate': True, '/SMask': IndirectObject(498, 0, 4826007024), '/Width': 50}\n"
     ]
    },
    {
     "name": "stdout",
     "output_type": "stream",
     "text": [
      "image_file_object: ImageFile(name=Im17.jpg, data: 2.0 kB)\n",
      "ImageFile(name=Im17.jpg, data: 2.0 kB)\n",
      "wrote image to: 103.jpg\n"
     ]
    },
    {
     "name": "stderr",
     "output_type": "stream",
     "text": [
      " 59%|█████▉    | 68/115 [03:43<02:32,  3.25s/it]"
     ]
    },
    {
     "name": "stdout",
     "output_type": "stream",
     "text": [
      "2504.13178\n",
      "Extracting images from paper: 2504.13178\n",
      "Position: 15 is set and write_to_folder: data/train/0 is set\n",
      "Downloading paper from https://arxiv.org/pdf/2504.13178.pdf\n",
      "Force download is enabled so will download the file again\n",
      "Downloading file https://arxiv.org/pdf/2504.13178.pdf to /Users/jean.machado@getyourguide.com/.sota/papers/paper250413178.pdf\n",
      "Downloaded file to  /Users/jean.machado@getyourguide.com/.sota/papers/paper250413178.pdf\n",
      "reading pdf: /Users/jean.machado@getyourguide.com/.sota/papers/paper250413178.pdf\n",
      "image_file_object: ImageFile(name=I13.png, data: 33.4 kB)\n",
      "ImageFile(name=I13.png, data: 33.4 kB)\n",
      "wrote image to: 16.png\n"
     ]
    },
    {
     "name": "stderr",
     "output_type": "stream",
     "text": [
      " 60%|██████    | 69/115 [03:44<01:59,  2.59s/it]"
     ]
    },
    {
     "name": "stdout",
     "output_type": "stream",
     "text": [
      "Error extracting images for paper 2504.13178: Not enough lookup values: Expected 6, got 3.\n",
      "2504.13180\n",
      "Extracting images from paper: 2504.13180\n",
      "Position: 14 is set and write_to_folder: data/train/0 is set\n",
      "Downloading paper from https://arxiv.org/pdf/2504.13180.pdf\n",
      "Force download is enabled so will download the file again\n",
      "Downloading file https://arxiv.org/pdf/2504.13180.pdf to /Users/jean.machado@getyourguide.com/.sota/papers/paper250413180.pdf\n",
      "Downloaded file to  /Users/jean.machado@getyourguide.com/.sota/papers/paper250413180.pdf\n",
      "reading pdf: /Users/jean.machado@getyourguide.com/.sota/papers/paper250413180.pdf\n",
      "image_file_object: ImageFile(name=R20.jpg, data: 23.2 kB)\n",
      "ImageFile(name=R20.jpg, data: 23.2 kB)\n",
      "wrote image to: 15.jpg\n"
     ]
    },
    {
     "name": "stderr",
     "output_type": "stream",
     "text": [
      " 61%|██████    | 70/115 [03:49<02:22,  3.17s/it]"
     ]
    },
    {
     "name": "stdout",
     "output_type": "stream",
     "text": [
      "2504.13180\n",
      "Extracting images from paper: 2504.13180\n",
      "Position: 13 is set and write_to_folder: data/train/0 is set\n",
      "Downloading paper from https://arxiv.org/pdf/2504.13180.pdf\n",
      "Force download is enabled so will download the file again\n",
      "Downloading file https://arxiv.org/pdf/2504.13180.pdf to /Users/jean.machado@getyourguide.com/.sota/papers/paper250413180.pdf\n",
      "Downloaded file to  /Users/jean.machado@getyourguide.com/.sota/papers/paper250413180.pdf\n",
      "reading pdf: /Users/jean.machado@getyourguide.com/.sota/papers/paper250413180.pdf\n",
      "image_file_object: ImageFile(name=R19.jpg, data: 20.5 kB)\n",
      "ImageFile(name=R19.jpg, data: 20.5 kB)\n",
      "wrote image to: 14.jpg\n"
     ]
    },
    {
     "name": "stderr",
     "output_type": "stream",
     "text": [
      " 62%|██████▏   | 71/115 [03:53<02:38,  3.59s/it]"
     ]
    },
    {
     "name": "stdout",
     "output_type": "stream",
     "text": [
      "2504.13180\n",
      "Extracting images from paper: 2504.13180\n",
      "Position: 12 is set and write_to_folder: data/train/0 is set\n",
      "Downloading paper from https://arxiv.org/pdf/2504.13180.pdf\n",
      "Force download is enabled so will download the file again\n",
      "Downloading file https://arxiv.org/pdf/2504.13180.pdf to /Users/jean.machado@getyourguide.com/.sota/papers/paper250413180.pdf\n",
      "Downloaded file to  /Users/jean.machado@getyourguide.com/.sota/papers/paper250413180.pdf\n",
      "reading pdf: /Users/jean.machado@getyourguide.com/.sota/papers/paper250413180.pdf\n",
      "image_file_object: ImageFile(name=R28.jpg, data: 59.0 kB)\n",
      "ImageFile(name=R28.jpg, data: 59.0 kB)\n",
      "wrote image to: 13.jpg\n"
     ]
    },
    {
     "name": "stderr",
     "output_type": "stream",
     "text": [
      " 63%|██████▎   | 72/115 [03:58<02:46,  3.88s/it]"
     ]
    },
    {
     "name": "stdout",
     "output_type": "stream",
     "text": [
      "2504.13180\n",
      "Extracting images from paper: 2504.13180\n",
      "Position: 11 is set and write_to_folder: data/train/0 is set\n",
      "Downloading paper from https://arxiv.org/pdf/2504.13180.pdf\n",
      "Force download is enabled so will download the file again\n",
      "Downloading file https://arxiv.org/pdf/2504.13180.pdf to /Users/jean.machado@getyourguide.com/.sota/papers/paper250413180.pdf\n",
      "Downloaded file to  /Users/jean.machado@getyourguide.com/.sota/papers/paper250413180.pdf\n",
      "reading pdf: /Users/jean.machado@getyourguide.com/.sota/papers/paper250413180.pdf\n",
      "image_file_object: ImageFile(name=R27.jp2, data: 628.0 kB)\n",
      "ImageFile(name=R27.jp2, data: 628.0 kB)\n",
      "wrote image to: 12.jp2\n"
     ]
    },
    {
     "name": "stderr",
     "output_type": "stream",
     "text": [
      " 63%|██████▎   | 73/115 [04:02<02:50,  4.07s/it]"
     ]
    },
    {
     "name": "stdout",
     "output_type": "stream",
     "text": [
      "2504.13180\n",
      "Extracting images from paper: 2504.13180\n",
      "Position: 10 is set and write_to_folder: data/train/0 is set\n",
      "Downloading paper from https://arxiv.org/pdf/2504.13180.pdf\n",
      "Force download is enabled so will download the file again\n",
      "Downloading file https://arxiv.org/pdf/2504.13180.pdf to /Users/jean.machado@getyourguide.com/.sota/papers/paper250413180.pdf\n",
      "Downloaded file to  /Users/jean.machado@getyourguide.com/.sota/papers/paper250413180.pdf\n",
      "reading pdf: /Users/jean.machado@getyourguide.com/.sota/papers/paper250413180.pdf\n",
      "image_file_object: ImageFile(name=R26.png, data: 1.8 kB)\n",
      "ImageFile(name=R26.png, data: 1.8 kB)\n",
      "wrote image to: 11.png\n"
     ]
    },
    {
     "name": "stderr",
     "output_type": "stream",
     "text": [
      " 64%|██████▍   | 74/115 [04:07<02:53,  4.23s/it]"
     ]
    },
    {
     "name": "stdout",
     "output_type": "stream",
     "text": [
      "2504.13181\n",
      "Extracting images from paper: 2504.13181\n",
      "Position: 101 is set and write_to_folder: data/train/0 is set\n",
      "Downloading paper from https://arxiv.org/pdf/2504.13181.pdf\n",
      "Force download is enabled so will download the file again\n",
      "Downloading file https://arxiv.org/pdf/2504.13181.pdf to /Users/jean.machado@getyourguide.com/.sota/papers/paper250413181.pdf\n",
      "Downloaded file to  /Users/jean.machado@getyourguide.com/.sota/papers/paper250413181.pdf\n",
      "reading pdf: /Users/jean.machado@getyourguide.com/.sota/papers/paper250413181.pdf\n",
      "image_file_object: ImageFile(name=Image10.jpg, data: 22.8 kB)\n",
      "ImageFile(name=Image10.jpg, data: 22.8 kB)\n",
      "wrote image to: 102.jpg\n"
     ]
    },
    {
     "name": "stderr",
     "output_type": "stream",
     "text": [
      " 65%|██████▌   | 75/115 [04:18<04:11,  6.28s/it]"
     ]
    },
    {
     "name": "stdout",
     "output_type": "stream",
     "text": [
      "2504.13181\n",
      "Extracting images from paper: 2504.13181\n",
      "Position: 100 is set and write_to_folder: data/train/0 is set\n",
      "Downloading paper from https://arxiv.org/pdf/2504.13181.pdf\n",
      "Force download is enabled so will download the file again\n",
      "Downloading file https://arxiv.org/pdf/2504.13181.pdf to /Users/jean.machado@getyourguide.com/.sota/papers/paper250413181.pdf\n",
      "Downloaded file to  /Users/jean.machado@getyourguide.com/.sota/papers/paper250413181.pdf\n",
      "reading pdf: /Users/jean.machado@getyourguide.com/.sota/papers/paper250413181.pdf\n",
      "image_file_object: ImageFile(name=Image7.jp2, data: 857.9 kB)\n",
      "ImageFile(name=Image7.jp2, data: 857.9 kB)\n",
      "wrote image to: 101.jp2\n"
     ]
    },
    {
     "name": "stderr",
     "output_type": "stream",
     "text": [
      " 66%|██████▌   | 76/115 [04:29<04:59,  7.68s/it]"
     ]
    },
    {
     "name": "stdout",
     "output_type": "stream",
     "text": [
      "2504.13181\n",
      "Extracting images from paper: 2504.13181\n",
      "Position: 101 is set and write_to_folder: data/train/1 is set\n",
      "Downloading paper from https://arxiv.org/pdf/2504.13181.pdf\n",
      "Force download is enabled so will download the file again\n",
      "Downloading file https://arxiv.org/pdf/2504.13181.pdf to /Users/jean.machado@getyourguide.com/.sota/papers/paper250413181.pdf\n",
      "Downloaded file to  /Users/jean.machado@getyourguide.com/.sota/papers/paper250413181.pdf\n",
      "reading pdf: /Users/jean.machado@getyourguide.com/.sota/papers/paper250413181.pdf\n",
      "image_file_object: ImageFile(name=Image10.jpg, data: 22.8 kB)\n",
      "ImageFile(name=Image10.jpg, data: 22.8 kB)\n",
      "wrote image to: 102.jpg\n"
     ]
    },
    {
     "name": "stderr",
     "output_type": "stream",
     "text": [
      " 67%|██████▋   | 77/115 [04:40<05:33,  8.77s/it]"
     ]
    },
    {
     "name": "stdout",
     "output_type": "stream",
     "text": [
      "2504.13181\n",
      "Extracting images from paper: 2504.13181\n",
      "Position: 10 is set and write_to_folder: data/train/1 is set\n",
      "Downloading paper from https://arxiv.org/pdf/2504.13181.pdf\n",
      "Force download is enabled so will download the file again\n",
      "Downloading file https://arxiv.org/pdf/2504.13181.pdf to /Users/jean.machado@getyourguide.com/.sota/papers/paper250413181.pdf\n",
      "Downloaded file to  /Users/jean.machado@getyourguide.com/.sota/papers/paper250413181.pdf\n",
      "reading pdf: /Users/jean.machado@getyourguide.com/.sota/papers/paper250413181.pdf\n",
      "image_file_object: ImageFile(name=Image2.jpg, data: 19.0 kB)\n",
      "ImageFile(name=Image2.jpg, data: 19.0 kB)\n",
      "wrote image to: 11.jpg\n"
     ]
    },
    {
     "name": "stderr",
     "output_type": "stream",
     "text": [
      " 68%|██████▊   | 78/115 [04:51<05:49,  9.45s/it]"
     ]
    },
    {
     "name": "stdout",
     "output_type": "stream",
     "text": [
      "2504.13181\n",
      "Extracting images from paper: 2504.13181\n",
      "Position: 1 is set and write_to_folder: data/train/0 is set\n",
      "Downloading paper from https://arxiv.org/pdf/2504.13181.pdf\n",
      "Force download is enabled so will download the file again\n",
      "Downloading file https://arxiv.org/pdf/2504.13181.pdf to /Users/jean.machado@getyourguide.com/.sota/papers/paper250413181.pdf\n",
      "Downloaded file to  /Users/jean.machado@getyourguide.com/.sota/papers/paper250413181.pdf\n",
      "reading pdf: /Users/jean.machado@getyourguide.com/.sota/papers/paper250413181.pdf\n",
      "image_file_object: ImageFile(name=Image2.jp2, data: 11.7 kB)\n",
      "ImageFile(name=Image2.jp2, data: 11.7 kB)\n",
      "wrote image to: 2.jp2\n"
     ]
    },
    {
     "name": "stderr",
     "output_type": "stream",
     "text": [
      " 69%|██████▊   | 79/115 [05:02<05:55,  9.88s/it]"
     ]
    },
    {
     "name": "stdout",
     "output_type": "stream",
     "text": [
      "2504.02822\n",
      "Extracting images from paper: 2504.02822\n",
      "Position: 10 is set and write_to_folder: data/train/2 is set\n",
      "Downloading paper from https://arxiv.org/pdf/2504.02822.pdf\n",
      "Force download is enabled so will download the file again\n",
      "Downloading file https://arxiv.org/pdf/2504.02822.pdf to /Users/jean.machado@getyourguide.com/.sota/papers/paper250402822.pdf\n",
      "Downloaded file to  /Users/jean.machado@getyourguide.com/.sota/papers/paper250402822.pdf\n",
      "reading pdf: /Users/jean.machado@getyourguide.com/.sota/papers/paper250402822.pdf\n",
      "image_file_object: ImageFile(name=Im11.png, data: 40.2 kB)\n",
      "ImageFile(name=Im11.png, data: 40.2 kB)\n",
      "wrote image to: 11.png\n"
     ]
    },
    {
     "name": "stderr",
     "output_type": "stream",
     "text": [
      " 70%|██████▉   | 80/115 [05:07<04:52,  8.35s/it]"
     ]
    },
    {
     "name": "stdout",
     "output_type": "stream",
     "text": [
      "2504.02823\n",
      "Extracting images from paper: 2504.02823\n",
      "Position: 12 is set and write_to_folder: data/train/2 is set\n",
      "Downloading paper from https://arxiv.org/pdf/2504.02823.pdf\n",
      "Force download is enabled so will download the file again\n",
      "Downloading file https://arxiv.org/pdf/2504.02823.pdf to /Users/jean.machado@getyourguide.com/.sota/papers/paper250402823.pdf\n",
      "Downloaded file to  /Users/jean.machado@getyourguide.com/.sota/papers/paper250402823.pdf\n",
      "reading pdf: /Users/jean.machado@getyourguide.com/.sota/papers/paper250402823.pdf\n",
      "image_file_object: ImageFile(name=Im12.jpg, data: 78.0 kB)\n",
      "ImageFile(name=Im12.jpg, data: 78.0 kB)\n",
      "wrote image to: 13.jpg\n"
     ]
    },
    {
     "name": "stderr",
     "output_type": "stream",
     "text": [
      " 70%|███████   | 81/115 [05:11<03:57,  6.98s/it]"
     ]
    },
    {
     "name": "stdout",
     "output_type": "stream",
     "text": [
      "2504.02823\n",
      "Extracting images from paper: 2504.02823\n",
      "Position: 10 is set and write_to_folder: data/train/0 is set\n",
      "Downloading paper from https://arxiv.org/pdf/2504.02823.pdf\n",
      "Force download is enabled so will download the file again\n",
      "Downloading file https://arxiv.org/pdf/2504.02823.pdf to /Users/jean.machado@getyourguide.com/.sota/papers/paper250402823.pdf\n",
      "Downloaded file to  /Users/jean.machado@getyourguide.com/.sota/papers/paper250402823.pdf\n",
      "reading pdf: /Users/jean.machado@getyourguide.com/.sota/papers/paper250402823.pdf\n",
      "image_file_object: ImageFile(name=Im1.jpg, data: 52.1 kB)\n",
      "ImageFile(name=Im1.jpg, data: 52.1 kB)\n",
      "wrote image to: 11.jpg\n"
     ]
    },
    {
     "name": "stderr",
     "output_type": "stream",
     "text": [
      " 71%|███████▏  | 82/115 [05:15<03:20,  6.09s/it]"
     ]
    },
    {
     "name": "stdout",
     "output_type": "stream",
     "text": [
      "2504.02823\n",
      "Extracting images from paper: 2504.02823\n",
      "Position: 1 is set and write_to_folder: data/train/0 is set\n",
      "Downloading paper from https://arxiv.org/pdf/2504.02823.pdf\n",
      "Force download is enabled so will download the file again\n",
      "Downloading file https://arxiv.org/pdf/2504.02823.pdf to /Users/jean.machado@getyourguide.com/.sota/papers/paper250402823.pdf\n",
      "Downloaded file to  /Users/jean.machado@getyourguide.com/.sota/papers/paper250402823.pdf\n",
      "reading pdf: /Users/jean.machado@getyourguide.com/.sota/papers/paper250402823.pdf\n",
      "image_file_object: ImageFile(name=Im2.jpg, data: 246.3 kB)\n",
      "ImageFile(name=Im2.jpg, data: 246.3 kB)\n",
      "wrote image to: 2.jpg\n"
     ]
    },
    {
     "name": "stderr",
     "output_type": "stream",
     "text": [
      " 72%|███████▏  | 83/115 [05:18<02:52,  5.40s/it]"
     ]
    },
    {
     "name": "stdout",
     "output_type": "stream",
     "text": [
      "2504.02826\n",
      "Extracting images from paper: 2504.02826\n",
      "Position: 104 is set and write_to_folder: data/train/0 is set\n",
      "Downloading paper from https://arxiv.org/pdf/2504.02826.pdf\n",
      "Force download is enabled so will download the file again\n",
      "Downloading file https://arxiv.org/pdf/2504.02826.pdf to /Users/jean.machado@getyourguide.com/.sota/papers/paper250402826.pdf\n",
      "Downloaded file to  /Users/jean.machado@getyourguide.com/.sota/papers/paper250402826.pdf\n",
      "reading pdf: /Users/jean.machado@getyourguide.com/.sota/papers/paper250402826.pdf\n"
     ]
    },
    {
     "name": "stderr",
     "output_type": "stream",
     "text": [
      "image and mask size not matching: {'/Type': '/XObject', '/Subtype': '/Image', '/BitsPerComponent': 8, '/ColorSpace': IndirectObject(490, 0, 4826117856), '/Filter': '/FlateDecode', '/Height': 1, '/Interpolate': True, '/SMask': IndirectObject(561, 0, 4826117856), '/Width': 225}\n",
      "image and mask size not matching: {'/Type': '/XObject', '/Subtype': '/Image', '/BitsPerComponent': 8, '/ColorSpace': IndirectObject(490, 0, 4826117856), '/Filter': '/FlateDecode', '/Height': 1, '/Interpolate': True, '/SMask': IndirectObject(561, 0, 4826117856), '/Width': 225}\n",
      "image and mask size not matching: {'/Type': '/XObject', '/Subtype': '/Image', '/BitsPerComponent': 8, '/ColorSpace': IndirectObject(490, 0, 4826117856), '/Filter': '/FlateDecode', '/Height': 1, '/Interpolate': True, '/SMask': IndirectObject(561, 0, 4826117856), '/Width': 225}\n"
     ]
    },
    {
     "name": "stdout",
     "output_type": "stream",
     "text": [
      "image_file_object: ImageFile(name=Im11.png, data: 70 Byte)\n",
      "ImageFile(name=Im11.png, data: 70 Byte)\n",
      "wrote image to: 105.png\n"
     ]
    },
    {
     "name": "stderr",
     "output_type": "stream",
     "text": [
      " 73%|███████▎  | 84/115 [05:21<02:20,  4.52s/it]"
     ]
    },
    {
     "name": "stdout",
     "output_type": "stream",
     "text": [
      "2504.02826\n",
      "Extracting images from paper: 2504.02826\n",
      "Position: 103 is set and write_to_folder: data/train/0 is set\n",
      "Downloading paper from https://arxiv.org/pdf/2504.02826.pdf\n",
      "Force download is enabled so will download the file again\n",
      "Downloading file https://arxiv.org/pdf/2504.02826.pdf to /Users/jean.machado@getyourguide.com/.sota/papers/paper250402826.pdf\n",
      "Downloaded file to  /Users/jean.machado@getyourguide.com/.sota/papers/paper250402826.pdf\n",
      "reading pdf: /Users/jean.machado@getyourguide.com/.sota/papers/paper250402826.pdf\n"
     ]
    },
    {
     "name": "stderr",
     "output_type": "stream",
     "text": [
      "image and mask size not matching: {'/Type': '/XObject', '/Subtype': '/Image', '/BitsPerComponent': 8, '/ColorSpace': IndirectObject(490, 0, 4825122816), '/Filter': '/FlateDecode', '/Height': 1, '/Interpolate': True, '/SMask': IndirectObject(561, 0, 4825122816), '/Width': 225}\n",
      "image and mask size not matching: {'/Type': '/XObject', '/Subtype': '/Image', '/BitsPerComponent': 8, '/ColorSpace': IndirectObject(490, 0, 4825122816), '/Filter': '/FlateDecode', '/Height': 1, '/Interpolate': True, '/SMask': IndirectObject(561, 0, 4825122816), '/Width': 225}\n",
      "image and mask size not matching: {'/Type': '/XObject', '/Subtype': '/Image', '/BitsPerComponent': 8, '/ColorSpace': IndirectObject(490, 0, 4825122816), '/Filter': '/FlateDecode', '/Height': 1, '/Interpolate': True, '/SMask': IndirectObject(561, 0, 4825122816), '/Width': 225}\n"
     ]
    },
    {
     "name": "stdout",
     "output_type": "stream",
     "text": [
      "image_file_object: ImageFile(name=Im9.png, data: 2.1 kB)\n",
      "ImageFile(name=Im9.png, data: 2.1 kB)\n",
      "wrote image to: 104.png\n"
     ]
    },
    {
     "name": "stderr",
     "output_type": "stream",
     "text": [
      " 74%|███████▍  | 85/115 [05:23<01:57,  3.91s/it]"
     ]
    },
    {
     "name": "stdout",
     "output_type": "stream",
     "text": [
      "2504.02826\n",
      "Extracting images from paper: 2504.02826\n",
      "Position: 102 is set and write_to_folder: data/train/0 is set\n",
      "Downloading paper from https://arxiv.org/pdf/2504.02826.pdf\n",
      "Force download is enabled so will download the file again\n",
      "Downloading file https://arxiv.org/pdf/2504.02826.pdf to /Users/jean.machado@getyourguide.com/.sota/papers/paper250402826.pdf\n",
      "Downloaded file to  /Users/jean.machado@getyourguide.com/.sota/papers/paper250402826.pdf\n",
      "reading pdf: /Users/jean.machado@getyourguide.com/.sota/papers/paper250402826.pdf\n"
     ]
    },
    {
     "name": "stderr",
     "output_type": "stream",
     "text": [
      "image and mask size not matching: {'/Type': '/XObject', '/Subtype': '/Image', '/BitsPerComponent': 8, '/ColorSpace': IndirectObject(490, 0, 4824905968), '/Filter': '/FlateDecode', '/Height': 1, '/Interpolate': True, '/SMask': IndirectObject(561, 0, 4824905968), '/Width': 225}\n",
      "image and mask size not matching: {'/Type': '/XObject', '/Subtype': '/Image', '/BitsPerComponent': 8, '/ColorSpace': IndirectObject(490, 0, 4824905968), '/Filter': '/FlateDecode', '/Height': 1, '/Interpolate': True, '/SMask': IndirectObject(561, 0, 4824905968), '/Width': 225}\n",
      "image and mask size not matching: {'/Type': '/XObject', '/Subtype': '/Image', '/BitsPerComponent': 8, '/ColorSpace': IndirectObject(490, 0, 4824905968), '/Filter': '/FlateDecode', '/Height': 1, '/Interpolate': True, '/SMask': IndirectObject(561, 0, 4824905968), '/Width': 225}\n"
     ]
    },
    {
     "name": "stdout",
     "output_type": "stream",
     "text": [
      "image_file_object: ImageFile(name=Im8.png, data: 6.7 kB)\n",
      "ImageFile(name=Im8.png, data: 6.7 kB)\n",
      "wrote image to: 103.png\n"
     ]
    },
    {
     "name": "stderr",
     "output_type": "stream",
     "text": [
      " 75%|███████▍  | 86/115 [05:26<01:40,  3.46s/it]"
     ]
    },
    {
     "name": "stdout",
     "output_type": "stream",
     "text": [
      "2504.02826\n",
      "Extracting images from paper: 2504.02826\n",
      "Position: 101 is set and write_to_folder: data/train/0 is set\n",
      "Downloading paper from https://arxiv.org/pdf/2504.02826.pdf\n",
      "Force download is enabled so will download the file again\n",
      "Downloading file https://arxiv.org/pdf/2504.02826.pdf to /Users/jean.machado@getyourguide.com/.sota/papers/paper250402826.pdf\n",
      "Downloaded file to  /Users/jean.machado@getyourguide.com/.sota/papers/paper250402826.pdf\n",
      "reading pdf: /Users/jean.machado@getyourguide.com/.sota/papers/paper250402826.pdf\n"
     ]
    },
    {
     "name": "stderr",
     "output_type": "stream",
     "text": [
      "image and mask size not matching: {'/Type': '/XObject', '/Subtype': '/Image', '/BitsPerComponent': 8, '/ColorSpace': IndirectObject(490, 0, 4562770048), '/Filter': '/FlateDecode', '/Height': 1, '/Interpolate': True, '/SMask': IndirectObject(561, 0, 4562770048), '/Width': 225}\n",
      "image and mask size not matching: {'/Type': '/XObject', '/Subtype': '/Image', '/BitsPerComponent': 8, '/ColorSpace': IndirectObject(490, 0, 4562770048), '/Filter': '/FlateDecode', '/Height': 1, '/Interpolate': True, '/SMask': IndirectObject(561, 0, 4562770048), '/Width': 225}\n",
      "image and mask size not matching: {'/Type': '/XObject', '/Subtype': '/Image', '/BitsPerComponent': 8, '/ColorSpace': IndirectObject(490, 0, 4562770048), '/Filter': '/FlateDecode', '/Height': 1, '/Interpolate': True, '/SMask': IndirectObject(561, 0, 4562770048), '/Width': 225}\n"
     ]
    },
    {
     "name": "stdout",
     "output_type": "stream",
     "text": [
      "image_file_object: ImageFile(name=Im7.jp2, data: 74.8 kB)\n",
      "ImageFile(name=Im7.jp2, data: 74.8 kB)\n",
      "wrote image to: 102.jp2\n"
     ]
    },
    {
     "name": "stderr",
     "output_type": "stream",
     "text": [
      " 76%|███████▌  | 87/115 [05:28<01:28,  3.16s/it]"
     ]
    },
    {
     "name": "stdout",
     "output_type": "stream",
     "text": [
      "2504.02826\n",
      "Extracting images from paper: 2504.02826\n",
      "Position: 100 is set and write_to_folder: data/train/0 is set\n",
      "Downloading paper from https://arxiv.org/pdf/2504.02826.pdf\n",
      "Force download is enabled so will download the file again\n",
      "Downloading file https://arxiv.org/pdf/2504.02826.pdf to /Users/jean.machado@getyourguide.com/.sota/papers/paper250402826.pdf\n",
      "Downloaded file to  /Users/jean.machado@getyourguide.com/.sota/papers/paper250402826.pdf\n",
      "reading pdf: /Users/jean.machado@getyourguide.com/.sota/papers/paper250402826.pdf\n"
     ]
    },
    {
     "name": "stderr",
     "output_type": "stream",
     "text": [
      "image and mask size not matching: {'/Type': '/XObject', '/Subtype': '/Image', '/BitsPerComponent': 8, '/ColorSpace': IndirectObject(490, 0, 4783816624), '/Filter': '/FlateDecode', '/Height': 1, '/Interpolate': True, '/SMask': IndirectObject(561, 0, 4783816624), '/Width': 225}\n",
      "image and mask size not matching: {'/Type': '/XObject', '/Subtype': '/Image', '/BitsPerComponent': 8, '/ColorSpace': IndirectObject(490, 0, 4783816624), '/Filter': '/FlateDecode', '/Height': 1, '/Interpolate': True, '/SMask': IndirectObject(561, 0, 4783816624), '/Width': 225}\n",
      "image and mask size not matching: {'/Type': '/XObject', '/Subtype': '/Image', '/BitsPerComponent': 8, '/ColorSpace': IndirectObject(490, 0, 4783816624), '/Filter': '/FlateDecode', '/Height': 1, '/Interpolate': True, '/SMask': IndirectObject(561, 0, 4783816624), '/Width': 225}\n"
     ]
    },
    {
     "name": "stdout",
     "output_type": "stream",
     "text": [
      "image_file_object: ImageFile(name=Im6.png, data: 991 Byte)\n",
      "ImageFile(name=Im6.png, data: 991 Byte)\n",
      "wrote image to: 101.png\n"
     ]
    },
    {
     "name": "stderr",
     "output_type": "stream",
     "text": [
      " 77%|███████▋  | 88/115 [05:31<01:19,  2.96s/it]"
     ]
    },
    {
     "name": "stdout",
     "output_type": "stream",
     "text": [
      "2504.02826\n",
      "Extracting images from paper: 2504.02826\n",
      "Position: 10 is set and write_to_folder: data/train/0 is set\n",
      "Downloading paper from https://arxiv.org/pdf/2504.02826.pdf\n",
      "Force download is enabled so will download the file again\n",
      "Downloading file https://arxiv.org/pdf/2504.02826.pdf to /Users/jean.machado@getyourguide.com/.sota/papers/paper250402826.pdf\n",
      "Downloaded file to  /Users/jean.machado@getyourguide.com/.sota/papers/paper250402826.pdf\n",
      "reading pdf: /Users/jean.machado@getyourguide.com/.sota/papers/paper250402826.pdf\n",
      "image_file_object: ImageFile(name=Im19.png, data: 9.0 kB)\n",
      "ImageFile(name=Im19.png, data: 9.0 kB)\n",
      "wrote image to: 11.png\n"
     ]
    },
    {
     "name": "stderr",
     "output_type": "stream",
     "text": [
      "image and mask size not matching: {'/Type': '/XObject', '/Subtype': '/Image', '/BitsPerComponent': 8, '/ColorSpace': IndirectObject(490, 0, 4714877760), '/Filter': '/FlateDecode', '/Height': 1, '/Interpolate': True, '/SMask': IndirectObject(561, 0, 4714877760), '/Width': 225}\n",
      "image and mask size not matching: {'/Type': '/XObject', '/Subtype': '/Image', '/BitsPerComponent': 8, '/ColorSpace': IndirectObject(490, 0, 4714877760), '/Filter': '/FlateDecode', '/Height': 1, '/Interpolate': True, '/SMask': IndirectObject(561, 0, 4714877760), '/Width': 225}\n",
      "image and mask size not matching: {'/Type': '/XObject', '/Subtype': '/Image', '/BitsPerComponent': 8, '/ColorSpace': IndirectObject(490, 0, 4714877760), '/Filter': '/FlateDecode', '/Height': 1, '/Interpolate': True, '/SMask': IndirectObject(561, 0, 4714877760), '/Width': 225}\n",
      " 77%|███████▋  | 89/115 [05:33<01:12,  2.80s/it]"
     ]
    },
    {
     "name": "stdout",
     "output_type": "stream",
     "text": [
      "2504.02826\n",
      "Extracting images from paper: 2504.02826\n",
      "Position: 1 is set and write_to_folder: data/train/0 is set\n",
      "Downloading paper from https://arxiv.org/pdf/2504.02826.pdf\n",
      "Force download is enabled so will download the file again\n",
      "Downloading file https://arxiv.org/pdf/2504.02826.pdf to /Users/jean.machado@getyourguide.com/.sota/papers/paper250402826.pdf\n",
      "Downloaded file to  /Users/jean.machado@getyourguide.com/.sota/papers/paper250402826.pdf\n",
      "reading pdf: /Users/jean.machado@getyourguide.com/.sota/papers/paper250402826.pdf\n",
      "image_file_object: ImageFile(name=Im10.jpg, data: 39.4 kB)\n",
      "ImageFile(name=Im10.jpg, data: 39.4 kB)\n",
      "wrote image to: 2.jpg\n"
     ]
    },
    {
     "name": "stderr",
     "output_type": "stream",
     "text": [
      "image and mask size not matching: {'/Type': '/XObject', '/Subtype': '/Image', '/BitsPerComponent': 8, '/ColorSpace': IndirectObject(490, 0, 4794462288), '/Filter': '/FlateDecode', '/Height': 1, '/Interpolate': True, '/SMask': IndirectObject(561, 0, 4794462288), '/Width': 225}\n",
      "image and mask size not matching: {'/Type': '/XObject', '/Subtype': '/Image', '/BitsPerComponent': 8, '/ColorSpace': IndirectObject(490, 0, 4794462288), '/Filter': '/FlateDecode', '/Height': 1, '/Interpolate': True, '/SMask': IndirectObject(561, 0, 4794462288), '/Width': 225}\n",
      "image and mask size not matching: {'/Type': '/XObject', '/Subtype': '/Image', '/BitsPerComponent': 8, '/ColorSpace': IndirectObject(490, 0, 4794462288), '/Filter': '/FlateDecode', '/Height': 1, '/Interpolate': True, '/SMask': IndirectObject(561, 0, 4794462288), '/Width': 225}\n",
      " 78%|███████▊  | 90/115 [05:36<01:07,  2.70s/it]"
     ]
    },
    {
     "name": "stdout",
     "output_type": "stream",
     "text": [
      "2504.02827\n",
      "Extracting images from paper: 2504.02827\n",
      "Position: 1 is set and write_to_folder: data/train/2 is set\n",
      "Downloading paper from https://arxiv.org/pdf/2504.02827.pdf\n",
      "Force download is enabled so will download the file again\n",
      "Downloading file https://arxiv.org/pdf/2504.02827.pdf to /Users/jean.machado@getyourguide.com/.sota/papers/paper250402827.pdf\n",
      "Downloaded file to  /Users/jean.machado@getyourguide.com/.sota/papers/paper250402827.pdf\n",
      "reading pdf: /Users/jean.machado@getyourguide.com/.sota/papers/paper250402827.pdf\n",
      "image_file_object: ImageFile(name=Im2.png, data: 181.7 kB)\n",
      "ImageFile(name=Im2.png, data: 181.7 kB)\n",
      "wrote image to: 2.png\n"
     ]
    },
    {
     "name": "stderr",
     "output_type": "stream",
     "text": [
      " 79%|███████▉  | 91/115 [05:36<00:48,  2.02s/it]"
     ]
    },
    {
     "name": "stdout",
     "output_type": "stream",
     "text": [
      "2504.02828\n",
      "Extracting images from paper: 2504.02828\n",
      "Position: 104 is set and write_to_folder: data/train/0 is set\n",
      "Downloading paper from https://arxiv.org/pdf/2504.02828.pdf\n",
      "Force download is enabled so will download the file again\n",
      "Downloading file https://arxiv.org/pdf/2504.02828.pdf to /Users/jean.machado@getyourguide.com/.sota/papers/paper250402828.pdf\n",
      "Downloaded file to  /Users/jean.machado@getyourguide.com/.sota/papers/paper250402828.pdf\n",
      "reading pdf: /Users/jean.machado@getyourguide.com/.sota/papers/paper250402828.pdf\n",
      "image_file_object: ImageFile(name=Image48.jpg, data: 16.7 kB)\n",
      "ImageFile(name=Image48.jpg, data: 16.7 kB)\n",
      "wrote image to: 105.jpg\n"
     ]
    },
    {
     "name": "stderr",
     "output_type": "stream",
     "text": [
      " 80%|████████  | 92/115 [05:37<00:40,  1.77s/it]"
     ]
    },
    {
     "name": "stdout",
     "output_type": "stream",
     "text": [
      "2504.02828\n",
      "Extracting images from paper: 2504.02828\n",
      "Position: 103 is set and write_to_folder: data/train/0 is set\n",
      "Downloading paper from https://arxiv.org/pdf/2504.02828.pdf\n",
      "Force download is enabled so will download the file again\n",
      "Downloading file https://arxiv.org/pdf/2504.02828.pdf to /Users/jean.machado@getyourguide.com/.sota/papers/paper250402828.pdf\n",
      "Downloaded file to  /Users/jean.machado@getyourguide.com/.sota/papers/paper250402828.pdf\n",
      "reading pdf: /Users/jean.machado@getyourguide.com/.sota/papers/paper250402828.pdf\n",
      "image_file_object: ImageFile(name=Image47.jpg, data: 18.2 kB)\n",
      "ImageFile(name=Image47.jpg, data: 18.2 kB)\n",
      "wrote image to: 104.jpg\n"
     ]
    },
    {
     "name": "stderr",
     "output_type": "stream",
     "text": [
      " 81%|████████  | 93/115 [05:38<00:35,  1.60s/it]"
     ]
    },
    {
     "name": "stdout",
     "output_type": "stream",
     "text": [
      "2504.02828\n",
      "Extracting images from paper: 2504.02828\n",
      "Position: 101 is set and write_to_folder: data/train/0 is set\n",
      "Downloading paper from https://arxiv.org/pdf/2504.02828.pdf\n",
      "Force download is enabled so will download the file again\n",
      "Downloading file https://arxiv.org/pdf/2504.02828.pdf to /Users/jean.machado@getyourguide.com/.sota/papers/paper250402828.pdf\n",
      "Downloaded file to  /Users/jean.machado@getyourguide.com/.sota/papers/paper250402828.pdf\n",
      "reading pdf: /Users/jean.machado@getyourguide.com/.sota/papers/paper250402828.pdf\n",
      "image_file_object: ImageFile(name=Image45.jpg, data: 11.0 kB)\n",
      "ImageFile(name=Image45.jpg, data: 11.0 kB)\n",
      "wrote image to: 102.jpg\n"
     ]
    },
    {
     "name": "stderr",
     "output_type": "stream",
     "text": [
      " 82%|████████▏ | 94/115 [05:40<00:31,  1.51s/it]"
     ]
    },
    {
     "name": "stdout",
     "output_type": "stream",
     "text": [
      "2504.02828\n",
      "Extracting images from paper: 2504.02828\n",
      "Position: 102 is set and write_to_folder: data/train/0 is set\n",
      "Downloading paper from https://arxiv.org/pdf/2504.02828.pdf\n",
      "Force download is enabled so will download the file again\n",
      "Downloading file https://arxiv.org/pdf/2504.02828.pdf to /Users/jean.machado@getyourguide.com/.sota/papers/paper250402828.pdf\n",
      "Downloaded file to  /Users/jean.machado@getyourguide.com/.sota/papers/paper250402828.pdf\n",
      "reading pdf: /Users/jean.machado@getyourguide.com/.sota/papers/paper250402828.pdf\n",
      "image_file_object: ImageFile(name=Image46.jpg, data: 15.2 kB)\n",
      "ImageFile(name=Image46.jpg, data: 15.2 kB)\n",
      "wrote image to: 103.jpg\n"
     ]
    },
    {
     "name": "stderr",
     "output_type": "stream",
     "text": [
      " 83%|████████▎ | 95/115 [05:41<00:28,  1.44s/it]"
     ]
    },
    {
     "name": "stdout",
     "output_type": "stream",
     "text": [
      "2504.02828\n",
      "Extracting images from paper: 2504.02828\n",
      "Position: 100 is set and write_to_folder: data/train/0 is set\n",
      "Downloading paper from https://arxiv.org/pdf/2504.02828.pdf\n",
      "Force download is enabled so will download the file again\n",
      "Downloading file https://arxiv.org/pdf/2504.02828.pdf to /Users/jean.machado@getyourguide.com/.sota/papers/paper250402828.pdf\n",
      "Downloaded file to  /Users/jean.machado@getyourguide.com/.sota/papers/paper250402828.pdf\n",
      "reading pdf: /Users/jean.machado@getyourguide.com/.sota/papers/paper250402828.pdf\n",
      "image_file_object: ImageFile(name=Image44.jpg, data: 16.1 kB)\n",
      "ImageFile(name=Image44.jpg, data: 16.1 kB)\n",
      "wrote image to: 101.jpg\n"
     ]
    },
    {
     "name": "stderr",
     "output_type": "stream",
     "text": [
      " 83%|████████▎ | 96/115 [05:42<00:26,  1.41s/it]"
     ]
    },
    {
     "name": "stdout",
     "output_type": "stream",
     "text": [
      "2504.02828\n",
      "Extracting images from paper: 2504.02828\n",
      "Position: 10 is set and write_to_folder: data/train/0 is set\n",
      "Downloading paper from https://arxiv.org/pdf/2504.02828.pdf\n",
      "Force download is enabled so will download the file again\n",
      "Downloading file https://arxiv.org/pdf/2504.02828.pdf to /Users/jean.machado@getyourguide.com/.sota/papers/paper250402828.pdf\n",
      "Downloaded file to  /Users/jean.machado@getyourguide.com/.sota/papers/paper250402828.pdf\n",
      "reading pdf: /Users/jean.machado@getyourguide.com/.sota/papers/paper250402828.pdf\n",
      "image_file_object: ImageFile(name=Image22.jpg, data: 8.2 kB)\n",
      "ImageFile(name=Image22.jpg, data: 8.2 kB)\n",
      "wrote image to: 11.jpg\n"
     ]
    },
    {
     "name": "stderr",
     "output_type": "stream",
     "text": [
      " 84%|████████▍ | 97/115 [05:44<00:24,  1.36s/it]"
     ]
    },
    {
     "name": "stdout",
     "output_type": "stream",
     "text": [
      "2504.02828\n",
      "Extracting images from paper: 2504.02828\n",
      "Position: 1 is set and write_to_folder: data/train/0 is set\n",
      "Downloading paper from https://arxiv.org/pdf/2504.02828.pdf\n",
      "Force download is enabled so will download the file again\n",
      "Downloading file https://arxiv.org/pdf/2504.02828.pdf to /Users/jean.machado@getyourguide.com/.sota/papers/paper250402828.pdf\n",
      "Downloaded file to  /Users/jean.machado@getyourguide.com/.sota/papers/paper250402828.pdf\n",
      "reading pdf: /Users/jean.machado@getyourguide.com/.sota/papers/paper250402828.pdf\n",
      "image_file_object: ImageFile(name=Image8.jpg, data: 7.1 kB)\n",
      "ImageFile(name=Image8.jpg, data: 7.1 kB)\n",
      "wrote image to: 2.jpg\n"
     ]
    },
    {
     "name": "stderr",
     "output_type": "stream",
     "text": [
      " 85%|████████▌ | 98/115 [05:45<00:22,  1.33s/it]"
     ]
    },
    {
     "name": "stdout",
     "output_type": "stream",
     "text": [
      "2504.02812\n",
      "Extracting images from paper: 2504.02812\n",
      "Position: 104 is set and write_to_folder: data/train/0 is set\n",
      "Downloading paper from https://arxiv.org/pdf/2504.02812.pdf\n",
      "Force download is enabled so will download the file again\n",
      "Downloading file https://arxiv.org/pdf/2504.02812.pdf to /Users/jean.machado@getyourguide.com/.sota/papers/paper250402812.pdf\n",
      "Downloaded file to  /Users/jean.machado@getyourguide.com/.sota/papers/paper250402812.pdf\n",
      "reading pdf: /Users/jean.machado@getyourguide.com/.sota/papers/paper250402812.pdf\n",
      "image_file_object: ImageFile(name=Im89.jpg, data: 1.2 kB)\n",
      "ImageFile(name=Im89.jpg, data: 1.2 kB)\n",
      "wrote image to: 105.jpg\n"
     ]
    },
    {
     "name": "stderr",
     "output_type": "stream",
     "text": [
      " 86%|████████▌ | 99/115 [05:48<00:30,  1.93s/it]"
     ]
    },
    {
     "name": "stdout",
     "output_type": "stream",
     "text": [
      "2504.02812\n",
      "Extracting images from paper: 2504.02812\n",
      "Position: 103 is set and write_to_folder: data/train/0 is set\n",
      "Downloading paper from https://arxiv.org/pdf/2504.02812.pdf\n",
      "Force download is enabled so will download the file again\n",
      "Downloading file https://arxiv.org/pdf/2504.02812.pdf to /Users/jean.machado@getyourguide.com/.sota/papers/paper250402812.pdf\n",
      "Downloaded file to  /Users/jean.machado@getyourguide.com/.sota/papers/paper250402812.pdf\n",
      "reading pdf: /Users/jean.machado@getyourguide.com/.sota/papers/paper250402812.pdf\n",
      "image_file_object: ImageFile(name=Im88.jpg, data: 2.3 kB)\n",
      "ImageFile(name=Im88.jpg, data: 2.3 kB)\n",
      "wrote image to: 104.jpg\n"
     ]
    },
    {
     "name": "stderr",
     "output_type": "stream",
     "text": [
      " 87%|████████▋ | 100/115 [05:51<00:35,  2.34s/it]"
     ]
    },
    {
     "name": "stdout",
     "output_type": "stream",
     "text": [
      "2504.02812\n",
      "Extracting images from paper: 2504.02812\n",
      "Position: 102 is set and write_to_folder: data/train/0 is set\n",
      "Downloading paper from https://arxiv.org/pdf/2504.02812.pdf\n",
      "Force download is enabled so will download the file again\n",
      "Downloading file https://arxiv.org/pdf/2504.02812.pdf to /Users/jean.machado@getyourguide.com/.sota/papers/paper250402812.pdf\n",
      "Downloaded file to  /Users/jean.machado@getyourguide.com/.sota/papers/paper250402812.pdf\n",
      "reading pdf: /Users/jean.machado@getyourguide.com/.sota/papers/paper250402812.pdf\n",
      "image_file_object: ImageFile(name=Im87.jpg, data: 2.3 kB)\n",
      "ImageFile(name=Im87.jpg, data: 2.3 kB)\n",
      "wrote image to: 103.jpg\n"
     ]
    },
    {
     "name": "stderr",
     "output_type": "stream",
     "text": [
      " 88%|████████▊ | 101/115 [05:55<00:36,  2.62s/it]"
     ]
    },
    {
     "name": "stdout",
     "output_type": "stream",
     "text": [
      "2504.02817\n",
      "Extracting images from paper: 2504.02817\n",
      "Position: 10 is set and write_to_folder: data/train/0 is set\n",
      "Downloading paper from https://arxiv.org/pdf/2504.02817.pdf\n",
      "Force download is enabled so will download the file again\n",
      "Downloading file https://arxiv.org/pdf/2504.02817.pdf to /Users/jean.machado@getyourguide.com/.sota/papers/paper250402817.pdf\n",
      "Downloaded file to  /Users/jean.machado@getyourguide.com/.sota/papers/paper250402817.pdf\n",
      "reading pdf: /Users/jean.machado@getyourguide.com/.sota/papers/paper250402817.pdf\n",
      "image_file_object: ImageFile(name=Im19.jp2, data: 228.7 kB)\n",
      "ImageFile(name=Im19.jp2, data: 228.7 kB)\n",
      "wrote image to: 11.jp2\n"
     ]
    },
    {
     "name": "stderr",
     "output_type": "stream",
     "text": [
      " 89%|████████▊ | 102/115 [06:10<01:24,  6.51s/it]"
     ]
    },
    {
     "name": "stdout",
     "output_type": "stream",
     "text": [
      "2504.02817\n",
      "Extracting images from paper: 2504.02817\n",
      "Position: 1 is set and write_to_folder: data/train/0 is set\n",
      "Downloading paper from https://arxiv.org/pdf/2504.02817.pdf\n",
      "Force download is enabled so will download the file again\n",
      "Downloading file https://arxiv.org/pdf/2504.02817.pdf to /Users/jean.machado@getyourguide.com/.sota/papers/paper250402817.pdf\n",
      "Downloaded file to  /Users/jean.machado@getyourguide.com/.sota/papers/paper250402817.pdf\n",
      "reading pdf: /Users/jean.machado@getyourguide.com/.sota/papers/paper250402817.pdf\n",
      "image_file_object: ImageFile(name=Im10.jp2, data: 230.2 kB)\n",
      "ImageFile(name=Im10.jp2, data: 230.2 kB)\n",
      "wrote image to: 2.jp2\n"
     ]
    },
    {
     "name": "stderr",
     "output_type": "stream",
     "text": [
      " 90%|████████▉ | 103/115 [06:26<01:50,  9.25s/it]"
     ]
    },
    {
     "name": "stdout",
     "output_type": "stream",
     "text": [
      "2504.02819\n",
      "Extracting images from paper: 2504.02819\n",
      "Position: 10 is set and write_to_folder: data/train/0 is set\n",
      "Downloading paper from https://arxiv.org/pdf/2504.02819.pdf\n",
      "Force download is enabled so will download the file again\n",
      "Downloading file https://arxiv.org/pdf/2504.02819.pdf to /Users/jean.machado@getyourguide.com/.sota/papers/paper250402819.pdf\n",
      "Downloaded file to  /Users/jean.machado@getyourguide.com/.sota/papers/paper250402819.pdf\n",
      "reading pdf: /Users/jean.machado@getyourguide.com/.sota/papers/paper250402819.pdf\n",
      "image_file_object: ImageFile(name=Image26.jpg, data: 7.5 kB)\n",
      "ImageFile(name=Image26.jpg, data: 7.5 kB)\n",
      "wrote image to: 11.jpg\n"
     ]
    },
    {
     "name": "stderr",
     "output_type": "stream",
     "text": [
      " 90%|█████████ | 104/115 [06:29<01:19,  7.24s/it]"
     ]
    },
    {
     "name": "stdout",
     "output_type": "stream",
     "text": [
      "2504.02819\n",
      "Extracting images from paper: 2504.02819\n",
      "Position: 1 is set and write_to_folder: data/train/0 is set\n",
      "Downloading paper from https://arxiv.org/pdf/2504.02819.pdf\n",
      "Force download is enabled so will download the file again\n",
      "Downloading file https://arxiv.org/pdf/2504.02819.pdf to /Users/jean.machado@getyourguide.com/.sota/papers/paper250402819.pdf\n",
      "Downloaded file to  /Users/jean.machado@getyourguide.com/.sota/papers/paper250402819.pdf\n",
      "reading pdf: /Users/jean.machado@getyourguide.com/.sota/papers/paper250402819.pdf\n",
      "image_file_object: ImageFile(name=Image15.png, data: 219.3 kB)\n",
      "ImageFile(name=Image15.png, data: 219.3 kB)\n",
      "wrote image to: 2.png\n"
     ]
    },
    {
     "name": "stderr",
     "output_type": "stream",
     "text": [
      " 91%|█████████▏| 105/115 [06:31<00:58,  5.83s/it]"
     ]
    },
    {
     "name": "stdout",
     "output_type": "stream",
     "text": [
      "2504.02821\n",
      "Extracting images from paper: 2504.02821\n",
      "Position: 14 is set and write_to_folder: data/train/2 is set\n",
      "Downloading paper from https://arxiv.org/pdf/2504.02821.pdf\n",
      "Force download is enabled so will download the file again\n",
      "Downloading file https://arxiv.org/pdf/2504.02821.pdf to /Users/jean.machado@getyourguide.com/.sota/papers/paper250402821.pdf\n",
      "Downloaded file to  /Users/jean.machado@getyourguide.com/.sota/papers/paper250402821.pdf\n",
      "reading pdf: /Users/jean.machado@getyourguide.com/.sota/papers/paper250402821.pdf\n",
      "image_file_object: ImageFile(name=x807.png, data: 10.1 kB)\n",
      "ImageFile(name=x807.png, data: 10.1 kB)\n",
      "wrote image to: 15.png\n"
     ]
    },
    {
     "name": "stderr",
     "output_type": "stream",
     "text": [
      " 92%|█████████▏| 106/115 [06:34<00:43,  4.89s/it]"
     ]
    },
    {
     "name": "stdout",
     "output_type": "stream",
     "text": [
      "2504.02823\n",
      "Extracting images from paper: 2504.02823\n",
      "Position: 15 is set and write_to_folder: data/train/2 is set\n",
      "Downloading paper from https://arxiv.org/pdf/2504.02823.pdf\n",
      "Force download is enabled so will download the file again\n",
      "Downloading file https://arxiv.org/pdf/2504.02823.pdf to /Users/jean.machado@getyourguide.com/.sota/papers/paper250402823.pdf\n",
      "Downloaded file to  /Users/jean.machado@getyourguide.com/.sota/papers/paper250402823.pdf\n",
      "reading pdf: /Users/jean.machado@getyourguide.com/.sota/papers/paper250402823.pdf\n",
      "image_file_object: ImageFile(name=Im16.jpg, data: 1.3 MB)\n",
      "ImageFile(name=Im16.jpg, data: 1.3 MB)\n",
      "wrote image to: 16.jpg\n"
     ]
    },
    {
     "name": "stderr",
     "output_type": "stream",
     "text": [
      " 93%|█████████▎| 107/115 [06:38<00:36,  4.57s/it]"
     ]
    },
    {
     "name": "stdout",
     "output_type": "stream",
     "text": [
      "2504.02827\n",
      "Extracting images from paper: 2504.02827\n",
      "Position: 2 is set and write_to_folder: data/train/2 is set\n",
      "Downloading paper from https://arxiv.org/pdf/2504.02827.pdf\n",
      "Force download is enabled so will download the file again\n",
      "Downloading file https://arxiv.org/pdf/2504.02827.pdf to /Users/jean.machado@getyourguide.com/.sota/papers/paper250402827.pdf\n"
     ]
    },
    {
     "name": "stderr",
     "output_type": "stream",
     "text": [
      " 94%|█████████▍| 108/115 [06:38<00:23,  3.31s/it]"
     ]
    },
    {
     "name": "stdout",
     "output_type": "stream",
     "text": [
      "Downloaded file to  /Users/jean.machado@getyourguide.com/.sota/papers/paper250402827.pdf\n",
      "reading pdf: /Users/jean.machado@getyourguide.com/.sota/papers/paper250402827.pdf\n",
      "image_file_object: ImageFile(name=Im3.png, data: 65.8 kB)\n",
      "ImageFile(name=Im3.png, data: 65.8 kB)\n",
      "wrote image to: 3.png\n",
      "2504.02671\n",
      "Extracting images from paper: 2504.02671\n",
      "Position: 2 is set and write_to_folder: data/train/3 is set\n",
      "Downloading paper from https://arxiv.org/pdf/2504.02671.pdf\n",
      "Force download is enabled so will download the file again\n",
      "Downloading file https://arxiv.org/pdf/2504.02671.pdf to /Users/jean.machado@getyourguide.com/.sota/papers/paper250402671.pdf\n"
     ]
    },
    {
     "name": "stderr",
     "output_type": "stream",
     "text": [
      " 95%|█████████▍| 109/115 [06:38<00:14,  2.44s/it]"
     ]
    },
    {
     "name": "stdout",
     "output_type": "stream",
     "text": [
      "Downloaded file to  /Users/jean.machado@getyourguide.com/.sota/papers/paper250402671.pdf\n",
      "reading pdf: /Users/jean.machado@getyourguide.com/.sota/papers/paper250402671.pdf\n",
      "2504.02673\n",
      "Extracting images from paper: 2504.02673\n",
      "Position: 1 is set and write_to_folder: data/train/0 is set\n",
      "Downloading paper from https://arxiv.org/pdf/2504.02673.pdf\n",
      "Force download is enabled so will download the file again\n",
      "Downloading file https://arxiv.org/pdf/2504.02673.pdf to /Users/jean.machado@getyourguide.com/.sota/papers/paper250402673.pdf\n",
      "Downloaded file to  /Users/jean.machado@getyourguide.com/.sota/papers/paper250402673.pdf\n",
      "reading pdf: /Users/jean.machado@getyourguide.com/.sota/papers/paper250402673.pdf\n",
      "image_file_object: ImageFile(name=Im0.png, data: 22.6 kB)\n",
      "ImageFile(name=Im0.png, data: 22.6 kB)\n",
      "wrote image to: 2.png\n"
     ]
    },
    {
     "name": "stderr",
     "output_type": "stream",
     "text": [
      " 96%|█████████▌| 110/115 [06:39<00:09,  1.85s/it]"
     ]
    },
    {
     "name": "stdout",
     "output_type": "stream",
     "text": [
      "2504.02671\n",
      "Extracting images from paper: 2504.02671\n",
      "Position: 1 is set and write_to_folder: data/train/2 is set\n",
      "Downloading paper from https://arxiv.org/pdf/2504.02671.pdf\n",
      "Force download is enabled so will download the file again\n",
      "Downloading file https://arxiv.org/pdf/2504.02671.pdf to /Users/jean.machado@getyourguide.com/.sota/papers/paper250402671.pdf\n"
     ]
    },
    {
     "name": "stderr",
     "output_type": "stream",
     "text": [
      " 97%|█████████▋| 111/115 [06:39<00:05,  1.40s/it]"
     ]
    },
    {
     "name": "stdout",
     "output_type": "stream",
     "text": [
      "Downloaded file to  /Users/jean.machado@getyourguide.com/.sota/papers/paper250402671.pdf\n",
      "reading pdf: /Users/jean.machado@getyourguide.com/.sota/papers/paper250402671.pdf\n",
      "image_file_object: ImageFile(name=Im3.png, data: 297.9 kB)\n",
      "ImageFile(name=Im3.png, data: 297.9 kB)\n",
      "wrote image to: 2.png\n",
      "2504.02660\n",
      "Extracting images from paper: 2504.02660\n",
      "Position: 1 is set and write_to_folder: data/train/2 is set\n",
      "Downloading paper from https://arxiv.org/pdf/2504.02660.pdf\n",
      "Force download is enabled so will download the file again\n",
      "Downloading file https://arxiv.org/pdf/2504.02660.pdf to /Users/jean.machado@getyourguide.com/.sota/papers/paper250402660.pdf\n",
      "Downloaded file to  /Users/jean.machado@getyourguide.com/.sota/papers/paper250402660.pdf\n",
      "reading pdf: /Users/jean.machado@getyourguide.com/.sota/papers/paper250402660.pdf\n",
      "image_file_object: ImageFile(name=Im1.png, data: 116.5 kB)\n",
      "ImageFile(name=Im1.png, data: 116.5 kB)\n",
      "wrote image to: 2.png\n"
     ]
    },
    {
     "name": "stderr",
     "output_type": "stream",
     "text": [
      " 97%|█████████▋| 112/115 [06:41<00:04,  1.57s/it]"
     ]
    },
    {
     "name": "stdout",
     "output_type": "stream",
     "text": [
      "2504.02660\n",
      "Extracting images from paper: 2504.02660\n",
      "Position: 8 is set and write_to_folder: data/train/2 is set\n",
      "Downloading paper from https://arxiv.org/pdf/2504.02660.pdf\n",
      "Force download is enabled so will download the file again\n",
      "Downloading file https://arxiv.org/pdf/2504.02660.pdf to /Users/jean.machado@getyourguide.com/.sota/papers/paper250402660.pdf\n",
      "Downloaded file to  /Users/jean.machado@getyourguide.com/.sota/papers/paper250402660.pdf\n",
      "reading pdf: /Users/jean.machado@getyourguide.com/.sota/papers/paper250402660.pdf\n"
     ]
    },
    {
     "name": "stderr",
     "output_type": "stream",
     "text": [
      " 98%|█████████▊| 113/115 [06:43<00:03,  1.67s/it]"
     ]
    },
    {
     "name": "stdout",
     "output_type": "stream",
     "text": [
      "image_file_object: ImageFile(name=Im1.png, data: 530.7 kB)\n",
      "ImageFile(name=Im1.png, data: 530.7 kB)\n",
      "wrote image to: 9.png\n",
      "2504.02660\n",
      "Extracting images from paper: 2504.02660\n",
      "Position: 3 is set and write_to_folder: data/train/2 is set\n",
      "Downloading paper from https://arxiv.org/pdf/2504.02660.pdf\n",
      "Force download is enabled so will download the file again\n",
      "Downloading file https://arxiv.org/pdf/2504.02660.pdf to /Users/jean.machado@getyourguide.com/.sota/papers/paper250402660.pdf\n",
      "Downloaded file to  /Users/jean.machado@getyourguide.com/.sota/papers/paper250402660.pdf\n",
      "reading pdf: /Users/jean.machado@getyourguide.com/.sota/papers/paper250402660.pdf\n",
      "image_file_object: ImageFile(name=Im1.png, data: 119.6 kB)\n",
      "ImageFile(name=Im1.png, data: 119.6 kB)\n",
      "wrote image to: 4.png\n"
     ]
    },
    {
     "name": "stderr",
     "output_type": "stream",
     "text": [
      " 99%|█████████▉| 114/115 [06:45<00:01,  1.71s/it]"
     ]
    },
    {
     "name": "stdout",
     "output_type": "stream",
     "text": [
      "2504.02660\n",
      "Extracting images from paper: 2504.02660\n",
      "Position: 9 is set and write_to_folder: data/train/2 is set\n",
      "Downloading paper from https://arxiv.org/pdf/2504.02660.pdf\n",
      "Force download is enabled so will download the file again\n",
      "Downloading file https://arxiv.org/pdf/2504.02660.pdf to /Users/jean.machado@getyourguide.com/.sota/papers/paper250402660.pdf\n",
      "Downloaded file to  /Users/jean.machado@getyourguide.com/.sota/papers/paper250402660.pdf\n",
      "reading pdf: /Users/jean.machado@getyourguide.com/.sota/papers/paper250402660.pdf\n"
     ]
    },
    {
     "name": "stderr",
     "output_type": "stream",
     "text": [
      "100%|██████████| 115/115 [06:47<00:00,  3.54s/it]\n"
     ]
    }
   ],
   "source": [
    "from state_of_the_art.image_processing.images_extractor import ImagesExtractor\n",
    "from state_of_the_art.paper.arxiv_paper import ArxivPaper\n",
    "from tqdm import tqdm\n",
    "\n",
    "\n",
    "FOLDER = 'data/train'\n",
    "\n",
    "extractor = ImagesExtractor()\n",
    "for index, row in tqdm(df.iterrows(), total=len(df)):\n",
    "    print(row['paper_id'])\n",
    "\n",
    "    paper = ArxivPaper(arxiv_id=row['paper_id'])\n",
    "    position = row['image_position'].split('.')[0]\n",
    "    try:\n",
    "        extractor.extract_images_from_paper(paper=paper, position=position, write_to_custom_folder=FOLDER + '/' + row['score'], skip_if_folder_exists=False)\n",
    "    except Exception as e:\n",
    "        print(f\"Error extracting images for paper {row['paper_id']}: {e}\")\n",
    "    "
   ]
  },
  {
   "cell_type": "code",
   "execution_count": 7,
   "metadata": {},
   "outputs": [
    {
     "name": "stdout",
     "output_type": "stream",
     "text": [
      "3\n"
     ]
    }
   ],
   "source": [
    "import torch\n",
    "import torch.nn as nn\n",
    "import torch.optim as optim\n",
    "from torchvision import datasets, transforms, models\n",
    "from torch.utils.data import DataLoader\n",
    "\n",
    "from state_of_the_art.image_processing.image_model import ImageModel, get_transform\n",
    "train_dataset = datasets.ImageFolder(root='data/train', transform=get_transform())\n",
    "train_loader = DataLoader(train_dataset, batch_size=32, shuffle=True)\n",
    "\n",
    "# 3. Simple CNN model\n",
    "num_classes = len(train_dataset.classes)\n",
    "print(num_classes)"
   ]
  },
  {
   "cell_type": "code",
   "execution_count": 8,
   "metadata": {},
   "outputs": [],
   "source": [
    "model = ImageModel(num_classes)\n",
    "\n",
    "# 4. Loss and optimizer\n",
    "criterion = nn.CrossEntropyLoss()\n",
    "optimizer = optim.Adam(model.parameters(), lr=0.001)\n"
   ]
  },
  {
   "cell_type": "code",
   "execution_count": 9,
   "metadata": {},
   "outputs": [
    {
     "name": "stdout",
     "output_type": "stream",
     "text": [
      "Epoch 1, Loss: 0.6091\n",
      "Epoch 2, Loss: 0.7430\n",
      "Epoch 3, Loss: 0.9567\n",
      "Epoch 4, Loss: 0.5939\n",
      "Epoch 5, Loss: 0.5395\n",
      "Epoch 6, Loss: 0.3391\n",
      "Epoch 7, Loss: 0.8625\n",
      "Epoch 8, Loss: 0.3844\n",
      "Epoch 9, Loss: 0.5042\n",
      "Epoch 10, Loss: 0.4396\n",
      "Epoch 11, Loss: 0.5894\n",
      "Epoch 12, Loss: 0.4364\n",
      "Epoch 13, Loss: 0.2969\n",
      "Epoch 14, Loss: 0.3512\n",
      "Epoch 15, Loss: 0.5223\n",
      "Epoch 16, Loss: 0.2490\n",
      "Epoch 17, Loss: 0.3220\n",
      "Epoch 18, Loss: 0.2458\n",
      "Epoch 19, Loss: 0.2597\n",
      "Epoch 20, Loss: 0.1310\n",
      "Epoch 21, Loss: 0.3544\n",
      "Epoch 22, Loss: 0.1214\n",
      "Epoch 23, Loss: 0.0579\n",
      "Epoch 24, Loss: 0.1564\n",
      "Epoch 25, Loss: 0.0977\n",
      "Epoch 26, Loss: 0.0714\n",
      "Epoch 27, Loss: 0.1161\n",
      "Epoch 28, Loss: 0.0688\n",
      "Epoch 29, Loss: 0.0753\n",
      "Epoch 30, Loss: 0.0419\n",
      "Epoch 31, Loss: 0.1331\n",
      "Epoch 32, Loss: 0.0525\n",
      "Epoch 33, Loss: 0.1207\n",
      "Epoch 34, Loss: 0.0535\n",
      "Epoch 35, Loss: 0.0183\n",
      "Epoch 36, Loss: 0.0495\n",
      "Epoch 37, Loss: 0.0543\n",
      "Epoch 38, Loss: 0.1273\n",
      "Epoch 39, Loss: 0.1060\n",
      "Epoch 40, Loss: 0.0161\n",
      "Epoch 41, Loss: 0.1005\n",
      "Epoch 42, Loss: 0.0314\n",
      "Epoch 43, Loss: 0.0172\n",
      "Epoch 44, Loss: 0.0088\n",
      "Epoch 45, Loss: 0.0259\n",
      "Epoch 46, Loss: 0.0812\n",
      "Epoch 47, Loss: 0.0074\n",
      "Epoch 48, Loss: 0.0247\n",
      "Epoch 49, Loss: 0.0912\n",
      "Epoch 50, Loss: 0.0585\n",
      "Epoch 51, Loss: 0.0654\n",
      "Epoch 52, Loss: 0.0148\n",
      "Epoch 53, Loss: 0.0118\n",
      "Epoch 54, Loss: 0.0131\n",
      "Epoch 55, Loss: 0.0129\n",
      "Epoch 56, Loss: 0.0144\n",
      "Epoch 57, Loss: 0.0264\n",
      "Epoch 58, Loss: 0.0147\n",
      "Epoch 59, Loss: 0.0378\n",
      "Epoch 60, Loss: 0.0040\n",
      "Epoch 61, Loss: 0.0034\n",
      "Epoch 62, Loss: 0.0236\n",
      "Epoch 63, Loss: 0.0024\n",
      "Epoch 64, Loss: 0.0273\n",
      "Epoch 65, Loss: 0.0079\n",
      "Epoch 66, Loss: 0.0153\n",
      "Epoch 67, Loss: 0.0043\n",
      "Epoch 68, Loss: 0.0069\n",
      "Epoch 69, Loss: 0.0189\n",
      "Epoch 70, Loss: 0.0069\n",
      "Epoch 71, Loss: 0.0190\n",
      "Epoch 72, Loss: 0.0088\n",
      "Epoch 73, Loss: 0.0163\n",
      "Epoch 74, Loss: 0.0016\n",
      "Epoch 75, Loss: 0.0079\n",
      "Epoch 76, Loss: 0.0173\n",
      "Epoch 77, Loss: 0.0161\n",
      "Epoch 78, Loss: 0.0020\n",
      "Epoch 79, Loss: 0.0106\n",
      "Epoch 80, Loss: 0.0104\n",
      "Epoch 81, Loss: 0.0030\n",
      "Epoch 82, Loss: 0.0110\n",
      "Epoch 83, Loss: 0.0048\n",
      "Epoch 84, Loss: 0.0022\n",
      "Epoch 85, Loss: 0.0042\n",
      "Epoch 86, Loss: 0.0140\n",
      "Epoch 87, Loss: 0.0028\n",
      "Epoch 88, Loss: 0.0031\n",
      "Epoch 89, Loss: 0.0053\n",
      "Epoch 90, Loss: 0.0061\n",
      "Epoch 91, Loss: 0.0036\n",
      "Epoch 92, Loss: 0.0030\n",
      "Epoch 93, Loss: 0.0037\n",
      "Epoch 94, Loss: 0.0050\n",
      "Epoch 95, Loss: 0.0026\n",
      "Epoch 96, Loss: 0.0069\n",
      "Epoch 97, Loss: 0.0022\n",
      "Epoch 98, Loss: 0.0062\n",
      "Epoch 99, Loss: 0.0029\n",
      "Epoch 100, Loss: 0.0049\n",
      "Epoch 101, Loss: 0.0017\n",
      "Epoch 102, Loss: 0.0011\n",
      "Epoch 103, Loss: 0.0020\n",
      "Epoch 104, Loss: 0.0015\n",
      "Epoch 105, Loss: 0.0004\n",
      "Epoch 106, Loss: 0.0006\n",
      "Epoch 107, Loss: 0.0025\n",
      "Epoch 108, Loss: 0.0025\n",
      "Epoch 109, Loss: 0.0022\n",
      "Epoch 110, Loss: 0.0014\n",
      "Epoch 111, Loss: 0.0028\n",
      "Epoch 112, Loss: 0.0015\n",
      "Epoch 113, Loss: 0.0017\n",
      "Epoch 114, Loss: 0.0015\n",
      "Epoch 115, Loss: 0.0028\n",
      "Epoch 116, Loss: 0.0003\n",
      "Epoch 117, Loss: 0.0028\n",
      "Epoch 118, Loss: 0.0009\n",
      "Epoch 119, Loss: 0.0025\n",
      "Epoch 120, Loss: 0.0003\n",
      "Epoch 121, Loss: 0.0003\n",
      "Epoch 122, Loss: 0.0003\n",
      "Epoch 123, Loss: 0.0022\n",
      "Epoch 124, Loss: 0.0021\n",
      "Epoch 125, Loss: 0.0004\n",
      "Epoch 126, Loss: 0.0013\n",
      "Epoch 127, Loss: 0.0010\n",
      "Epoch 128, Loss: 0.0014\n",
      "Epoch 129, Loss: 0.0013\n",
      "Epoch 130, Loss: 0.0004\n",
      "Epoch 131, Loss: 0.0010\n",
      "Epoch 132, Loss: 0.0011\n",
      "Epoch 133, Loss: 0.0004\n",
      "Epoch 134, Loss: 0.0008\n",
      "Epoch 135, Loss: 0.0010\n",
      "Epoch 136, Loss: 0.0003\n",
      "Epoch 137, Loss: 0.0007\n",
      "Epoch 138, Loss: 0.0006\n",
      "Epoch 139, Loss: 0.0007\n",
      "Epoch 140, Loss: 0.0014\n",
      "Epoch 141, Loss: 0.0003\n",
      "Epoch 142, Loss: 0.0012\n",
      "Epoch 143, Loss: 0.0006\n",
      "Epoch 144, Loss: 0.0010\n",
      "Epoch 145, Loss: 0.0012\n",
      "Epoch 146, Loss: 0.0006\n",
      "Epoch 147, Loss: 0.0010\n",
      "Epoch 148, Loss: 0.0002\n",
      "Epoch 149, Loss: 0.0005\n",
      "Epoch 150, Loss: 0.0010\n"
     ]
    },
    {
     "data": {
      "image/png": "[encoded data removed]",
      "text/plain": [
       "<Figure size 640x480 with 1 Axes>"
      ]
     },
     "metadata": {},
     "output_type": "display_data"
    }
   ],
   "source": [
    "# collect losses for plotting   \n",
    "losses = []\n",
    "EPOCHS = 150\n",
    "# 5. Training loop\n",
    "for epoch in range(EPOCHS):  # adjust epochs\n",
    "    for images, labels in train_loader:\n",
    "        outputs = model(images)\n",
    "        loss = criterion(outputs, labels)\n",
    "\n",
    "        optimizer.zero_grad()\n",
    "        loss.backward()\n",
    "        optimizer.step()\n",
    "\n",
    "        current_loss = loss.item()\n",
    "        losses.append(current_loss)\n",
    "    print(f\"Epoch {epoch+1}, Loss: {current_loss:.4f}\")\n",
    "\n",
    "# plot losses\n",
    "import matplotlib.pyplot as plt \n",
    "# add epoch number to the plot  \n",
    "plt.plot(losses)\n",
    "plt.xlabel('Epoch')\n",
    "plt.ylabel('Loss')\n",
    "plt.title('Training Loss')\n",
    "plt.show()\n"
   ]
  },
  {
   "cell_type": "code",
   "execution_count": 10,
   "metadata": {},
   "outputs": [
    {
     "name": "stdout",
     "output_type": "stream",
     "text": [
      "tensor([[ 11.8738, -26.1887,  -9.6283]], grad_fn=<AddmmBackward0>)\n"
     ]
    }
   ],
   "source": [
    "#load image\n",
    "\n",
    "from state_of_the_art.image_processing.image_model import load_and_transform_image_for_model, transform_image\n",
    "\n",
    "#image_name = 'dat0a/train/2/2.png'\n",
    "image_name = 'data/train/0/103.png'\n",
    "image = load_and_transform_image_for_model(image_name)\n",
    "output = model(image)\n",
    "print(output)"
   ]
  },
  {
   "cell_type": "code",
   "execution_count": 11,
   "metadata": {},
   "outputs": [
    {
     "name": "stdout",
     "output_type": "stream",
     "text": [
      "Model saved to  /Users/jean.machado@getyourguide.com/.tinyws/models/image_model.pth\n"
     ]
    }
   ],
   "source": [
    "#!pip install torch torchvision --upgrade --force-reinstall\n",
    "\n",
    "from state_of_the_art.config  import config\n",
    "torch.save(model.state_dict(), config.IMAGE_PREDICTOR_PATH_LOCALLY)\n",
    "print(\"Model saved to \", config.IMAGE_PREDICTOR_PATH_LOCALLY)"
   ]
  }
 ],
 "metadata": {
  "kernelspec": {
   "display_name": "python312",
   "language": "python",
   "name": "python3"
  },
  "language_info": {
   "codemirror_mode": {
    "name": "ipython",
    "version": 3
   },
   "file_extension": ".py",
   "mimetype": "text/x-python",
   "name": "python",
   "nbconvert_exporter": "python",
   "pygments_lexer": "ipython3",
   "version": "3.12.7"
  }
 },
 "nbformat": 4,
 "nbformat_minor": 2
}
