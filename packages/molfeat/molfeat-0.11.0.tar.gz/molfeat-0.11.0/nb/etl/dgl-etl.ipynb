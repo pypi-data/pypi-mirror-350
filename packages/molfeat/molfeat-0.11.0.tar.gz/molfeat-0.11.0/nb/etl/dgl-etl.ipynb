{
 "cells": [
  {
   "cell_type": "code",
   "execution_count": 1,
   "metadata": {},
   "outputs": [],
   "source": [
    "%load_ext autoreload\n",
    "%autoreload 2"
   ]
  },
  {
   "cell_type": "code",
   "execution_count": 2,
   "metadata": {},
   "outputs": [],
   "source": [
    "import molfeat\n",
    "import datamol as dm\n",
    "from molfeat.store.modelcard import ModelInfo"
   ]
  },
  {
   "cell_type": "code",
   "execution_count": 3,
   "metadata": {},
   "outputs": [],
   "source": [
    "import dgllife"
   ]
  },
  {
   "cell_type": "code",
   "execution_count": 4,
   "metadata": {},
   "outputs": [
    {
     "name": "stdout",
     "output_type": "stream",
     "text": [
      "Downloading gin_supervised_edgepred_pre_trained.pth from https://data.dgl.ai/dgllife/pre_trained/gin_supervised_edgepred.pth...\n",
      "Pretrained model loaded\n"
     ]
    }
   ],
   "source": [
    "# an example of supervised GIN model\n",
    "gin_edgepred = ModelInfo(\n",
    "    name = \"gin_supervised_edgepred\",\n",
    "    inputs = \"smiles\",\n",
    "    type=\"pretrained\",\n",
    "    group=\"dgllife\",\n",
    "    version=0,\n",
    "    submitter=\"Datamol\",\n",
    "    description=\"GIN neural network model pre-trained with supervised learning and edge prediction on molecules from ChEMBL.\",\n",
    "    representation=\"graph\",\n",
    "    require_3D=False,\n",
    "    tags = [\"GIN\", \"dgl\", \"pytorch\", \"graph\"],\n",
    "    authors= [\"Weihua Hu\", \"Bowen Liu\", \"Joseph Gomes\", \"Marinka Zitnik\", \"Percy Liang\", \"Vijay Pande\", \"Jure Leskovec\"],\n",
    "    reference = \"https://arxiv.org/abs/1905.12265\" \n",
    ")\n",
    "gin_edgepred_model = dgllife.model.load_pretrained('gin_supervised_edgepred')\n"
   ]
  },
  {
   "cell_type": "code",
   "execution_count": 5,
   "metadata": {},
   "outputs": [
    {
     "name": "stdout",
     "output_type": "stream",
     "text": [
      "Downloading gin_supervised_infomax_pre_trained.pth from https://data.dgl.ai/dgllife/pre_trained/gin_supervised_infomax.pth...\n",
      "Pretrained model loaded\n"
     ]
    }
   ],
   "source": [
    "# an example of supervised GIN model\n",
    "gin_infomax= ModelInfo(\n",
    "    name = \"gin_supervised_infomax\",\n",
    "    inputs = \"smiles\",\n",
    "    type=\"pretrained\",\n",
    "    group=\"dgllife\",\n",
    "    version=0,\n",
    "    submitter=\"Datamol\",\n",
    "    description=\"GIN neural network model pre-trained with mutual information maximisation on molecules from ChEMBL.\",\n",
    "    representation=\"graph\",\n",
    "    require_3D=False,\n",
    "    tags = [\"GIN\", \"dgl\", \"pytorch\", \"graph\"],\n",
    "    authors= [\"Weihua Hu\", \"Bowen Liu\", \"Joseph Gomes\", \"Marinka Zitnik\", \"Percy Liang\", \"Vijay Pande\", \"Jure Leskovec\"],\n",
    "    reference = \"https://arxiv.org/abs/1905.12265\" \n",
    ")\n",
    "gin_infomax_model = dgllife.model.load_pretrained('gin_supervised_infomax')\n"
   ]
  },
  {
   "cell_type": "code",
   "execution_count": 6,
   "metadata": {},
   "outputs": [
    {
     "name": "stdout",
     "output_type": "stream",
     "text": [
      "Downloading gin_supervised_contextpred_pre_trained.pth from https://data.dgl.ai/dgllife/pre_trained/gin_supervised_contextpred.pth...\n",
      "Pretrained model loaded\n"
     ]
    }
   ],
   "source": [
    "# an example of supervised GIN model\n",
    "gin_contextpred= ModelInfo(\n",
    "    name = \"gin_supervised_contextpred\",\n",
    "    inputs = \"smiles\",\n",
    "    type=\"pretrained\",\n",
    "    group=\"dgllife\",\n",
    "    version=0,\n",
    "    submitter=\"Datamol\",\n",
    "    description=\"GIN neural network model pre-trained with supervised learning and context prediction on molecules from ChEMBL.\",\n",
    "    representation=\"graph\",\n",
    "    require_3D=False,\n",
    "    tags = [\"GIN\", \"dgl\", \"pytorch\", \"graph\"],\n",
    "    authors= [\"Weihua Hu\", \"Bowen Liu\", \"Joseph Gomes\", \"Marinka Zitnik\", \"Percy Liang\", \"Vijay Pande\", \"Jure Leskovec\"],\n",
    "    reference = \"https://arxiv.org/abs/1905.12265\" \n",
    ")\n",
    "gin_contextpred_model = dgllife.model.load_pretrained('gin_supervised_contextpred')\n"
   ]
  },
  {
   "cell_type": "code",
   "execution_count": 7,
   "metadata": {},
   "outputs": [
    {
     "name": "stdout",
     "output_type": "stream",
     "text": [
      "Downloading gin_supervised_masking_pre_trained.pth from https://data.dgl.ai/dgllife/pre_trained/gin_supervised_masking.pth...\n",
      "Pretrained model loaded\n"
     ]
    }
   ],
   "source": [
    "# an example of supervised GIN model\n",
    "gin_masking= ModelInfo(\n",
    "    name = \"gin_supervised_masking\",\n",
    "    inputs = \"smiles\",\n",
    "    type=\"pretrained\",\n",
    "    group=\"dgllife\",\n",
    "    version=0,\n",
    "    submitter=\"Datamol\",\n",
    "    description=\"GIN neural network model pre-trained with masked modelling on molecules from ChEMBL.\",\n",
    "    representation=\"graph\",\n",
    "    require_3D=False,\n",
    "    tags = [\"GIN\", \"dgl\", \"pytorch\", \"graph\"],\n",
    "    authors= [\"Weihua Hu\", \"Bowen Liu\", \"Joseph Gomes\", \"Marinka Zitnik\", \"Percy Liang\", \"Vijay Pande\", \"Jure Leskovec\"],\n",
    "    reference = \"https://arxiv.org/abs/1905.12265\" \n",
    ")\n",
    "gin_masking_model = dgllife.model.load_pretrained('gin_supervised_masking')\n"
   ]
  },
  {
   "cell_type": "code",
   "execution_count": 8,
   "metadata": {},
   "outputs": [],
   "source": [
    "from molfeat.store.modelstore import ModelStore\n",
    "store = ModelStore()"
   ]
  },
  {
   "cell_type": "code",
   "execution_count": 9,
   "metadata": {},
   "outputs": [
    {
     "data": {
      "text/plain": [
       "['cats2d',\n",
       " 'cats3d',\n",
       " 'scaffoldkeys',\n",
       " 'gin_supervised_edgepred',\n",
       " 'gin_supervised_infomax',\n",
       " 'gin_supervised_masking',\n",
       " 'jtvae_zinc_no_kl',\n",
       " 'map4',\n",
       " 'secfp',\n",
       " 'pcqm4mv2_graphormer_base',\n",
       " 'ChemBERTa-77M-MLM',\n",
       " 'ChemBERTa-77M-MTR',\n",
       " 'ChemGPT-1.2B',\n",
       " 'ChemGPT-19M',\n",
       " 'ChemGPT-4.7M',\n",
       " 'GPT2-Zinc480M-87M',\n",
       " 'MolT5',\n",
       " 'Roberta-Zinc480M-102M',\n",
       " 'pharm2D-cats',\n",
       " 'pharm2D-default',\n",
       " 'pharm2D-gobbi',\n",
       " 'pharm2D-pmapper',\n",
       " 'pharm3D-cats',\n",
       " 'pharm3D-gobbi',\n",
       " 'pharm3D-pmapper',\n",
       " 'atompair-count',\n",
       " 'avalon',\n",
       " 'desc2D',\n",
       " 'desc3D',\n",
       " 'ecfp-count',\n",
       " 'ecfp',\n",
       " 'erg',\n",
       " 'estate',\n",
       " 'fcfp-count',\n",
       " 'fcfp',\n",
       " 'maccs',\n",
       " 'pattern',\n",
       " 'rdkit',\n",
       " 'topological-count',\n",
       " 'topological',\n",
       " 'electroshape',\n",
       " 'usr',\n",
       " 'usrcat']"
      ]
     },
     "execution_count": 9,
     "metadata": {},
     "output_type": "execute_result"
    }
   ],
   "source": [
    "[x.name for x in store.available_models]"
   ]
  },
  {
   "cell_type": "code",
   "execution_count": 10,
   "metadata": {},
   "outputs": [
    {
     "data": {
      "application/vnd.jupyter.widget-view+json": {
       "model_id": "10895bee541a41ed98689c2e74da8225",
       "version_major": 2,
       "version_minor": 0
      },
      "text/plain": [
       "  0%|          | 0.00/7.12M [00:00<?, ?B/s]"
      ]
     },
     "metadata": {},
     "output_type": "display_data"
    },
    {
     "name": "stderr",
     "output_type": "stream",
     "text": [
      "\u001b[32m2023-07-20 17:45:12.918\u001b[0m | \u001b[1mINFO    \u001b[0m | \u001b[36mmolfeat.store.modelstore\u001b[0m:\u001b[36mregister\u001b[0m:\u001b[36m147\u001b[0m - \u001b[1mSuccessfuly registered model gin_supervised_edgepred !\u001b[0m\n"
     ]
    }
   ],
   "source": [
    "store.register(gin_edgepred, model=gin_edgepred_model, force=True)"
   ]
  },
  {
   "cell_type": "code",
   "execution_count": 11,
   "metadata": {},
   "outputs": [
    {
     "data": {
      "application/vnd.jupyter.widget-view+json": {
       "model_id": "eb859420bcfa4bf0a0e5660fbb0c3ff2",
       "version_major": 2,
       "version_minor": 0
      },
      "text/plain": [
       "  0%|          | 0.00/7.12M [00:00<?, ?B/s]"
      ]
     },
     "metadata": {},
     "output_type": "display_data"
    },
    {
     "name": "stderr",
     "output_type": "stream",
     "text": [
      "\u001b[32m2023-07-20 17:45:21.508\u001b[0m | \u001b[1mINFO    \u001b[0m | \u001b[36mmolfeat.store.modelstore\u001b[0m:\u001b[36mregister\u001b[0m:\u001b[36m147\u001b[0m - \u001b[1mSuccessfuly registered model gin_supervised_infomax !\u001b[0m\n"
     ]
    }
   ],
   "source": [
    "store.register(gin_infomax, model=gin_infomax_model, force=True)"
   ]
  },
  {
   "cell_type": "code",
   "execution_count": 12,
   "metadata": {},
   "outputs": [
    {
     "data": {
      "application/vnd.jupyter.widget-view+json": {
       "model_id": "7dda56220b3c48878c040997a4f9d525",
       "version_major": 2,
       "version_minor": 0
      },
      "text/plain": [
       "  0%|          | 0.00/7.12M [00:00<?, ?B/s]"
      ]
     },
     "metadata": {},
     "output_type": "display_data"
    },
    {
     "name": "stderr",
     "output_type": "stream",
     "text": [
      "\u001b[32m2023-07-20 17:45:30.070\u001b[0m | \u001b[1mINFO    \u001b[0m | \u001b[36mmolfeat.store.modelstore\u001b[0m:\u001b[36mregister\u001b[0m:\u001b[36m147\u001b[0m - \u001b[1mSuccessfuly registered model gin_supervised_masking !\u001b[0m\n"
     ]
    }
   ],
   "source": [
    "store.register(gin_masking, model=gin_masking_model, force=True)"
   ]
  },
  {
   "cell_type": "code",
   "execution_count": 13,
   "metadata": {},
   "outputs": [
    {
     "data": {
      "application/vnd.jupyter.widget-view+json": {
       "model_id": "95155893ec7d4d5eab4de463283d2ed6",
       "version_major": 2,
       "version_minor": 0
      },
      "text/plain": [
       "  0%|          | 0.00/7.12M [00:00<?, ?B/s]"
      ]
     },
     "metadata": {},
     "output_type": "display_data"
    },
    {
     "name": "stderr",
     "output_type": "stream",
     "text": [
      "\u001b[32m2023-07-20 17:45:38.305\u001b[0m | \u001b[1mINFO    \u001b[0m | \u001b[36mmolfeat.store.modelstore\u001b[0m:\u001b[36mregister\u001b[0m:\u001b[36m147\u001b[0m - \u001b[1mSuccessfuly registered model gin_supervised_contextpred !\u001b[0m\n"
     ]
    }
   ],
   "source": [
    "store.register(gin_contextpred, model=gin_contextpred_model, force=True)"
   ]
  },
  {
   "cell_type": "code",
   "execution_count": 14,
   "metadata": {},
   "outputs": [
    {
     "data": {
      "text/plain": [
       "['cats2d',\n",
       " 'cats3d',\n",
       " 'scaffoldkeys',\n",
       " 'gin_supervised_contextpred',\n",
       " 'gin_supervised_edgepred',\n",
       " 'gin_supervised_infomax',\n",
       " 'gin_supervised_masking',\n",
       " 'jtvae_zinc_no_kl',\n",
       " 'map4',\n",
       " 'secfp',\n",
       " 'pcqm4mv2_graphormer_base',\n",
       " 'ChemBERTa-77M-MLM',\n",
       " 'ChemBERTa-77M-MTR',\n",
       " 'ChemGPT-1.2B',\n",
       " 'ChemGPT-19M',\n",
       " 'ChemGPT-4.7M',\n",
       " 'GPT2-Zinc480M-87M',\n",
       " 'MolT5',\n",
       " 'Roberta-Zinc480M-102M',\n",
       " 'pharm2D-cats',\n",
       " 'pharm2D-default',\n",
       " 'pharm2D-gobbi',\n",
       " 'pharm2D-pmapper',\n",
       " 'pharm3D-cats',\n",
       " 'pharm3D-gobbi',\n",
       " 'pharm3D-pmapper',\n",
       " 'atompair-count',\n",
       " 'avalon',\n",
       " 'desc2D',\n",
       " 'desc3D',\n",
       " 'ecfp-count',\n",
       " 'ecfp',\n",
       " 'erg',\n",
       " 'estate',\n",
       " 'fcfp-count',\n",
       " 'fcfp',\n",
       " 'maccs',\n",
       " 'pattern',\n",
       " 'rdkit',\n",
       " 'topological-count',\n",
       " 'topological',\n",
       " 'electroshape',\n",
       " 'usr',\n",
       " 'usrcat']"
      ]
     },
     "execution_count": 14,
     "metadata": {},
     "output_type": "execute_result"
    }
   ],
   "source": [
    "[x.name for x in store.available_models]"
   ]
  }
 ],
 "metadata": {
  "kernelspec": {
   "display_name": "molfeat-core",
   "language": "python",
   "name": "python3"
  },
  "language_info": {
   "codemirror_mode": {
    "name": "ipython",
    "version": 3
   },
   "file_extension": ".py",
   "mimetype": "text/x-python",
   "name": "python",
   "nbconvert_exporter": "python",
   "pygments_lexer": "ipython3",
   "version": "3.10.10"
  },
  "orig_nbformat": 4,
  "vscode": {
   "interpreter": {
    "hash": "dd64925fe6617865d410306d2b64fa69b44b63a36aad85fd11f7d4e4dc7609f3"
   }
  }
 },
 "nbformat": 4,
 "nbformat_minor": 2
}
