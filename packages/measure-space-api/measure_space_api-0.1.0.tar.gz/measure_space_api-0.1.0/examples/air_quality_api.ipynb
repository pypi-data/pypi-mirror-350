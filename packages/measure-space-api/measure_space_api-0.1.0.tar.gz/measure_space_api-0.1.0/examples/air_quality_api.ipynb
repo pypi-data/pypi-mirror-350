{
 "cells": [
  {
   "cell_type": "code",
   "execution_count": null,
   "metadata": {},
   "outputs": [],
   "source": [
    "import requests\n",
    "from dotenv import load_dotenv\n",
    "import os\n",
    "import pandas as pd\n",
    "\n",
    "# Assume you have a .env file that contains the API keys like\n",
    "# HOURLY_WEATHER_API_KEY=xxx\n",
    "load_dotenv()  # take environment variables\n",
    "\n",
    "\n",
    "api_key = os.getenv('AIR_QUALITY_API_KEY')\n",
    "base_url = os.getenv('AIR_QUALITY_API_URL')\n",
    "\n",
    "headers = {\n",
    "    \"X-API-Key\": api_key,\n",
    "    \"Content-Type\": \"application/json\"\n",
    "}\n",
    "\n",
    "params = {\n",
    "    \"latitude\": \"40.2\",\n",
    "    \"longitude\": \"110.2\",\n",
    "    \"variables\": \"AQI\"\n",
    "}\n",
    "\n",
    "response = requests.get(base_url, params=params, headers=headers)\n",
    "\n",
    "if response.status_code == 200:\n",
    "    data = response.json()  # Assuming the API returns JSON data\n",
    "else:\n",
    "    print(\"Error:\", response.status_code)\n",
    "\n",
    "# Convert it to a data frame\n",
    "df = pd.DataFrame(data)\n",
    "df.head(3)\n"
   ]
  }
 ],
 "metadata": {
  "language_info": {
   "name": "python"
  }
 },
 "nbformat": 4,
 "nbformat_minor": 2
}
