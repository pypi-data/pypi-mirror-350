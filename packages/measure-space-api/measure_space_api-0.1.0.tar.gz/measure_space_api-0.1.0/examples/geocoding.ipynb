{
 "cells": [
  {
   "cell_type": "code",
   "execution_count": 1,
   "id": "607a25b4",
   "metadata": {},
   "outputs": [],
   "source": [
    "import requests\n",
    "from dotenv import load_dotenv\n",
    "import os\n",
    "import pandas as pd"
   ]
  },
  {
   "cell_type": "code",
   "execution_count": 2,
   "id": "1590d8d8",
   "metadata": {},
   "outputs": [],
   "source": [
    "# Assume you have a .env file that contains the API keys like\n",
    "# HOURLY_WEATHER_API_KEY=xxx\n",
    "load_dotenv()  # take environment variables\n",
    "\n",
    "\n",
    "api_key = os.getenv('GEOCODING_API_KEY')\n"
   ]
  },
  {
   "cell_type": "code",
   "execution_count": 3,
   "id": "c66363dd",
   "metadata": {},
   "outputs": [
    {
     "data": {
      "text/plain": [
       "{'results': [{'city': 'New York City',\n",
       "   'state': 'New York',\n",
       "   'country': 'United States',\n",
       "   'lat': 40.714,\n",
       "   'lon': -74.006}]}"
      ]
     },
     "execution_count": 3,
     "metadata": {},
     "output_type": "execute_result"
    }
   ],
   "source": [
    "base_url = \"https://ncstsm9hel.execute-api.us-east-1.amazonaws.com/prd/autocomplete\"\n",
    "\n",
    "headers = {\n",
    "    \"X-API-Key\": api_key,\n",
    "    \"Content-Type\": \"application/json\"\n",
    "}\n",
    "\n",
    "params = {\n",
    "    \"query\": \"New York\",\n",
    "    \"limit\": 1\n",
    "}\n",
    "\n",
    "response = requests.get(base_url, params=params, headers=headers)\n",
    "\n",
    "if response.status_code == 200:\n",
    "    data = response.json()  # Assuming the API returns JSON data\n",
    "else:\n",
    "    print(\"Error:\", response.status_code)\n",
    "\n",
    "data\n"
   ]
  },
  {
   "cell_type": "code",
   "execution_count": 7,
   "id": "cd101645",
   "metadata": {},
   "outputs": [
    {
     "data": {
      "text/plain": [
       "{'city': 'New York City',\n",
       " 'state': 'New York',\n",
       " 'country': 'United States',\n",
       " 'lat': 40.714,\n",
       " 'lon': -74.006}"
      ]
     },
     "execution_count": 7,
     "metadata": {},
     "output_type": "execute_result"
    }
   ],
   "source": [
    "data['results'][0]"
   ]
  },
  {
   "cell_type": "code",
   "execution_count": 8,
   "id": "c61dd324",
   "metadata": {},
   "outputs": [
    {
     "data": {
      "text/plain": [
       "{'results': [{'city': 'Anloga',\n",
       "   'state': 'Volta',\n",
       "   'country': 'Ghana',\n",
       "   'lon': 0.8973,\n",
       "   'lat': 5.7947}]}"
      ]
     },
     "execution_count": 8,
     "metadata": {},
     "output_type": "execute_result"
    }
   ],
   "source": [
    "base_url = \"https://ncstsm9hel.execute-api.us-east-1.amazonaws.com/prd/nearest-city\"\n",
    "\n",
    "headers = {\n",
    "    \"X-API-Key\": api_key,\n",
    "    \"Content-Type\": \"application/json\"\n",
    "}\n",
    "\n",
    "params = {\n",
    "    \"lat\": 1.1,\n",
    "    \"lon\": 1.1,\n",
    "    \"limit\": 1\n",
    "}\n",
    "\n",
    "response = requests.get(base_url, params=params, headers=headers)\n",
    "\n",
    "if response.status_code == 200:\n",
    "    data = response.json()  # Assuming the API returns JSON data\n",
    "else:\n",
    "    print(\"Error:\", response.status_code)\n",
    "\n",
    "data\n"
   ]
  },
  {
   "cell_type": "code",
   "execution_count": null,
   "id": "417b3ceb",
   "metadata": {},
   "outputs": [],
   "source": []
  }
 ],
 "metadata": {
  "kernelspec": {
   "display_name": ".venv",
   "language": "python",
   "name": "python3"
  },
  "language_info": {
   "codemirror_mode": {
    "name": "ipython",
    "version": 3
   },
   "file_extension": ".py",
   "mimetype": "text/x-python",
   "name": "python",
   "nbconvert_exporter": "python",
   "pygments_lexer": "ipython3",
   "version": "3.12.4"
  }
 },
 "nbformat": 4,
 "nbformat_minor": 5
}
