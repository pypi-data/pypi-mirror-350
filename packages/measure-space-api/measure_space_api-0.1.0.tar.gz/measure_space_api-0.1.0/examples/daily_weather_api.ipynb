{
 "cells": [
  {
   "cell_type": "code",
   "execution_count": 1,
   "metadata": {},
   "outputs": [
    {
     "data": {
      "text/html": [
       "<div>\n",
       "<style scoped>\n",
       "    .dataframe tbody tr th:only-of-type {\n",
       "        vertical-align: middle;\n",
       "    }\n",
       "\n",
       "    .dataframe tbody tr th {\n",
       "        vertical-align: top;\n",
       "    }\n",
       "\n",
       "    .dataframe thead th {\n",
       "        text-align: right;\n",
       "    }\n",
       "</style>\n",
       "<table border=\"1\" class=\"dataframe\">\n",
       "  <thead>\n",
       "    <tr style=\"text-align: right;\">\n",
       "      <th></th>\n",
       "      <th>time</th>\n",
       "      <th>tp</th>\n",
       "      <th>meanT</th>\n",
       "    </tr>\n",
       "  </thead>\n",
       "  <tbody>\n",
       "    <tr>\n",
       "      <th>0</th>\n",
       "      <td>2025-03-25</td>\n",
       "      <td>0.00</td>\n",
       "      <td>288.12</td>\n",
       "    </tr>\n",
       "    <tr>\n",
       "      <th>1</th>\n",
       "      <td>2025-03-26</td>\n",
       "      <td>0.00</td>\n",
       "      <td>280.34</td>\n",
       "    </tr>\n",
       "    <tr>\n",
       "      <th>2</th>\n",
       "      <td>2025-03-27</td>\n",
       "      <td>0.31</td>\n",
       "      <td>273.32</td>\n",
       "    </tr>\n",
       "  </tbody>\n",
       "</table>\n",
       "</div>"
      ],
      "text/plain": [
       "         time    tp   meanT\n",
       "0  2025-03-25  0.00  288.12\n",
       "1  2025-03-26  0.00  280.34\n",
       "2  2025-03-27  0.31  273.32"
      ]
     },
     "execution_count": 1,
     "metadata": {},
     "output_type": "execute_result"
    }
   ],
   "source": [
    "import requests\n",
    "from dotenv import load_dotenv\n",
    "import os\n",
    "import pandas as pd\n",
    "\n",
    "# Assume you have a .env file that contains the API keys like\n",
    "# HOURLY_WEATHER_API_KEY=xxx\n",
    "load_dotenv()  # take environment variables\n",
    "\n",
    "\n",
    "api_key = os.getenv('DAILY_WEATHER_API_KEY')\n",
    "base_url = os.getenv('DAILY_WEATHER_API_URL')\n",
    "\n",
    "headers = {\n",
    "    \"X-API-Key\": api_key,\n",
    "    \"Content-Type\": \"application/json\"\n",
    "}\n",
    "\n",
    "params = {\n",
    "    \"latitude\": \"40.2\",\n",
    "    \"longitude\": \"110.2\",\n",
    "    \"variables\": \"tp, meanT\"\n",
    "}\n",
    "\n",
    "response = requests.get(base_url, params=params, headers=headers)\n",
    "\n",
    "if response.status_code == 200:\n",
    "    data = response.json()  # Assuming the API returns JSON data\n",
    "else:\n",
    "    print(\"Error:\", response.status_code)\n",
    "\n",
    "# Convert it to a data frame\n",
    "df = pd.DataFrame(data)\n",
    "df.head(3)\n"
   ]
  }
 ],
 "metadata": {
  "kernelspec": {
   "display_name": "Python 3",
   "language": "python",
   "name": "python3"
  },
  "language_info": {
   "codemirror_mode": {
    "name": "ipython",
    "version": 3
   },
   "file_extension": ".py",
   "mimetype": "text/x-python",
   "name": "python",
   "nbconvert_exporter": "python",
   "pygments_lexer": "ipython3",
   "version": "3.10.13"
  }
 },
 "nbformat": 4,
 "nbformat_minor": 2
}
