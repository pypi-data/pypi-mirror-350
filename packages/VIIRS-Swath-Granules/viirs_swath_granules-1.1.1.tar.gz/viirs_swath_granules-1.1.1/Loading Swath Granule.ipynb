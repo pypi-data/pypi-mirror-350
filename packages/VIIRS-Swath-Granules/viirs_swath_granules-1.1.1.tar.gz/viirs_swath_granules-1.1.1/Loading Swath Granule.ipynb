{
 "cells": [
  {
   "cell_type": "code",
   "execution_count": 1,
   "metadata": {},
   "outputs": [],
   "source": [
    "from VIIRS_swath_granules.VIIRS_swath_granule import VIIRSSwathGranule"
   ]
  },
  {
   "cell_type": "code",
   "execution_count": 2,
   "metadata": {},
   "outputs": [],
   "source": [
    "filename = \"~/data/VNP21IMG_NRT.A2025021.1018.002.2025021155440.nc\""
   ]
  },
  {
   "cell_type": "code",
   "execution_count": 3,
   "metadata": {},
   "outputs": [
    {
     "data": {
      "text/plain": [
       "{\n",
       "  \"filename\": \"~/data/VNP21IMG_NRT.A2025021.1018.002.2025021155440.nc\"\n",
       "}"
      ]
     },
     "execution_count": 3,
     "metadata": {},
     "output_type": "execute_result"
    }
   ],
   "source": [
    "granule = VIIRSSwathGranule(filename)\n",
    "granule"
   ]
  },
  {
   "cell_type": "code",
   "execution_count": 4,
   "metadata": {},
   "outputs": [
    {
     "data": {
      "text/plain": [
       "'~/data/VNP21IMG_NRT.A2025021.1018.002.2025021155440.nc'"
      ]
     },
     "execution_count": 4,
     "metadata": {},
     "output_type": "execute_result"
    }
   ],
   "source": [
    "granule.filename"
   ]
  },
  {
   "cell_type": "code",
   "execution_count": 5,
   "metadata": {},
   "outputs": [
    {
     "data": {
      "text/plain": [
       "'/Users/gregoryhalverson/data/VNP21IMG_NRT.A2025021.1018.002.2025021155440.nc'"
      ]
     },
     "execution_count": 5,
     "metadata": {},
     "output_type": "execute_result"
    }
   ],
   "source": [
    "granule.filename_absolute"
   ]
  },
  {
   "cell_type": "code",
   "execution_count": 6,
   "metadata": {},
   "outputs": [
    {
     "data": {
      "text/plain": [
       "'VNP21IMG_NRT.A2025021.1018.002.2025021155440.nc'"
      ]
     },
     "execution_count": 6,
     "metadata": {},
     "output_type": "execute_result"
    }
   ],
   "source": [
    "granule.filename_base"
   ]
  },
  {
   "cell_type": "code",
   "execution_count": 7,
   "metadata": {},
   "outputs": [
    {
     "data": {
      "text/plain": [
       "'1018'"
      ]
     },
     "execution_count": 7,
     "metadata": {},
     "output_type": "execute_result"
    }
   ],
   "source": [
    "granule.swath"
   ]
  },
  {
   "cell_type": "code",
   "execution_count": 8,
   "metadata": {},
   "outputs": [
    {
     "data": {
      "text/plain": [
       "datetime.datetime(2025, 1, 21, 0, 0)"
      ]
     },
     "execution_count": 8,
     "metadata": {},
     "output_type": "execute_result"
    }
   ],
   "source": [
    "granule.date_UTC"
   ]
  },
  {
   "cell_type": "code",
   "execution_count": 9,
   "metadata": {},
   "outputs": [
    {
     "data": {
      "text/plain": [
       "['VIIRS_I5_LST']"
      ]
     },
     "execution_count": 9,
     "metadata": {},
     "output_type": "execute_result"
    }
   ],
   "source": [
    "granule.swaths"
   ]
  },
  {
   "cell_type": "code",
   "execution_count": 10,
   "metadata": {},
   "outputs": [
    {
     "data": {
      "text/plain": [
       "['Emis_I5', 'Emis_I5_err', 'LST', 'LST_err', 'QC', 'View_angle']"
      ]
     },
     "execution_count": 10,
     "metadata": {},
     "output_type": "execute_result"
    }
   ],
   "source": [
    "granule.variables(\"VIIRS_I5_LST\")"
   ]
  },
  {
   "cell_type": "code",
   "execution_count": 11,
   "metadata": {},
   "outputs": [
    {
     "data": {
      "text/plain": [
       "array([[54.336315, 54.33684 , 54.337364, ..., 47.68965 , 47.685863,\n",
       "        47.682045],\n",
       "       [54.32893 , 54.329456, 54.329983, ..., 47.683243, 47.67944 ,\n",
       "        47.675667],\n",
       "       [54.32154 , 54.32207 , 54.3226  , ..., 47.676834, 47.67309 ,\n",
       "        47.669342],\n",
       "       ...,\n",
       "       [33.582222, 33.58208 , 33.581936, ..., 28.686186, 28.683855,\n",
       "        28.681498],\n",
       "       [33.574837, 33.574696, 33.57456 , ..., 28.679718, 28.677229,\n",
       "        28.674866],\n",
       "       [33.56745 , 33.567314, 33.567177, ..., 28.672884, 28.670422,\n",
       "        28.668032]], shape=(6464, 6400), dtype=float32)"
      ]
     },
     "execution_count": 11,
     "metadata": {},
     "output_type": "execute_result"
    }
   ],
   "source": [
    "granule.read_latitude(\"VIIRS_I5_LST\")"
   ]
  },
  {
   "cell_type": "code",
   "execution_count": 12,
   "metadata": {},
   "outputs": [
    {
     "data": {
      "text/plain": [
       "array([[-144.91571 , -144.90273 , -144.88974 , ..., -101.399574,\n",
       "        -101.38978 , -101.37991 ],\n",
       "       [-144.9148  , -144.90181 , -144.88884 , ..., -101.40502 ,\n",
       "        -101.39519 , -101.385445],\n",
       "       [-144.91388 , -144.90091 , -144.88792 , ..., -101.41047 ,\n",
       "        -101.40079 , -101.39113 ],\n",
       "       ...,\n",
       "       [-145.54718 , -145.53815 , -145.52913 , ..., -113.73674 ,\n",
       "        -113.728874, -113.72093 ],\n",
       "       [-145.54752 , -145.5385  , -145.52946 , ..., -113.74114 ,\n",
       "        -113.732735, -113.724785],\n",
       "       [-145.54787 , -145.53883 , -145.5298  , ..., -113.74428 ,\n",
       "        -113.73601 , -113.727974]], shape=(6464, 6400), dtype=float32)"
      ]
     },
     "execution_count": 12,
     "metadata": {},
     "output_type": "execute_result"
    }
   ],
   "source": [
    "granule.read_longitude(\"VIIRS_I5_LST\")"
   ]
  },
  {
   "cell_type": "code",
   "execution_count": 13,
   "metadata": {},
   "outputs": [
    {
     "data": {
      "text/plain": [
       "{\n",
       "  \"dimensions\": {\n",
       "    \"rows\": 6464,\n",
       "    \"cols\": 6400\n",
       "  },\n",
       "  \"bbox\": {\n",
       "    \"xmin\": -145.54786682128906,\n",
       "    \"ymin\": 28.668031692504883,\n",
       "    \"xmax\": -101.37991333007812,\n",
       "    \"ymax\": 54.43488693237305\n",
       "  },\n",
       "  \"crs\": \"EPSG:4326\",\n",
       "  \"resolution\": {\n",
       "    \"cell_width\": 0.004725880455225706,\n",
       "    \"cell_height\": -0.004725880455225706\n",
       "  }\n",
       "}"
      ]
     },
     "execution_count": 13,
     "metadata": {},
     "output_type": "execute_result"
    }
   ],
   "source": [
    "granule.read_geometry(\"VIIRS_I5_LST\")"
   ]
  },
  {
   "cell_type": "code",
   "execution_count": null,
   "metadata": {},
   "outputs": [],
   "source": []
  }
 ],
 "metadata": {
  "kernelspec": {
   "display_name": "VIIRS-Swath-Granules",
   "language": "python",
   "name": "python3"
  },
  "language_info": {
   "codemirror_mode": {
    "name": "ipython",
    "version": 3
   },
   "file_extension": ".py",
   "mimetype": "text/x-python",
   "name": "python",
   "nbconvert_exporter": "python",
   "pygments_lexer": "ipython3",
   "version": "3.10.17"
  }
 },
 "nbformat": 4,
 "nbformat_minor": 2
}
