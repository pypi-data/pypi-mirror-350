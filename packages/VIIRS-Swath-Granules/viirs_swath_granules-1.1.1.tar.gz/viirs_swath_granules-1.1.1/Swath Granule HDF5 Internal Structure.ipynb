{
 "cells": [
  {
   "cell_type": "code",
   "execution_count": 5,
   "metadata": {},
   "outputs": [],
   "source": [
    "from os.path import expanduser\n",
    "import h5py"
   ]
  },
  {
   "cell_type": "code",
   "execution_count": 2,
   "metadata": {},
   "outputs": [],
   "source": [
    "filename = \"~/data/VNP21IMG_NRT.A2025021.1018.002.2025021155440.nc\""
   ]
  },
  {
   "cell_type": "code",
   "execution_count": 9,
   "metadata": {},
   "outputs": [
    {
     "name": "stdout",
     "output_type": "stream",
     "text": [
      "<KeysViewHDF5 ['VIIRS_I5_LST', 'number_of_lines', 'number_of_pixels']>\n"
     ]
    }
   ],
   "source": [
    "with h5py.File(expanduser(filename), \"r\") as file:\n",
    "    print(file.keys())"
   ]
  },
  {
   "cell_type": "code",
   "execution_count": 8,
   "metadata": {},
   "outputs": [
    {
     "name": "stdout",
     "output_type": "stream",
     "text": [
      "<KeysViewHDF5 ['Data Fields', 'Geolocation Fields']>\n"
     ]
    }
   ],
   "source": [
    "with h5py.File(expanduser(filename), \"r\") as file:\n",
    "    print(file[\"VIIRS_I5_LST\"].keys())"
   ]
  },
  {
   "cell_type": "code",
   "execution_count": 11,
   "metadata": {},
   "outputs": [
    {
     "name": "stdout",
     "output_type": "stream",
     "text": [
      "<KeysViewHDF5 ['Latitude', 'Longitude']>\n"
     ]
    }
   ],
   "source": [
    "with h5py.File(expanduser(filename), \"r\") as file:\n",
    "    print(file[\"VIIRS_I5_LST/Geolocation Fields/\"].keys())"
   ]
  },
  {
   "cell_type": "code",
   "execution_count": null,
   "metadata": {},
   "outputs": [],
   "source": []
  }
 ],
 "metadata": {
  "kernelspec": {
   "display_name": "VIIRS-Swath-Granules",
   "language": "python",
   "name": "python3"
  },
  "language_info": {
   "codemirror_mode": {
    "name": "ipython",
    "version": 3
   },
   "file_extension": ".py",
   "mimetype": "text/x-python",
   "name": "python",
   "nbconvert_exporter": "python",
   "pygments_lexer": "ipython3",
   "version": "3.10.17"
  }
 },
 "nbformat": 4,
 "nbformat_minor": 2
}
