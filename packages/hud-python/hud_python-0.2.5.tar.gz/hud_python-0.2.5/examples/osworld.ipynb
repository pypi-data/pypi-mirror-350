{
 "cells": [
  {
   "cell_type": "code",
   "execution_count": 19,
   "metadata": {},
   "outputs": [],
   "source": [
    "from hud import gym, load_taskset"
   ]
  },
  {
   "cell_type": "code",
   "execution_count": null,
   "metadata": {},
   "outputs": [],
   "source": [
    "taskset = await load_taskset(\"OSWorld-Ubuntu-Links\")\n",
    "print(f\"Total tasks in OSWorld: {len(taskset)}\")\n",
    "\n",
    "test = taskset[2]\n",
    "print(f\"Task prompt: {test.prompt}\")"
   ]
  },
  {
   "cell_type": "code",
   "execution_count": 21,
   "metadata": {},
   "outputs": [],
   "source": [
    "# The Ubuntu environment will take around 2.5 minutes to start, but can be parallelized\n",
    "env = await gym.make(test)"
   ]
  },
  {
   "cell_type": "code",
   "execution_count": null,
   "metadata": {},
   "outputs": [],
   "source": [
    "from hud.agent import ClaudeAgent\n",
    "\n",
    "# Define a new agent each time to reset the message history\n",
    "# Make sure to define the environment variable ANTHROPIC_API_KEY\n",
    "agent = ClaudeAgent()\n",
    "\n",
    "# Initial observation\n",
    "obs, _ = await env.reset()\n",
    "print(f\"Initial observation complete\")\n",
    "\n",
    "# Agent loop\n",
    "for i in range(8):\n",
    "    print(f\"========= Step {i + 1} =========\")\n",
    "    action, done = await agent.predict(obs)\n",
    "    print(f\"Agent's action: {action}\")\n",
    "\n",
    "    if done:\n",
    "        print(\"done\")\n",
    "        break\n",
    "\n",
    "    obs, reward, terminated, info = await env.step(action)\n",
    "\n",
    "    if terminated:\n",
    "        print(\"terminated\")\n",
    "        break"
   ]
  },
  {
   "cell_type": "code",
   "execution_count": 31,
   "metadata": {},
   "outputs": [],
   "source": [
    "# Evaluate environment state\n",
    "result = await env.evaluate()"
   ]
  },
  {
   "cell_type": "code",
   "execution_count": 32,
   "metadata": {},
   "outputs": [],
   "source": [
    "# Make sure to close environment to avoid being charged for idle time\n",
    "await env.close()"
   ]
  },
  {
   "cell_type": "markdown",
   "metadata": {},
   "source": [
    "Paralell runs for the whole dataset"
   ]
  },
  {
   "cell_type": "code",
   "execution_count": 25,
   "metadata": {},
   "outputs": [],
   "source": [
    "import asyncio\n",
    "import json\n",
    "import traceback\n",
    "\n",
    "from hud import register_job, load_taskset"
   ]
  },
  {
   "cell_type": "code",
   "execution_count": 26,
   "metadata": {},
   "outputs": [],
   "source": [
    "# agent loop\n",
    "MAX_STEPS = 30\n",
    "\n",
    "# Limiting concurrent environment creation to 20 for testing purposes\n",
    "semaphore = asyncio.Semaphore(30)\n",
    "\n",
    "# Limiting concurrent Anthropic API calls to 3 to avoid rate limiting\n",
    "anthropic_semaphore = asyncio.Semaphore(3)\n",
    "\n",
    "\n",
    "async def agent_loop(task):\n",
    "    agent = ClaudeAgent()\n",
    "\n",
    "    # Section 1: Environment initialization\n",
    "    async with semaphore:\n",
    "        try:\n",
    "            print(\"Creating Environment\")\n",
    "            env = await gym.make(task)\n",
    "            print(\"Resetting Environment\")\n",
    "            obs, _ = await env.reset()\n",
    "            print(f\"Task description: {obs.text}\")\n",
    "        except Exception as e:\n",
    "            with open(\"run_errors.ndjson\", \"a\") as f:\n",
    "                error_log = {\n",
    "                    \"task_id\": task.id,\n",
    "                    \"phase\": \"initialization\",\n",
    "                    \"error\": str(e),\n",
    "                    \"traceback\": traceback.format_exc(),\n",
    "                }\n",
    "                f.write(json.dumps(error_log) + \"\\n\")\n",
    "            raise\n",
    "\n",
    "    # Section 2: Agent loop\n",
    "    for i in range(MAX_STEPS):\n",
    "        try:\n",
    "            # agent's next action\n",
    "            async with anthropic_semaphore:\n",
    "                actions, done = await agent.predict(obs)\n",
    "\n",
    "            if done:\n",
    "                break\n",
    "\n",
    "            # step the environment forward\n",
    "            obs, reward, terminated, info = await env.step(actions)\n",
    "\n",
    "            # drop out if terminated\n",
    "            if terminated:\n",
    "                break\n",
    "            print(f\"Step {i + 1} completed\")\n",
    "        except Exception as e:\n",
    "            with open(\"run_errors.ndjson\", \"a\") as f:\n",
    "                error_log = {\n",
    "                    \"task_id\": task.id,\n",
    "                    \"phase\": \"agent_loop\",\n",
    "                    \"error\": str(e),\n",
    "                    \"traceback\": traceback.format_exc(),\n",
    "                }\n",
    "                f.write(json.dumps(error_log) + \"\\n\")\n",
    "\n",
    "    # Section 3: Evaluation\n",
    "    try:\n",
    "        result = await env.evaluate()\n",
    "        print(f\"Evaluation result: {result}\")\n",
    "    except Exception as e:\n",
    "        with open(\"run_errors.ndjson\", \"a\") as f:\n",
    "            error_log = {\n",
    "                \"task_id\": task.id,\n",
    "                \"phase\": \"evaluation\",\n",
    "                \"error\": str(e),\n",
    "                \"traceback\": traceback.format_exc(),\n",
    "            }\n",
    "            f.write(json.dumps(error_log) + \"\\n\")\n",
    "        raise\n",
    "\n",
    "    # Section 4: Cleanup\n",
    "    try:\n",
    "        await env.close()\n",
    "    except Exception as e:\n",
    "        with open(\"run_errors.ndjson\", \"a\") as f:\n",
    "            error_log = {\n",
    "                \"task_id\": task.id,\n",
    "                \"phase\": \"cleanup\",\n",
    "                \"error\": str(e),\n",
    "                \"traceback\": traceback.format_exc(),\n",
    "            }\n",
    "            f.write(json.dumps(error_log) + \"\\n\")\n",
    "        raise\n",
    "\n",
    "\n",
    "@register_job(\"claude_osworld_parallel\")\n",
    "async def agent_run(taskset_name: str):\n",
    "    taskset = await load_taskset(taskset_name)\n",
    "    await asyncio.gather(*[agent_loop(task) for task in taskset], return_exceptions=True)"
   ]
  },
  {
   "cell_type": "code",
   "execution_count": null,
   "metadata": {},
   "outputs": [],
   "source": [
    "await agent_run(\"OSWorld-Ubuntu-Links\")"
   ]
  }
 ],
 "metadata": {
  "kernelspec": {
   "display_name": ".venv",
   "language": "python",
   "name": "python3"
  },
  "language_info": {
   "codemirror_mode": {
    "name": "ipython",
    "version": 3
   },
   "file_extension": ".py",
   "mimetype": "text/x-python",
   "name": "python",
   "nbconvert_exporter": "python",
   "pygments_lexer": "ipython3",
   "version": "3.12.9"
  }
 },
 "nbformat": 4,
 "nbformat_minor": 2
}
