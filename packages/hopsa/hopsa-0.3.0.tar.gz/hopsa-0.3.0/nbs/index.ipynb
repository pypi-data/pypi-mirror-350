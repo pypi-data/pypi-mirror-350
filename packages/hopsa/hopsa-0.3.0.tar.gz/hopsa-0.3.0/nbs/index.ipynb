{
 "cells": [
  {
   "cell_type": "markdown",
   "metadata": {},
   "source": [
    "# hopsa\n",
    "\n",
    "> Utilities that I use frequently"
   ]
  },
  {
   "cell_type": "markdown",
   "metadata": {},
   "source": [
    "## Developer Guide"
   ]
  },
  {
   "cell_type": "markdown",
   "metadata": {},
   "source": [
    "If you are new to using `nbdev` here are some useful pointers to get you started."
   ]
  },
  {
   "cell_type": "markdown",
   "metadata": {},
   "source": [
    "# Install hopsa in Development mode"
   ]
  },
  {
   "cell_type": "markdown",
   "metadata": {},
   "source": [
    "#### Using pip\n",
    "\n",
    "Prefered method because `nbdev` assumes that you use `pip`."
   ]
  },
  {
   "cell_type": "markdown",
   "metadata": {},
   "source": [
    "```sh\n",
    "# make sure hop package is installed in development mode\n",
    "$ pip install -e .\n",
    "\n",
    "# make changes under nbs/ directory\n",
    "# ...\n",
    "\n",
    "# compile to have changes apply to hop\n",
    "$ nbdev_prepare\n",
    "```"
   ]
  },
  {
   "cell_type": "markdown",
   "metadata": {},
   "source": [
    "#### Using uv\n",
    "\n",
    "The package manager `uv` has many advantages over `pip`, but is not the default for `nbdev`, so this approach might lead to some confusion.\n",
    "\n",
    "Contrary to `pip`, `uv` installs the project in editable mode, such that changes to the source code are immediately reflected in the environment. `uv sync` and `uv run` both accept a `--no-editable` flag, which instructs uv to install the project in non-editable mode.\n"
   ]
  },
  {
   "cell_type": "markdown",
   "metadata": {},
   "source": [
    "```sh\n",
    "# make sure hop package is installed in development mode\n",
    "$ uv sync\n",
    "\n",
    "# make changes under nbs/ directory\n",
    "# ...\n",
    "\n",
    "# compile to have changes apply to hop\n",
    "$ nbdev_prepare\n",
    "```"
   ]
  },
  {
   "cell_type": "markdown",
   "metadata": {},
   "source": [
    "## Usage"
   ]
  },
  {
   "cell_type": "markdown",
   "metadata": {},
   "source": [
    "### Installation"
   ]
  },
  {
   "cell_type": "markdown",
   "metadata": {},
   "source": [
    "Install latest from the GitHub [repository][repo]:\n",
    "\n",
    "```sh\n",
    "$ pip install git+https://github.com/Hopsakee/hopsa.git\n",
    "```\n",
    "\n",
    "or with [uv][uv]\n",
    "\n",
    "```sh\n",
    "$ uv add git+https://github.com/Hopsakee/hopsa.git\n",
    "```\n",
    "\n",
    "or from [pypi][pypi]\n",
    "\n",
    "With pip\n",
    "\n",
    "```sh\n",
    "$ pip install hopsa\n",
    "```\n",
    "\n",
    "or with [uv][uv]\n",
    "\n",
    "```sh\n",
    "$ uv add hopsa\n",
    "```\n",
    "\n",
    "[repo]: https://github.com/Hopsakee/hopsa\n",
    "[docs]: https://Hopsakee.github.io/hopsa/\n",
    "[pypi]: https://pypi.org/project/hopsa/\n",
    "[uv]: https://docs.astral.sh/uv/ "
   ]
  },
  {
   "cell_type": "markdown",
   "metadata": {},
   "source": [
    "### Documentation"
   ]
  },
  {
   "cell_type": "markdown",
   "metadata": {},
   "source": [
    "Documentation can be found hosted on this GitHub [repository][repo]'s [pages][docs]. Additionally you can find package manager specific guidelines on [conda][conda] and [pypi][pypi] respectively.\n",
    "\n",
    "[repo]: https://github.com/Hopsakee/hop\n",
    "[docs]: https://Hopsakee.github.io/hop/\n",
    "[pypi]: https://pypi.org/project/hop/\n",
    "[conda]: https://anaconda.org/Hopsakee/hop"
   ]
  },
  {
   "cell_type": "markdown",
   "metadata": {},
   "source": [
    "## How to use"
   ]
  },
  {
   "cell_type": "markdown",
   "metadata": {},
   "source": [
    "Fill me in please! Don't forget code examples:"
   ]
  },
  {
   "cell_type": "code",
   "execution_count": null,
   "metadata": {},
   "outputs": [
    {
     "data": {
      "text/plain": [
       "2"
      ]
     },
     "execution_count": null,
     "metadata": {},
     "output_type": "execute_result"
    }
   ],
   "source": [
    "1+1"
   ]
  },
  {
   "cell_type": "code",
   "execution_count": null,
   "metadata": {},
   "outputs": [],
   "source": []
  }
 ],
 "metadata": {
  "kernelspec": {
   "display_name": "python3",
   "language": "python",
   "name": "python3"
  }
 },
 "nbformat": 4,
 "nbformat_minor": 4
}
