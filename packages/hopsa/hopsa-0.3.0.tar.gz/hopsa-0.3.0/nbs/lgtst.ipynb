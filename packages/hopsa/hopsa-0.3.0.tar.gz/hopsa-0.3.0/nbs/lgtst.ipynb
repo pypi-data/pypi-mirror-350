{
 "cells": [
  {
   "cell_type": "markdown",
   "metadata": {},
   "source": [
    "# Logging and tests utilities\n",
    "\n",
    "> Utilities to ease the setting of logging and tests"
   ]
  },
  {
   "cell_type": "code",
   "execution_count": null,
   "metadata": {},
   "outputs": [],
   "source": [
    "#| default_exp lgtst"
   ]
  },
  {
   "cell_type": "code",
   "execution_count": null,
   "metadata": {},
   "outputs": [],
   "source": [
    "#| hide\n",
    "from nbdev.showdoc import *"
   ]
  },
  {
   "cell_type": "code",
   "execution_count": null,
   "metadata": {},
   "outputs": [],
   "source": [
    "#| export\n",
    "import logging\n",
    "from logging.handlers import RotatingFileHandler\n",
    "from pathlib import Path\n",
    "\n",
    "from hopsa import ossys"
   ]
  },
  {
   "cell_type": "markdown",
   "metadata": {},
   "source": [
    "## Logging"
   ]
  },
  {
   "cell_type": "markdown",
   "metadata": {},
   "source": [
    "#### Logging Levels\n",
    "\n",
    "Python logging has five standard levels, in increasing order of severity:\n",
    "\n",
    "- DEBUG (10): Detailed information, typically useful for diagnosing problems\n",
    "- INFO (20): Confirmation that things are working as expected\n",
    "- WARNING (30): An indication something unexpected happened, but the program still works\n",
    "- ERROR (40): Due to a more serious problem, the software couldn't perform some function\n",
    "- CRITICAL (50): A very serious error, indicating the program may be unable to continue"
   ]
  },
  {
   "cell_type": "markdown",
   "metadata": {},
   "source": [
    "The function does return the root Logger, though typically you would not use it directly."
   ]
  },
  {
   "cell_type": "code",
   "execution_count": null,
   "metadata": {},
   "outputs": [],
   "source": [
    "#| export\n",
    "def set_logging(\n",
    "        level: int = logging.INFO, # The logging level\n",
    "        format_file: str = '%(asctime)s - %(name)s - %(levelname)s - %(message)s', # The logging format for the file\n",
    "        format_console: str = '%(levelname)s - %(message)s', # The logging format for the console\n",
    "        datefmt: str = '%Y-%m-%d %H:%M:%S', # The date format\n",
    "        log_dir: str = None, # The logging directory, if None, logs to console\n",
    "        filemode: str = 'a', # The logging file mode. 'a' for append, 'w' for overwrite\n",
    "        backupCount: int = 5, # The number of backup files to keep\n",
    "        maxBytes: int = 1024*1024*5, # The maximum size of the log file in bytes\n",
    "    ) -> logging.Logger:\n",
    "    \"\"\"Set up the root Logger\"\"\"\n",
    "\n",
    "    if log_dir is None:\n",
    "        log_dir = ossys.get_project_root() / 'logs'\n",
    "    else:\n",
    "        log_dir = Path(log_dir)\n",
    "    \n",
    "    log_dir.mkdir(exist_ok=True, parents=True)\n",
    "\n",
    "    log_file = log_dir / f'{ossys.get_project_name()}.log'\n",
    "\n",
    "    # Configure root logger\n",
    "    root_logger = logging.getLogger()\n",
    "    root_logger.setLevel(level)\n",
    "\n",
    "    # Create console handler\n",
    "    console_handler = logging.StreamHandler()\n",
    "    console_handler.setLevel(level)\n",
    "    console_handler.setFormatter(logging.Formatter(format_console))\n",
    "\n",
    "    # Create rotating file handler\n",
    "    file_handler = RotatingFileHandler(\n",
    "        log_file,\n",
    "        maxBytes=maxBytes,\n",
    "        backupCount=backupCount,\n",
    "        encoding='utf-8'\n",
    "        )\n",
    "    file_handler.setLevel(level)\n",
    "    file_handler.setFormatter(logging.Formatter(format_file, datefmt=datefmt))\n",
    "\n",
    "    # Add handlers to root logger\n",
    "    root_logger.addHandler(console_handler)\n",
    "    root_logger.addHandler(file_handler)\n",
    "\n",
    "    # Log startup information\n",
    "    logging.info(f\"Log file: {log_file}\")\n",
    "    logging.info(f\"Log file mode: {filemode}\")\n",
    "    logging.info(f\"Log backup count: {backupCount}\")\n",
    "    logging.info(f\"Log max bytes: {maxBytes}\")\n",
    "    \n",
    "    return root_logger"
   ]
  },
  {
   "cell_type": "markdown",
   "metadata": {},
   "source": [
    "#### Example usage"
   ]
  },
  {
   "cell_type": "markdown",
   "metadata": {},
   "source": [
    "We must make sure the logging works when we are testing indivudual notebooks and when running the complete code. To accomplish this we can do the following."
   ]
  },
  {
   "cell_type": "markdown",
   "metadata": {},
   "source": [
    "1. First in `run.py` or other entry point of the project, add the following to get the logging when the complete code is run:\n",
    "\n",
    ">```python\n",
    ">from hopsa import set_logging\n",
    ">\n",
    ">if __name__ == \"__main__\":\n",
    ">    log_dir = \"../logs\"\n",
    ">    set_logging(log_dir=log_dir, level=10)\n",
    ">```\n",
    "\n",
    "or\n",
    "\n",
    ">```python\n",
    ">import logging\n",
    ">from hopsa import set_logging\n",
    ">\n",
    ">if __name__ == \"__main__\":\n",
    ">    log_dir = \"../logs\"\n",
    ">    set_logging(log_dir=log_dir, level=logging.DEBUG)\n",
    ">```"
   ]
  },
  {
   "cell_type": "markdown",
   "metadata": {},
   "source": [
    "2. Then in each module/notebook, you create module-specific loggers:\n",
    "\n",
    "At the top of each notebook (00_core.ipynb, 02_features.ipynb, etc.)\n",
    "\n",
    ">```python\n",
    ">#| export\n",
    ">import logging\n",
    ">```\n",
    "\n",
    ">```python\n",
    ">#| eval: false\n",
    ">from hopsa import lgtst\n",
    ">```\n",
    "\n",
    ">```python\n",
    ">#| eval: false\n",
    ">lgtst.set_logging(log_dir=\"../logs\", level=logging.DEBUG)\n",
    ">```\n",
    "\n",
    ">```python\n",
    ">#| export\n",
    ">logger = logging.getLogger(__name__)\n",
    ">```\n",
    "\n",
    "The `#| export` nbdev directive makes sure this cell will be used in the python module.\n",
    "The `#| eval: false` nbdev directive makes sure this cell will run when we run the notebook, but it won't be used in the Python module and it also won't be tested when we run `nbdev_prepare`."
   ]
  },
  {
   "cell_type": "markdown",
   "metadata": {},
   "source": [
    "Then use the logger throughout the module\n",
    "\n",
    ">```python\n",
    ">logger.debug(\"Debug message\")\n",
    ">logger.info(\"Info message\")\n",
    ">```"
   ]
  },
  {
   "cell_type": "code",
   "execution_count": null,
   "metadata": {},
   "outputs": [
    {
     "name": "stderr",
     "output_type": "stream",
     "text": [
      "INFO - Log file: /home/jelle/code/hopsa/logs/hopsa.log\n",
      "INFO - Log file: /home/jelle/code/hopsa/logs/hopsa.log\n",
      "INFO - Log file mode: a\n",
      "INFO - Log file mode: a\n",
      "INFO - Log backup count: 5\n",
      "INFO - Log backup count: 5\n",
      "INFO - Log max bytes: 5242880\n",
      "INFO - Log max bytes: 5242880\n"
     ]
    }
   ],
   "source": [
    "rt_logger = set_logging()"
   ]
  },
  {
   "cell_type": "code",
   "execution_count": null,
   "metadata": {},
   "outputs": [
    {
     "name": "stdout",
     "output_type": "stream",
     "text": [
      "Removed handler: <StreamHandler stderr (INFO)>\n",
      "Removed handler: <RotatingFileHandler /home/jelle/code/hopsa/logs/hopsa.log (INFO)>\n"
     ]
    }
   ],
   "source": [
    "for h in rt_logger.handlers:\n",
    "    h.close()\n",
    "    rt_logger.removeHandler(h)\n",
    "    print(f\"Removed handler: {h}\")"
   ]
  },
  {
   "cell_type": "code",
   "execution_count": null,
   "metadata": {},
   "outputs": [],
   "source": [
    "#| hide\n",
    "import nbdev; nbdev.nbdev_export()"
   ]
  }
 ],
 "metadata": {
  "kernelspec": {
   "display_name": "python3",
   "language": "python",
   "name": "python3"
  }
 },
 "nbformat": 4,
 "nbformat_minor": 4
}
