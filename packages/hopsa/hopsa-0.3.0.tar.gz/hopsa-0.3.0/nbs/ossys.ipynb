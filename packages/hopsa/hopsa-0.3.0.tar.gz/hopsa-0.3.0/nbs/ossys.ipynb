{
 "cells": [
  {
   "cell_type": "markdown",
   "metadata": {},
   "source": [
    "# System utilities\n",
    "\n",
    "> Utilities to ease the use of operation system commands and files and folders"
   ]
  },
  {
   "cell_type": "code",
   "execution_count": null,
   "metadata": {},
   "outputs": [],
   "source": [
    "#| default_exp ossys"
   ]
  },
  {
   "cell_type": "code",
   "execution_count": null,
   "metadata": {},
   "outputs": [],
   "source": [
    "#| hide\n",
    "from nbdev.showdoc import *"
   ]
  },
  {
   "cell_type": "code",
   "execution_count": null,
   "metadata": {},
   "outputs": [],
   "source": [
    "#| export\n",
    "import re\n",
    "import unicodedata\n",
    "import tomllib\n",
    "from pathlib import Path\n",
    "from typing import Optional\n",
    "from fastcore.test import test_eq"
   ]
  },
  {
   "cell_type": "markdown",
   "metadata": {},
   "source": [
    "## Get project root"
   ]
  },
  {
   "cell_type": "code",
   "execution_count": null,
   "metadata": {},
   "outputs": [],
   "source": [
    "#| export\n",
    "def get_project_root() -> Optional[Path]:\n",
    "    \"\"\"Get the project root directory from either notebook or module context\"\"\"\n",
    "    try:\n",
    "        try:\n",
    "            get_ipython()\n",
    "            current = Path.cwd()\n",
    "        except NameError:\n",
    "            current = Path(__file__).resolve().parent\n",
    "\n",
    "        while current != current.parent: # Stop at root directory\n",
    "            if (current / 'pyproject.toml').exists():\n",
    "                return current\n",
    "            current = current.parent\n",
    "        raise FileNotFoundError(\"Could not find pyproject.toml in any parent directory\")\n",
    "    except Exception as e:\n",
    "        print(f\"Error finding project root: {str(e)}\")\n",
    "        return None"
   ]
  },
  {
   "cell_type": "markdown",
   "metadata": {},
   "source": [
    "#### Example usage"
   ]
  },
  {
   "cell_type": "code",
   "execution_count": null,
   "metadata": {},
   "outputs": [
    {
     "data": {
      "text/plain": [
       "Path('/home/jelle/code/hopsa')"
      ]
     },
     "execution_count": null,
     "metadata": {},
     "output_type": "execute_result"
    }
   ],
   "source": [
    "get_project_root()"
   ]
  },
  {
   "cell_type": "markdown",
   "metadata": {},
   "source": [
    "## Get project name"
   ]
  },
  {
   "cell_type": "code",
   "execution_count": null,
   "metadata": {},
   "outputs": [],
   "source": [
    "#| export\n",
    "def get_project_name():\n",
    "    try:\n",
    "        toml_file = get_project_root() / \"pyproject.toml\"\n",
    "        with open(toml_file, \"rb\") as f:\n",
    "            pyproject = tomllib.load(f)\n",
    "            return pyproject.get(\"project\", {}).get(\"name\", \"app\")\n",
    "    except (FileNotFoundError, KeyError):\n",
    "        # Default to 'app' if file not found or missing project name\n",
    "        return \"app\""
   ]
  },
  {
   "cell_type": "markdown",
   "metadata": {},
   "source": [
    "#### Example usage"
   ]
  },
  {
   "cell_type": "code",
   "execution_count": null,
   "metadata": {},
   "outputs": [
    {
     "data": {
      "text/plain": [
       "'hopsa'"
      ]
     },
     "execution_count": null,
     "metadata": {},
     "output_type": "execute_result"
    }
   ],
   "source": [
    "get_project_name()"
   ]
  },
  {
   "cell_type": "markdown",
   "metadata": {},
   "source": [
    "## Sanitize names\n",
    "\n",
    "Remove special characters from names, convert to lowercase, and remove leading and trailing whitespace. Especially convenient to create filenames and foldernames that are compatible with most operating systems, but can also be used to sanitize names for other purposes."
   ]
  },
  {
   "cell_type": "code",
   "execution_count": null,
   "metadata": {},
   "outputs": [],
   "source": [
    "#| export\n",
    "def sanitize_name(name: str) -> str:\n",
    "    \"\"\"Remove special characters from names, convert to lowercase, and remove leading and trailing whitespace.\"\"\"\n",
    "    nfkd_form = unicodedata.normalize('NFKD', name)\n",
    "    ascii_name = ''.join([c for c in nfkd_form if not unicodedata.combining(c)])\n",
    "    return re.sub(r'_+', '_', re.sub(r'[^a-z0-9]', '_', ascii_name.lower()).strip('_'))\n"
   ]
  },
  {
   "cell_type": "code",
   "execution_count": null,
   "metadata": {},
   "outputs": [],
   "source": [
    "\"\"\"Test basic sanitization cases\"\"\"\n",
    "test_eq(sanitize_name(\"My Test Name\"), \"my_test_name\")\n",
    "test_eq(sanitize_name(\"  Trim Me  \"), \"trim_me\")\n",
    "test_eq(sanitize_name(\"UPPER CASE\"), \"upper_case\")\n",
    "\n",
    "\"\"\"Test with special characters\"\"\"\n",
    "test_eq(sanitize_name(\"File@Name#123\"), \"file_name_123\")\n",
    "test_eq(sanitize_name(\"user@domain.com\"), \"user_domain_com\")\n",
    "test_eq(sanitize_name(\"test$%^&*()name\"), \"test_name\")\n",
    "\n",
    "\"\"\"Test with emoticons and unicode characters\"\"\"\n",
    "test_eq(sanitize_name(\"Happy 😊 Face\"), \"happy_face\")\n",
    "test_eq(sanitize_name(\"Thumbs 👍 Up\"), \"thumbs_up\")\n",
    "test_eq(sanitize_name(\"Café \"), \"cafe\")\n",
    "test_eq(sanitize_name(\"Mötörhead\"), \"motorhead\")\n",
    "\n",
    "\"\"\"Test with multiple spaces and various whitespace characters\"\"\"\n",
    "test_eq(sanitize_name(\"Too    Many   Spaces\"), \"too_many_spaces\")\n",
    "test_eq(sanitize_name(\"New\\nLine\"), \"new_line\")\n",
    "test_eq(sanitize_name(\"Tab\\tSeparated\"), \"tab_separated\")\n",
    "\n",
    "\"\"\"Test edge cases and empty inputs\"\"\"\n",
    "test_eq(sanitize_name(\"\"), \"\")\n",
    "test_eq(sanitize_name(\" \"), \"\")\n",
    "test_eq(sanitize_name(\"!@#$%^\"), \"\")\n",
    "test_eq(sanitize_name(\"123\"), \"123\")\n",
    "test_eq(sanitize_name(\"a\"), \"a\")\n"
   ]
  },
  {
   "cell_type": "code",
   "execution_count": null,
   "metadata": {},
   "outputs": [],
   "source": [
    "#| hide\n",
    "import nbdev; nbdev.nbdev_export()"
   ]
  }
 ],
 "metadata": {
  "kernelspec": {
   "display_name": "python3",
   "language": "python",
   "name": "python3"
  }
 },
 "nbformat": 4,
 "nbformat_minor": 4
}
