{
 "cells": [
  {
   "cell_type": "markdown",
   "metadata": {},
   "source": [
    "# Under the hood"
   ]
  },
  {
   "cell_type": "markdown",
   "metadata": {},
   "source": [
    "The functional representations of the economic model are written dynamically during parsing/loarding (in `econpizza/parser/__init__.py`)."
   ]
  },
  {
   "cell_type": "code",
   "execution_count": 1,
   "metadata": {},
   "outputs": [],
   "source": [
    "import econpizza as ep\n",
    "example_hank = ep.examples.hank"
   ]
  },
  {
   "cell_type": "code",
   "execution_count": 2,
   "metadata": {},
   "outputs": [
    {
     "name": "stderr",
     "output_type": "stream",
     "text": [
      "WARNING:jax._src.xla_bridge:No GPU/TPU found, falling back to CPU. (Set TF_CPP_MIN_LOG_LEVEL=0 and rerun for more info.)\n"
     ]
    },
    {
     "name": "stdout",
     "output_type": "stream",
     "text": [
      "(load:) Parsing done.\n"
     ]
    }
   ],
   "source": [
    "mod = ep.load(example_hank)"
   ]
  },
  {
   "cell_type": "markdown",
   "metadata": {},
   "source": [
    "The model instance is a dictionary, containing all the informations of the model. For instance, it contains the dynamically created functions as strings:"
   ]
  },
  {
   "cell_type": "code",
   "execution_count": 3,
   "metadata": {},
   "outputs": [
    {
     "data": {
      "text/plain": [
       "dict_keys(['func_backw', 'func_eqns'])"
      ]
     },
     "execution_count": 3,
     "metadata": {},
     "output_type": "execute_result"
    }
   ],
   "source": [
    "mod['func_strings'].keys()"
   ]
  },
  {
   "cell_type": "markdown",
   "metadata": {},
   "source": [
    "The function `func_backw` corresponds to function $W(\\cdot)$ from the paper and `func_eqns` is $f(\\cdot)$. The other functions are static.\n",
    "\n",
    "Lets inspect $f$:"
   ]
  },
  {
   "cell_type": "code",
   "execution_count": 4,
   "metadata": {},
   "outputs": [
    {
     "name": "stdout",
     "output_type": "stream",
     "text": [
      "def func_eqns(XLag, X, XPrime, XSS, shocks, pars, distributions=[], decisions_outputs=[]):\n",
      "        \n",
      "        \n",
      " (BLag, betaLag, CLag, divLag, nLag, piLag, RLag, RnLag, RrLag, RstarLag, taxLag, Top10ALag, Top10CLag, wLag, yLag, y_prodLag, zLag, ) = XLag\n",
      "        \n",
      " (B, beta, C, div, n, pi, R, Rn, Rr, Rstar, tax, Top10A, Top10C, w, y, y_prod, z, ) = X\n",
      "        \n",
      " (BPrime, betaPrime, CPrime, divPrime, nPrime, piPrime, RPrime, RnPrime, RrPrime, RstarPrime, taxPrime, Top10APrime, Top10CPrime, wPrime, yPrime, y_prodPrime, zPrime, ) = XPrime\n",
      "        \n",
      " (BSS, betaSS, CSS, divSS, nSS, piSS, RSS, RnSS, RrSS, RstarSS, taxSS, Top10ASS, Top10CSS, wSS, ySS, y_prodSS, zSS, ) = XSS\n",
      "        \n",
      " (sigma_c, sigma_l, theta, psi, phi_pi, phi_y, rho, rho_beta, rho_r, rho_z, ) = pars\n",
      "        \n",
      " (e_beta, e_rstar, e_z, ) = shocks\n",
      "        \n",
      " (dist, ) = distributions\n",
      "        \n",
      " (a, c, ) = decisions_outputs\n",
      "        \n",
      " # NOTE: summing over the first two dimensions e and a, but not the time dimension (dimension 2)\n",
      " # `dist` here corresponds to the dist *at the beginning of the period*\n",
      " aggr_a = jnp.sum(dist*a, axis=(0,1))\n",
      " aggr_c = jnp.sum(dist*c, axis=(0,1))\n",
      " # calculate consumption and wealth share of top-10%\n",
      " top10c = 1 - percentile(c, dist, .9)\n",
      " top10a = 1 - percentile(a, dist, .9)\n",
      "        \n",
      " root_container0 = C  - ( aggr_c)\n",
      " root_container1 = Top10C  - ( top10c)\n",
      " root_container2 = Top10A  - ( top10a)\n",
      " root_container3 = n  - ( y_prod/z)\n",
      " root_container4 = div  - ( -w*n + (1 - psi*(pi/piSS - 1)**2/2)*y_prod)\n",
      " root_container5 = y  - ( (1 - psi*(pi/piSS - 1)**2/2)*y_prod)\n",
      " root_container6 = psi*(pi/piSS - 1)*pi/piSS  - ( (1-theta) + theta*w + psi*piPrime/R*(piPrime/piSS - 1)*piPrime/piSS*y_prodPrime/y_prod)\n",
      " root_container7 = tax  - ( (Rr-1)*BLag)\n",
      " root_container8 = Rr  - ( RLag/pi)\n",
      " root_container9 = Rn  - ( (Rstar*((pi/piSS)**phi_pi)*((y/yLag)**phi_y))**(1-rho)*RnLag**rho)\n",
      " root_container10 = R  - ( maximum(1, Rn))\n",
      " root_container11 = C  - ( y)\n",
      " root_container12 = B  - ( aggr_a)\n",
      " root_container13 = n**sigma_l  - ( w)\n",
      " root_container14 = beta  - ( betaSS*(betaLag/betaSS)**rho_beta*exp(e_beta))\n",
      " root_container15 = Rstar  - ( RstarSS*(RstarLag/RstarSS)**rho_r*exp(e_rstar))\n",
      " root_container16 = z  - ( zSS*(zLag/zSS)**rho_z*exp(e_z))\n",
      "        \n",
      " return jnp.array([root_container0, root_container1, root_container2, root_container3, root_container4, root_container5, root_container6, root_container7, root_container8, root_container9, root_container10, root_container11, root_container12, root_container13, root_container14, root_container15, root_container16]).T.ravel()\n"
     ]
    }
   ],
   "source": [
    "print(mod['func_strings']['func_eqns'])"
   ]
  },
  {
   "cell_type": "markdown",
   "metadata": {},
   "source": [
    "This function is then automatically compiled and the callable can be found in `model['context']`:"
   ]
  },
  {
   "cell_type": "code",
   "execution_count": 5,
   "metadata": {},
   "outputs": [
    {
     "data": {
      "text/plain": [
       "<function econpizza.parser.func_eqns(XLag, X, XPrime, XSS, shocks, pars, distributions=[], decisions_outputs=[])>"
      ]
     },
     "execution_count": 5,
     "metadata": {},
     "output_type": "execute_result"
    }
   ],
   "source": [
    "mod['context']['func_eqns']"
   ]
  },
  {
   "cell_type": "markdown",
   "metadata": {},
   "source": [
    "The `model['context']` itself contans the name space in which all model functions and definitions are evaluated. This may be useful for debugging:"
   ]
  },
  {
   "cell_type": "code",
   "execution_count": 6,
   "metadata": {},
   "outputs": [
    {
     "data": {
      "text/plain": [
       "dict_keys(['__name__', '__doc__', '__package__', '__loader__', '__spec__', '__path__', '__file__', '__cached__', '__builtins__', 'yaml', 're', 'os', 'sys', 'tempfile', 'jax', 'jaxlib', 'jnp', 'iu', 'deepcopy', 'copy', 'getmembers', 'isfunction', 'jax_print', 'het_agent_base_funcs', 'build_functions', 'write_dynamic_functions', 'func_forw_generic', 'func_forw_stst_generic', 'compile_func_basics_str', 'compile_backw_func_str', 'get_forw_funcs', 'compile_eqn_func_str', 'checks', 'func_pre_stst', 'check_if_defined', 'check_dublicates', 'check_determinancy', 'check_initial_values', 'check_shapes', 'check_if_compiled', 'grids', 'dists', 'interp', 'cached_mdicts', 'cached_models', 'd2jnp', '_load_as_module', 'parse', '_eval_strs', '_parse_external_functions_file', '_initialize_context', '_initialize_cache', '_load_external_functions_file', '_compile_init_values', '_define_subdict_if_absent', '_define_function', '_get_pre_stst_mapping', 'compile_stst_inputs', 'load', 'log', 'exp', 'sqrt', 'max', 'min', 'egm_init', 'egm_step', 'interpolate', 'transfers', 'maximum', 'percentile', 'skills_grid', 'skills_stationary', 'skills_transition', 'a_grid', 'func_backw', 'func_forw', 'func_forw_stst', 'func_eqns', 'sigma_c', 'sigma_l', 'theta', 'psi', 'phi_pi', 'phi_y', 'rho', 'rho_beta', 'rho_r', 'rho_z', 'y', 'y_prod', 'C', 'pi', 'beta', 'B', 'w', 'n', 'div', 'z', 'Rstar', 'Rr', 'Rn', 'R', 'tax', 'WaPrime', 'init_run'])"
      ]
     },
     "execution_count": 6,
     "metadata": {},
     "output_type": "execute_result"
    }
   ],
   "source": [
    "mod['context'].keys()"
   ]
  }
 ],
 "metadata": {
  "@webio": {
   "lastCommId": null,
   "lastKernelId": null
  },
  "kernelspec": {
   "display_name": "Python 3 (ipykernel)",
   "language": "python",
   "name": "python3"
  },
  "language_info": {
   "codemirror_mode": {
    "name": "ipython",
    "version": 3
   },
   "file_extension": ".py",
   "mimetype": "text/x-python",
   "name": "python",
   "nbconvert_exporter": "python",
   "pygments_lexer": "ipython3",
   "version": "3.10.10"
  }
 },
 "nbformat": 4,
 "nbformat_minor": 2
}
