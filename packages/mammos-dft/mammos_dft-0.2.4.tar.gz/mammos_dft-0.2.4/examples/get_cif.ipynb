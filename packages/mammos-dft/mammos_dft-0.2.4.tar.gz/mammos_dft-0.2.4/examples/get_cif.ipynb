{
 "cells": [
  {
   "cell_type": "markdown",
   "id": "f5d49241",
   "metadata": {},
   "source": [
    "# Load cif from database"
   ]
  },
  {
   "cell_type": "markdown",
   "id": "b338a5db",
   "metadata": {
    "vscode": {
     "languageId": "plaintext"
    }
   },
   "source": [
    "Use case: I know some information about the material, I want to load the full material structure and move it into the `FeCoSi` directory."
   ]
  },
  {
   "cell_type": "code",
   "execution_count": 1,
   "id": "59e76035",
   "metadata": {},
   "outputs": [
    {
     "data": {
      "text/html": [
       "<pre style=\"white-space:pre;overflow-x:auto;line-height:normal;font-family:Menlo,'DejaVu Sans Mono',consolas,'Courier New',monospace\">Found material in database.\n",
       "</pre>\n"
      ],
      "text/plain": [
       "Found material in database.\n"
      ]
     },
     "metadata": {},
     "output_type": "display_data"
    },
    {
     "data": {
      "text/html": [
       "<pre style=\"white-space:pre;overflow-x:auto;line-height:normal;font-family:Menlo,'DejaVu Sans Mono',consolas,'Courier New',monospace\">\n",
       "Chemical Formula: FeCoSi\n",
       "Space group name: Pnma\n",
       "Space group number: <span style=\"color: #008080; text-decoration-color: #008080; font-weight: bold\">62</span>\n",
       "Cell length a: <span style=\"color: #008080; text-decoration-color: #008080; font-weight: bold\">4.942</span> Angstrom\n",
       "Cell length b: <span style=\"color: #008080; text-decoration-color: #008080; font-weight: bold\">3.776</span> Angstrom\n",
       "Cell length c: <span style=\"color: #008080; text-decoration-color: #008080; font-weight: bold\">7.172</span> Angstrom\n",
       "Cell angle alpha: <span style=\"color: #008080; text-decoration-color: #008080; font-weight: bold\">90.0</span> deg\n",
       "Cell angle beta: <span style=\"color: #008080; text-decoration-color: #008080; font-weight: bold\">90.0</span> deg\n",
       "Cell angle gamma: <span style=\"color: #008080; text-decoration-color: #008080; font-weight: bold\">90.0</span> deg\n",
       "Cell volume: <span style=\"color: #008080; text-decoration-color: #008080; font-weight: bold\">133.84</span> Angstrom3\n",
       "ICSD_label: <span style=\"color: #008080; text-decoration-color: #008080; font-weight: bold\">165250</span>\n",
       "OQMD_label: icsd-<span style=\"color: #008080; text-decoration-color: #008080; font-weight: bold\">165250</span>\n",
       "\n",
       "</pre>\n"
      ],
      "text/plain": [
       "\n",
       "Chemical Formula: FeCoSi\n",
       "Space group name: Pnma\n",
       "Space group number: \u001b[1;36m62\u001b[0m\n",
       "Cell length a: \u001b[1;36m4.942\u001b[0m Angstrom\n",
       "Cell length b: \u001b[1;36m3.776\u001b[0m Angstrom\n",
       "Cell length c: \u001b[1;36m7.172\u001b[0m Angstrom\n",
       "Cell angle alpha: \u001b[1;36m90.0\u001b[0m deg\n",
       "Cell angle beta: \u001b[1;36m90.0\u001b[0m deg\n",
       "Cell angle gamma: \u001b[1;36m90.0\u001b[0m deg\n",
       "Cell volume: \u001b[1;36m133.84\u001b[0m Angstrom3\n",
       "ICSD_label: \u001b[1;36m165250\u001b[0m\n",
       "OQMD_label: icsd-\u001b[1;36m165250\u001b[0m\n",
       "\n"
      ]
     },
     "metadata": {},
     "output_type": "display_data"
    }
   ],
   "source": [
    "from mammos_dft.db import get_cif\n",
    "\n",
    "get_cif(\"FeCoSi-62\", outdir=\"FeCoSi\")"
   ]
  }
 ],
 "metadata": {
  "kernelspec": {
   "display_name": "example",
   "language": "python",
   "name": "python3"
  },
  "language_info": {
   "codemirror_mode": {
    "name": "ipython",
    "version": 3
   },
   "file_extension": ".py",
   "mimetype": "text/x-python",
   "name": "python",
   "nbconvert_exporter": "python",
   "pygments_lexer": "ipython3",
   "version": "3.13.3"
  }
 },
 "nbformat": 4,
 "nbformat_minor": 5
}
