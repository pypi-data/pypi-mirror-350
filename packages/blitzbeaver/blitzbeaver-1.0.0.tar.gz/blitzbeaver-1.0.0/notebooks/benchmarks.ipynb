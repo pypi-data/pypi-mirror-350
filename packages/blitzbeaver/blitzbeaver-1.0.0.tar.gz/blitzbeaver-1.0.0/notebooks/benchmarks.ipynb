{
 "cells": [
  {
   "cell_type": "code",
   "execution_count": null,
   "metadata": {},
   "outputs": [],
   "source": [
    "import time\n",
    "import polars as pl\n",
    "import matplotlib.pyplot as plt\n",
    "import blitzbeaver"
   ]
  },
  {
   "cell_type": "code",
   "execution_count": null,
   "metadata": {},
   "outputs": [],
   "source": [
    "csv_path = \"/home/plouc314/Documents/epfl/ma1/shs/project/data/csv\"\n",
    "n_year = 10\n",
    "dfs = []\n",
    "\n",
    "for year in range(n_year):\n",
    "    year += 1835\n",
    "    df = pl.read_csv(f\"{csv_path}/{year}.csv\")\n",
    "    dfs.append(df)\n",
    "\n",
    "df1 = dfs[0]\n",
    "df2 = dfs[1]\n",
    "df3 = dfs[2]"
   ]
  },
  {
   "cell_type": "code",
   "execution_count": null,
   "metadata": {},
   "outputs": [],
   "source": [
    "n_run = 1000\n",
    "\n",
    "st = time.perf_counter()\n",
    "r = blitzbeaver.benchmark_distance_functions(\n",
    "    df1[\"nom_rue_norm\"],\n",
    "    \"alexandre\",\n",
    "    num_runs=n_run,\n",
    "    distance_function=\"lv_opti\",\n",
    ")\n",
    "d = time.perf_counter() - st\n",
    "print(d)\n"
   ]
  },
  {
   "cell_type": "code",
   "execution_count": null,
   "metadata": {},
   "outputs": [],
   "source": [
    "def benchmark_dist_comp_pass(\n",
    "    values1: pl.Series,\n",
    "    values2: pl.Series,\n",
    "    cache_dist_threshold: int,\n",
    "    num_runs: int=1,\n",
    "    distance_function: str=\"lv_opti\",\n",
    ") -> tuple[float, float, int]:\n",
    "    \n",
    "    r = blitzbeaver.benchmark_feature_distance_calculator(\n",
    "        values1,\n",
    "        values2,\n",
    "        num_runs=num_runs,\n",
    "        cache_dist_threshold=cache_dist_threshold,\n",
    "        distance_function=distance_function,\n",
    "    )\n",
    "    ns, comp, cache_hit, cache_size, _ = r\n",
    "    duration = ns / 1_000_000_000\n",
    "    cache_hit_ratio = cache_hit / comp\n",
    "\n",
    "    return duration, cache_hit_ratio, cache_size"
   ]
  },
  {
   "cell_type": "code",
   "execution_count": null,
   "metadata": {},
   "outputs": [],
   "source": [
    "col = \"chef_prenom_norm\"\n",
    "\n",
    "n_run = 1\n",
    "cache_dist_threshold = 4\n",
    "\n",
    "r = blitzbeaver.benchmark_feature_distance_calculator(\n",
    "    df1[col],\n",
    "    df2[col],\n",
    "    num_runs=n_run,\n",
    "    cache_dist_threshold=cache_dist_threshold,\n",
    "    distance_function=\"lv_opti\",\n",
    ")\n",
    "ns, comp, cache_hit, cache_size, _ = r\n",
    "\n",
    "duration = ns / 1_000_000_000\n",
    "cache_hit_ratio = cache_hit / comp\n",
    "\n",
    "print(f\"{duration} sec {cache_hit_ratio*100:.2f}% cache hit cache size: {cache_size}\")"
   ]
  },
  {
   "cell_type": "code",
   "execution_count": null,
   "metadata": {},
   "outputs": [],
   "source": [
    "thresholds = [128, 64, 32, 16, 8, 4, 2, 1]\n",
    "\n",
    "vs1 = df1[col]\n",
    "vs2 = df2[col]\n",
    "durations = []\n",
    "cache_hit_ratios = []\n",
    "cache_sizes = []\n",
    "\n",
    "for threshold in thresholds:\n",
    "    duration, cache_hit_ratio, cache_size = benchmark_dist_comp_pass(vs1, vs2, threshold)\n",
    "    durations.append(duration)\n",
    "    cache_hit_ratios.append(cache_hit_ratio)\n",
    "    cache_sizes.append(cache_size)\n"
   ]
  },
  {
   "cell_type": "code",
   "execution_count": null,
   "metadata": {},
   "outputs": [],
   "source": [
    "# Create a figure with subplots\n",
    "fig, axes = plt.subplots(3, 1, figsize=(8, 12))\n",
    "\n",
    "# Plot each metric against thresholds\n",
    "axes[0].plot(thresholds, durations, marker='o', linestyle='-', color='b')\n",
    "axes[0].set_title('Thresholds vs Durations')\n",
    "axes[0].set_xlabel('Thresholds')\n",
    "axes[0].set_ylabel('Durations')\n",
    "\n",
    "axes[1].plot(thresholds, cache_hit_ratios, marker='s', linestyle='-', color='r')\n",
    "axes[1].set_title('Thresholds vs Cache Hit Ratios')\n",
    "axes[1].set_xlabel('Thresholds')\n",
    "axes[1].set_ylabel('Cache Hit Ratios')\n",
    "\n",
    "axes[2].plot(thresholds, cache_sizes, marker='^', linestyle='-', color='g')\n",
    "axes[2].set_title('Thresholds vs Cache Sizes')\n",
    "axes[2].set_xlabel('Thresholds')\n",
    "axes[2].set_ylabel('Cache Sizes')\n",
    "\n",
    "\n",
    "plt.tight_layout()\n",
    "plt.show()"
   ]
  },
  {
   "cell_type": "code",
   "execution_count": null,
   "metadata": {},
   "outputs": [],
   "source": [
    "n_run = 1\n",
    "cache_dist_threshold = 4\n",
    "\n",
    "r = blitzbeaver.benchmark_feature_distance_calculator_second_pass(\n",
    "    df1[col],\n",
    "    df2[col],\n",
    "    df3[col],\n",
    "    num_runs=n_run,\n",
    "    cache_dist_threshold=cache_dist_threshold,\n",
    "    distance_function=\"lv_opti\",\n",
    ")\n",
    "ns, comp, cache_hit, cache_size, _ = r\n",
    "\n",
    "duration = ns / 1_000_000_000\n",
    "cache_hit_ratio = cache_hit / comp\n",
    "\n",
    "print(f\"{duration} sec {cache_hit_ratio*100:.2f}% cache hit cache size: {cache_size}\")"
   ]
  },
  {
   "cell_type": "code",
   "execution_count": null,
   "metadata": {},
   "outputs": [],
   "source": [
    "n_run = 1\n",
    "cache_dist_threshold = 4\n",
    "\n",
    "rs, _ = blitzbeaver.benchmark_feature_distance_calculator_multi_pass(\n",
    "    [df[col] for df in dfs],\n",
    "    num_runs=n_run,\n",
    "    cache_dist_threshold=cache_dist_threshold,\n",
    "    distance_function=\"lv_opti\",\n",
    ")\n",
    "for r in rs:\n",
    "    ns, comp, cache_hit, cache_size = r\n",
    "\n",
    "    duration = ns / 1_000_000_000\n",
    "    cache_hit_ratio = cache_hit / comp\n",
    "\n",
    "    print(f\"{duration} sec {cache_hit_ratio*100:.2f}% cache hit cache size: {cache_size}\")"
   ]
  },
  {
   "cell_type": "code",
   "execution_count": null,
   "metadata": {},
   "outputs": [],
   "source": []
  }
 ],
 "metadata": {
  "kernelspec": {
   "display_name": ".venv",
   "language": "python",
   "name": "python3"
  },
  "language_info": {
   "codemirror_mode": {
    "name": "ipython",
    "version": 3
   },
   "file_extension": ".py",
   "mimetype": "text/x-python",
   "name": "python",
   "nbconvert_exporter": "python",
   "pygments_lexer": "ipython3",
   "version": "3.11.11"
  }
 },
 "nbformat": 4,
 "nbformat_minor": 2
}
