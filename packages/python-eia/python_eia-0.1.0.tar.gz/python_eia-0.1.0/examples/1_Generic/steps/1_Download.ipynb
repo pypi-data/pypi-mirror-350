{
 "cells": [
  {
   "cell_type": "markdown",
   "metadata": {},
   "source": [
    "## Get desired data endpoint"
   ]
  },
  {
   "cell_type": "markdown",
   "metadata": {},
   "source": [
    "https://www.eia.gov/opendata/browser/electricity/rto/region-sub-ba-data"
   ]
  },
  {
   "cell_type": "markdown",
   "metadata": {},
   "source": [
    "## Initialize route in Python"
   ]
  },
  {
   "cell_type": "code",
   "execution_count": 2,
   "metadata": {},
   "outputs": [
    {
     "name": "stderr",
     "output_type": "stream",
     "text": [
      "2025-05-25 14:51:16,865 - INFO - EIAClient initialized.\n",
      "2025-05-25 14:51:16,866 - INFO - Directly accessing data endpoint metadata for: electricity/rto/region-sub-ba-data\n",
      "2025-05-25 14:51:16,866 - INFO - Fetching metadata for route: electricity/rto/region-sub-ba-data\n"
     ]
    }
   ],
   "source": [
    "from eia import EIAClient\n",
    "\n",
    "client = EIAClient() \n",
    "route = client.get_data_endpoint('electricity/rto/region-sub-ba-data')"
   ]
  },
  {
   "cell_type": "markdown",
   "metadata": {},
   "source": [
    "https://www.eia.gov/opendata/browser/electricity/rto/region-sub-ba-data?frequency=hourly&data=value;&sortColumn=period;&sortDirection=desc;"
   ]
  },
  {
   "cell_type": "markdown",
   "metadata": {},
   "source": [
    "## List filtering options\n",
    "\n",
    "### Facets: column values"
   ]
  },
  {
   "cell_type": "code",
   "execution_count": 3,
   "metadata": {},
   "outputs": [
    {
     "data": {
      "text/plain": [
       "FacetContainer(facets=[subba, parent])"
      ]
     },
     "execution_count": 3,
     "metadata": {},
     "output_type": "execute_result"
    }
   ],
   "source": [
    "route.facets"
   ]
  },
  {
   "cell_type": "code",
   "execution_count": 4,
   "metadata": {},
   "outputs": [
    {
     "name": "stderr",
     "output_type": "stream",
     "text": [
      "2025-05-25 14:51:18,214 - INFO - Fetching facet values for facet 'parent' in route: electricity/rto/region-sub-ba-data\n"
     ]
    },
    {
     "data": {
      "text/plain": [
       "[FacetValue(id='PJM', name='PJM Interconnection, LLC', description=None),\n",
       " FacetValue(id='NYIS', name='New York Independent System Operator', description=None),\n",
       " FacetValue(id='SWPP', name='Southwest Power Pool', description=None),\n",
       " FacetValue(id='MISO', name='Midcontinent Independent System Operator, Inc.', description=None),\n",
       " FacetValue(id='CISO', name='California Independent System Operator', description=None),\n",
       " FacetValue(id='ERCO', name='Electric Reliability Council of Texas, Inc.', description=None),\n",
       " FacetValue(id='PNM', name='Public Service Company of New Mexico', description=None),\n",
       " FacetValue(id='ISNE', name='ISO New England', description=None)]"
      ]
     },
     "execution_count": 4,
     "metadata": {},
     "output_type": "execute_result"
    }
   ],
   "source": [
    "facet_options = route.facets.parent.get_values()\n",
    "facet_options"
   ]
  },
  {
   "cell_type": "markdown",
   "metadata": {},
   "source": [
    "### Frequencies: datetime intervals"
   ]
  },
  {
   "cell_type": "code",
   "execution_count": 5,
   "metadata": {},
   "outputs": [
    {
     "data": {
      "text/plain": [
       "[FrequencyInfo(id='hourly', description='One data point for each hour in UTC time.', query='H', format='YYYY-MM-DD\"T\"HH24'),\n",
       " FrequencyInfo(id='local-hourly', description='One data point for each hour in local time.', query='LH', format='YYYY-MM-DD\"T\"HH24TZH')]"
      ]
     },
     "execution_count": 5,
     "metadata": {},
     "output_type": "execute_result"
    }
   ],
   "source": [
    "route.frequencies"
   ]
  },
  {
   "cell_type": "markdown",
   "metadata": {},
   "source": [
    "## Query data"
   ]
  },
  {
   "cell_type": "code",
   "execution_count": 6,
   "metadata": {},
   "outputs": [
    {
     "name": "stderr",
     "output_type": "stream",
     "text": [
      "2025-05-25 14:51:18,684 - INFO - Fetching data for route: electricity/rto/region-sub-ba-data - Offset: 0, Length: All (Pagination)\n",
      "2025-05-25 14:51:18,685 - INFO - Fetching data for route: electricity/rto/region-sub-ba-data/data\n",
      "2025-05-25 14:51:19,949 - INFO - Received 5000 rows.\n",
      "2025-05-25 14:51:19,949 - INFO - Fetching data for route: electricity/rto/region-sub-ba-data - Offset: 5000, Length: All (Pagination)\n",
      "2025-05-25 14:51:19,949 - INFO - Fetching data for route: electricity/rto/region-sub-ba-data/data\n",
      "2025-05-25 14:51:21,071 - INFO - Received 5000 rows.\n",
      "2025-05-25 14:51:21,072 - INFO - Fetching data for route: electricity/rto/region-sub-ba-data - Offset: 10000, Length: All (Pagination)\n",
      "2025-05-25 14:51:21,072 - INFO - Fetching data for route: electricity/rto/region-sub-ba-data/data\n",
      "2025-05-25 14:51:22,353 - INFO - Received 5000 rows.\n",
      "2025-05-25 14:51:22,354 - INFO - Fetching data for route: electricity/rto/region-sub-ba-data - Offset: 15000, Length: All (Pagination)\n",
      "2025-05-25 14:51:22,354 - INFO - Fetching data for route: electricity/rto/region-sub-ba-data/data\n",
      "2025-05-25 14:51:23,507 - INFO - Received 5000 rows.\n",
      "2025-05-25 14:51:23,507 - INFO - Fetching data for route: electricity/rto/region-sub-ba-data - Offset: 20000, Length: All (Pagination)\n",
      "2025-05-25 14:51:23,507 - INFO - Fetching data for route: electricity/rto/region-sub-ba-data/data\n",
      "2025-05-25 14:51:24,898 - INFO - Received 5000 rows.\n",
      "2025-05-25 14:51:24,899 - INFO - Fetching data for route: electricity/rto/region-sub-ba-data - Offset: 25000, Length: All (Pagination)\n",
      "2025-05-25 14:51:24,899 - INFO - Fetching data for route: electricity/rto/region-sub-ba-data/data\n",
      "2025-05-25 14:51:26,153 - INFO - Received 5000 rows.\n",
      "2025-05-25 14:51:26,153 - INFO - Fetching data for route: electricity/rto/region-sub-ba-data - Offset: 30000, Length: All (Pagination)\n",
      "2025-05-25 14:51:26,154 - INFO - Fetching data for route: electricity/rto/region-sub-ba-data/data\n",
      "2025-05-25 14:51:27,784 - INFO - Received 5000 rows.\n",
      "2025-05-25 14:51:27,784 - INFO - Fetching data for route: electricity/rto/region-sub-ba-data - Offset: 35000, Length: All (Pagination)\n",
      "2025-05-25 14:51:27,784 - INFO - Fetching data for route: electricity/rto/region-sub-ba-data/data\n",
      "2025-05-25 14:51:29,043 - INFO - Received 5000 rows.\n",
      "2025-05-25 14:51:29,044 - INFO - Fetching data for route: electricity/rto/region-sub-ba-data - Offset: 40000, Length: All (Pagination)\n",
      "2025-05-25 14:51:29,044 - INFO - Fetching data for route: electricity/rto/region-sub-ba-data/data\n",
      "2025-05-25 14:51:30,351 - INFO - Received 5000 rows.\n",
      "2025-05-25 14:51:30,352 - INFO - Fetching data for route: electricity/rto/region-sub-ba-data - Offset: 45000, Length: All (Pagination)\n",
      "2025-05-25 14:51:30,352 - INFO - Fetching data for route: electricity/rto/region-sub-ba-data/data\n",
      "2025-05-25 14:51:31,996 - INFO - Received 5000 rows.\n",
      "2025-05-25 14:51:31,997 - INFO - Fetching data for route: electricity/rto/region-sub-ba-data - Offset: 50000, Length: All (Pagination)\n",
      "2025-05-25 14:51:31,997 - INFO - Fetching data for route: electricity/rto/region-sub-ba-data/data\n",
      "2025-05-25 14:51:33,424 - INFO - Received 5000 rows.\n",
      "2025-05-25 14:51:33,425 - INFO - Fetching data for route: electricity/rto/region-sub-ba-data - Offset: 55000, Length: All (Pagination)\n",
      "2025-05-25 14:51:33,425 - INFO - Fetching data for route: electricity/rto/region-sub-ba-data/data\n",
      "2025-05-25 14:51:34,683 - INFO - Received 5000 rows.\n",
      "2025-05-25 14:51:34,684 - INFO - Fetching data for route: electricity/rto/region-sub-ba-data - Offset: 60000, Length: All (Pagination)\n",
      "2025-05-25 14:51:34,685 - INFO - Fetching data for route: electricity/rto/region-sub-ba-data/data\n",
      "2025-05-25 14:51:36,085 - INFO - Received 5000 rows.\n",
      "2025-05-25 14:51:36,086 - INFO - Fetching data for route: electricity/rto/region-sub-ba-data - Offset: 65000, Length: All (Pagination)\n",
      "2025-05-25 14:51:36,086 - INFO - Fetching data for route: electricity/rto/region-sub-ba-data/data\n",
      "2025-05-25 14:51:37,346 - INFO - Received 5000 rows.\n",
      "2025-05-25 14:51:37,346 - INFO - Fetching data for route: electricity/rto/region-sub-ba-data - Offset: 70000, Length: All (Pagination)\n",
      "2025-05-25 14:51:37,347 - INFO - Fetching data for route: electricity/rto/region-sub-ba-data/data\n",
      "2025-05-25 14:51:38,663 - INFO - Received 5000 rows.\n",
      "2025-05-25 14:51:38,664 - INFO - Fetching data for route: electricity/rto/region-sub-ba-data - Offset: 75000, Length: All (Pagination)\n",
      "2025-05-25 14:51:38,664 - INFO - Fetching data for route: electricity/rto/region-sub-ba-data/data\n",
      "2025-05-25 14:51:39,964 - INFO - Received 5000 rows.\n",
      "2025-05-25 14:51:39,964 - INFO - Fetching data for route: electricity/rto/region-sub-ba-data - Offset: 80000, Length: All (Pagination)\n",
      "2025-05-25 14:51:39,964 - INFO - Fetching data for route: electricity/rto/region-sub-ba-data/data\n",
      "2025-05-25 14:51:41,436 - INFO - Received 5000 rows.\n",
      "2025-05-25 14:51:41,437 - INFO - Fetching data for route: electricity/rto/region-sub-ba-data - Offset: 85000, Length: All (Pagination)\n",
      "2025-05-25 14:51:41,437 - INFO - Fetching data for route: electricity/rto/region-sub-ba-data/data\n",
      "2025-05-25 14:51:42,944 - INFO - Received 5000 rows.\n",
      "2025-05-25 14:51:42,945 - INFO - Fetching data for route: electricity/rto/region-sub-ba-data - Offset: 90000, Length: All (Pagination)\n",
      "2025-05-25 14:51:42,945 - INFO - Fetching data for route: electricity/rto/region-sub-ba-data/data\n",
      "2025-05-25 14:51:44,486 - INFO - Received 5000 rows.\n",
      "2025-05-25 14:51:44,487 - INFO - Fetching data for route: electricity/rto/region-sub-ba-data - Offset: 95000, Length: All (Pagination)\n",
      "2025-05-25 14:51:44,487 - INFO - Fetching data for route: electricity/rto/region-sub-ba-data/data\n",
      "2025-05-25 14:51:45,858 - INFO - Received 5000 rows.\n",
      "2025-05-25 14:51:45,858 - INFO - Fetching data for route: electricity/rto/region-sub-ba-data - Offset: 100000, Length: All (Pagination)\n",
      "2025-05-25 14:51:45,858 - INFO - Fetching data for route: electricity/rto/region-sub-ba-data/data\n",
      "2025-05-25 14:51:47,310 - INFO - Received 5000 rows.\n",
      "2025-05-25 14:51:47,310 - INFO - Fetching data for route: electricity/rto/region-sub-ba-data - Offset: 105000, Length: All (Pagination)\n",
      "2025-05-25 14:51:47,311 - INFO - Fetching data for route: electricity/rto/region-sub-ba-data/data\n",
      "2025-05-25 14:51:48,945 - INFO - Received 5000 rows.\n",
      "2025-05-25 14:51:48,945 - INFO - Fetching data for route: electricity/rto/region-sub-ba-data - Offset: 110000, Length: All (Pagination)\n",
      "2025-05-25 14:51:48,946 - INFO - Fetching data for route: electricity/rto/region-sub-ba-data/data\n",
      "2025-05-25 14:51:50,318 - INFO - Received 5000 rows.\n",
      "2025-05-25 14:51:50,319 - INFO - Fetching data for route: electricity/rto/region-sub-ba-data - Offset: 115000, Length: All (Pagination)\n",
      "2025-05-25 14:51:50,319 - INFO - Fetching data for route: electricity/rto/region-sub-ba-data/data\n",
      "2025-05-25 14:51:51,664 - INFO - Received 5000 rows.\n",
      "2025-05-25 14:51:51,665 - INFO - Fetching data for route: electricity/rto/region-sub-ba-data - Offset: 120000, Length: All (Pagination)\n",
      "2025-05-25 14:51:51,665 - INFO - Fetching data for route: electricity/rto/region-sub-ba-data/data\n",
      "2025-05-25 14:51:53,016 - INFO - Received 5000 rows.\n",
      "2025-05-25 14:51:53,017 - INFO - Fetching data for route: electricity/rto/region-sub-ba-data - Offset: 125000, Length: All (Pagination)\n",
      "2025-05-25 14:51:53,017 - INFO - Fetching data for route: electricity/rto/region-sub-ba-data/data\n",
      "2025-05-25 14:51:54,370 - INFO - Received 5000 rows.\n",
      "2025-05-25 14:51:54,371 - INFO - Fetching data for route: electricity/rto/region-sub-ba-data - Offset: 130000, Length: All (Pagination)\n",
      "2025-05-25 14:51:54,371 - INFO - Fetching data for route: electricity/rto/region-sub-ba-data/data\n",
      "2025-05-25 14:51:55,718 - INFO - Received 5000 rows.\n",
      "2025-05-25 14:51:55,718 - INFO - Fetching data for route: electricity/rto/region-sub-ba-data - Offset: 135000, Length: All (Pagination)\n",
      "2025-05-25 14:51:55,719 - INFO - Fetching data for route: electricity/rto/region-sub-ba-data/data\n",
      "2025-05-25 14:51:57,234 - INFO - Received 5000 rows.\n",
      "2025-05-25 14:51:57,235 - INFO - Fetching data for route: electricity/rto/region-sub-ba-data - Offset: 140000, Length: All (Pagination)\n",
      "2025-05-25 14:51:57,235 - INFO - Fetching data for route: electricity/rto/region-sub-ba-data/data\n",
      "2025-05-25 14:51:58,617 - INFO - Received 5000 rows.\n",
      "2025-05-25 14:51:58,618 - INFO - Fetching data for route: electricity/rto/region-sub-ba-data - Offset: 145000, Length: All (Pagination)\n",
      "2025-05-25 14:51:58,618 - INFO - Fetching data for route: electricity/rto/region-sub-ba-data/data\n",
      "2025-05-25 14:51:59,920 - INFO - Received 5000 rows.\n",
      "2025-05-25 14:51:59,920 - INFO - Fetching data for route: electricity/rto/region-sub-ba-data - Offset: 150000, Length: All (Pagination)\n",
      "2025-05-25 14:51:59,920 - INFO - Fetching data for route: electricity/rto/region-sub-ba-data/data\n",
      "2025-05-25 14:52:01,458 - INFO - Received 5000 rows.\n",
      "2025-05-25 14:52:01,458 - INFO - Fetching data for route: electricity/rto/region-sub-ba-data - Offset: 155000, Length: All (Pagination)\n",
      "2025-05-25 14:52:01,458 - INFO - Fetching data for route: electricity/rto/region-sub-ba-data/data\n",
      "2025-05-25 14:52:03,012 - INFO - Received 5000 rows.\n",
      "2025-05-25 14:52:03,012 - INFO - Fetching data for route: electricity/rto/region-sub-ba-data - Offset: 160000, Length: All (Pagination)\n",
      "2025-05-25 14:52:03,013 - INFO - Fetching data for route: electricity/rto/region-sub-ba-data/data\n",
      "2025-05-25 14:52:04,326 - INFO - Received 5000 rows.\n",
      "2025-05-25 14:52:04,327 - INFO - Fetching data for route: electricity/rto/region-sub-ba-data - Offset: 165000, Length: All (Pagination)\n",
      "2025-05-25 14:52:04,327 - INFO - Fetching data for route: electricity/rto/region-sub-ba-data/data\n",
      "2025-05-25 14:52:05,780 - INFO - Received 5000 rows.\n",
      "2025-05-25 14:52:05,780 - INFO - Fetching data for route: electricity/rto/region-sub-ba-data - Offset: 170000, Length: All (Pagination)\n",
      "2025-05-25 14:52:05,780 - INFO - Fetching data for route: electricity/rto/region-sub-ba-data/data\n",
      "2025-05-25 14:52:07,168 - INFO - Received 5000 rows.\n",
      "2025-05-25 14:52:07,169 - INFO - Fetching data for route: electricity/rto/region-sub-ba-data - Offset: 175000, Length: All (Pagination)\n",
      "2025-05-25 14:52:07,169 - INFO - Fetching data for route: electricity/rto/region-sub-ba-data/data\n",
      "2025-05-25 14:52:08,518 - INFO - Received 5000 rows.\n",
      "2025-05-25 14:52:08,518 - INFO - Fetching data for route: electricity/rto/region-sub-ba-data - Offset: 180000, Length: All (Pagination)\n",
      "2025-05-25 14:52:08,518 - INFO - Fetching data for route: electricity/rto/region-sub-ba-data/data\n",
      "2025-05-25 14:52:10,123 - INFO - Received 5000 rows.\n",
      "2025-05-25 14:52:10,124 - INFO - Fetching data for route: electricity/rto/region-sub-ba-data - Offset: 185000, Length: All (Pagination)\n",
      "2025-05-25 14:52:10,124 - INFO - Fetching data for route: electricity/rto/region-sub-ba-data/data\n",
      "2025-05-25 14:52:11,461 - INFO - Received 5000 rows.\n",
      "2025-05-25 14:52:11,462 - INFO - Fetching data for route: electricity/rto/region-sub-ba-data - Offset: 190000, Length: All (Pagination)\n",
      "2025-05-25 14:52:11,462 - INFO - Fetching data for route: electricity/rto/region-sub-ba-data/data\n",
      "2025-05-25 14:52:12,954 - INFO - Received 5000 rows.\n",
      "2025-05-25 14:52:12,954 - INFO - Fetching data for route: electricity/rto/region-sub-ba-data - Offset: 195000, Length: All (Pagination)\n",
      "2025-05-25 14:52:12,955 - INFO - Fetching data for route: electricity/rto/region-sub-ba-data/data\n",
      "2025-05-25 14:52:15,694 - INFO - Received 5000 rows.\n",
      "2025-05-25 14:52:15,695 - INFO - Fetching data for route: electricity/rto/region-sub-ba-data - Offset: 200000, Length: All (Pagination)\n",
      "2025-05-25 14:52:15,695 - INFO - Fetching data for route: electricity/rto/region-sub-ba-data/data\n",
      "2025-05-25 14:52:17,069 - INFO - Received 5000 rows.\n",
      "2025-05-25 14:52:17,069 - INFO - Fetching data for route: electricity/rto/region-sub-ba-data - Offset: 205000, Length: All (Pagination)\n",
      "2025-05-25 14:52:17,070 - INFO - Fetching data for route: electricity/rto/region-sub-ba-data/data\n",
      "2025-05-25 14:52:18,435 - INFO - Received 5000 rows.\n",
      "2025-05-25 14:52:18,435 - INFO - Fetching data for route: electricity/rto/region-sub-ba-data - Offset: 210000, Length: All (Pagination)\n",
      "2025-05-25 14:52:18,435 - INFO - Fetching data for route: electricity/rto/region-sub-ba-data/data\n",
      "2025-05-25 14:52:19,789 - INFO - Received 5000 rows.\n",
      "2025-05-25 14:52:19,789 - INFO - Fetching data for route: electricity/rto/region-sub-ba-data - Offset: 215000, Length: All (Pagination)\n",
      "2025-05-25 14:52:19,789 - INFO - Fetching data for route: electricity/rto/region-sub-ba-data/data\n",
      "2025-05-25 14:52:21,138 - INFO - Received 5000 rows.\n",
      "2025-05-25 14:52:21,138 - INFO - Fetching data for route: electricity/rto/region-sub-ba-data - Offset: 220000, Length: All (Pagination)\n",
      "2025-05-25 14:52:21,139 - INFO - Fetching data for route: electricity/rto/region-sub-ba-data/data\n",
      "2025-05-25 14:52:22,603 - INFO - Received 3797 rows.\n",
      "2025-05-25 14:52:22,604 - INFO - Received less than page limit, assuming end of data.\n",
      "2025-05-25 14:52:22,743 - INFO - Automatically converted 'period' column to datetime with UTC.\n",
      "2025-05-25 14:52:22,794 - INFO - Automatically converted 'value' column to numeric.\n"
     ]
    },
    {
     "data": {
      "text/html": [
       "<div>\n",
       "<style scoped>\n",
       "    .dataframe tbody tr th:only-of-type {\n",
       "        vertical-align: middle;\n",
       "    }\n",
       "\n",
       "    .dataframe tbody tr th {\n",
       "        vertical-align: top;\n",
       "    }\n",
       "\n",
       "    .dataframe thead th {\n",
       "        text-align: right;\n",
       "    }\n",
       "</style>\n",
       "<table border=\"1\" class=\"dataframe\">\n",
       "  <thead>\n",
       "    <tr style=\"text-align: right;\">\n",
       "      <th></th>\n",
       "      <th>period</th>\n",
       "      <th>subba</th>\n",
       "      <th>subba-name</th>\n",
       "      <th>parent</th>\n",
       "      <th>parent-name</th>\n",
       "      <th>value</th>\n",
       "      <th>value-units</th>\n",
       "    </tr>\n",
       "  </thead>\n",
       "  <tbody>\n",
       "    <tr>\n",
       "      <th>0</th>\n",
       "      <td>2025-05-25 07:00:00+00:00</td>\n",
       "      <td>PGAE</td>\n",
       "      <td>Pacific Gas and Electric</td>\n",
       "      <td>CISO</td>\n",
       "      <td>California Independent System Operator</td>\n",
       "      <td>11322</td>\n",
       "      <td>megawatthours</td>\n",
       "    </tr>\n",
       "    <tr>\n",
       "      <th>1</th>\n",
       "      <td>2025-05-25 07:00:00+00:00</td>\n",
       "      <td>SCE</td>\n",
       "      <td>Southern California Edison</td>\n",
       "      <td>CISO</td>\n",
       "      <td>California Independent System Operator</td>\n",
       "      <td>11263</td>\n",
       "      <td>megawatthours</td>\n",
       "    </tr>\n",
       "    <tr>\n",
       "      <th>...</th>\n",
       "      <td>...</td>\n",
       "      <td>...</td>\n",
       "      <td>...</td>\n",
       "      <td>...</td>\n",
       "      <td>...</td>\n",
       "      <td>...</td>\n",
       "      <td>...</td>\n",
       "    </tr>\n",
       "    <tr>\n",
       "      <th>223795</th>\n",
       "      <td>2019-01-01 00:00:00+00:00</td>\n",
       "      <td>SDGE</td>\n",
       "      <td>San Diego Gas and Electric - CISO</td>\n",
       "      <td>CISO</td>\n",
       "      <td>California Independent System Operator</td>\n",
       "      <td>2414</td>\n",
       "      <td>megawatthours</td>\n",
       "    </tr>\n",
       "    <tr>\n",
       "      <th>223796</th>\n",
       "      <td>2019-01-01 00:00:00+00:00</td>\n",
       "      <td>VEA</td>\n",
       "      <td>Valley Electric Association  - CISO</td>\n",
       "      <td>CISO</td>\n",
       "      <td>California Independent System Operator</td>\n",
       "      <td>75</td>\n",
       "      <td>megawatthours</td>\n",
       "    </tr>\n",
       "  </tbody>\n",
       "</table>\n",
       "<p>223797 rows × 7 columns</p>\n",
       "</div>"
      ],
      "text/plain": [
       "                          period subba                           subba-name  \\\n",
       "0      2025-05-25 07:00:00+00:00  PGAE             Pacific Gas and Electric   \n",
       "1      2025-05-25 07:00:00+00:00   SCE           Southern California Edison   \n",
       "...                          ...   ...                                  ...   \n",
       "223795 2019-01-01 00:00:00+00:00  SDGE    San Diego Gas and Electric - CISO   \n",
       "223796 2019-01-01 00:00:00+00:00   VEA  Valley Electric Association  - CISO   \n",
       "\n",
       "       parent                             parent-name  value    value-units  \n",
       "0        CISO  California Independent System Operator  11322  megawatthours  \n",
       "1        CISO  California Independent System Operator  11263  megawatthours  \n",
       "...       ...                                     ...    ...            ...  \n",
       "223795   CISO  California Independent System Operator   2414  megawatthours  \n",
       "223796   CISO  California Independent System Operator     75  megawatthours  \n",
       "\n",
       "[223797 rows x 7 columns]"
      ]
     },
     "execution_count": 6,
     "metadata": {},
     "output_type": "execute_result"
    }
   ],
   "source": [
    "df_ciso = route.get(\n",
    "    data_columns=['value'],\n",
    "    facets={'parent': 'CISO'},\n",
    "    frequency='hourly',\n",
    "    sort=[\n",
    "        {'column': 'period','direction': 'desc'},\n",
    "        {'column': 'subba', 'direction': 'asc'}\n",
    "    ]\n",
    ")\n",
    "\n",
    "df_ciso"
   ]
  },
  {
   "cell_type": "markdown",
   "metadata": {},
   "source": [
    "## Export data"
   ]
  },
  {
   "cell_type": "code",
   "execution_count": 7,
   "metadata": {},
   "outputs": [],
   "source": [
    "df_ciso.to_csv('../../../data/electricity_demand_ciso.csv', index=False)"
   ]
  }
 ],
 "metadata": {
  "kernelspec": {
   "display_name": "work",
   "language": "python",
   "name": "python3"
  },
  "language_info": {
   "codemirror_mode": {
    "name": "ipython",
    "version": 3
   },
   "file_extension": ".py",
   "mimetype": "text/x-python",
   "name": "python",
   "nbconvert_exporter": "python",
   "pygments_lexer": "ipython3",
   "version": "3.13.1"
  }
 },
 "nbformat": 4,
 "nbformat_minor": 2
}
